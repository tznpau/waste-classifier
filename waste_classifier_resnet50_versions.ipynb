{
 "cells": [
  {
   "cell_type": "markdown",
   "id": "5c1b82b0-534f-4757-9740-a6023808fbe1",
   "metadata": {
    "id": "5c1b82b0-534f-4757-9740-a6023808fbe1"
   },
   "source": [
    "# Waste Classifier Improved PyTorch Model"
   ]
  },
  {
   "cell_type": "markdown",
   "id": "f4f8d2a4-3933-41f6-a8c0-bda8c4c1ad0a",
   "metadata": {
    "id": "f4f8d2a4-3933-41f6-a8c0-bda8c4c1ad0a",
    "jp-MarkdownHeadingCollapsed": true
   },
   "source": [
    "## Goal\n",
    "\n",
    "Improve previously attempted waste classifier `resnet50` feature extractor model by applying the following techniques:\n",
    "- Increase dataset size (get more data, or better data) -> a great way to do this would be ***data augmentation*** - https://pytorch.org/vision/main/transforms.html\n",
    "- Add a ***`Dropout`* layer** before the output layer - https://pytorch.org/docs/stable/generated/torch.nn.Dropout.html\n",
    "- Use ***learning rate decay*** - PyTorch learning rate scheduler - https://pytorch.org/docs/stable/optim.html"
   ]
  },
  {
   "cell_type": "markdown",
   "id": "789e9401-824b-4a04-bbef-683d6768ef2a",
   "metadata": {
    "id": "789e9401-824b-4a04-bbef-683d6768ef2a"
   },
   "source": [
    "## 0 - Setup"
   ]
  },
  {
   "cell_type": "code",
   "execution_count": 1,
   "id": "aa1e993b-e6db-48a8-a6a8-fee76c99c7b2",
   "metadata": {
    "colab": {
     "base_uri": "https://localhost:8080/"
    },
    "id": "aa1e993b-e6db-48a8-a6a8-fee76c99c7b2",
    "outputId": "91a1eded-5f56-479c-e62b-2c38c82aa661"
   },
   "outputs": [
    {
     "name": "stdout",
     "output_type": "stream",
     "text": [
      "2.2.1+cu121\n",
      "0.17.1+cu121\n",
      "Base imports done.\n"
     ]
    }
   ],
   "source": [
    "import torch\n",
    "import torchvision\n",
    "\n",
    "print(torch.__version__) # 1.12+\n",
    "print(torchvision.__version__) # 0.13+\n",
    "\n",
    "import matplotlib.pyplot as plt\n",
    "\n",
    "from torch import nn\n",
    "from torchvision import transforms\n",
    "from torchvision.transforms.functional import InterpolationMode\n",
    "\n",
    "from scripts import data_setup, data_setup_augmented, engine, engine_lr_decay, utils, predictions\n",
    "from helper_functions import download_data, set_seeds, plot_loss_curves\n",
    "\n",
    "try:\n",
    "    from scripts import data_setup, data_setup_augmented, engine, engine_lr_decay, utils, predictions\n",
    "    from helper_functions import download_data, set_seeds, plot_loss_curves\n",
    "    print(\"Base imports done.\")\n",
    "except:\n",
    "    print(\"Couldn't find helper scripts, downloading from Github...\")\n",
    "    !git clone https://github.com/tznpau/waste-classifier\n",
    "    !mv waste-classifier/scripts .\n",
    "    !mv waste-classifier/helper_functions.py .\n",
    "    !rm -rf waste-classifier\n",
    "    from scripts import data_setup, data_setup_augmented, engine, engine_lr_decay, utils, predictions\n",
    "    from helper_functions import download_data, set_seeds, plot_loss_curves"
   ]
  },
  {
   "cell_type": "code",
   "execution_count": 2,
   "id": "7a8c0be3-feec-4e76-979e-4b0c636283be",
   "metadata": {
    "colab": {
     "base_uri": "https://localhost:8080/",
     "height": 36
    },
    "id": "7a8c0be3-feec-4e76-979e-4b0c636283be",
    "outputId": "b807b88f-93a5-47b2-d085-89790563f6ef"
   },
   "outputs": [
    {
     "data": {
      "application/vnd.google.colaboratory.intrinsic+json": {
       "type": "string"
      },
      "text/plain": [
       "'cuda'"
      ]
     },
     "execution_count": 2,
     "metadata": {},
     "output_type": "execute_result"
    }
   ],
   "source": [
    "device = \"cuda\" if torch.cuda.is_available() else \"cpu\"\n",
    "device"
   ]
  },
  {
   "cell_type": "markdown",
   "id": "8f4715f9-1ba3-4b09-93e3-894038407908",
   "metadata": {
    "id": "8f4715f9-1ba3-4b09-93e3-894038407908"
   },
   "source": [
    "## 1 - Getting data"
   ]
  },
  {
   "cell_type": "code",
   "execution_count": 3,
   "id": "a55fc483-2c40-48fb-a0f5-72f614caa229",
   "metadata": {
    "colab": {
     "base_uri": "https://localhost:8080/"
    },
    "id": "a55fc483-2c40-48fb-a0f5-72f614caa229",
    "outputId": "2a3103a1-7e10-4616-ddf8-e7209aa51b20"
   },
   "outputs": [
    {
     "name": "stdout",
     "output_type": "stream",
     "text": [
      "[INFO] Did not find data/trash_dataset directory, creating one...\n",
      "[INFO] Downloading trash_dataset.zip from https://github.com/tznpau/waste-classifier/raw/main/data/trash_dataset.zip...\n",
      "[INFO] Unzipping trash_dataset.zip data...\n"
     ]
    },
    {
     "data": {
      "text/plain": [
       "PosixPath('data/trash_dataset')"
      ]
     },
     "execution_count": 3,
     "metadata": {},
     "output_type": "execute_result"
    }
   ],
   "source": [
    "trash_dataset_path = download_data(source=\"https://github.com/tznpau/waste-classifier/raw/main/data/trash_dataset.zip\",\n",
    "                                   destination=\"trash_dataset\")\n",
    "trash_dataset_path"
   ]
  },
  {
   "cell_type": "code",
   "execution_count": 4,
   "id": "9a37fdf6-b011-4646-988b-1fe493fe975a",
   "metadata": {
    "colab": {
     "base_uri": "https://localhost:8080/"
    },
    "id": "9a37fdf6-b011-4646-988b-1fe493fe975a",
    "outputId": "50823ef5-00e7-4482-fc5d-ab333027a4bd"
   },
   "outputs": [
    {
     "data": {
      "text/plain": [
       "(PosixPath('data/trash_dataset/train'), PosixPath('data/trash_dataset/test'))"
      ]
     },
     "execution_count": 4,
     "metadata": {},
     "output_type": "execute_result"
    }
   ],
   "source": [
    "# Setup training and test data directories\n",
    "train_dir = trash_dataset_path / \"train\"\n",
    "test_dir = trash_dataset_path / \"test\"\n",
    "\n",
    "train_dir, test_dir"
   ]
  },
  {
   "cell_type": "markdown",
   "id": "6f7d28e1-ad64-435a-bf15-4bf1bf695896",
   "metadata": {
    "id": "6f7d28e1-ad64-435a-bf15-4bf1bf695896"
   },
   "source": [
    "## 2 - ResNet50 feature extractors\n",
    "\n",
    "https://pytorch.org/vision/main/models/generated/torchvision.models.resnet50.html"
   ]
  },
  {
   "cell_type": "code",
   "execution_count": 5,
   "id": "fe148279-588c-4911-9792-0bf37aa23efa",
   "metadata": {
    "id": "fe148279-588c-4911-9792-0bf37aa23efa"
   },
   "outputs": [],
   "source": [
    "resnet50 = torchvision.models.resnet50()\n",
    "# resnet50"
   ]
  },
  {
   "cell_type": "code",
   "execution_count": 6,
   "id": "99f8a347-bc70-463d-b55b-f7a5eedf9ee7",
   "metadata": {
    "colab": {
     "base_uri": "https://localhost:8080/"
    },
    "id": "99f8a347-bc70-463d-b55b-f7a5eedf9ee7",
    "outputId": "7a3b3b00-9804-4a88-c195-04ba108a8937"
   },
   "outputs": [
    {
     "name": "stdout",
     "output_type": "stream",
     "text": [
      "[INFO] Couldn't find torchinfo... installing it.\n"
     ]
    }
   ],
   "source": [
    "try:\n",
    "    from torchinfo import summary\n",
    "except:\n",
    "    print(\"[INFO] Couldn't find torchinfo... installing it.\")\n",
    "    !pip install -q torchinfo\n",
    "    from torchinfo import summary"
   ]
  },
  {
   "cell_type": "code",
   "execution_count": 7,
   "id": "5a929d96-3888-45b8-b225-a9599abbff83",
   "metadata": {
    "id": "5a929d96-3888-45b8-b225-a9599abbff83"
   },
   "outputs": [],
   "source": [
    "# summary(resnet50,\n",
    "#         input_size=(1, 3, 224, 224),\n",
    "#         col_names=[\"input_size\", \"output_size\", \"num_params\", \"trainable\"],\n",
    "#         col_width=20,\n",
    "#         row_settings=[\"var_names\"])"
   ]
  },
  {
   "cell_type": "code",
   "execution_count": 8,
   "id": "84f2895b-0487-4e52-862d-2fbcc8dbc93b",
   "metadata": {
    "colab": {
     "base_uri": "https://localhost:8080/"
    },
    "id": "84f2895b-0487-4e52-862d-2fbcc8dbc93b",
    "outputId": "913534b9-d5be-47c8-c98c-d3cfedc72b94"
   },
   "outputs": [
    {
     "data": {
      "text/plain": [
       "Linear(in_features=2048, out_features=1000, bias=True)"
      ]
     },
     "execution_count": 8,
     "metadata": {},
     "output_type": "execute_result"
    }
   ],
   "source": [
    "resnet50.fc"
   ]
  },
  {
   "cell_type": "markdown",
   "id": "09cb989f-db8e-43d5-abae-8c0e003a1b49",
   "metadata": {
    "id": "09cb989f-db8e-43d5-abae-8c0e003a1b49"
   },
   "source": [
    "The last layer of resnet50 is called **`fc`**."
   ]
  },
  {
   "cell_type": "markdown",
   "id": "c74110f8-373b-40ff-8678-5be21f553a1f",
   "metadata": {
    "id": "c74110f8-373b-40ff-8678-5be21f553a1f"
   },
   "source": [
    "### 2.1 ResNet50 feature extractor - `v1`"
   ]
  },
  {
   "cell_type": "code",
   "execution_count": 9,
   "id": "f46914e9-370b-4777-bbaa-918605020077",
   "metadata": {
    "id": "f46914e9-370b-4777-bbaa-918605020077"
   },
   "outputs": [],
   "source": [
    "def create_resnet50_model_v1(num_classes:int=6,\n",
    "                          seed:int=42):\n",
    "    weights = torchvision.models.ResNet50_Weights.DEFAULT\n",
    "    transforms = weights.transforms()\n",
    "    model = torchvision.models.resnet50(weights=weights).to(device)\n",
    "\n",
    "    for param in model.parameters():\n",
    "        param.requires_grad = False\n",
    "\n",
    "    torch.manual_seed(seed)\n",
    "    model.fc = nn.Linear(in_features=2048, out_features=num_classes).to(device)\n",
    "\n",
    "    return model, transforms"
   ]
  },
  {
   "cell_type": "code",
   "execution_count": 11,
   "id": "a6c84b12-2394-4c34-94c4-35f2299058fe",
   "metadata": {
    "colab": {
     "base_uri": "https://localhost:8080/"
    },
    "id": "a6c84b12-2394-4c34-94c4-35f2299058fe",
    "outputId": "53b5fd92-b2d3-48a4-f441-10bd4feb9f7b"
   },
   "outputs": [
    {
     "name": "stderr",
     "output_type": "stream",
     "text": [
      "Downloading: \"https://download.pytorch.org/models/resnet50-11ad3fa6.pth\" to /root/.cache/torch/hub/checkpoints/resnet50-11ad3fa6.pth\n",
      "100%|██████████| 97.8M/97.8M [00:00<00:00, 167MB/s]\n"
     ]
    }
   ],
   "source": [
    "resnet50_v1, resnet50_transforms_auto = create_resnet50_model_v1(num_classes=6, seed=42)"
   ]
  },
  {
   "cell_type": "code",
   "execution_count": 12,
   "id": "0e20e7c4-4842-49a5-8a17-21c2ad287a64",
   "metadata": {
    "colab": {
     "base_uri": "https://localhost:8080/"
    },
    "id": "0e20e7c4-4842-49a5-8a17-21c2ad287a64",
    "outputId": "f5e5236e-1da2-4666-cf57-ccaf86bc8153"
   },
   "outputs": [
    {
     "data": {
      "text/plain": [
       "Linear(in_features=2048, out_features=6, bias=True)"
      ]
     },
     "execution_count": 12,
     "metadata": {},
     "output_type": "execute_result"
    }
   ],
   "source": [
    "resnet50_v1.fc"
   ]
  },
  {
   "cell_type": "markdown",
   "id": "be28ba88-ce41-4165-bf69-84b1284aec91",
   "metadata": {
    "id": "be28ba88-ce41-4165-bf69-84b1284aec91"
   },
   "source": [
    "#### Auto created transforms"
   ]
  },
  {
   "cell_type": "code",
   "execution_count": 13,
   "id": "0405ba6a-f767-462a-bbc8-bdcea0c4a2fa",
   "metadata": {
    "colab": {
     "base_uri": "https://localhost:8080/"
    },
    "id": "0405ba6a-f767-462a-bbc8-bdcea0c4a2fa",
    "outputId": "68b1cd41-992f-455d-ec36-639cc6ebb547"
   },
   "outputs": [
    {
     "data": {
      "text/plain": [
       "ImageClassification(\n",
       "    crop_size=[224]\n",
       "    resize_size=[232]\n",
       "    mean=[0.485, 0.456, 0.406]\n",
       "    std=[0.229, 0.224, 0.225]\n",
       "    interpolation=InterpolationMode.BILINEAR\n",
       ")"
      ]
     },
     "execution_count": 13,
     "metadata": {},
     "output_type": "execute_result"
    }
   ],
   "source": [
    "resnet50_transforms_auto"
   ]
  },
  {
   "cell_type": "markdown",
   "id": "189e6454-7996-4ae3-85ae-4ffe5ec08784",
   "metadata": {
    "id": "189e6454-7996-4ae3-85ae-4ffe5ec08784"
   },
   "source": [
    "#### Dataloaders for Resnet50 `v1`"
   ]
  },
  {
   "cell_type": "code",
   "execution_count": 14,
   "id": "be3d2ed9-1d2f-4540-8c39-5e0606887054",
   "metadata": {
    "id": "be3d2ed9-1d2f-4540-8c39-5e0606887054"
   },
   "outputs": [],
   "source": [
    "from scripts import data_setup\n",
    "\n",
    "train_dataloader_resnet50, test_dataloader_resnet50, class_names = data_setup.create_dataloaders(train_dir=train_dir,\n",
    "                                                                                                 test_dir=test_dir,\n",
    "                                                                                                 transform=resnet50_transforms_auto,\n",
    "                                                                                                 batch_size=32)"
   ]
  },
  {
   "cell_type": "code",
   "execution_count": 15,
   "id": "9744f720-bee9-4bb4-b6f9-1c2ff53a0aa8",
   "metadata": {
    "colab": {
     "base_uri": "https://localhost:8080/"
    },
    "id": "9744f720-bee9-4bb4-b6f9-1c2ff53a0aa8",
    "outputId": "4729106e-00cc-4d25-8b78-0dbeb020c675"
   },
   "outputs": [
    {
     "data": {
      "text/plain": [
       "(64, 16, ['cardboard', 'glass', 'metal', 'paper', 'plastic', 'trash'])"
      ]
     },
     "execution_count": 15,
     "metadata": {},
     "output_type": "execute_result"
    }
   ],
   "source": [
    "len(train_dataloader_resnet50), len(test_dataloader_resnet50), class_names"
   ]
  },
  {
   "cell_type": "markdown",
   "id": "a20a3652-63b2-4220-b5ff-2fc19ed9834a",
   "metadata": {
    "id": "a20a3652-63b2-4220-b5ff-2fc19ed9834a"
   },
   "source": [
    "### 2.2 ResNet50 augmented feature extractors - `v2` & `v3` (learning rate decay)"
   ]
  },
  {
   "cell_type": "markdown",
   "id": "7c913797-a7dd-459c-9d17-ec53a204e59b",
   "metadata": {
    "id": "7c913797-a7dd-459c-9d17-ec53a204e59b"
   },
   "source": [
    "#### Dropout layer"
   ]
  },
  {
   "cell_type": "markdown",
   "id": "a814bb4f-035e-41f2-9311-e4b6665cab6a",
   "metadata": {
    "id": "a814bb4f-035e-41f2-9311-e4b6665cab6a"
   },
   "source": [
    "Adding a `Dropout` layer after the last pooling layer `avgpool` and before the `Linear` ouput layer `fc` should introduce **regularization** and prevent overfitting."
   ]
  },
  {
   "cell_type": "code",
   "execution_count": 16,
   "id": "ab960f52-0d1e-403f-9a31-0b453a2fa7da",
   "metadata": {
    "id": "ab960f52-0d1e-403f-9a31-0b453a2fa7da"
   },
   "outputs": [],
   "source": [
    "def create_resnet50_model_v2(num_classes:int=6,\n",
    "                          seed:int=42,\n",
    "                          dropout_prob:float=0.5):\n",
    "    weights = torchvision.models.ResNet50_Weights.DEFAULT\n",
    "    model = torchvision.models.resnet50(weights=weights).to(device)\n",
    "\n",
    "    for param in model.parameters():\n",
    "        param.requires_grad = False\n",
    "\n",
    "    torch.manual_seed(seed)\n",
    "    model.fc = nn.Sequential(\n",
    "        nn.Dropout(p=dropout_prob),\n",
    "        nn.Linear(in_features=2048, out_features=num_classes)\n",
    "    ).to(device)\n",
    "\n",
    "    return model"
   ]
  },
  {
   "cell_type": "code",
   "execution_count": 17,
   "id": "9d44eb3c-efe2-4d4c-ac0e-bd762165e2ae",
   "metadata": {
    "id": "9d44eb3c-efe2-4d4c-ac0e-bd762165e2ae"
   },
   "outputs": [],
   "source": [
    "resnet50_v2= create_resnet50_model_v2(num_classes=6, seed=42, dropout_prob=0.2)\n",
    "resnet50_v3= create_resnet50_model_v2(num_classes=6, seed=42, dropout_prob=0.2)"
   ]
  },
  {
   "cell_type": "code",
   "execution_count": 18,
   "id": "aef03e6f-ef07-4ccc-b9a1-165da2c951be",
   "metadata": {
    "colab": {
     "base_uri": "https://localhost:8080/"
    },
    "id": "aef03e6f-ef07-4ccc-b9a1-165da2c951be",
    "outputId": "48553f5d-0815-454a-f6fe-6ad700fea807"
   },
   "outputs": [
    {
     "data": {
      "text/plain": [
       "Sequential(\n",
       "  (0): Dropout(p=0.2, inplace=False)\n",
       "  (1): Linear(in_features=2048, out_features=6, bias=True)\n",
       ")"
      ]
     },
     "execution_count": 18,
     "metadata": {},
     "output_type": "execute_result"
    }
   ],
   "source": [
    "resnet50_v2.fc"
   ]
  },
  {
   "cell_type": "markdown",
   "id": "de9c2210-ef64-4df7-aa5d-4a6da34f388b",
   "metadata": {
    "id": "de9c2210-ef64-4df7-aa5d-4a6da34f388b"
   },
   "source": [
    "#### Custom transforms ~ Data augmentation"
   ]
  },
  {
   "cell_type": "code",
   "execution_count": 19,
   "id": "03d60ce9-52f8-4ee6-8a7b-33aa7efabf78",
   "metadata": {
    "id": "03d60ce9-52f8-4ee6-8a7b-33aa7efabf78"
   },
   "outputs": [],
   "source": [
    "resnet50_train_transform_custom = transforms.Compose([\n",
    "    transforms.ToTensor(),\n",
    "    transforms.Resize(232, interpolation=InterpolationMode.BILINEAR),\n",
    "    transforms.GaussianBlur(kernel_size=3),\n",
    "    transforms.RandomGrayscale(),\n",
    "    transforms.RandomHorizontalFlip(),\n",
    "    transforms.Normalize(\n",
    "        mean=[0.485, 0.456, 0.406],\n",
    "        std=[0.229, 0.224, 0.225]\n",
    "    )\n",
    "])\n",
    "\n",
    "resnet50_test_transform_custom = transforms.Compose([\n",
    "    transforms.ToTensor(),\n",
    "    transforms.Resize(232, interpolation=InterpolationMode.BILINEAR, antialias=True),\n",
    "    transforms.CenterCrop(224),\n",
    "    transforms.Normalize(\n",
    "        mean=[0.485, 0.456, 0.406],\n",
    "        std=[0.229, 0.224, 0.225]\n",
    "    )\n",
    "])"
   ]
  },
  {
   "cell_type": "code",
   "execution_count": 20,
   "id": "3c223393-ef9a-4b90-a012-b81b0feb5233",
   "metadata": {
    "colab": {
     "base_uri": "https://localhost:8080/"
    },
    "id": "3c223393-ef9a-4b90-a012-b81b0feb5233",
    "outputId": "09cb72a1-4b70-4125-ff4e-fa7b7f4bcd72"
   },
   "outputs": [
    {
     "data": {
      "text/plain": [
       "Compose(\n",
       "    ToTensor()\n",
       "    Resize(size=232, interpolation=bilinear, max_size=None, antialias=True)\n",
       "    GaussianBlur(kernel_size=(3, 3), sigma=(0.1, 2.0))\n",
       "    RandomGrayscale(p=0.1)\n",
       "    RandomHorizontalFlip(p=0.5)\n",
       "    Normalize(mean=[0.485, 0.456, 0.406], std=[0.229, 0.224, 0.225])\n",
       ")"
      ]
     },
     "execution_count": 20,
     "metadata": {},
     "output_type": "execute_result"
    }
   ],
   "source": [
    "resnet50_train_transform_custom"
   ]
  },
  {
   "cell_type": "code",
   "execution_count": 21,
   "id": "9ec1e821-e6e0-4ef8-bb7a-2c30df37ef63",
   "metadata": {
    "colab": {
     "base_uri": "https://localhost:8080/"
    },
    "id": "9ec1e821-e6e0-4ef8-bb7a-2c30df37ef63",
    "outputId": "12911c1c-541c-4678-e1d2-c020785942be"
   },
   "outputs": [
    {
     "data": {
      "text/plain": [
       "Compose(\n",
       "    ToTensor()\n",
       "    Resize(size=232, interpolation=bilinear, max_size=None, antialias=True)\n",
       "    CenterCrop(size=(224, 224))\n",
       "    Normalize(mean=[0.485, 0.456, 0.406], std=[0.229, 0.224, 0.225])\n",
       ")"
      ]
     },
     "execution_count": 21,
     "metadata": {},
     "output_type": "execute_result"
    }
   ],
   "source": [
    "resnet50_test_transform_custom"
   ]
  },
  {
   "cell_type": "markdown",
   "id": "cb1a9a6c-9545-4bc7-985f-398f87b1d92c",
   "metadata": {
    "id": "cb1a9a6c-9545-4bc7-985f-398f87b1d92c"
   },
   "source": [
    "#### Dataloaders for ResNet50 `v2` & `v3`"
   ]
  },
  {
   "cell_type": "code",
   "execution_count": 22,
   "id": "9a4090b1-c0e7-472d-b9ec-54c05fae11b6",
   "metadata": {
    "id": "9a4090b1-c0e7-472d-b9ec-54c05fae11b6"
   },
   "outputs": [],
   "source": [
    "from scripts import data_setup_augmented\n",
    "\n",
    "train_dataloader_resnet50_custom, test_dataloader_resnet50_custom, class_names = data_setup_augmented.create_dataloaders(train_dir=train_dir,\n",
    "                                                                                                           test_dir=test_dir,\n",
    "                                                                                                           train_transform=resnet50_train_transform_custom,\n",
    "                                                                                                           test_transform=resnet50_test_transform_custom,\n",
    "                                                                                                           batch_size=32)"
   ]
  },
  {
   "cell_type": "code",
   "execution_count": 23,
   "id": "0cb51b6a-03fb-4b4a-979c-36d25ca0392d",
   "metadata": {
    "colab": {
     "base_uri": "https://localhost:8080/"
    },
    "id": "0cb51b6a-03fb-4b4a-979c-36d25ca0392d",
    "outputId": "649a43ff-ec1d-469c-a307-044d2e22a488"
   },
   "outputs": [
    {
     "data": {
      "text/plain": [
       "(64, 16, ['cardboard', 'glass', 'metal', 'paper', 'plastic', 'trash'])"
      ]
     },
     "execution_count": 23,
     "metadata": {},
     "output_type": "execute_result"
    }
   ],
   "source": [
    "len(train_dataloader_resnet50_custom), len(test_dataloader_resnet50_custom), class_names"
   ]
  },
  {
   "cell_type": "markdown",
   "id": "e3050f95-85ab-4d4a-b649-5eba69008155",
   "metadata": {
    "id": "e3050f95-85ab-4d4a-b649-5eba69008155"
   },
   "source": [
    "#### ResNet50 `v2` summary"
   ]
  },
  {
   "cell_type": "code",
   "execution_count": 24,
   "id": "ccccfef7-6c3d-41d5-bc2b-dfe0fb30147a",
   "metadata": {
    "colab": {
     "base_uri": "https://localhost:8080/"
    },
    "id": "ccccfef7-6c3d-41d5-bc2b-dfe0fb30147a",
    "outputId": "50c36fc3-86f4-4870-8b56-f421f96076ec"
   },
   "outputs": [
    {
     "data": {
      "text/plain": [
       "========================================================================================================================\n",
       "Layer (type (var_name))                  Input Shape          Output Shape         Param #              Trainable\n",
       "========================================================================================================================\n",
       "ResNet (ResNet)                          [1, 3, 224, 224]     [1, 6]               --                   Partial\n",
       "├─Conv2d (conv1)                         [1, 3, 224, 224]     [1, 64, 112, 112]    (9,408)              False\n",
       "├─BatchNorm2d (bn1)                      [1, 64, 112, 112]    [1, 64, 112, 112]    (128)                False\n",
       "├─ReLU (relu)                            [1, 64, 112, 112]    [1, 64, 112, 112]    --                   --\n",
       "├─MaxPool2d (maxpool)                    [1, 64, 112, 112]    [1, 64, 56, 56]      --                   --\n",
       "├─Sequential (layer1)                    [1, 64, 56, 56]      [1, 256, 56, 56]     --                   False\n",
       "│    └─Bottleneck (0)                    [1, 64, 56, 56]      [1, 256, 56, 56]     --                   False\n",
       "│    │    └─Conv2d (conv1)               [1, 64, 56, 56]      [1, 64, 56, 56]      (4,096)              False\n",
       "│    │    └─BatchNorm2d (bn1)            [1, 64, 56, 56]      [1, 64, 56, 56]      (128)                False\n",
       "│    │    └─ReLU (relu)                  [1, 64, 56, 56]      [1, 64, 56, 56]      --                   --\n",
       "│    │    └─Conv2d (conv2)               [1, 64, 56, 56]      [1, 64, 56, 56]      (36,864)             False\n",
       "│    │    └─BatchNorm2d (bn2)            [1, 64, 56, 56]      [1, 64, 56, 56]      (128)                False\n",
       "│    │    └─ReLU (relu)                  [1, 64, 56, 56]      [1, 64, 56, 56]      --                   --\n",
       "│    │    └─Conv2d (conv3)               [1, 64, 56, 56]      [1, 256, 56, 56]     (16,384)             False\n",
       "│    │    └─BatchNorm2d (bn3)            [1, 256, 56, 56]     [1, 256, 56, 56]     (512)                False\n",
       "│    │    └─Sequential (downsample)      [1, 64, 56, 56]      [1, 256, 56, 56]     (16,896)             False\n",
       "│    │    └─ReLU (relu)                  [1, 256, 56, 56]     [1, 256, 56, 56]     --                   --\n",
       "│    └─Bottleneck (1)                    [1, 256, 56, 56]     [1, 256, 56, 56]     --                   False\n",
       "│    │    └─Conv2d (conv1)               [1, 256, 56, 56]     [1, 64, 56, 56]      (16,384)             False\n",
       "│    │    └─BatchNorm2d (bn1)            [1, 64, 56, 56]      [1, 64, 56, 56]      (128)                False\n",
       "│    │    └─ReLU (relu)                  [1, 64, 56, 56]      [1, 64, 56, 56]      --                   --\n",
       "│    │    └─Conv2d (conv2)               [1, 64, 56, 56]      [1, 64, 56, 56]      (36,864)             False\n",
       "│    │    └─BatchNorm2d (bn2)            [1, 64, 56, 56]      [1, 64, 56, 56]      (128)                False\n",
       "│    │    └─ReLU (relu)                  [1, 64, 56, 56]      [1, 64, 56, 56]      --                   --\n",
       "│    │    └─Conv2d (conv3)               [1, 64, 56, 56]      [1, 256, 56, 56]     (16,384)             False\n",
       "│    │    └─BatchNorm2d (bn3)            [1, 256, 56, 56]     [1, 256, 56, 56]     (512)                False\n",
       "│    │    └─ReLU (relu)                  [1, 256, 56, 56]     [1, 256, 56, 56]     --                   --\n",
       "│    └─Bottleneck (2)                    [1, 256, 56, 56]     [1, 256, 56, 56]     --                   False\n",
       "│    │    └─Conv2d (conv1)               [1, 256, 56, 56]     [1, 64, 56, 56]      (16,384)             False\n",
       "│    │    └─BatchNorm2d (bn1)            [1, 64, 56, 56]      [1, 64, 56, 56]      (128)                False\n",
       "│    │    └─ReLU (relu)                  [1, 64, 56, 56]      [1, 64, 56, 56]      --                   --\n",
       "│    │    └─Conv2d (conv2)               [1, 64, 56, 56]      [1, 64, 56, 56]      (36,864)             False\n",
       "│    │    └─BatchNorm2d (bn2)            [1, 64, 56, 56]      [1, 64, 56, 56]      (128)                False\n",
       "│    │    └─ReLU (relu)                  [1, 64, 56, 56]      [1, 64, 56, 56]      --                   --\n",
       "│    │    └─Conv2d (conv3)               [1, 64, 56, 56]      [1, 256, 56, 56]     (16,384)             False\n",
       "│    │    └─BatchNorm2d (bn3)            [1, 256, 56, 56]     [1, 256, 56, 56]     (512)                False\n",
       "│    │    └─ReLU (relu)                  [1, 256, 56, 56]     [1, 256, 56, 56]     --                   --\n",
       "├─Sequential (layer2)                    [1, 256, 56, 56]     [1, 512, 28, 28]     --                   False\n",
       "│    └─Bottleneck (0)                    [1, 256, 56, 56]     [1, 512, 28, 28]     --                   False\n",
       "│    │    └─Conv2d (conv1)               [1, 256, 56, 56]     [1, 128, 56, 56]     (32,768)             False\n",
       "│    │    └─BatchNorm2d (bn1)            [1, 128, 56, 56]     [1, 128, 56, 56]     (256)                False\n",
       "│    │    └─ReLU (relu)                  [1, 128, 56, 56]     [1, 128, 56, 56]     --                   --\n",
       "│    │    └─Conv2d (conv2)               [1, 128, 56, 56]     [1, 128, 28, 28]     (147,456)            False\n",
       "│    │    └─BatchNorm2d (bn2)            [1, 128, 28, 28]     [1, 128, 28, 28]     (256)                False\n",
       "│    │    └─ReLU (relu)                  [1, 128, 28, 28]     [1, 128, 28, 28]     --                   --\n",
       "│    │    └─Conv2d (conv3)               [1, 128, 28, 28]     [1, 512, 28, 28]     (65,536)             False\n",
       "│    │    └─BatchNorm2d (bn3)            [1, 512, 28, 28]     [1, 512, 28, 28]     (1,024)              False\n",
       "│    │    └─Sequential (downsample)      [1, 256, 56, 56]     [1, 512, 28, 28]     (132,096)            False\n",
       "│    │    └─ReLU (relu)                  [1, 512, 28, 28]     [1, 512, 28, 28]     --                   --\n",
       "│    └─Bottleneck (1)                    [1, 512, 28, 28]     [1, 512, 28, 28]     --                   False\n",
       "│    │    └─Conv2d (conv1)               [1, 512, 28, 28]     [1, 128, 28, 28]     (65,536)             False\n",
       "│    │    └─BatchNorm2d (bn1)            [1, 128, 28, 28]     [1, 128, 28, 28]     (256)                False\n",
       "│    │    └─ReLU (relu)                  [1, 128, 28, 28]     [1, 128, 28, 28]     --                   --\n",
       "│    │    └─Conv2d (conv2)               [1, 128, 28, 28]     [1, 128, 28, 28]     (147,456)            False\n",
       "│    │    └─BatchNorm2d (bn2)            [1, 128, 28, 28]     [1, 128, 28, 28]     (256)                False\n",
       "│    │    └─ReLU (relu)                  [1, 128, 28, 28]     [1, 128, 28, 28]     --                   --\n",
       "│    │    └─Conv2d (conv3)               [1, 128, 28, 28]     [1, 512, 28, 28]     (65,536)             False\n",
       "│    │    └─BatchNorm2d (bn3)            [1, 512, 28, 28]     [1, 512, 28, 28]     (1,024)              False\n",
       "│    │    └─ReLU (relu)                  [1, 512, 28, 28]     [1, 512, 28, 28]     --                   --\n",
       "│    └─Bottleneck (2)                    [1, 512, 28, 28]     [1, 512, 28, 28]     --                   False\n",
       "│    │    └─Conv2d (conv1)               [1, 512, 28, 28]     [1, 128, 28, 28]     (65,536)             False\n",
       "│    │    └─BatchNorm2d (bn1)            [1, 128, 28, 28]     [1, 128, 28, 28]     (256)                False\n",
       "│    │    └─ReLU (relu)                  [1, 128, 28, 28]     [1, 128, 28, 28]     --                   --\n",
       "│    │    └─Conv2d (conv2)               [1, 128, 28, 28]     [1, 128, 28, 28]     (147,456)            False\n",
       "│    │    └─BatchNorm2d (bn2)            [1, 128, 28, 28]     [1, 128, 28, 28]     (256)                False\n",
       "│    │    └─ReLU (relu)                  [1, 128, 28, 28]     [1, 128, 28, 28]     --                   --\n",
       "│    │    └─Conv2d (conv3)               [1, 128, 28, 28]     [1, 512, 28, 28]     (65,536)             False\n",
       "│    │    └─BatchNorm2d (bn3)            [1, 512, 28, 28]     [1, 512, 28, 28]     (1,024)              False\n",
       "│    │    └─ReLU (relu)                  [1, 512, 28, 28]     [1, 512, 28, 28]     --                   --\n",
       "│    └─Bottleneck (3)                    [1, 512, 28, 28]     [1, 512, 28, 28]     --                   False\n",
       "│    │    └─Conv2d (conv1)               [1, 512, 28, 28]     [1, 128, 28, 28]     (65,536)             False\n",
       "│    │    └─BatchNorm2d (bn1)            [1, 128, 28, 28]     [1, 128, 28, 28]     (256)                False\n",
       "│    │    └─ReLU (relu)                  [1, 128, 28, 28]     [1, 128, 28, 28]     --                   --\n",
       "│    │    └─Conv2d (conv2)               [1, 128, 28, 28]     [1, 128, 28, 28]     (147,456)            False\n",
       "│    │    └─BatchNorm2d (bn2)            [1, 128, 28, 28]     [1, 128, 28, 28]     (256)                False\n",
       "│    │    └─ReLU (relu)                  [1, 128, 28, 28]     [1, 128, 28, 28]     --                   --\n",
       "│    │    └─Conv2d (conv3)               [1, 128, 28, 28]     [1, 512, 28, 28]     (65,536)             False\n",
       "│    │    └─BatchNorm2d (bn3)            [1, 512, 28, 28]     [1, 512, 28, 28]     (1,024)              False\n",
       "│    │    └─ReLU (relu)                  [1, 512, 28, 28]     [1, 512, 28, 28]     --                   --\n",
       "├─Sequential (layer3)                    [1, 512, 28, 28]     [1, 1024, 14, 14]    --                   False\n",
       "│    └─Bottleneck (0)                    [1, 512, 28, 28]     [1, 1024, 14, 14]    --                   False\n",
       "│    │    └─Conv2d (conv1)               [1, 512, 28, 28]     [1, 256, 28, 28]     (131,072)            False\n",
       "│    │    └─BatchNorm2d (bn1)            [1, 256, 28, 28]     [1, 256, 28, 28]     (512)                False\n",
       "│    │    └─ReLU (relu)                  [1, 256, 28, 28]     [1, 256, 28, 28]     --                   --\n",
       "│    │    └─Conv2d (conv2)               [1, 256, 28, 28]     [1, 256, 14, 14]     (589,824)            False\n",
       "│    │    └─BatchNorm2d (bn2)            [1, 256, 14, 14]     [1, 256, 14, 14]     (512)                False\n",
       "│    │    └─ReLU (relu)                  [1, 256, 14, 14]     [1, 256, 14, 14]     --                   --\n",
       "│    │    └─Conv2d (conv3)               [1, 256, 14, 14]     [1, 1024, 14, 14]    (262,144)            False\n",
       "│    │    └─BatchNorm2d (bn3)            [1, 1024, 14, 14]    [1, 1024, 14, 14]    (2,048)              False\n",
       "│    │    └─Sequential (downsample)      [1, 512, 28, 28]     [1, 1024, 14, 14]    (526,336)            False\n",
       "│    │    └─ReLU (relu)                  [1, 1024, 14, 14]    [1, 1024, 14, 14]    --                   --\n",
       "│    └─Bottleneck (1)                    [1, 1024, 14, 14]    [1, 1024, 14, 14]    --                   False\n",
       "│    │    └─Conv2d (conv1)               [1, 1024, 14, 14]    [1, 256, 14, 14]     (262,144)            False\n",
       "│    │    └─BatchNorm2d (bn1)            [1, 256, 14, 14]     [1, 256, 14, 14]     (512)                False\n",
       "│    │    └─ReLU (relu)                  [1, 256, 14, 14]     [1, 256, 14, 14]     --                   --\n",
       "│    │    └─Conv2d (conv2)               [1, 256, 14, 14]     [1, 256, 14, 14]     (589,824)            False\n",
       "│    │    └─BatchNorm2d (bn2)            [1, 256, 14, 14]     [1, 256, 14, 14]     (512)                False\n",
       "│    │    └─ReLU (relu)                  [1, 256, 14, 14]     [1, 256, 14, 14]     --                   --\n",
       "│    │    └─Conv2d (conv3)               [1, 256, 14, 14]     [1, 1024, 14, 14]    (262,144)            False\n",
       "│    │    └─BatchNorm2d (bn3)            [1, 1024, 14, 14]    [1, 1024, 14, 14]    (2,048)              False\n",
       "│    │    └─ReLU (relu)                  [1, 1024, 14, 14]    [1, 1024, 14, 14]    --                   --\n",
       "│    └─Bottleneck (2)                    [1, 1024, 14, 14]    [1, 1024, 14, 14]    --                   False\n",
       "│    │    └─Conv2d (conv1)               [1, 1024, 14, 14]    [1, 256, 14, 14]     (262,144)            False\n",
       "│    │    └─BatchNorm2d (bn1)            [1, 256, 14, 14]     [1, 256, 14, 14]     (512)                False\n",
       "│    │    └─ReLU (relu)                  [1, 256, 14, 14]     [1, 256, 14, 14]     --                   --\n",
       "│    │    └─Conv2d (conv2)               [1, 256, 14, 14]     [1, 256, 14, 14]     (589,824)            False\n",
       "│    │    └─BatchNorm2d (bn2)            [1, 256, 14, 14]     [1, 256, 14, 14]     (512)                False\n",
       "│    │    └─ReLU (relu)                  [1, 256, 14, 14]     [1, 256, 14, 14]     --                   --\n",
       "│    │    └─Conv2d (conv3)               [1, 256, 14, 14]     [1, 1024, 14, 14]    (262,144)            False\n",
       "│    │    └─BatchNorm2d (bn3)            [1, 1024, 14, 14]    [1, 1024, 14, 14]    (2,048)              False\n",
       "│    │    └─ReLU (relu)                  [1, 1024, 14, 14]    [1, 1024, 14, 14]    --                   --\n",
       "│    └─Bottleneck (3)                    [1, 1024, 14, 14]    [1, 1024, 14, 14]    --                   False\n",
       "│    │    └─Conv2d (conv1)               [1, 1024, 14, 14]    [1, 256, 14, 14]     (262,144)            False\n",
       "│    │    └─BatchNorm2d (bn1)            [1, 256, 14, 14]     [1, 256, 14, 14]     (512)                False\n",
       "│    │    └─ReLU (relu)                  [1, 256, 14, 14]     [1, 256, 14, 14]     --                   --\n",
       "│    │    └─Conv2d (conv2)               [1, 256, 14, 14]     [1, 256, 14, 14]     (589,824)            False\n",
       "│    │    └─BatchNorm2d (bn2)            [1, 256, 14, 14]     [1, 256, 14, 14]     (512)                False\n",
       "│    │    └─ReLU (relu)                  [1, 256, 14, 14]     [1, 256, 14, 14]     --                   --\n",
       "│    │    └─Conv2d (conv3)               [1, 256, 14, 14]     [1, 1024, 14, 14]    (262,144)            False\n",
       "│    │    └─BatchNorm2d (bn3)            [1, 1024, 14, 14]    [1, 1024, 14, 14]    (2,048)              False\n",
       "│    │    └─ReLU (relu)                  [1, 1024, 14, 14]    [1, 1024, 14, 14]    --                   --\n",
       "│    └─Bottleneck (4)                    [1, 1024, 14, 14]    [1, 1024, 14, 14]    --                   False\n",
       "│    │    └─Conv2d (conv1)               [1, 1024, 14, 14]    [1, 256, 14, 14]     (262,144)            False\n",
       "│    │    └─BatchNorm2d (bn1)            [1, 256, 14, 14]     [1, 256, 14, 14]     (512)                False\n",
       "│    │    └─ReLU (relu)                  [1, 256, 14, 14]     [1, 256, 14, 14]     --                   --\n",
       "│    │    └─Conv2d (conv2)               [1, 256, 14, 14]     [1, 256, 14, 14]     (589,824)            False\n",
       "│    │    └─BatchNorm2d (bn2)            [1, 256, 14, 14]     [1, 256, 14, 14]     (512)                False\n",
       "│    │    └─ReLU (relu)                  [1, 256, 14, 14]     [1, 256, 14, 14]     --                   --\n",
       "│    │    └─Conv2d (conv3)               [1, 256, 14, 14]     [1, 1024, 14, 14]    (262,144)            False\n",
       "│    │    └─BatchNorm2d (bn3)            [1, 1024, 14, 14]    [1, 1024, 14, 14]    (2,048)              False\n",
       "│    │    └─ReLU (relu)                  [1, 1024, 14, 14]    [1, 1024, 14, 14]    --                   --\n",
       "│    └─Bottleneck (5)                    [1, 1024, 14, 14]    [1, 1024, 14, 14]    --                   False\n",
       "│    │    └─Conv2d (conv1)               [1, 1024, 14, 14]    [1, 256, 14, 14]     (262,144)            False\n",
       "│    │    └─BatchNorm2d (bn1)            [1, 256, 14, 14]     [1, 256, 14, 14]     (512)                False\n",
       "│    │    └─ReLU (relu)                  [1, 256, 14, 14]     [1, 256, 14, 14]     --                   --\n",
       "│    │    └─Conv2d (conv2)               [1, 256, 14, 14]     [1, 256, 14, 14]     (589,824)            False\n",
       "│    │    └─BatchNorm2d (bn2)            [1, 256, 14, 14]     [1, 256, 14, 14]     (512)                False\n",
       "│    │    └─ReLU (relu)                  [1, 256, 14, 14]     [1, 256, 14, 14]     --                   --\n",
       "│    │    └─Conv2d (conv3)               [1, 256, 14, 14]     [1, 1024, 14, 14]    (262,144)            False\n",
       "│    │    └─BatchNorm2d (bn3)            [1, 1024, 14, 14]    [1, 1024, 14, 14]    (2,048)              False\n",
       "│    │    └─ReLU (relu)                  [1, 1024, 14, 14]    [1, 1024, 14, 14]    --                   --\n",
       "├─Sequential (layer4)                    [1, 1024, 14, 14]    [1, 2048, 7, 7]      --                   False\n",
       "│    └─Bottleneck (0)                    [1, 1024, 14, 14]    [1, 2048, 7, 7]      --                   False\n",
       "│    │    └─Conv2d (conv1)               [1, 1024, 14, 14]    [1, 512, 14, 14]     (524,288)            False\n",
       "│    │    └─BatchNorm2d (bn1)            [1, 512, 14, 14]     [1, 512, 14, 14]     (1,024)              False\n",
       "│    │    └─ReLU (relu)                  [1, 512, 14, 14]     [1, 512, 14, 14]     --                   --\n",
       "│    │    └─Conv2d (conv2)               [1, 512, 14, 14]     [1, 512, 7, 7]       (2,359,296)          False\n",
       "│    │    └─BatchNorm2d (bn2)            [1, 512, 7, 7]       [1, 512, 7, 7]       (1,024)              False\n",
       "│    │    └─ReLU (relu)                  [1, 512, 7, 7]       [1, 512, 7, 7]       --                   --\n",
       "│    │    └─Conv2d (conv3)               [1, 512, 7, 7]       [1, 2048, 7, 7]      (1,048,576)          False\n",
       "│    │    └─BatchNorm2d (bn3)            [1, 2048, 7, 7]      [1, 2048, 7, 7]      (4,096)              False\n",
       "│    │    └─Sequential (downsample)      [1, 1024, 14, 14]    [1, 2048, 7, 7]      (2,101,248)          False\n",
       "│    │    └─ReLU (relu)                  [1, 2048, 7, 7]      [1, 2048, 7, 7]      --                   --\n",
       "│    └─Bottleneck (1)                    [1, 2048, 7, 7]      [1, 2048, 7, 7]      --                   False\n",
       "│    │    └─Conv2d (conv1)               [1, 2048, 7, 7]      [1, 512, 7, 7]       (1,048,576)          False\n",
       "│    │    └─BatchNorm2d (bn1)            [1, 512, 7, 7]       [1, 512, 7, 7]       (1,024)              False\n",
       "│    │    └─ReLU (relu)                  [1, 512, 7, 7]       [1, 512, 7, 7]       --                   --\n",
       "│    │    └─Conv2d (conv2)               [1, 512, 7, 7]       [1, 512, 7, 7]       (2,359,296)          False\n",
       "│    │    └─BatchNorm2d (bn2)            [1, 512, 7, 7]       [1, 512, 7, 7]       (1,024)              False\n",
       "│    │    └─ReLU (relu)                  [1, 512, 7, 7]       [1, 512, 7, 7]       --                   --\n",
       "│    │    └─Conv2d (conv3)               [1, 512, 7, 7]       [1, 2048, 7, 7]      (1,048,576)          False\n",
       "│    │    └─BatchNorm2d (bn3)            [1, 2048, 7, 7]      [1, 2048, 7, 7]      (4,096)              False\n",
       "│    │    └─ReLU (relu)                  [1, 2048, 7, 7]      [1, 2048, 7, 7]      --                   --\n",
       "│    └─Bottleneck (2)                    [1, 2048, 7, 7]      [1, 2048, 7, 7]      --                   False\n",
       "│    │    └─Conv2d (conv1)               [1, 2048, 7, 7]      [1, 512, 7, 7]       (1,048,576)          False\n",
       "│    │    └─BatchNorm2d (bn1)            [1, 512, 7, 7]       [1, 512, 7, 7]       (1,024)              False\n",
       "│    │    └─ReLU (relu)                  [1, 512, 7, 7]       [1, 512, 7, 7]       --                   --\n",
       "│    │    └─Conv2d (conv2)               [1, 512, 7, 7]       [1, 512, 7, 7]       (2,359,296)          False\n",
       "│    │    └─BatchNorm2d (bn2)            [1, 512, 7, 7]       [1, 512, 7, 7]       (1,024)              False\n",
       "│    │    └─ReLU (relu)                  [1, 512, 7, 7]       [1, 512, 7, 7]       --                   --\n",
       "│    │    └─Conv2d (conv3)               [1, 512, 7, 7]       [1, 2048, 7, 7]      (1,048,576)          False\n",
       "│    │    └─BatchNorm2d (bn3)            [1, 2048, 7, 7]      [1, 2048, 7, 7]      (4,096)              False\n",
       "│    │    └─ReLU (relu)                  [1, 2048, 7, 7]      [1, 2048, 7, 7]      --                   --\n",
       "├─AdaptiveAvgPool2d (avgpool)            [1, 2048, 7, 7]      [1, 2048, 1, 1]      --                   --\n",
       "├─Sequential (fc)                        [1, 2048]            [1, 6]               --                   True\n",
       "│    └─Dropout (0)                       [1, 2048]            [1, 2048]            --                   --\n",
       "│    └─Linear (1)                        [1, 2048]            [1, 6]               12,294               True\n",
       "========================================================================================================================\n",
       "Total params: 23,520,326\n",
       "Trainable params: 12,294\n",
       "Non-trainable params: 23,508,032\n",
       "Total mult-adds (G): 4.09\n",
       "========================================================================================================================\n",
       "Input size (MB): 0.60\n",
       "Forward/backward pass size (MB): 177.82\n",
       "Params size (MB): 94.08\n",
       "Estimated Total Size (MB): 272.51\n",
       "========================================================================================================================"
      ]
     },
     "execution_count": 24,
     "metadata": {},
     "output_type": "execute_result"
    }
   ],
   "source": [
    "summary(resnet50_v2,\n",
    "        input_size=(1, 3, 224, 224),\n",
    "        col_names=[\"input_size\", \"output_size\", \"num_params\", \"trainable\"],\n",
    "        col_width=20,\n",
    "        row_settings=[\"var_names\"])"
   ]
  },
  {
   "cell_type": "markdown",
   "id": "d4000020-1c4c-4886-8ec2-1fa1912313a4",
   "metadata": {
    "id": "d4000020-1c4c-4886-8ec2-1fa1912313a4"
   },
   "source": [
    "All the original layers of the ResNet50 architecture have been frozen, **except** for the **output layer `fc`**."
   ]
  },
  {
   "cell_type": "markdown",
   "id": "dcb457bc-fef1-4f84-87e6-48a8336a3fd9",
   "metadata": {
    "id": "dcb457bc-fef1-4f84-87e6-48a8336a3fd9"
   },
   "source": [
    "## 3 - Training"
   ]
  },
  {
   "cell_type": "markdown",
   "id": "200f3989-11a4-4f4a-b3d9-d1c2b7312bd6",
   "metadata": {
    "id": "200f3989-11a4-4f4a-b3d9-d1c2b7312bd6"
   },
   "source": [
    "### 3.1 ResNet `v1` training"
   ]
  },
  {
   "cell_type": "code",
   "execution_count": 25,
   "id": "f0c48374-5d0f-4053-b5ec-83490deeb692",
   "metadata": {
    "colab": {
     "base_uri": "https://localhost:8080/",
     "height": 659,
     "referenced_widgets": [
      "b7c92d9bf9de4dc7b4ca1d8cffdecbac",
      "1a095f1980b04f04b285ac59294bbf50",
      "10c129f851184dfeaef8f54f6f2d7447",
      "56139cd91287472a97041e6eb4aa5936",
      "f355bf8df2754e3586fb1a3bca667af8",
      "c9667fa8ca984fc795e130a7f84eb52f",
      "4525c54d1c1341549887f4502db202d4",
      "c38844597f8043639b83011f807530ac",
      "8e0ba18b38564b9c83159019512e8c9b",
      "5f0ccc4dce2e4e3ba295e4c8cacfcec2",
      "0f38656b89a046c386e1534a4a230050"
     ]
    },
    "id": "f0c48374-5d0f-4053-b5ec-83490deeb692",
    "outputId": "74660197-01b8-4473-bf0f-3c9d7c3990d8"
   },
   "outputs": [
    {
     "data": {
      "application/vnd.jupyter.widget-view+json": {
       "model_id": "b7c92d9bf9de4dc7b4ca1d8cffdecbac",
       "version_major": 2,
       "version_minor": 0
      },
      "text/plain": [
       "  0%|          | 0/30 [00:00<?, ?it/s]"
      ]
     },
     "metadata": {},
     "output_type": "display_data"
    },
    {
     "name": "stderr",
     "output_type": "stream",
     "text": [
      "/usr/lib/python3.10/multiprocessing/popen_fork.py:66: RuntimeWarning: os.fork() was called. os.fork() is incompatible with multithreaded code, and JAX is multithreaded, so this will likely lead to a deadlock.\n",
      "  self.pid = os.fork()\n",
      "/usr/lib/python3.10/multiprocessing/popen_fork.py:66: RuntimeWarning: os.fork() was called. os.fork() is incompatible with multithreaded code, and JAX is multithreaded, so this will likely lead to a deadlock.\n",
      "  self.pid = os.fork()\n"
     ]
    },
    {
     "name": "stdout",
     "output_type": "stream",
     "text": [
      "Epoch: 1 | train_loss: 1.1582 | train_acc: 0.6240 | test_loss: 0.8186 | test_acc: 0.7868\n",
      "Epoch: 2 | train_loss: 0.7156 | train_acc: 0.8001 | test_loss: 0.6476 | test_acc: 0.8379\n",
      "Epoch: 3 | train_loss: 0.5769 | train_acc: 0.8338 | test_loss: 0.5543 | test_acc: 0.8474\n",
      "Epoch: 4 | train_loss: 0.4690 | train_acc: 0.8745 | test_loss: 0.5164 | test_acc: 0.8571\n",
      "Epoch: 5 | train_loss: 0.4163 | train_acc: 0.8960 | test_loss: 0.4674 | test_acc: 0.8750\n",
      "Epoch: 6 | train_loss: 0.3737 | train_acc: 0.8981 | test_loss: 0.4305 | test_acc: 0.8811\n",
      "Epoch: 7 | train_loss: 0.3394 | train_acc: 0.9126 | test_loss: 0.4205 | test_acc: 0.8823\n",
      "Epoch: 8 | train_loss: 0.3118 | train_acc: 0.9123 | test_loss: 0.3961 | test_acc: 0.8901\n",
      "Epoch: 9 | train_loss: 0.2875 | train_acc: 0.9284 | test_loss: 0.3883 | test_acc: 0.8956\n",
      "Epoch: 10 | train_loss: 0.2632 | train_acc: 0.9377 | test_loss: 0.3650 | test_acc: 0.9060\n",
      "Epoch: 11 | train_loss: 0.2458 | train_acc: 0.9429 | test_loss: 0.3628 | test_acc: 0.8937\n",
      "Epoch: 12 | train_loss: 0.2459 | train_acc: 0.9445 | test_loss: 0.3552 | test_acc: 0.8962\n",
      "Epoch: 13 | train_loss: 0.2252 | train_acc: 0.9447 | test_loss: 0.3539 | test_acc: 0.9012\n",
      "Epoch: 14 | train_loss: 0.2152 | train_acc: 0.9489 | test_loss: 0.3501 | test_acc: 0.8962\n",
      "Epoch: 15 | train_loss: 0.2103 | train_acc: 0.9539 | test_loss: 0.3609 | test_acc: 0.8973\n",
      "Epoch: 16 | train_loss: 0.1779 | train_acc: 0.9658 | test_loss: 0.3330 | test_acc: 0.9096\n",
      "Epoch: 17 | train_loss: 0.1769 | train_acc: 0.9606 | test_loss: 0.3267 | test_acc: 0.9155\n",
      "Epoch: 18 | train_loss: 0.1765 | train_acc: 0.9657 | test_loss: 0.3301 | test_acc: 0.9093\n",
      "Epoch: 19 | train_loss: 0.1590 | train_acc: 0.9717 | test_loss: 0.3263 | test_acc: 0.9051\n",
      "Epoch: 20 | train_loss: 0.1570 | train_acc: 0.9674 | test_loss: 0.3216 | test_acc: 0.9054\n",
      "Epoch: 21 | train_loss: 0.1585 | train_acc: 0.9618 | test_loss: 0.3364 | test_acc: 0.9057\n",
      "Epoch: 22 | train_loss: 0.1432 | train_acc: 0.9733 | test_loss: 0.3093 | test_acc: 0.9116\n",
      "Epoch: 23 | train_loss: 0.1295 | train_acc: 0.9811 | test_loss: 0.3160 | test_acc: 0.9116\n",
      "Epoch: 24 | train_loss: 0.1292 | train_acc: 0.9775 | test_loss: 0.3090 | test_acc: 0.9051\n",
      "Epoch: 25 | train_loss: 0.1201 | train_acc: 0.9774 | test_loss: 0.3176 | test_acc: 0.9021\n",
      "Epoch: 26 | train_loss: 0.1202 | train_acc: 0.9757 | test_loss: 0.3051 | test_acc: 0.9099\n",
      "Epoch: 27 | train_loss: 0.1323 | train_acc: 0.9678 | test_loss: 0.3296 | test_acc: 0.9074\n",
      "Epoch: 28 | train_loss: 0.1197 | train_acc: 0.9829 | test_loss: 0.3121 | test_acc: 0.9049\n",
      "Epoch: 29 | train_loss: 0.1167 | train_acc: 0.9787 | test_loss: 0.3210 | test_acc: 0.9090\n",
      "Epoch: 30 | train_loss: 0.1064 | train_acc: 0.9806 | test_loss: 0.3198 | test_acc: 0.9049\n"
     ]
    }
   ],
   "source": [
    "from scripts import engine\n",
    "\n",
    "loss_fn = torch.nn.CrossEntropyLoss()\n",
    "optimizer = torch.optim.Adam(params=resnet50_v1.parameters(),\n",
    "                             lr=1e-3)\n",
    "\n",
    "set_seeds(42)\n",
    "\n",
    "resnet50_results_v1 = engine.train(model=resnet50_v1,\n",
    "                                train_dataloader=train_dataloader_resnet50,\n",
    "                                test_dataloader=test_dataloader_resnet50,\n",
    "                                epochs=30,\n",
    "                                optimizer=optimizer,\n",
    "                                loss_fn=loss_fn,\n",
    "                                device=device)"
   ]
  },
  {
   "cell_type": "markdown",
   "id": "a205d73a-ae88-40db-ae80-c527a3487419",
   "metadata": {
    "id": "a205d73a-ae88-40db-ae80-c527a3487419"
   },
   "source": [
    "#### Loss & Accuracy curves ~ `v1`"
   ]
  },
  {
   "cell_type": "code",
   "execution_count": 26,
   "id": "c037dd6a-dc0b-41de-be60-1c949c030155",
   "metadata": {
    "colab": {
     "base_uri": "https://localhost:8080/",
     "height": 588
    },
    "id": "c037dd6a-dc0b-41de-be60-1c949c030155",
    "outputId": "ca183500-a29a-4517-afb1-1f04db11969c"
   },
   "outputs": [
    {
     "data": {
      "image/png": "[encoded data removed]",
      "text/plain": [
       "<Figure size 1500x700 with 2 Axes>"
      ]
     },
     "metadata": {},
     "output_type": "display_data"
    }
   ],
   "source": [
    "from helper_functions import plot_loss_curves\n",
    "\n",
    "plot_loss_curves(resnet50_results_v1)"
   ]
  },
  {
   "cell_type": "markdown",
   "id": "b64dfe0a-3aaf-4412-bfae-8bf57d4752a8",
   "metadata": {
    "id": "b64dfe0a-3aaf-4412-bfae-8bf57d4752a8"
   },
   "source": [
    "### 3.2 ResNet `v2` training ~ without learning rate decay"
   ]
  },
  {
   "cell_type": "code",
   "execution_count": 27,
   "id": "8644c2d0-2210-4c5e-ab91-e13955a188c0",
   "metadata": {
    "colab": {
     "base_uri": "https://localhost:8080/",
     "height": 570,
     "referenced_widgets": [
      "fa637a452b2b46f481b67575ef452c27",
      "0c2500e6674d45b9b05c29929c141219",
      "182c9e8855da46538144de6b07bb53d1",
      "eec4ae1972b34752806675efca14a9b9",
      "8b0343fb031948c5b2fc208b555bfaae",
      "f0139e5a1f394562a6cd209a66609af8",
      "f66429fb241f4b4bb3e934e377ebf532",
      "1bc8e3b3233f4f179aa14909842355f7",
      "902a49d4055f431e95231cf04659d46d",
      "3d3d3e421be845d3a6ce97c02f5bfa5a",
      "9d1e39a7bf004d54bc1fced446b6348f"
     ]
    },
    "id": "8644c2d0-2210-4c5e-ab91-e13955a188c0",
    "outputId": "b7247927-2ac1-4df9-c501-9c37934c6e70"
   },
   "outputs": [
    {
     "data": {
      "application/vnd.jupyter.widget-view+json": {
       "model_id": "fa637a452b2b46f481b67575ef452c27",
       "version_major": 2,
       "version_minor": 0
      },
      "text/plain": [
       "  0%|          | 0/30 [00:00<?, ?it/s]"
      ]
     },
     "metadata": {},
     "output_type": "display_data"
    },
    {
     "name": "stdout",
     "output_type": "stream",
     "text": [
      "Epoch: 1 | train_loss: 1.2604 | train_acc: 0.5924 | test_loss: 0.9039 | test_acc: 0.7684\n",
      "Epoch: 2 | train_loss: 0.8286 | train_acc: 0.7720 | test_loss: 0.7083 | test_acc: 0.7832\n",
      "Epoch: 3 | train_loss: 0.6879 | train_acc: 0.7957 | test_loss: 0.6052 | test_acc: 0.7949\n",
      "Epoch: 4 | train_loss: 0.5802 | train_acc: 0.8350 | test_loss: 0.5761 | test_acc: 0.8086\n",
      "Epoch: 5 | train_loss: 0.5278 | train_acc: 0.8512 | test_loss: 0.5109 | test_acc: 0.8438\n",
      "Epoch: 6 | train_loss: 0.4891 | train_acc: 0.8657 | test_loss: 0.4683 | test_acc: 0.8451\n",
      "Epoch: 7 | train_loss: 0.4454 | train_acc: 0.8706 | test_loss: 0.4690 | test_acc: 0.8337\n",
      "Epoch: 8 | train_loss: 0.4298 | train_acc: 0.8708 | test_loss: 0.4409 | test_acc: 0.8496\n",
      "Epoch: 9 | train_loss: 0.3998 | train_acc: 0.8872 | test_loss: 0.4158 | test_acc: 0.8474\n",
      "Epoch: 10 | train_loss: 0.3854 | train_acc: 0.8916 | test_loss: 0.3920 | test_acc: 0.8675\n",
      "Epoch: 11 | train_loss: 0.3647 | train_acc: 0.8883 | test_loss: 0.3951 | test_acc: 0.8636\n",
      "Epoch: 12 | train_loss: 0.3552 | train_acc: 0.9019 | test_loss: 0.3793 | test_acc: 0.8795\n",
      "Epoch: 13 | train_loss: 0.3495 | train_acc: 0.9006 | test_loss: 0.3709 | test_acc: 0.8756\n",
      "Epoch: 14 | train_loss: 0.3400 | train_acc: 0.9010 | test_loss: 0.3738 | test_acc: 0.8753\n",
      "Epoch: 15 | train_loss: 0.3308 | train_acc: 0.9017 | test_loss: 0.3601 | test_acc: 0.8926\n",
      "Epoch: 16 | train_loss: 0.3078 | train_acc: 0.9106 | test_loss: 0.3659 | test_acc: 0.8820\n",
      "Epoch: 17 | train_loss: 0.2986 | train_acc: 0.9080 | test_loss: 0.3612 | test_acc: 0.8831\n",
      "Epoch: 18 | train_loss: 0.3057 | train_acc: 0.9119 | test_loss: 0.3515 | test_acc: 0.8758\n",
      "Epoch: 19 | train_loss: 0.2838 | train_acc: 0.9128 | test_loss: 0.3512 | test_acc: 0.8856\n",
      "Epoch: 20 | train_loss: 0.2823 | train_acc: 0.9162 | test_loss: 0.3571 | test_acc: 0.8814\n",
      "Epoch: 21 | train_loss: 0.2815 | train_acc: 0.9084 | test_loss: 0.3525 | test_acc: 0.8717\n",
      "Epoch: 22 | train_loss: 0.2655 | train_acc: 0.9235 | test_loss: 0.3396 | test_acc: 0.8898\n",
      "Epoch: 23 | train_loss: 0.2456 | train_acc: 0.9269 | test_loss: 0.3567 | test_acc: 0.8753\n",
      "Epoch: 24 | train_loss: 0.2721 | train_acc: 0.9206 | test_loss: 0.3400 | test_acc: 0.8836\n",
      "Epoch: 25 | train_loss: 0.2366 | train_acc: 0.9362 | test_loss: 0.3489 | test_acc: 0.8756\n",
      "Epoch: 26 | train_loss: 0.2403 | train_acc: 0.9230 | test_loss: 0.3438 | test_acc: 0.8839\n",
      "Epoch: 27 | train_loss: 0.2462 | train_acc: 0.9227 | test_loss: 0.3349 | test_acc: 0.8836\n",
      "Epoch: 28 | train_loss: 0.2456 | train_acc: 0.9292 | test_loss: 0.3453 | test_acc: 0.8730\n",
      "Epoch: 29 | train_loss: 0.2286 | train_acc: 0.9357 | test_loss: 0.3429 | test_acc: 0.8795\n",
      "Epoch: 30 | train_loss: 0.2275 | train_acc: 0.9313 | test_loss: 0.3279 | test_acc: 0.8915\n"
     ]
    }
   ],
   "source": [
    "from scripts import engine\n",
    "\n",
    "loss_fn = torch.nn.CrossEntropyLoss()\n",
    "optimizer = torch.optim.Adam(params=resnet50_v2.parameters(),\n",
    "                             lr=1e-3)\n",
    "\n",
    "set_seeds(42)\n",
    "\n",
    "resnet50_results_v2 = engine.train(model=resnet50_v2,\n",
    "                                train_dataloader=train_dataloader_resnet50_custom,\n",
    "                                test_dataloader=test_dataloader_resnet50_custom,\n",
    "                                epochs=30,\n",
    "                                optimizer=optimizer,\n",
    "                                loss_fn=loss_fn,\n",
    "                                device=device)"
   ]
  },
  {
   "cell_type": "markdown",
   "id": "f885f877-99cd-4443-8e9c-87171601dbf5",
   "metadata": {
    "id": "f885f877-99cd-4443-8e9c-87171601dbf5"
   },
   "source": [
    "### 3.3 ResNet `v3` training ~ with learning rate decay"
   ]
  },
  {
   "cell_type": "code",
   "execution_count": 28,
   "id": "d52c0a54-a66d-463b-945b-c7ada210715c",
   "metadata": {
    "colab": {
     "base_uri": "https://localhost:8080/",
     "height": 570,
     "referenced_widgets": [
      "6536ebd582404182a654b43321913fb8",
      "52b76526730d4db3852e2c12987abd85",
      "134aa5c9159f4c7f97b985eb500712e9",
      "fcf1ec06788e40de967a0327c31e4fc0",
      "756809b1341b46108a83c2615e06b28c",
      "e891ec1f26264d35903e918b03a6ae1b",
      "d95f38ae81334353ad28a591c9f86d38",
      "512eca65f67a44a3be4280e86ff37d54",
      "1a17700ddb0a4b2fb255f08b38100d1f",
      "ffd8c134e49e4aa3ac51fbbd597a89fa",
      "ea599e1970ce4e6ba9147755a68281f6"
     ]
    },
    "id": "d52c0a54-a66d-463b-945b-c7ada210715c",
    "outputId": "afd37d48-35bb-4347-d4c0-2614cc081368"
   },
   "outputs": [
    {
     "data": {
      "application/vnd.jupyter.widget-view+json": {
       "model_id": "6536ebd582404182a654b43321913fb8",
       "version_major": 2,
       "version_minor": 0
      },
      "text/plain": [
       "  0%|          | 0/30 [00:00<?, ?it/s]"
      ]
     },
     "metadata": {},
     "output_type": "display_data"
    },
    {
     "name": "stdout",
     "output_type": "stream",
     "text": [
      "Epoch: 1 | train_loss: 2.4783 | train_acc: 0.6963 | test_loss: 1.6375 | test_acc: 0.7773 | lr: 0.100000\n",
      "Epoch: 2 | train_loss: 1.5467 | train_acc: 0.8009 | test_loss: 1.8216 | test_acc: 0.8041 | lr: 0.100000\n",
      "Epoch: 3 | train_loss: 2.1704 | train_acc: 0.8001 | test_loss: 3.5686 | test_acc: 0.7812 | lr: 0.100000\n",
      "Epoch: 4 | train_loss: 1.9274 | train_acc: 0.8185 | test_loss: 2.6473 | test_acc: 0.7888 | lr: 0.100000\n",
      "Epoch: 5 | train_loss: 1.5868 | train_acc: 0.8564 | test_loss: 3.3031 | test_acc: 0.7916 | lr: 0.100000\n",
      "Epoch: 6 | train_loss: 1.4958 | train_acc: 0.8667 | test_loss: 2.4522 | test_acc: 0.8504 | lr: 0.100000\n",
      "Epoch: 7 | train_loss: 1.4362 | train_acc: 0.8739 | test_loss: 2.4853 | test_acc: 0.8181 | lr: 0.100000\n",
      "Epoch: 8 | train_loss: 1.2905 | train_acc: 0.8727 | test_loss: 4.1934 | test_acc: 0.7944 | lr: 0.100000\n",
      "Epoch: 9 | train_loss: 1.3876 | train_acc: 0.8791 | test_loss: 2.3691 | test_acc: 0.8672 | lr: 0.100000\n",
      "Epoch: 10 | train_loss: 1.3191 | train_acc: 0.8901 | test_loss: 2.8738 | test_acc: 0.8518 | lr: 0.010000\n",
      "Epoch: 11 | train_loss: 0.8505 | train_acc: 0.9245 | test_loss: 2.0770 | test_acc: 0.8610 | lr: 0.010000\n",
      "Epoch: 12 | train_loss: 0.7493 | train_acc: 0.9243 | test_loss: 2.1008 | test_acc: 0.8792 | lr: 0.010000\n",
      "Epoch: 13 | train_loss: 0.8140 | train_acc: 0.9279 | test_loss: 2.2141 | test_acc: 0.8725 | lr: 0.010000\n",
      "Epoch: 14 | train_loss: 0.9593 | train_acc: 0.9172 | test_loss: 2.1678 | test_acc: 0.8764 | lr: 0.010000\n",
      "Epoch: 15 | train_loss: 0.8322 | train_acc: 0.9237 | test_loss: 1.9402 | test_acc: 0.8744 | lr: 0.010000\n",
      "Epoch: 16 | train_loss: 0.7375 | train_acc: 0.9255 | test_loss: 2.0096 | test_acc: 0.8708 | lr: 0.010000\n",
      "Epoch: 17 | train_loss: 0.7486 | train_acc: 0.9245 | test_loss: 2.1077 | test_acc: 0.8803 | lr: 0.010000\n",
      "Epoch: 18 | train_loss: 0.8567 | train_acc: 0.9242 | test_loss: 2.1377 | test_acc: 0.8809 | lr: 0.010000\n",
      "Epoch: 19 | train_loss: 0.6975 | train_acc: 0.9264 | test_loss: 1.9459 | test_acc: 0.8761 | lr: 0.010000\n",
      "Epoch: 20 | train_loss: 0.6671 | train_acc: 0.9284 | test_loss: 1.9159 | test_acc: 0.8602 | lr: 0.001000\n",
      "Epoch: 21 | train_loss: 0.6083 | train_acc: 0.9276 | test_loss: 2.0449 | test_acc: 0.8641 | lr: 0.001000\n",
      "Epoch: 22 | train_loss: 0.5623 | train_acc: 0.9299 | test_loss: 2.0411 | test_acc: 0.8814 | lr: 0.001000\n",
      "Epoch: 23 | train_loss: 0.5086 | train_acc: 0.9390 | test_loss: 1.9688 | test_acc: 0.8747 | lr: 0.001000\n",
      "Epoch: 24 | train_loss: 0.6440 | train_acc: 0.9308 | test_loss: 2.0723 | test_acc: 0.8761 | lr: 0.001000\n",
      "Epoch: 25 | train_loss: 0.5673 | train_acc: 0.9357 | test_loss: 2.0025 | test_acc: 0.8789 | lr: 0.001000\n",
      "Epoch: 26 | train_loss: 0.5219 | train_acc: 0.9390 | test_loss: 1.8901 | test_acc: 0.8825 | lr: 0.001000\n",
      "Epoch: 27 | train_loss: 0.6078 | train_acc: 0.9279 | test_loss: 1.9991 | test_acc: 0.8789 | lr: 0.001000\n",
      "Epoch: 28 | train_loss: 0.6120 | train_acc: 0.9326 | test_loss: 1.9952 | test_acc: 0.8845 | lr: 0.001000\n",
      "Epoch: 29 | train_loss: 0.5590 | train_acc: 0.9285 | test_loss: 2.0805 | test_acc: 0.8756 | lr: 0.001000\n",
      "Epoch: 30 | train_loss: 0.6666 | train_acc: 0.9315 | test_loss: 1.7073 | test_acc: 0.8867 | lr: 0.000100\n"
     ]
    }
   ],
   "source": [
    "from scripts import engine_lr_decay\n",
    "from torch.optim.lr_scheduler import StepLR\n",
    "\n",
    "loss_fn = torch.nn.CrossEntropyLoss()\n",
    "optimizer = torch.optim.Adam(params=resnet50_v3.parameters(),\n",
    "                             lr=0.1)\n",
    "scheduler = StepLR(optimizer, step_size=10, gamma=0.1)\n",
    "\n",
    "set_seeds(42)\n",
    "\n",
    "resnet50_results_v3 = engine_lr_decay.train(model=resnet50_v3,\n",
    "                                train_dataloader=train_dataloader_resnet50_custom,\n",
    "                                test_dataloader=test_dataloader_resnet50_custom,\n",
    "                                optimizer=optimizer,\n",
    "                                loss_fn=loss_fn,\n",
    "                                scheduler=scheduler,\n",
    "                                epochs=30,\n",
    "                                device=device)"
   ]
  },
  {
   "cell_type": "markdown",
   "id": "d502d103-e19b-436f-97ae-fed999963320",
   "metadata": {
    "id": "d502d103-e19b-436f-97ae-fed999963320"
   },
   "source": [
    "#### Loss & Accuracy curves ~ `v2` & `v3`"
   ]
  },
  {
   "cell_type": "code",
   "execution_count": 29,
   "id": "918287b6-a90a-45f1-b91f-9554eda20982",
   "metadata": {
    "colab": {
     "base_uri": "https://localhost:8080/",
     "height": 588
    },
    "id": "918287b6-a90a-45f1-b91f-9554eda20982",
    "outputId": "b5f305bc-2389-4f54-fc61-e70d54002de5"
   },
   "outputs": [
    {
     "data": {
      "image/png": "[encoded data removed]",
      "text/plain": [
       "<Figure size 1500x700 with 2 Axes>"
      ]
     },
     "metadata": {},
     "output_type": "display_data"
    }
   ],
   "source": [
    "plot_loss_curves(resnet50_results_v2)"
   ]
  },
  {
   "cell_type": "code",
   "execution_count": 30,
   "id": "bf0bb67f-4643-4bee-a194-8bd36c4b2ffd",
   "metadata": {
    "colab": {
     "base_uri": "https://localhost:8080/",
     "height": 588
    },
    "id": "bf0bb67f-4643-4bee-a194-8bd36c4b2ffd",
    "outputId": "d8173ce3-3770-4fb5-90d0-33eceda6e0f1"
   },
   "outputs": [
    {
     "data": {
      "image/png": "[encoded data removed]",
      "text/plain": [
       "<Figure size 1500x700 with 2 Axes>"
      ]
     },
     "metadata": {},
     "output_type": "display_data"
    }
   ],
   "source": [
    "plot_loss_curves(resnet50_results_v3)"
   ]
  },
  {
   "cell_type": "markdown",
   "id": "99ad0e1c-d04a-4854-afd9-77c71966a506",
   "metadata": {
    "id": "99ad0e1c-d04a-4854-afd9-77c71966a506"
   },
   "source": [
    "## 4 - Saving models & Collecting stats"
   ]
  },
  {
   "cell_type": "code",
   "execution_count": 31,
   "id": "f714b8b5-b0b8-420c-8e52-65f4cedef76f",
   "metadata": {
    "colab": {
     "base_uri": "https://localhost:8080/"
    },
    "id": "f714b8b5-b0b8-420c-8e52-65f4cedef76f",
    "outputId": "28244852-9a64-4311-8369-5eb757ec0c07"
   },
   "outputs": [
    {
     "name": "stdout",
     "output_type": "stream",
     "text": [
      "Saving model to: models/resnet50_v1_model.pth\n",
      "Saving model to: models/resnet50_v2_model.pth\n",
      "Saving model to: models/resnet50_v3_model.pth\n"
     ]
    }
   ],
   "source": [
    "from scripts import utils\n",
    "\n",
    "utils.save_model(model=resnet50_v1,\n",
    "                 target_dir=\"models\",\n",
    "                 model_name=\"resnet50_v1_model.pth\")\n",
    "\n",
    "utils.save_model(model=resnet50_v2,\n",
    "                 target_dir=\"models\",\n",
    "                 model_name=\"resnet50_v2_model.pth\")\n",
    "\n",
    "utils.save_model(model=resnet50_v3,\n",
    "                 target_dir=\"models\",\n",
    "                 model_name=\"resnet50_v3_model.pth\")"
   ]
  },
  {
   "cell_type": "code",
   "execution_count": 32,
   "id": "6c230495-6bc3-41e9-94ba-f0fd93b9d497",
   "metadata": {
    "id": "6c230495-6bc3-41e9-94ba-f0fd93b9d497"
   },
   "outputs": [],
   "source": [
    "from pathlib import Path\n",
    "\n",
    "size_resnet50_v1 = Path(\"models/resnet50_v1_model.pth\").stat().st_size // (1024*1024)\n",
    "size_resnet50_v2 = Path(\"models/resnet50_v2_model.pth\").stat().st_size // (1024*1024)\n",
    "size_resnet50_v3 = Path(\"models/resnet50_v3_model.pth\").stat().st_size // (1024*1024)"
   ]
  },
  {
   "cell_type": "code",
   "execution_count": 33,
   "id": "c9f8227b-cf14-40c6-86cf-add6b727d9c0",
   "metadata": {
    "id": "c9f8227b-cf14-40c6-86cf-add6b727d9c0"
   },
   "outputs": [],
   "source": [
    "resnet50_v1_total_params = sum(torch.numel(param) for param in resnet50_v1.parameters())\n",
    "resnet50_v2_total_params = sum(torch.numel(param) for param in resnet50_v2.parameters())\n",
    "resnet50_v3_total_params = sum(torch.numel(param) for param in resnet50_v3.parameters())"
   ]
  },
  {
   "cell_type": "code",
   "execution_count": 34,
   "id": "6885184d-a19f-4389-ac15-0488e96a1eb0",
   "metadata": {
    "id": "6885184d-a19f-4389-ac15-0488e96a1eb0"
   },
   "outputs": [],
   "source": [
    "resnet50_v1_stats = {\n",
    "    \"test_loss\" : resnet50_results_v1[\"test_loss\"][-1],\n",
    "    \"test_acc\" : resnet50_results_v1[\"test_acc\"][-1],\n",
    "    \"total_number_of_parameters\" : resnet50_v1_total_params,\n",
    "    \"model_size (MB)\" : size_resnet50_v1\n",
    "}\n",
    "\n",
    "resnet50_v2_stats = {\n",
    "    \"test_loss\" : resnet50_results_v2[\"test_loss\"][-1],\n",
    "    \"test_acc\" : resnet50_results_v2[\"test_acc\"][-1],\n",
    "    \"total_number_of_parameters\" : resnet50_v2_total_params,\n",
    "    \"model_size (MB)\" : size_resnet50_v2\n",
    "}\n",
    "\n",
    "resnet50_v3_stats = {\n",
    "    \"test_loss\" : resnet50_results_v3[\"test_loss\"][-1],\n",
    "    \"test_acc\" : resnet50_results_v3[\"test_acc\"][-1],\n",
    "    \"total_number_of_parameters\" : resnet50_v3_total_params,\n",
    "    \"model_size (MB)\" : size_resnet50_v3\n",
    "}"
   ]
  },
  {
   "cell_type": "markdown",
   "id": "ac562784-4707-4390-a921-63398468fe48",
   "metadata": {
    "id": "ac562784-4707-4390-a921-63398468fe48"
   },
   "source": [
    "## 5 - Making predictions"
   ]
  },
  {
   "cell_type": "code",
   "execution_count": 55,
   "id": "522b2cf5-06b1-4167-9f53-704db1274d38",
   "metadata": {
    "colab": {
     "base_uri": "https://localhost:8080/"
    },
    "id": "522b2cf5-06b1-4167-9f53-704db1274d38",
    "outputId": "2d9a0025-4229-4ead-cfec-65036861c4b9"
   },
   "outputs": [
    {
     "name": "stdout",
     "output_type": "stream",
     "text": [
      "Finding all files ending with '.jpg' in directory: data/trash_dataset/test\n"
     ]
    },
    {
     "data": {
      "text/plain": [
       "[PosixPath('data/trash_dataset/test/trash/trash57.jpg'),\n",
       " PosixPath('data/trash_dataset/test/trash/trash93.jpg'),\n",
       " PosixPath('data/trash_dataset/test/trash/trash124.jpg'),\n",
       " PosixPath('data/trash_dataset/test/trash/trash118.jpg'),\n",
       " PosixPath('data/trash_dataset/test/trash/trash79.jpg')]"
      ]
     },
     "execution_count": 55,
     "metadata": {},
     "output_type": "execute_result"
    }
   ],
   "source": [
    "from pathlib import Path\n",
    "\n",
    "print(f\"Finding all files ending with '.jpg' in directory: {test_dir}\")\n",
    "test_data_paths = list(Path(test_dir).glob(\"*/*.jpg\"))\n",
    "test_data_paths[:5]"
   ]
  },
  {
   "cell_type": "code",
   "execution_count": 56,
   "id": "53a861c3-32eb-4afc-b175-88b626dfe3e8",
   "metadata": {
    "colab": {
     "base_uri": "https://localhost:8080/",
     "height": 113,
     "referenced_widgets": [
      "20ccc68ec9d34b748181e2cd4753cc21",
      "df6576c9a8a3464cb5f67adc17e09d11",
      "b1a86d75b8e24575ab9d9ec2d1b1ba5a",
      "529738c0a9424684a4166f752ac06539",
      "03e5d6e653474ebfa4cf2ce76ab0223a",
      "96189e1abb9a42d9b7337aa8c5f154e3",
      "cf175908d1f54576afc29ac909921fe3",
      "77100c7af6fb47aeac665c8feddf2e5f",
      "ac839cf490be4fc09681cbf44a024849",
      "5f464344d26f4381affafc418e9e113f",
      "6bf9771d79d8476f898f036598830f7c",
      "b7e1f13507bb4014b733babf2e9e0cd7",
      "343e81ebb9014dacbeacdcf1895808df",
      "30b3e9f1cf5c4102be43c48ccdd7619d",
      "fd2aa92f23ba412e9b02c125311a062b",
      "6a31fed33e7447afb0af95e82155ba29",
      "a12b92eaf1e4468e836a7ddf8d19f1a7",
      "d6ce9182be35403d8f9d92596ed6c7b5",
      "2036eef9e64a441292827520bca69686",
      "5054e488166840978635591a94d8bbd7",
      "5d15fe446cb34fba8fb0271c34b3dc75",
      "224766f547a44867bd1e843de7262e4f",
      "7b5e3e3830e84b0eb5f7d13549d7a607",
      "ee3777156e234a35b0cb933f9b5cd070",
      "888a612ff21549e59e6ad9049755db49",
      "a49aaf43ad3f475aa437a115b5479c79",
      "0801b7bc77194d03a442b2c4867a3819",
      "1e1fcb3fda6c4be48b52480eed265e57",
      "af9570497a7f4275acf759786cdaebf3",
      "a4063c6983e0426da098dcca83251be4",
      "18995ded6de244f6ac94faae236f89e3",
      "700f9df61e7b41b281eae5dd05e62404",
      "6787838a83bd46d3abdb84deeae056e1"
     ]
    },
    "id": "53a861c3-32eb-4afc-b175-88b626dfe3e8",
    "outputId": "d517f3d3-7872-4a51-b9de-d7a79ccea72e"
   },
   "outputs": [
    {
     "data": {
      "application/vnd.jupyter.widget-view+json": {
       "model_id": "20ccc68ec9d34b748181e2cd4753cc21",
       "version_major": 2,
       "version_minor": 0
      },
      "text/plain": [
       "  0%|          | 0/508 [00:00<?, ?it/s]"
      ]
     },
     "metadata": {},
     "output_type": "display_data"
    },
    {
     "data": {
      "application/vnd.jupyter.widget-view+json": {
       "model_id": "b7e1f13507bb4014b733babf2e9e0cd7",
       "version_major": 2,
       "version_minor": 0
      },
      "text/plain": [
       "  0%|          | 0/508 [00:00<?, ?it/s]"
      ]
     },
     "metadata": {},
     "output_type": "display_data"
    },
    {
     "data": {
      "application/vnd.jupyter.widget-view+json": {
       "model_id": "7b5e3e3830e84b0eb5f7d13549d7a607",
       "version_major": 2,
       "version_minor": 0
      },
      "text/plain": [
       "  0%|          | 0/508 [00:00<?, ?it/s]"
      ]
     },
     "metadata": {},
     "output_type": "display_data"
    }
   ],
   "source": [
    "from scripts import predictions\n",
    "\n",
    "resnet50_v1_predictions = predictions.pred_and_store(paths=test_data_paths,\n",
    "                                                     model=resnet50_v1,\n",
    "                                                     transform=resnet50_transforms_auto,\n",
    "                                                     class_names=class_names,\n",
    "                                                     device=\"cpu\")\n",
    "\n",
    "resnet50_v2_predictions = predictions.pred_and_store(paths=test_data_paths,\n",
    "                                                     model=resnet50_v2,\n",
    "                                                     transform=resnet50_test_transform_custom,\n",
    "                                                     class_names=class_names,\n",
    "                                                     device=\"cpu\")\n",
    "\n",
    "resnet50_v3_predictions = predictions.pred_and_store(paths=test_data_paths,\n",
    "                                                     model=resnet50_v3,\n",
    "                                                     transform=resnet50_test_transform_custom,\n",
    "                                                     class_names=class_names,\n",
    "                                                     device=\"cpu\")"
   ]
  },
  {
   "cell_type": "code",
   "execution_count": 57,
   "id": "0924c851-19d0-4f9b-bdd0-209711febdbf",
   "metadata": {
    "colab": {
     "base_uri": "https://localhost:8080/"
    },
    "id": "0924c851-19d0-4f9b-bdd0-209711febdbf",
    "outputId": "e4e7f209-24b4-478e-81d2-7844629671e0"
   },
   "outputs": [
    {
     "data": {
      "text/plain": [
       "[{'image_path': PosixPath('data/trash_dataset/test/trash/trash57.jpg'),\n",
       "  'class_name': 'trash',\n",
       "  'pred_prob': 0.6259,\n",
       "  'pred_class': 'glass',\n",
       "  'time_for_pred': 0.135,\n",
       "  'correct': False},\n",
       " {'image_path': PosixPath('data/trash_dataset/test/trash/trash93.jpg'),\n",
       "  'class_name': 'trash',\n",
       "  'pred_prob': 0.2616,\n",
       "  'pred_class': 'metal',\n",
       "  'time_for_pred': 0.1274,\n",
       "  'correct': False}]"
      ]
     },
     "execution_count": 57,
     "metadata": {},
     "output_type": "execute_result"
    }
   ],
   "source": [
    "resnet50_v1_predictions[:2]"
   ]
  },
  {
   "cell_type": "code",
   "execution_count": 58,
   "id": "3e191fc1-77e6-401c-aac9-238c8be9285e",
   "metadata": {
    "colab": {
     "base_uri": "https://localhost:8080/"
    },
    "id": "3e191fc1-77e6-401c-aac9-238c8be9285e",
    "outputId": "7c9579ce-b782-4a09-818a-8e3ed5cb3d03"
   },
   "outputs": [
    {
     "data": {
      "text/plain": [
       "[{'image_path': PosixPath('data/trash_dataset/test/trash/trash57.jpg'),\n",
       "  'class_name': 'trash',\n",
       "  'pred_prob': 0.5392,\n",
       "  'pred_class': 'glass',\n",
       "  'time_for_pred': 0.1467,\n",
       "  'correct': False},\n",
       " {'image_path': PosixPath('data/trash_dataset/test/trash/trash93.jpg'),\n",
       "  'class_name': 'trash',\n",
       "  'pred_prob': 0.593,\n",
       "  'pred_class': 'paper',\n",
       "  'time_for_pred': 0.1267,\n",
       "  'correct': False}]"
      ]
     },
     "execution_count": 58,
     "metadata": {},
     "output_type": "execute_result"
    }
   ],
   "source": [
    "resnet50_v2_predictions[:2]"
   ]
  },
  {
   "cell_type": "code",
   "execution_count": 59,
   "id": "bf31a97a-eb6a-4d92-803e-449603d2bbb6",
   "metadata": {
    "colab": {
     "base_uri": "https://localhost:8080/"
    },
    "id": "bf31a97a-eb6a-4d92-803e-449603d2bbb6",
    "outputId": "22fc2724-3130-4b82-9b15-27be8fde36e7"
   },
   "outputs": [
    {
     "data": {
      "text/plain": [
       "[{'image_path': PosixPath('data/trash_dataset/test/trash/trash57.jpg'),\n",
       "  'class_name': 'trash',\n",
       "  'pred_prob': 0.9995,\n",
       "  'pred_class': 'glass',\n",
       "  'time_for_pred': 0.1522,\n",
       "  'correct': False},\n",
       " {'image_path': PosixPath('data/trash_dataset/test/trash/trash93.jpg'),\n",
       "  'class_name': 'trash',\n",
       "  'pred_prob': 1.0,\n",
       "  'pred_class': 'paper',\n",
       "  'time_for_pred': 0.139,\n",
       "  'correct': False}]"
      ]
     },
     "execution_count": 59,
     "metadata": {},
     "output_type": "execute_result"
    }
   ],
   "source": [
    "resnet50_v3_predictions[:2]"
   ]
  },
  {
   "cell_type": "code",
   "execution_count": 60,
   "id": "b1250248-ec06-493d-823c-426dab4b30ad",
   "metadata": {
    "id": "b1250248-ec06-493d-823c-426dab4b30ad"
   },
   "outputs": [],
   "source": [
    "import pandas as pd\n",
    "resnet50_v1_predictions_df = pd.DataFrame(resnet50_v1_predictions)\n",
    "resnet50_v2_predictions_df = pd.DataFrame(resnet50_v2_predictions)\n",
    "resnet50_v3_predictions_df = pd.DataFrame(resnet50_v3_predictions)"
   ]
  },
  {
   "cell_type": "markdown",
   "id": "7276b090-ca01-4530-b471-0b2076397364",
   "metadata": {
    "id": "7276b090-ca01-4530-b471-0b2076397364"
   },
   "source": [
    "#### resnet `v1`"
   ]
  },
  {
   "cell_type": "code",
   "execution_count": 61,
   "id": "3062c1c7-e42d-4cea-a7bd-1822e5b9f689",
   "metadata": {
    "colab": {
     "base_uri": "https://localhost:8080/",
     "height": 206
    },
    "id": "3062c1c7-e42d-4cea-a7bd-1822e5b9f689",
    "outputId": "603815ab-64c8-40c5-df3d-3048fc0fd1e9"
   },
   "outputs": [
    {
     "data": {
      "application/vnd.google.colaboratory.intrinsic+json": {
       "summary": "{\n  \"name\": \"resnet50_v1_predictions_df\",\n  \"rows\": 508,\n  \"fields\": [\n    {\n      \"column\": \"image_path\",\n      \"properties\": {\n        \"dtype\": \"string\",\n        \"num_unique_values\": 508,\n        \"samples\": [\n          \"data/trash_dataset/test/paper/paper166.jpg\",\n          \"data/trash_dataset/test/plastic/plastic405.jpg\",\n          \"data/trash_dataset/test/glass/glass185.jpg\"\n        ],\n        \"semantic_type\": \"\",\n        \"description\": \"\"\n      }\n    },\n    {\n      \"column\": \"class_name\",\n      \"properties\": {\n        \"dtype\": \"category\",\n        \"num_unique_values\": 6,\n        \"samples\": [\n          \"trash\",\n          \"paper\",\n          \"glass\"\n        ],\n        \"semantic_type\": \"\",\n        \"description\": \"\"\n      }\n    },\n    {\n      \"column\": \"pred_prob\",\n      \"properties\": {\n        \"dtype\": \"number\",\n        \"std\": 0.16534369812603666,\n        \"min\": 0.2616,\n        \"max\": 0.9999,\n        \"num_unique_values\": 412,\n        \"samples\": [\n          0.9996,\n          0.908,\n          0.8236\n        ],\n        \"semantic_type\": \"\",\n        \"description\": \"\"\n      }\n    },\n    {\n      \"column\": \"pred_class\",\n      \"properties\": {\n        \"dtype\": \"category\",\n        \"num_unique_values\": 6,\n        \"samples\": [\n          \"glass\",\n          \"metal\",\n          \"cardboard\"\n        ],\n        \"semantic_type\": \"\",\n        \"description\": \"\"\n      }\n    },\n    {\n      \"column\": \"time_for_pred\",\n      \"properties\": {\n        \"dtype\": \"number\",\n        \"std\": 0.02338607217162108,\n        \"min\": 0.1164,\n        \"max\": 0.3236,\n        \"num_unique_values\": 285,\n        \"samples\": [\n          0.1235,\n          0.1513,\n          0.1511\n        ],\n        \"semantic_type\": \"\",\n        \"description\": \"\"\n      }\n    },\n    {\n      \"column\": \"correct\",\n      \"properties\": {\n        \"dtype\": \"boolean\",\n        \"num_unique_values\": 2,\n        \"samples\": [\n          true,\n          false\n        ],\n        \"semantic_type\": \"\",\n        \"description\": \"\"\n      }\n    }\n  ]\n}",
       "type": "dataframe",
       "variable_name": "resnet50_v1_predictions_df"
      },
      "text/html": [
       "\n",
       "  <div id=\"df-0e94454c-af72-48f9-84b0-cc908043ada8\" class=\"colab-df-container\">\n",
       "    <div>\n",
       "<style scoped>\n",
       "    .dataframe tbody tr th:only-of-type {\n",
       "        vertical-align: middle;\n",
       "    }\n",
       "\n",
       "    .dataframe tbody tr th {\n",
       "        vertical-align: top;\n",
       "    }\n",
       "\n",
       "    .dataframe thead th {\n",
       "        text-align: right;\n",
       "    }\n",
       "</style>\n",
       "<table border=\"1\" class=\"dataframe\">\n",
       "  <thead>\n",
       "    <tr style=\"text-align: right;\">\n",
       "      <th></th>\n",
       "      <th>image_path</th>\n",
       "      <th>class_name</th>\n",
       "      <th>pred_prob</th>\n",
       "      <th>pred_class</th>\n",
       "      <th>time_for_pred</th>\n",
       "      <th>correct</th>\n",
       "    </tr>\n",
       "  </thead>\n",
       "  <tbody>\n",
       "    <tr>\n",
       "      <th>0</th>\n",
       "      <td>data/trash_dataset/test/trash/trash57.jpg</td>\n",
       "      <td>trash</td>\n",
       "      <td>0.6259</td>\n",
       "      <td>glass</td>\n",
       "      <td>0.1350</td>\n",
       "      <td>False</td>\n",
       "    </tr>\n",
       "    <tr>\n",
       "      <th>1</th>\n",
       "      <td>data/trash_dataset/test/trash/trash93.jpg</td>\n",
       "      <td>trash</td>\n",
       "      <td>0.2616</td>\n",
       "      <td>metal</td>\n",
       "      <td>0.1274</td>\n",
       "      <td>False</td>\n",
       "    </tr>\n",
       "    <tr>\n",
       "      <th>2</th>\n",
       "      <td>data/trash_dataset/test/trash/trash124.jpg</td>\n",
       "      <td>trash</td>\n",
       "      <td>0.3646</td>\n",
       "      <td>plastic</td>\n",
       "      <td>0.1229</td>\n",
       "      <td>False</td>\n",
       "    </tr>\n",
       "    <tr>\n",
       "      <th>3</th>\n",
       "      <td>data/trash_dataset/test/trash/trash118.jpg</td>\n",
       "      <td>trash</td>\n",
       "      <td>0.8948</td>\n",
       "      <td>trash</td>\n",
       "      <td>0.1333</td>\n",
       "      <td>True</td>\n",
       "    </tr>\n",
       "    <tr>\n",
       "      <th>4</th>\n",
       "      <td>data/trash_dataset/test/trash/trash79.jpg</td>\n",
       "      <td>trash</td>\n",
       "      <td>0.9686</td>\n",
       "      <td>trash</td>\n",
       "      <td>0.1305</td>\n",
       "      <td>True</td>\n",
       "    </tr>\n",
       "  </tbody>\n",
       "</table>\n",
       "</div>\n",
       "    <div class=\"colab-df-buttons\">\n",
       "\n",
       "  <div class=\"colab-df-container\">\n",
       "    <button class=\"colab-df-convert\" onclick=\"convertToInteractive('df-0e94454c-af72-48f9-84b0-cc908043ada8')\"\n",
       "            title=\"Convert this dataframe to an interactive table.\"\n",
       "            style=\"display:none;\">\n",
       "\n",
       "  <svg xmlns=\"http://www.w3.org/2000/svg\" height=\"24px\" viewBox=\"0 -960 960 960\">\n",
       "    <path d=\"M120-120v-720h720v720H120Zm60-500h600v-160H180v160Zm220 220h160v-160H400v160Zm0 220h160v-160H400v160ZM180-400h160v-160H180v160Zm440 0h160v-160H620v160ZM180-180h160v-160H180v160Zm440 0h160v-160H620v160Z\"/>\n",
       "  </svg>\n",
       "    </button>\n",
       "\n",
       "  <style>\n",
       "    .colab-df-container {\n",
       "      display:flex;\n",
       "      gap: 12px;\n",
       "    }\n",
       "\n",
       "    .colab-df-convert {\n",
       "      background-color: #E8F0FE;\n",
       "      border: none;\n",
       "      border-radius: 50%;\n",
       "      cursor: pointer;\n",
       "      display: none;\n",
       "      fill: #1967D2;\n",
       "      height: 32px;\n",
       "      padding: 0 0 0 0;\n",
       "      width: 32px;\n",
       "    }\n",
       "\n",
       "    .colab-df-convert:hover {\n",
       "      background-color: #E2EBFA;\n",
       "      box-shadow: 0px 1px 2px rgba(60, 64, 67, 0.3), 0px 1px 3px 1px rgba(60, 64, 67, 0.15);\n",
       "      fill: #174EA6;\n",
       "    }\n",
       "\n",
       "    .colab-df-buttons div {\n",
       "      margin-bottom: 4px;\n",
       "    }\n",
       "\n",
       "    [theme=dark] .colab-df-convert {\n",
       "      background-color: #3B4455;\n",
       "      fill: #D2E3FC;\n",
       "    }\n",
       "\n",
       "    [theme=dark] .colab-df-convert:hover {\n",
       "      background-color: #434B5C;\n",
       "      box-shadow: 0px 1px 3px 1px rgba(0, 0, 0, 0.15);\n",
       "      filter: drop-shadow(0px 1px 2px rgba(0, 0, 0, 0.3));\n",
       "      fill: #FFFFFF;\n",
       "    }\n",
       "  </style>\n",
       "\n",
       "    <script>\n",
       "      const buttonEl =\n",
       "        document.querySelector('#df-0e94454c-af72-48f9-84b0-cc908043ada8 button.colab-df-convert');\n",
       "      buttonEl.style.display =\n",
       "        google.colab.kernel.accessAllowed ? 'block' : 'none';\n",
       "\n",
       "      async function convertToInteractive(key) {\n",
       "        const element = document.querySelector('#df-0e94454c-af72-48f9-84b0-cc908043ada8');\n",
       "        const dataTable =\n",
       "          await google.colab.kernel.invokeFunction('convertToInteractive',\n",
       "                                                    [key], {});\n",
       "        if (!dataTable) return;\n",
       "\n",
       "        const docLinkHtml = 'Like what you see? Visit the ' +\n",
       "          '<a target=\"_blank\" href=https://colab.research.google.com/notebooks/data_table.ipynb>data table notebook</a>'\n",
       "          + ' to learn more about interactive tables.';\n",
       "        element.innerHTML = '';\n",
       "        dataTable['output_type'] = 'display_data';\n",
       "        await google.colab.output.renderOutput(dataTable, element);\n",
       "        const docLink = document.createElement('div');\n",
       "        docLink.innerHTML = docLinkHtml;\n",
       "        element.appendChild(docLink);\n",
       "      }\n",
       "    </script>\n",
       "  </div>\n",
       "\n",
       "\n",
       "<div id=\"df-3f4f68df-a6a7-43cf-be4a-44d87af3a660\">\n",
       "  <button class=\"colab-df-quickchart\" onclick=\"quickchart('df-3f4f68df-a6a7-43cf-be4a-44d87af3a660')\"\n",
       "            title=\"Suggest charts\"\n",
       "            style=\"display:none;\">\n",
       "\n",
       "<svg xmlns=\"http://www.w3.org/2000/svg\" height=\"24px\"viewBox=\"0 0 24 24\"\n",
       "     width=\"24px\">\n",
       "    <g>\n",
       "        <path d=\"M19 3H5c-1.1 0-2 .9-2 2v14c0 1.1.9 2 2 2h14c1.1 0 2-.9 2-2V5c0-1.1-.9-2-2-2zM9 17H7v-7h2v7zm4 0h-2V7h2v10zm4 0h-2v-4h2v4z\"/>\n",
       "    </g>\n",
       "</svg>\n",
       "  </button>\n",
       "\n",
       "<style>\n",
       "  .colab-df-quickchart {\n",
       "      --bg-color: #E8F0FE;\n",
       "      --fill-color: #1967D2;\n",
       "      --hover-bg-color: #E2EBFA;\n",
       "      --hover-fill-color: #174EA6;\n",
       "      --disabled-fill-color: #AAA;\n",
       "      --disabled-bg-color: #DDD;\n",
       "  }\n",
       "\n",
       "  [theme=dark] .colab-df-quickchart {\n",
       "      --bg-color: #3B4455;\n",
       "      --fill-color: #D2E3FC;\n",
       "      --hover-bg-color: #434B5C;\n",
       "      --hover-fill-color: #FFFFFF;\n",
       "      --disabled-bg-color: #3B4455;\n",
       "      --disabled-fill-color: #666;\n",
       "  }\n",
       "\n",
       "  .colab-df-quickchart {\n",
       "    background-color: var(--bg-color);\n",
       "    border: none;\n",
       "    border-radius: 50%;\n",
       "    cursor: pointer;\n",
       "    display: none;\n",
       "    fill: var(--fill-color);\n",
       "    height: 32px;\n",
       "    padding: 0;\n",
       "    width: 32px;\n",
       "  }\n",
       "\n",
       "  .colab-df-quickchart:hover {\n",
       "    background-color: var(--hover-bg-color);\n",
       "    box-shadow: 0 1px 2px rgba(60, 64, 67, 0.3), 0 1px 3px 1px rgba(60, 64, 67, 0.15);\n",
       "    fill: var(--button-hover-fill-color);\n",
       "  }\n",
       "\n",
       "  .colab-df-quickchart-complete:disabled,\n",
       "  .colab-df-quickchart-complete:disabled:hover {\n",
       "    background-color: var(--disabled-bg-color);\n",
       "    fill: var(--disabled-fill-color);\n",
       "    box-shadow: none;\n",
       "  }\n",
       "\n",
       "  .colab-df-spinner {\n",
       "    border: 2px solid var(--fill-color);\n",
       "    border-color: transparent;\n",
       "    border-bottom-color: var(--fill-color);\n",
       "    animation:\n",
       "      spin 1s steps(1) infinite;\n",
       "  }\n",
       "\n",
       "  @keyframes spin {\n",
       "    0% {\n",
       "      border-color: transparent;\n",
       "      border-bottom-color: var(--fill-color);\n",
       "      border-left-color: var(--fill-color);\n",
       "    }\n",
       "    20% {\n",
       "      border-color: transparent;\n",
       "      border-left-color: var(--fill-color);\n",
       "      border-top-color: var(--fill-color);\n",
       "    }\n",
       "    30% {\n",
       "      border-color: transparent;\n",
       "      border-left-color: var(--fill-color);\n",
       "      border-top-color: var(--fill-color);\n",
       "      border-right-color: var(--fill-color);\n",
       "    }\n",
       "    40% {\n",
       "      border-color: transparent;\n",
       "      border-right-color: var(--fill-color);\n",
       "      border-top-color: var(--fill-color);\n",
       "    }\n",
       "    60% {\n",
       "      border-color: transparent;\n",
       "      border-right-color: var(--fill-color);\n",
       "    }\n",
       "    80% {\n",
       "      border-color: transparent;\n",
       "      border-right-color: var(--fill-color);\n",
       "      border-bottom-color: var(--fill-color);\n",
       "    }\n",
       "    90% {\n",
       "      border-color: transparent;\n",
       "      border-bottom-color: var(--fill-color);\n",
       "    }\n",
       "  }\n",
       "</style>\n",
       "\n",
       "  <script>\n",
       "    async function quickchart(key) {\n",
       "      const quickchartButtonEl =\n",
       "        document.querySelector('#' + key + ' button');\n",
       "      quickchartButtonEl.disabled = true;  // To prevent multiple clicks.\n",
       "      quickchartButtonEl.classList.add('colab-df-spinner');\n",
       "      try {\n",
       "        const charts = await google.colab.kernel.invokeFunction(\n",
       "            'suggestCharts', [key], {});\n",
       "      } catch (error) {\n",
       "        console.error('Error during call to suggestCharts:', error);\n",
       "      }\n",
       "      quickchartButtonEl.classList.remove('colab-df-spinner');\n",
       "      quickchartButtonEl.classList.add('colab-df-quickchart-complete');\n",
       "    }\n",
       "    (() => {\n",
       "      let quickchartButtonEl =\n",
       "        document.querySelector('#df-3f4f68df-a6a7-43cf-be4a-44d87af3a660 button');\n",
       "      quickchartButtonEl.style.display =\n",
       "        google.colab.kernel.accessAllowed ? 'block' : 'none';\n",
       "    })();\n",
       "  </script>\n",
       "</div>\n",
       "    </div>\n",
       "  </div>\n"
      ],
      "text/plain": [
       "                                   image_path class_name  pred_prob  \\\n",
       "0   data/trash_dataset/test/trash/trash57.jpg      trash     0.6259   \n",
       "1   data/trash_dataset/test/trash/trash93.jpg      trash     0.2616   \n",
       "2  data/trash_dataset/test/trash/trash124.jpg      trash     0.3646   \n",
       "3  data/trash_dataset/test/trash/trash118.jpg      trash     0.8948   \n",
       "4   data/trash_dataset/test/trash/trash79.jpg      trash     0.9686   \n",
       "\n",
       "  pred_class  time_for_pred  correct  \n",
       "0      glass         0.1350    False  \n",
       "1      metal         0.1274    False  \n",
       "2    plastic         0.1229    False  \n",
       "3      trash         0.1333     True  \n",
       "4      trash         0.1305     True  "
      ]
     },
     "execution_count": 61,
     "metadata": {},
     "output_type": "execute_result"
    }
   ],
   "source": [
    "resnet50_v1_predictions_df.head()"
   ]
  },
  {
   "cell_type": "code",
   "execution_count": 62,
   "id": "ca89342d-fbba-4ce6-b3d9-b23030f5b959",
   "metadata": {
    "colab": {
     "base_uri": "https://localhost:8080/"
    },
    "id": "ca89342d-fbba-4ce6-b3d9-b23030f5b959",
    "outputId": "effb1f09-e3c0-400a-b026-8f17a9148ff4"
   },
   "outputs": [
    {
     "data": {
      "text/plain": [
       "correct\n",
       "True     461\n",
       "False     47\n",
       "Name: count, dtype: int64"
      ]
     },
     "execution_count": 62,
     "metadata": {},
     "output_type": "execute_result"
    }
   ],
   "source": [
    "resnet50_v1_predictions_df.correct.value_counts()"
   ]
  },
  {
   "cell_type": "code",
   "execution_count": 63,
   "id": "eb373119-876c-4a43-86c4-ec828b7ffaeb",
   "metadata": {
    "colab": {
     "base_uri": "https://localhost:8080/"
    },
    "id": "eb373119-876c-4a43-86c4-ec828b7ffaeb",
    "outputId": "afdc2873-b9b9-40bc-a22d-280d6039173f"
   },
   "outputs": [
    {
     "name": "stdout",
     "output_type": "stream",
     "text": [
      "Average time per prediction: 0.1402 seconds\n"
     ]
    }
   ],
   "source": [
    "resnet50_v1_average_time_per_pred = round(resnet50_v1_predictions_df.time_for_pred.mean(), 4)\n",
    "print(f\"Average time per prediction: {resnet50_v1_average_time_per_pred} seconds\")"
   ]
  },
  {
   "cell_type": "code",
   "execution_count": 64,
   "id": "a632f97c-a7b9-4cbb-8013-079631fa0f90",
   "metadata": {
    "id": "a632f97c-a7b9-4cbb-8013-079631fa0f90"
   },
   "outputs": [],
   "source": [
    "resnet50_v1_stats[\"time_per_pred_cpu\"] = resnet50_v1_average_time_per_pred"
   ]
  },
  {
   "cell_type": "markdown",
   "id": "1ae53bdc-0ffc-447f-be43-9bee3a4f1a53",
   "metadata": {
    "id": "1ae53bdc-0ffc-447f-be43-9bee3a4f1a53"
   },
   "source": [
    "#### resnet `v2`"
   ]
  },
  {
   "cell_type": "code",
   "execution_count": 65,
   "id": "396b5c72-fbbf-45ba-9b30-b8684a338dde",
   "metadata": {
    "colab": {
     "base_uri": "https://localhost:8080/",
     "height": 206
    },
    "id": "396b5c72-fbbf-45ba-9b30-b8684a338dde",
    "outputId": "856912aa-c7b6-435d-f3d6-833dbb99256f"
   },
   "outputs": [
    {
     "data": {
      "application/vnd.google.colaboratory.intrinsic+json": {
       "summary": "{\n  \"name\": \"resnet50_v2_predictions_df\",\n  \"rows\": 508,\n  \"fields\": [\n    {\n      \"column\": \"image_path\",\n      \"properties\": {\n        \"dtype\": \"string\",\n        \"num_unique_values\": 508,\n        \"samples\": [\n          \"data/trash_dataset/test/paper/paper166.jpg\",\n          \"data/trash_dataset/test/plastic/plastic405.jpg\",\n          \"data/trash_dataset/test/glass/glass185.jpg\"\n        ],\n        \"semantic_type\": \"\",\n        \"description\": \"\"\n      }\n    },\n    {\n      \"column\": \"class_name\",\n      \"properties\": {\n        \"dtype\": \"category\",\n        \"num_unique_values\": 6,\n        \"samples\": [\n          \"trash\",\n          \"paper\",\n          \"glass\"\n        ],\n        \"semantic_type\": \"\",\n        \"description\": \"\"\n      }\n    },\n    {\n      \"column\": \"pred_prob\",\n      \"properties\": {\n        \"dtype\": \"number\",\n        \"std\": 0.17051999593038447,\n        \"min\": 0.3082,\n        \"max\": 1.0,\n        \"num_unique_values\": 416,\n        \"samples\": [\n          0.8519,\n          0.524,\n          0.8867\n        ],\n        \"semantic_type\": \"\",\n        \"description\": \"\"\n      }\n    },\n    {\n      \"column\": \"pred_class\",\n      \"properties\": {\n        \"dtype\": \"category\",\n        \"num_unique_values\": 6,\n        \"samples\": [\n          \"glass\",\n          \"paper\",\n          \"cardboard\"\n        ],\n        \"semantic_type\": \"\",\n        \"description\": \"\"\n      }\n    },\n    {\n      \"column\": \"time_for_pred\",\n      \"properties\": {\n        \"dtype\": \"number\",\n        \"std\": 0.020299419589923567,\n        \"min\": 0.1179,\n        \"max\": 0.2035,\n        \"num_unique_values\": 256,\n        \"samples\": [\n          0.1194,\n          0.1282,\n          0.1428\n        ],\n        \"semantic_type\": \"\",\n        \"description\": \"\"\n      }\n    },\n    {\n      \"column\": \"correct\",\n      \"properties\": {\n        \"dtype\": \"boolean\",\n        \"num_unique_values\": 2,\n        \"samples\": [\n          true,\n          false\n        ],\n        \"semantic_type\": \"\",\n        \"description\": \"\"\n      }\n    }\n  ]\n}",
       "type": "dataframe",
       "variable_name": "resnet50_v2_predictions_df"
      },
      "text/html": [
       "\n",
       "  <div id=\"df-e9a9824d-b95a-48ee-be10-a91215e14593\" class=\"colab-df-container\">\n",
       "    <div>\n",
       "<style scoped>\n",
       "    .dataframe tbody tr th:only-of-type {\n",
       "        vertical-align: middle;\n",
       "    }\n",
       "\n",
       "    .dataframe tbody tr th {\n",
       "        vertical-align: top;\n",
       "    }\n",
       "\n",
       "    .dataframe thead th {\n",
       "        text-align: right;\n",
       "    }\n",
       "</style>\n",
       "<table border=\"1\" class=\"dataframe\">\n",
       "  <thead>\n",
       "    <tr style=\"text-align: right;\">\n",
       "      <th></th>\n",
       "      <th>image_path</th>\n",
       "      <th>class_name</th>\n",
       "      <th>pred_prob</th>\n",
       "      <th>pred_class</th>\n",
       "      <th>time_for_pred</th>\n",
       "      <th>correct</th>\n",
       "    </tr>\n",
       "  </thead>\n",
       "  <tbody>\n",
       "    <tr>\n",
       "      <th>0</th>\n",
       "      <td>data/trash_dataset/test/trash/trash57.jpg</td>\n",
       "      <td>trash</td>\n",
       "      <td>0.5392</td>\n",
       "      <td>glass</td>\n",
       "      <td>0.1467</td>\n",
       "      <td>False</td>\n",
       "    </tr>\n",
       "    <tr>\n",
       "      <th>1</th>\n",
       "      <td>data/trash_dataset/test/trash/trash93.jpg</td>\n",
       "      <td>trash</td>\n",
       "      <td>0.5930</td>\n",
       "      <td>paper</td>\n",
       "      <td>0.1267</td>\n",
       "      <td>False</td>\n",
       "    </tr>\n",
       "    <tr>\n",
       "      <th>2</th>\n",
       "      <td>data/trash_dataset/test/trash/trash124.jpg</td>\n",
       "      <td>trash</td>\n",
       "      <td>0.7953</td>\n",
       "      <td>plastic</td>\n",
       "      <td>0.1232</td>\n",
       "      <td>False</td>\n",
       "    </tr>\n",
       "    <tr>\n",
       "      <th>3</th>\n",
       "      <td>data/trash_dataset/test/trash/trash118.jpg</td>\n",
       "      <td>trash</td>\n",
       "      <td>0.6267</td>\n",
       "      <td>trash</td>\n",
       "      <td>0.1339</td>\n",
       "      <td>True</td>\n",
       "    </tr>\n",
       "    <tr>\n",
       "      <th>4</th>\n",
       "      <td>data/trash_dataset/test/trash/trash79.jpg</td>\n",
       "      <td>trash</td>\n",
       "      <td>0.5498</td>\n",
       "      <td>trash</td>\n",
       "      <td>0.1270</td>\n",
       "      <td>True</td>\n",
       "    </tr>\n",
       "  </tbody>\n",
       "</table>\n",
       "</div>\n",
       "    <div class=\"colab-df-buttons\">\n",
       "\n",
       "  <div class=\"colab-df-container\">\n",
       "    <button class=\"colab-df-convert\" onclick=\"convertToInteractive('df-e9a9824d-b95a-48ee-be10-a91215e14593')\"\n",
       "            title=\"Convert this dataframe to an interactive table.\"\n",
       "            style=\"display:none;\">\n",
       "\n",
       "  <svg xmlns=\"http://www.w3.org/2000/svg\" height=\"24px\" viewBox=\"0 -960 960 960\">\n",
       "    <path d=\"M120-120v-720h720v720H120Zm60-500h600v-160H180v160Zm220 220h160v-160H400v160Zm0 220h160v-160H400v160ZM180-400h160v-160H180v160Zm440 0h160v-160H620v160ZM180-180h160v-160H180v160Zm440 0h160v-160H620v160Z\"/>\n",
       "  </svg>\n",
       "    </button>\n",
       "\n",
       "  <style>\n",
       "    .colab-df-container {\n",
       "      display:flex;\n",
       "      gap: 12px;\n",
       "    }\n",
       "\n",
       "    .colab-df-convert {\n",
       "      background-color: #E8F0FE;\n",
       "      border: none;\n",
       "      border-radius: 50%;\n",
       "      cursor: pointer;\n",
       "      display: none;\n",
       "      fill: #1967D2;\n",
       "      height: 32px;\n",
       "      padding: 0 0 0 0;\n",
       "      width: 32px;\n",
       "    }\n",
       "\n",
       "    .colab-df-convert:hover {\n",
       "      background-color: #E2EBFA;\n",
       "      box-shadow: 0px 1px 2px rgba(60, 64, 67, 0.3), 0px 1px 3px 1px rgba(60, 64, 67, 0.15);\n",
       "      fill: #174EA6;\n",
       "    }\n",
       "\n",
       "    .colab-df-buttons div {\n",
       "      margin-bottom: 4px;\n",
       "    }\n",
       "\n",
       "    [theme=dark] .colab-df-convert {\n",
       "      background-color: #3B4455;\n",
       "      fill: #D2E3FC;\n",
       "    }\n",
       "\n",
       "    [theme=dark] .colab-df-convert:hover {\n",
       "      background-color: #434B5C;\n",
       "      box-shadow: 0px 1px 3px 1px rgba(0, 0, 0, 0.15);\n",
       "      filter: drop-shadow(0px 1px 2px rgba(0, 0, 0, 0.3));\n",
       "      fill: #FFFFFF;\n",
       "    }\n",
       "  </style>\n",
       "\n",
       "    <script>\n",
       "      const buttonEl =\n",
       "        document.querySelector('#df-e9a9824d-b95a-48ee-be10-a91215e14593 button.colab-df-convert');\n",
       "      buttonEl.style.display =\n",
       "        google.colab.kernel.accessAllowed ? 'block' : 'none';\n",
       "\n",
       "      async function convertToInteractive(key) {\n",
       "        const element = document.querySelector('#df-e9a9824d-b95a-48ee-be10-a91215e14593');\n",
       "        const dataTable =\n",
       "          await google.colab.kernel.invokeFunction('convertToInteractive',\n",
       "                                                    [key], {});\n",
       "        if (!dataTable) return;\n",
       "\n",
       "        const docLinkHtml = 'Like what you see? Visit the ' +\n",
       "          '<a target=\"_blank\" href=https://colab.research.google.com/notebooks/data_table.ipynb>data table notebook</a>'\n",
       "          + ' to learn more about interactive tables.';\n",
       "        element.innerHTML = '';\n",
       "        dataTable['output_type'] = 'display_data';\n",
       "        await google.colab.output.renderOutput(dataTable, element);\n",
       "        const docLink = document.createElement('div');\n",
       "        docLink.innerHTML = docLinkHtml;\n",
       "        element.appendChild(docLink);\n",
       "      }\n",
       "    </script>\n",
       "  </div>\n",
       "\n",
       "\n",
       "<div id=\"df-34b20b78-dfcf-40b3-9b35-d9cc26e86b66\">\n",
       "  <button class=\"colab-df-quickchart\" onclick=\"quickchart('df-34b20b78-dfcf-40b3-9b35-d9cc26e86b66')\"\n",
       "            title=\"Suggest charts\"\n",
       "            style=\"display:none;\">\n",
       "\n",
       "<svg xmlns=\"http://www.w3.org/2000/svg\" height=\"24px\"viewBox=\"0 0 24 24\"\n",
       "     width=\"24px\">\n",
       "    <g>\n",
       "        <path d=\"M19 3H5c-1.1 0-2 .9-2 2v14c0 1.1.9 2 2 2h14c1.1 0 2-.9 2-2V5c0-1.1-.9-2-2-2zM9 17H7v-7h2v7zm4 0h-2V7h2v10zm4 0h-2v-4h2v4z\"/>\n",
       "    </g>\n",
       "</svg>\n",
       "  </button>\n",
       "\n",
       "<style>\n",
       "  .colab-df-quickchart {\n",
       "      --bg-color: #E8F0FE;\n",
       "      --fill-color: #1967D2;\n",
       "      --hover-bg-color: #E2EBFA;\n",
       "      --hover-fill-color: #174EA6;\n",
       "      --disabled-fill-color: #AAA;\n",
       "      --disabled-bg-color: #DDD;\n",
       "  }\n",
       "\n",
       "  [theme=dark] .colab-df-quickchart {\n",
       "      --bg-color: #3B4455;\n",
       "      --fill-color: #D2E3FC;\n",
       "      --hover-bg-color: #434B5C;\n",
       "      --hover-fill-color: #FFFFFF;\n",
       "      --disabled-bg-color: #3B4455;\n",
       "      --disabled-fill-color: #666;\n",
       "  }\n",
       "\n",
       "  .colab-df-quickchart {\n",
       "    background-color: var(--bg-color);\n",
       "    border: none;\n",
       "    border-radius: 50%;\n",
       "    cursor: pointer;\n",
       "    display: none;\n",
       "    fill: var(--fill-color);\n",
       "    height: 32px;\n",
       "    padding: 0;\n",
       "    width: 32px;\n",
       "  }\n",
       "\n",
       "  .colab-df-quickchart:hover {\n",
       "    background-color: var(--hover-bg-color);\n",
       "    box-shadow: 0 1px 2px rgba(60, 64, 67, 0.3), 0 1px 3px 1px rgba(60, 64, 67, 0.15);\n",
       "    fill: var(--button-hover-fill-color);\n",
       "  }\n",
       "\n",
       "  .colab-df-quickchart-complete:disabled,\n",
       "  .colab-df-quickchart-complete:disabled:hover {\n",
       "    background-color: var(--disabled-bg-color);\n",
       "    fill: var(--disabled-fill-color);\n",
       "    box-shadow: none;\n",
       "  }\n",
       "\n",
       "  .colab-df-spinner {\n",
       "    border: 2px solid var(--fill-color);\n",
       "    border-color: transparent;\n",
       "    border-bottom-color: var(--fill-color);\n",
       "    animation:\n",
       "      spin 1s steps(1) infinite;\n",
       "  }\n",
       "\n",
       "  @keyframes spin {\n",
       "    0% {\n",
       "      border-color: transparent;\n",
       "      border-bottom-color: var(--fill-color);\n",
       "      border-left-color: var(--fill-color);\n",
       "    }\n",
       "    20% {\n",
       "      border-color: transparent;\n",
       "      border-left-color: var(--fill-color);\n",
       "      border-top-color: var(--fill-color);\n",
       "    }\n",
       "    30% {\n",
       "      border-color: transparent;\n",
       "      border-left-color: var(--fill-color);\n",
       "      border-top-color: var(--fill-color);\n",
       "      border-right-color: var(--fill-color);\n",
       "    }\n",
       "    40% {\n",
       "      border-color: transparent;\n",
       "      border-right-color: var(--fill-color);\n",
       "      border-top-color: var(--fill-color);\n",
       "    }\n",
       "    60% {\n",
       "      border-color: transparent;\n",
       "      border-right-color: var(--fill-color);\n",
       "    }\n",
       "    80% {\n",
       "      border-color: transparent;\n",
       "      border-right-color: var(--fill-color);\n",
       "      border-bottom-color: var(--fill-color);\n",
       "    }\n",
       "    90% {\n",
       "      border-color: transparent;\n",
       "      border-bottom-color: var(--fill-color);\n",
       "    }\n",
       "  }\n",
       "</style>\n",
       "\n",
       "  <script>\n",
       "    async function quickchart(key) {\n",
       "      const quickchartButtonEl =\n",
       "        document.querySelector('#' + key + ' button');\n",
       "      quickchartButtonEl.disabled = true;  // To prevent multiple clicks.\n",
       "      quickchartButtonEl.classList.add('colab-df-spinner');\n",
       "      try {\n",
       "        const charts = await google.colab.kernel.invokeFunction(\n",
       "            'suggestCharts', [key], {});\n",
       "      } catch (error) {\n",
       "        console.error('Error during call to suggestCharts:', error);\n",
       "      }\n",
       "      quickchartButtonEl.classList.remove('colab-df-spinner');\n",
       "      quickchartButtonEl.classList.add('colab-df-quickchart-complete');\n",
       "    }\n",
       "    (() => {\n",
       "      let quickchartButtonEl =\n",
       "        document.querySelector('#df-34b20b78-dfcf-40b3-9b35-d9cc26e86b66 button');\n",
       "      quickchartButtonEl.style.display =\n",
       "        google.colab.kernel.accessAllowed ? 'block' : 'none';\n",
       "    })();\n",
       "  </script>\n",
       "</div>\n",
       "    </div>\n",
       "  </div>\n"
      ],
      "text/plain": [
       "                                   image_path class_name  pred_prob  \\\n",
       "0   data/trash_dataset/test/trash/trash57.jpg      trash     0.5392   \n",
       "1   data/trash_dataset/test/trash/trash93.jpg      trash     0.5930   \n",
       "2  data/trash_dataset/test/trash/trash124.jpg      trash     0.7953   \n",
       "3  data/trash_dataset/test/trash/trash118.jpg      trash     0.6267   \n",
       "4   data/trash_dataset/test/trash/trash79.jpg      trash     0.5498   \n",
       "\n",
       "  pred_class  time_for_pred  correct  \n",
       "0      glass         0.1467    False  \n",
       "1      paper         0.1267    False  \n",
       "2    plastic         0.1232    False  \n",
       "3      trash         0.1339     True  \n",
       "4      trash         0.1270     True  "
      ]
     },
     "execution_count": 65,
     "metadata": {},
     "output_type": "execute_result"
    }
   ],
   "source": [
    "resnet50_v2_predictions_df.head()"
   ]
  },
  {
   "cell_type": "code",
   "execution_count": 66,
   "id": "47909587-3ea1-4dcf-a2e3-258004db8f80",
   "metadata": {
    "colab": {
     "base_uri": "https://localhost:8080/"
    },
    "id": "47909587-3ea1-4dcf-a2e3-258004db8f80",
    "outputId": "d1561fa6-777c-4f4b-a843-07a04ccb4774"
   },
   "outputs": [
    {
     "data": {
      "text/plain": [
       "correct\n",
       "True     454\n",
       "False     54\n",
       "Name: count, dtype: int64"
      ]
     },
     "execution_count": 66,
     "metadata": {},
     "output_type": "execute_result"
    }
   ],
   "source": [
    "resnet50_v2_predictions_df.correct.value_counts()"
   ]
  },
  {
   "cell_type": "code",
   "execution_count": 67,
   "id": "fbd9b213-d063-4b0e-9b61-e2f6eb5a1044",
   "metadata": {
    "colab": {
     "base_uri": "https://localhost:8080/"
    },
    "id": "fbd9b213-d063-4b0e-9b61-e2f6eb5a1044",
    "outputId": "4ad231e2-4b5e-484d-afb5-d56c1a5dbce7"
   },
   "outputs": [
    {
     "name": "stdout",
     "output_type": "stream",
     "text": [
      "Average time per prediction: 0.137 seconds\n"
     ]
    }
   ],
   "source": [
    "resnet50_v2_average_time_per_pred = round(resnet50_v2_predictions_df.time_for_pred.mean(), 4)\n",
    "print(f\"Average time per prediction: {resnet50_v2_average_time_per_pred} seconds\")"
   ]
  },
  {
   "cell_type": "code",
   "execution_count": 68,
   "id": "9327fabd-e96d-477f-84a3-dcfcd84d4518",
   "metadata": {
    "id": "9327fabd-e96d-477f-84a3-dcfcd84d4518"
   },
   "outputs": [],
   "source": [
    "resnet50_v2_stats[\"time_per_pred_cpu\"] = resnet50_v2_average_time_per_pred"
   ]
  },
  {
   "cell_type": "markdown",
   "id": "6f1db58e-4cb5-4783-9bb6-227f643f49bb",
   "metadata": {
    "id": "6f1db58e-4cb5-4783-9bb6-227f643f49bb"
   },
   "source": [
    "#### resnet `v3`"
   ]
  },
  {
   "cell_type": "code",
   "execution_count": 69,
   "id": "61e927b2-f682-449f-80aa-2b90a6b1c9d5",
   "metadata": {
    "colab": {
     "base_uri": "https://localhost:8080/",
     "height": 206
    },
    "id": "61e927b2-f682-449f-80aa-2b90a6b1c9d5",
    "outputId": "6b53235c-4c67-4d1a-e2ac-91504fc83519"
   },
   "outputs": [
    {
     "data": {
      "application/vnd.google.colaboratory.intrinsic+json": {
       "summary": "{\n  \"name\": \"resnet50_v3_predictions_df\",\n  \"rows\": 508,\n  \"fields\": [\n    {\n      \"column\": \"image_path\",\n      \"properties\": {\n        \"dtype\": \"string\",\n        \"num_unique_values\": 508,\n        \"samples\": [\n          \"data/trash_dataset/test/paper/paper166.jpg\",\n          \"data/trash_dataset/test/plastic/plastic405.jpg\",\n          \"data/trash_dataset/test/glass/glass185.jpg\"\n        ],\n        \"semantic_type\": \"\",\n        \"description\": \"\"\n      }\n    },\n    {\n      \"column\": \"class_name\",\n      \"properties\": {\n        \"dtype\": \"category\",\n        \"num_unique_values\": 6,\n        \"samples\": [\n          \"trash\",\n          \"paper\",\n          \"glass\"\n        ],\n        \"semantic_type\": \"\",\n        \"description\": \"\"\n      }\n    },\n    {\n      \"column\": \"pred_prob\",\n      \"properties\": {\n        \"dtype\": \"number\",\n        \"std\": 0.04003409669980867,\n        \"min\": 0.5052,\n        \"max\": 1.0,\n        \"num_unique_values\": 60,\n        \"samples\": [\n          0.9995,\n          0.7718,\n          0.8826\n        ],\n        \"semantic_type\": \"\",\n        \"description\": \"\"\n      }\n    },\n    {\n      \"column\": \"pred_class\",\n      \"properties\": {\n        \"dtype\": \"category\",\n        \"num_unique_values\": 6,\n        \"samples\": [\n          \"glass\",\n          \"paper\",\n          \"metal\"\n        ],\n        \"semantic_type\": \"\",\n        \"description\": \"\"\n      }\n    },\n    {\n      \"column\": \"time_for_pred\",\n      \"properties\": {\n        \"dtype\": \"number\",\n        \"std\": 0.02131627238636202,\n        \"min\": 0.113,\n        \"max\": 0.2058,\n        \"num_unique_values\": 296,\n        \"samples\": [\n          0.1356,\n          0.1922,\n          0.1297\n        ],\n        \"semantic_type\": \"\",\n        \"description\": \"\"\n      }\n    },\n    {\n      \"column\": \"correct\",\n      \"properties\": {\n        \"dtype\": \"boolean\",\n        \"num_unique_values\": 2,\n        \"samples\": [\n          true,\n          false\n        ],\n        \"semantic_type\": \"\",\n        \"description\": \"\"\n      }\n    }\n  ]\n}",
       "type": "dataframe",
       "variable_name": "resnet50_v3_predictions_df"
      },
      "text/html": [
       "\n",
       "  <div id=\"df-8acea60f-9bb9-4917-a572-467f914cfdb6\" class=\"colab-df-container\">\n",
       "    <div>\n",
       "<style scoped>\n",
       "    .dataframe tbody tr th:only-of-type {\n",
       "        vertical-align: middle;\n",
       "    }\n",
       "\n",
       "    .dataframe tbody tr th {\n",
       "        vertical-align: top;\n",
       "    }\n",
       "\n",
       "    .dataframe thead th {\n",
       "        text-align: right;\n",
       "    }\n",
       "</style>\n",
       "<table border=\"1\" class=\"dataframe\">\n",
       "  <thead>\n",
       "    <tr style=\"text-align: right;\">\n",
       "      <th></th>\n",
       "      <th>image_path</th>\n",
       "      <th>class_name</th>\n",
       "      <th>pred_prob</th>\n",
       "      <th>pred_class</th>\n",
       "      <th>time_for_pred</th>\n",
       "      <th>correct</th>\n",
       "    </tr>\n",
       "  </thead>\n",
       "  <tbody>\n",
       "    <tr>\n",
       "      <th>0</th>\n",
       "      <td>data/trash_dataset/test/trash/trash57.jpg</td>\n",
       "      <td>trash</td>\n",
       "      <td>0.9995</td>\n",
       "      <td>glass</td>\n",
       "      <td>0.1522</td>\n",
       "      <td>False</td>\n",
       "    </tr>\n",
       "    <tr>\n",
       "      <th>1</th>\n",
       "      <td>data/trash_dataset/test/trash/trash93.jpg</td>\n",
       "      <td>trash</td>\n",
       "      <td>1.0000</td>\n",
       "      <td>paper</td>\n",
       "      <td>0.1390</td>\n",
       "      <td>False</td>\n",
       "    </tr>\n",
       "    <tr>\n",
       "      <th>2</th>\n",
       "      <td>data/trash_dataset/test/trash/trash124.jpg</td>\n",
       "      <td>trash</td>\n",
       "      <td>0.9999</td>\n",
       "      <td>plastic</td>\n",
       "      <td>0.1346</td>\n",
       "      <td>False</td>\n",
       "    </tr>\n",
       "    <tr>\n",
       "      <th>3</th>\n",
       "      <td>data/trash_dataset/test/trash/trash118.jpg</td>\n",
       "      <td>trash</td>\n",
       "      <td>1.0000</td>\n",
       "      <td>trash</td>\n",
       "      <td>0.1340</td>\n",
       "      <td>True</td>\n",
       "    </tr>\n",
       "    <tr>\n",
       "      <th>4</th>\n",
       "      <td>data/trash_dataset/test/trash/trash79.jpg</td>\n",
       "      <td>trash</td>\n",
       "      <td>0.9975</td>\n",
       "      <td>trash</td>\n",
       "      <td>0.1327</td>\n",
       "      <td>True</td>\n",
       "    </tr>\n",
       "  </tbody>\n",
       "</table>\n",
       "</div>\n",
       "    <div class=\"colab-df-buttons\">\n",
       "\n",
       "  <div class=\"colab-df-container\">\n",
       "    <button class=\"colab-df-convert\" onclick=\"convertToInteractive('df-8acea60f-9bb9-4917-a572-467f914cfdb6')\"\n",
       "            title=\"Convert this dataframe to an interactive table.\"\n",
       "            style=\"display:none;\">\n",
       "\n",
       "  <svg xmlns=\"http://www.w3.org/2000/svg\" height=\"24px\" viewBox=\"0 -960 960 960\">\n",
       "    <path d=\"M120-120v-720h720v720H120Zm60-500h600v-160H180v160Zm220 220h160v-160H400v160Zm0 220h160v-160H400v160ZM180-400h160v-160H180v160Zm440 0h160v-160H620v160ZM180-180h160v-160H180v160Zm440 0h160v-160H620v160Z\"/>\n",
       "  </svg>\n",
       "    </button>\n",
       "\n",
       "  <style>\n",
       "    .colab-df-container {\n",
       "      display:flex;\n",
       "      gap: 12px;\n",
       "    }\n",
       "\n",
       "    .colab-df-convert {\n",
       "      background-color: #E8F0FE;\n",
       "      border: none;\n",
       "      border-radius: 50%;\n",
       "      cursor: pointer;\n",
       "      display: none;\n",
       "      fill: #1967D2;\n",
       "      height: 32px;\n",
       "      padding: 0 0 0 0;\n",
       "      width: 32px;\n",
       "    }\n",
       "\n",
       "    .colab-df-convert:hover {\n",
       "      background-color: #E2EBFA;\n",
       "      box-shadow: 0px 1px 2px rgba(60, 64, 67, 0.3), 0px 1px 3px 1px rgba(60, 64, 67, 0.15);\n",
       "      fill: #174EA6;\n",
       "    }\n",
       "\n",
       "    .colab-df-buttons div {\n",
       "      margin-bottom: 4px;\n",
       "    }\n",
       "\n",
       "    [theme=dark] .colab-df-convert {\n",
       "      background-color: #3B4455;\n",
       "      fill: #D2E3FC;\n",
       "    }\n",
       "\n",
       "    [theme=dark] .colab-df-convert:hover {\n",
       "      background-color: #434B5C;\n",
       "      box-shadow: 0px 1px 3px 1px rgba(0, 0, 0, 0.15);\n",
       "      filter: drop-shadow(0px 1px 2px rgba(0, 0, 0, 0.3));\n",
       "      fill: #FFFFFF;\n",
       "    }\n",
       "  </style>\n",
       "\n",
       "    <script>\n",
       "      const buttonEl =\n",
       "        document.querySelector('#df-8acea60f-9bb9-4917-a572-467f914cfdb6 button.colab-df-convert');\n",
       "      buttonEl.style.display =\n",
       "        google.colab.kernel.accessAllowed ? 'block' : 'none';\n",
       "\n",
       "      async function convertToInteractive(key) {\n",
       "        const element = document.querySelector('#df-8acea60f-9bb9-4917-a572-467f914cfdb6');\n",
       "        const dataTable =\n",
       "          await google.colab.kernel.invokeFunction('convertToInteractive',\n",
       "                                                    [key], {});\n",
       "        if (!dataTable) return;\n",
       "\n",
       "        const docLinkHtml = 'Like what you see? Visit the ' +\n",
       "          '<a target=\"_blank\" href=https://colab.research.google.com/notebooks/data_table.ipynb>data table notebook</a>'\n",
       "          + ' to learn more about interactive tables.';\n",
       "        element.innerHTML = '';\n",
       "        dataTable['output_type'] = 'display_data';\n",
       "        await google.colab.output.renderOutput(dataTable, element);\n",
       "        const docLink = document.createElement('div');\n",
       "        docLink.innerHTML = docLinkHtml;\n",
       "        element.appendChild(docLink);\n",
       "      }\n",
       "    </script>\n",
       "  </div>\n",
       "\n",
       "\n",
       "<div id=\"df-7eb4d7da-ac18-4701-a8aa-7f0b84dd2c71\">\n",
       "  <button class=\"colab-df-quickchart\" onclick=\"quickchart('df-7eb4d7da-ac18-4701-a8aa-7f0b84dd2c71')\"\n",
       "            title=\"Suggest charts\"\n",
       "            style=\"display:none;\">\n",
       "\n",
       "<svg xmlns=\"http://www.w3.org/2000/svg\" height=\"24px\"viewBox=\"0 0 24 24\"\n",
       "     width=\"24px\">\n",
       "    <g>\n",
       "        <path d=\"M19 3H5c-1.1 0-2 .9-2 2v14c0 1.1.9 2 2 2h14c1.1 0 2-.9 2-2V5c0-1.1-.9-2-2-2zM9 17H7v-7h2v7zm4 0h-2V7h2v10zm4 0h-2v-4h2v4z\"/>\n",
       "    </g>\n",
       "</svg>\n",
       "  </button>\n",
       "\n",
       "<style>\n",
       "  .colab-df-quickchart {\n",
       "      --bg-color: #E8F0FE;\n",
       "      --fill-color: #1967D2;\n",
       "      --hover-bg-color: #E2EBFA;\n",
       "      --hover-fill-color: #174EA6;\n",
       "      --disabled-fill-color: #AAA;\n",
       "      --disabled-bg-color: #DDD;\n",
       "  }\n",
       "\n",
       "  [theme=dark] .colab-df-quickchart {\n",
       "      --bg-color: #3B4455;\n",
       "      --fill-color: #D2E3FC;\n",
       "      --hover-bg-color: #434B5C;\n",
       "      --hover-fill-color: #FFFFFF;\n",
       "      --disabled-bg-color: #3B4455;\n",
       "      --disabled-fill-color: #666;\n",
       "  }\n",
       "\n",
       "  .colab-df-quickchart {\n",
       "    background-color: var(--bg-color);\n",
       "    border: none;\n",
       "    border-radius: 50%;\n",
       "    cursor: pointer;\n",
       "    display: none;\n",
       "    fill: var(--fill-color);\n",
       "    height: 32px;\n",
       "    padding: 0;\n",
       "    width: 32px;\n",
       "  }\n",
       "\n",
       "  .colab-df-quickchart:hover {\n",
       "    background-color: var(--hover-bg-color);\n",
       "    box-shadow: 0 1px 2px rgba(60, 64, 67, 0.3), 0 1px 3px 1px rgba(60, 64, 67, 0.15);\n",
       "    fill: var(--button-hover-fill-color);\n",
       "  }\n",
       "\n",
       "  .colab-df-quickchart-complete:disabled,\n",
       "  .colab-df-quickchart-complete:disabled:hover {\n",
       "    background-color: var(--disabled-bg-color);\n",
       "    fill: var(--disabled-fill-color);\n",
       "    box-shadow: none;\n",
       "  }\n",
       "\n",
       "  .colab-df-spinner {\n",
       "    border: 2px solid var(--fill-color);\n",
       "    border-color: transparent;\n",
       "    border-bottom-color: var(--fill-color);\n",
       "    animation:\n",
       "      spin 1s steps(1) infinite;\n",
       "  }\n",
       "\n",
       "  @keyframes spin {\n",
       "    0% {\n",
       "      border-color: transparent;\n",
       "      border-bottom-color: var(--fill-color);\n",
       "      border-left-color: var(--fill-color);\n",
       "    }\n",
       "    20% {\n",
       "      border-color: transparent;\n",
       "      border-left-color: var(--fill-color);\n",
       "      border-top-color: var(--fill-color);\n",
       "    }\n",
       "    30% {\n",
       "      border-color: transparent;\n",
       "      border-left-color: var(--fill-color);\n",
       "      border-top-color: var(--fill-color);\n",
       "      border-right-color: var(--fill-color);\n",
       "    }\n",
       "    40% {\n",
       "      border-color: transparent;\n",
       "      border-right-color: var(--fill-color);\n",
       "      border-top-color: var(--fill-color);\n",
       "    }\n",
       "    60% {\n",
       "      border-color: transparent;\n",
       "      border-right-color: var(--fill-color);\n",
       "    }\n",
       "    80% {\n",
       "      border-color: transparent;\n",
       "      border-right-color: var(--fill-color);\n",
       "      border-bottom-color: var(--fill-color);\n",
       "    }\n",
       "    90% {\n",
       "      border-color: transparent;\n",
       "      border-bottom-color: var(--fill-color);\n",
       "    }\n",
       "  }\n",
       "</style>\n",
       "\n",
       "  <script>\n",
       "    async function quickchart(key) {\n",
       "      const quickchartButtonEl =\n",
       "        document.querySelector('#' + key + ' button');\n",
       "      quickchartButtonEl.disabled = true;  // To prevent multiple clicks.\n",
       "      quickchartButtonEl.classList.add('colab-df-spinner');\n",
       "      try {\n",
       "        const charts = await google.colab.kernel.invokeFunction(\n",
       "            'suggestCharts', [key], {});\n",
       "      } catch (error) {\n",
       "        console.error('Error during call to suggestCharts:', error);\n",
       "      }\n",
       "      quickchartButtonEl.classList.remove('colab-df-spinner');\n",
       "      quickchartButtonEl.classList.add('colab-df-quickchart-complete');\n",
       "    }\n",
       "    (() => {\n",
       "      let quickchartButtonEl =\n",
       "        document.querySelector('#df-7eb4d7da-ac18-4701-a8aa-7f0b84dd2c71 button');\n",
       "      quickchartButtonEl.style.display =\n",
       "        google.colab.kernel.accessAllowed ? 'block' : 'none';\n",
       "    })();\n",
       "  </script>\n",
       "</div>\n",
       "    </div>\n",
       "  </div>\n"
      ],
      "text/plain": [
       "                                   image_path class_name  pred_prob  \\\n",
       "0   data/trash_dataset/test/trash/trash57.jpg      trash     0.9995   \n",
       "1   data/trash_dataset/test/trash/trash93.jpg      trash     1.0000   \n",
       "2  data/trash_dataset/test/trash/trash124.jpg      trash     0.9999   \n",
       "3  data/trash_dataset/test/trash/trash118.jpg      trash     1.0000   \n",
       "4   data/trash_dataset/test/trash/trash79.jpg      trash     0.9975   \n",
       "\n",
       "  pred_class  time_for_pred  correct  \n",
       "0      glass         0.1522    False  \n",
       "1      paper         0.1390    False  \n",
       "2    plastic         0.1346    False  \n",
       "3      trash         0.1340     True  \n",
       "4      trash         0.1327     True  "
      ]
     },
     "execution_count": 69,
     "metadata": {},
     "output_type": "execute_result"
    }
   ],
   "source": [
    "resnet50_v3_predictions_df.head()"
   ]
  },
  {
   "cell_type": "code",
   "execution_count": 70,
   "id": "4dd7d46c-3f6d-42ea-9027-05cc7174bbb6",
   "metadata": {
    "colab": {
     "base_uri": "https://localhost:8080/"
    },
    "id": "4dd7d46c-3f6d-42ea-9027-05cc7174bbb6",
    "outputId": "e7d258f6-bdb6-4ffc-b2cb-8cb81b56c990"
   },
   "outputs": [
    {
     "data": {
      "text/plain": [
       "correct\n",
       "True     451\n",
       "False     57\n",
       "Name: count, dtype: int64"
      ]
     },
     "execution_count": 70,
     "metadata": {},
     "output_type": "execute_result"
    }
   ],
   "source": [
    "resnet50_v3_predictions_df.correct.value_counts()"
   ]
  },
  {
   "cell_type": "code",
   "execution_count": 71,
   "id": "e486e47c-0c5a-4bbd-a609-38b74c0d465d",
   "metadata": {
    "colab": {
     "base_uri": "https://localhost:8080/"
    },
    "id": "e486e47c-0c5a-4bbd-a609-38b74c0d465d",
    "outputId": "90f170fa-1c00-4131-b85a-f8214aeb6790"
   },
   "outputs": [
    {
     "name": "stdout",
     "output_type": "stream",
     "text": [
      "Average time per prediction: 0.1381 seconds\n"
     ]
    }
   ],
   "source": [
    "resnet50_v3_average_time_per_pred = round(resnet50_v3_predictions_df.time_for_pred.mean(), 4)\n",
    "print(f\"Average time per prediction: {resnet50_v3_average_time_per_pred} seconds\")"
   ]
  },
  {
   "cell_type": "code",
   "execution_count": 72,
   "id": "44df5bed-1d21-4b97-a141-0522fa1bfb00",
   "metadata": {
    "id": "44df5bed-1d21-4b97-a141-0522fa1bfb00"
   },
   "outputs": [],
   "source": [
    "resnet50_v3_stats[\"time_per_pred_cpu\"] = resnet50_v3_average_time_per_pred"
   ]
  },
  {
   "cell_type": "markdown",
   "id": "be0ea31d-9474-4e00-93b7-a5328e2d1eba",
   "metadata": {
    "id": "be0ea31d-9474-4e00-93b7-a5328e2d1eba"
   },
   "source": [
    "## 6 - Comparing results"
   ]
  },
  {
   "cell_type": "code",
   "execution_count": 73,
   "id": "03e4b508-2915-446f-8c91-f380fce2f24a",
   "metadata": {
    "colab": {
     "base_uri": "https://localhost:8080/",
     "height": 143
    },
    "id": "03e4b508-2915-446f-8c91-f380fce2f24a",
    "outputId": "9ab5df84-f1c1-46ee-8009-fe0ec4cf622b"
   },
   "outputs": [
    {
     "data": {
      "application/vnd.google.colaboratory.intrinsic+json": {
       "summary": "{\n  \"name\": \"df\",\n  \"rows\": 3,\n  \"fields\": [\n    {\n      \"column\": \"test_loss\",\n      \"properties\": {\n        \"dtype\": \"number\",\n        \"std\": 0.7987644665728777,\n        \"min\": 0.3198053929954767,\n        \"max\": 1.7073267819359899,\n        \"num_unique_values\": 3,\n        \"samples\": [\n          0.3198053929954767,\n          0.3278822568245232,\n          1.7073267819359899\n        ],\n        \"semantic_type\": \"\",\n        \"description\": \"\"\n      }\n    },\n    {\n      \"column\": \"test_acc\",\n      \"properties\": {\n        \"dtype\": \"number\",\n        \"std\": 0.9432567695666568,\n        \"min\": 88.67,\n        \"max\": 90.49,\n        \"num_unique_values\": 3,\n        \"samples\": [\n          90.49,\n          89.15,\n          88.67\n        ],\n        \"semantic_type\": \"\",\n        \"description\": \"\"\n      }\n    },\n    {\n      \"column\": \"total_number_of_parameters\",\n      \"properties\": {\n        \"dtype\": \"number\",\n        \"std\": 0,\n        \"min\": 23520326,\n        \"max\": 23520326,\n        \"num_unique_values\": 1,\n        \"samples\": [\n          23520326\n        ],\n        \"semantic_type\": \"\",\n        \"description\": \"\"\n      }\n    },\n    {\n      \"column\": \"model_size (MB)\",\n      \"properties\": {\n        \"dtype\": \"number\",\n        \"std\": 0,\n        \"min\": 90,\n        \"max\": 90,\n        \"num_unique_values\": 1,\n        \"samples\": [\n          90\n        ],\n        \"semantic_type\": \"\",\n        \"description\": \"\"\n      }\n    },\n    {\n      \"column\": \"time_per_pred_cpu\",\n      \"properties\": {\n        \"dtype\": \"number\",\n        \"std\": 0.001625833119767617,\n        \"min\": 0.137,\n        \"max\": 0.1402,\n        \"num_unique_values\": 3,\n        \"samples\": [\n          0.1402\n        ],\n        \"semantic_type\": \"\",\n        \"description\": \"\"\n      }\n    },\n    {\n      \"column\": \"model\",\n      \"properties\": {\n        \"dtype\": \"string\",\n        \"num_unique_values\": 3,\n        \"samples\": [\n          \"resnet50_v1\"\n        ],\n        \"semantic_type\": \"\",\n        \"description\": \"\"\n      }\n    }\n  ]\n}",
       "type": "dataframe",
       "variable_name": "df"
      },
      "text/html": [
       "\n",
       "  <div id=\"df-7c860f42-3c83-46fa-8f5d-cb3ae6bba70f\" class=\"colab-df-container\">\n",
       "    <div>\n",
       "<style scoped>\n",
       "    .dataframe tbody tr th:only-of-type {\n",
       "        vertical-align: middle;\n",
       "    }\n",
       "\n",
       "    .dataframe tbody tr th {\n",
       "        vertical-align: top;\n",
       "    }\n",
       "\n",
       "    .dataframe thead th {\n",
       "        text-align: right;\n",
       "    }\n",
       "</style>\n",
       "<table border=\"1\" class=\"dataframe\">\n",
       "  <thead>\n",
       "    <tr style=\"text-align: right;\">\n",
       "      <th></th>\n",
       "      <th>test_loss</th>\n",
       "      <th>test_acc</th>\n",
       "      <th>total_number_of_parameters</th>\n",
       "      <th>model_size (MB)</th>\n",
       "      <th>time_per_pred_cpu</th>\n",
       "      <th>model</th>\n",
       "    </tr>\n",
       "  </thead>\n",
       "  <tbody>\n",
       "    <tr>\n",
       "      <th>0</th>\n",
       "      <td>0.319805</td>\n",
       "      <td>90.49</td>\n",
       "      <td>23520326</td>\n",
       "      <td>90</td>\n",
       "      <td>0.1402</td>\n",
       "      <td>resnet50_v1</td>\n",
       "    </tr>\n",
       "    <tr>\n",
       "      <th>1</th>\n",
       "      <td>0.327882</td>\n",
       "      <td>89.15</td>\n",
       "      <td>23520326</td>\n",
       "      <td>90</td>\n",
       "      <td>0.1370</td>\n",
       "      <td>resnet50_v2</td>\n",
       "    </tr>\n",
       "    <tr>\n",
       "      <th>2</th>\n",
       "      <td>1.707327</td>\n",
       "      <td>88.67</td>\n",
       "      <td>23520326</td>\n",
       "      <td>90</td>\n",
       "      <td>0.1381</td>\n",
       "      <td>resnet50_v3</td>\n",
       "    </tr>\n",
       "  </tbody>\n",
       "</table>\n",
       "</div>\n",
       "    <div class=\"colab-df-buttons\">\n",
       "\n",
       "  <div class=\"colab-df-container\">\n",
       "    <button class=\"colab-df-convert\" onclick=\"convertToInteractive('df-7c860f42-3c83-46fa-8f5d-cb3ae6bba70f')\"\n",
       "            title=\"Convert this dataframe to an interactive table.\"\n",
       "            style=\"display:none;\">\n",
       "\n",
       "  <svg xmlns=\"http://www.w3.org/2000/svg\" height=\"24px\" viewBox=\"0 -960 960 960\">\n",
       "    <path d=\"M120-120v-720h720v720H120Zm60-500h600v-160H180v160Zm220 220h160v-160H400v160Zm0 220h160v-160H400v160ZM180-400h160v-160H180v160Zm440 0h160v-160H620v160ZM180-180h160v-160H180v160Zm440 0h160v-160H620v160Z\"/>\n",
       "  </svg>\n",
       "    </button>\n",
       "\n",
       "  <style>\n",
       "    .colab-df-container {\n",
       "      display:flex;\n",
       "      gap: 12px;\n",
       "    }\n",
       "\n",
       "    .colab-df-convert {\n",
       "      background-color: #E8F0FE;\n",
       "      border: none;\n",
       "      border-radius: 50%;\n",
       "      cursor: pointer;\n",
       "      display: none;\n",
       "      fill: #1967D2;\n",
       "      height: 32px;\n",
       "      padding: 0 0 0 0;\n",
       "      width: 32px;\n",
       "    }\n",
       "\n",
       "    .colab-df-convert:hover {\n",
       "      background-color: #E2EBFA;\n",
       "      box-shadow: 0px 1px 2px rgba(60, 64, 67, 0.3), 0px 1px 3px 1px rgba(60, 64, 67, 0.15);\n",
       "      fill: #174EA6;\n",
       "    }\n",
       "\n",
       "    .colab-df-buttons div {\n",
       "      margin-bottom: 4px;\n",
       "    }\n",
       "\n",
       "    [theme=dark] .colab-df-convert {\n",
       "      background-color: #3B4455;\n",
       "      fill: #D2E3FC;\n",
       "    }\n",
       "\n",
       "    [theme=dark] .colab-df-convert:hover {\n",
       "      background-color: #434B5C;\n",
       "      box-shadow: 0px 1px 3px 1px rgba(0, 0, 0, 0.15);\n",
       "      filter: drop-shadow(0px 1px 2px rgba(0, 0, 0, 0.3));\n",
       "      fill: #FFFFFF;\n",
       "    }\n",
       "  </style>\n",
       "\n",
       "    <script>\n",
       "      const buttonEl =\n",
       "        document.querySelector('#df-7c860f42-3c83-46fa-8f5d-cb3ae6bba70f button.colab-df-convert');\n",
       "      buttonEl.style.display =\n",
       "        google.colab.kernel.accessAllowed ? 'block' : 'none';\n",
       "\n",
       "      async function convertToInteractive(key) {\n",
       "        const element = document.querySelector('#df-7c860f42-3c83-46fa-8f5d-cb3ae6bba70f');\n",
       "        const dataTable =\n",
       "          await google.colab.kernel.invokeFunction('convertToInteractive',\n",
       "                                                    [key], {});\n",
       "        if (!dataTable) return;\n",
       "\n",
       "        const docLinkHtml = 'Like what you see? Visit the ' +\n",
       "          '<a target=\"_blank\" href=https://colab.research.google.com/notebooks/data_table.ipynb>data table notebook</a>'\n",
       "          + ' to learn more about interactive tables.';\n",
       "        element.innerHTML = '';\n",
       "        dataTable['output_type'] = 'display_data';\n",
       "        await google.colab.output.renderOutput(dataTable, element);\n",
       "        const docLink = document.createElement('div');\n",
       "        docLink.innerHTML = docLinkHtml;\n",
       "        element.appendChild(docLink);\n",
       "      }\n",
       "    </script>\n",
       "  </div>\n",
       "\n",
       "\n",
       "<div id=\"df-cf5bb322-1819-402c-9568-1566abf435c5\">\n",
       "  <button class=\"colab-df-quickchart\" onclick=\"quickchart('df-cf5bb322-1819-402c-9568-1566abf435c5')\"\n",
       "            title=\"Suggest charts\"\n",
       "            style=\"display:none;\">\n",
       "\n",
       "<svg xmlns=\"http://www.w3.org/2000/svg\" height=\"24px\"viewBox=\"0 0 24 24\"\n",
       "     width=\"24px\">\n",
       "    <g>\n",
       "        <path d=\"M19 3H5c-1.1 0-2 .9-2 2v14c0 1.1.9 2 2 2h14c1.1 0 2-.9 2-2V5c0-1.1-.9-2-2-2zM9 17H7v-7h2v7zm4 0h-2V7h2v10zm4 0h-2v-4h2v4z\"/>\n",
       "    </g>\n",
       "</svg>\n",
       "  </button>\n",
       "\n",
       "<style>\n",
       "  .colab-df-quickchart {\n",
       "      --bg-color: #E8F0FE;\n",
       "      --fill-color: #1967D2;\n",
       "      --hover-bg-color: #E2EBFA;\n",
       "      --hover-fill-color: #174EA6;\n",
       "      --disabled-fill-color: #AAA;\n",
       "      --disabled-bg-color: #DDD;\n",
       "  }\n",
       "\n",
       "  [theme=dark] .colab-df-quickchart {\n",
       "      --bg-color: #3B4455;\n",
       "      --fill-color: #D2E3FC;\n",
       "      --hover-bg-color: #434B5C;\n",
       "      --hover-fill-color: #FFFFFF;\n",
       "      --disabled-bg-color: #3B4455;\n",
       "      --disabled-fill-color: #666;\n",
       "  }\n",
       "\n",
       "  .colab-df-quickchart {\n",
       "    background-color: var(--bg-color);\n",
       "    border: none;\n",
       "    border-radius: 50%;\n",
       "    cursor: pointer;\n",
       "    display: none;\n",
       "    fill: var(--fill-color);\n",
       "    height: 32px;\n",
       "    padding: 0;\n",
       "    width: 32px;\n",
       "  }\n",
       "\n",
       "  .colab-df-quickchart:hover {\n",
       "    background-color: var(--hover-bg-color);\n",
       "    box-shadow: 0 1px 2px rgba(60, 64, 67, 0.3), 0 1px 3px 1px rgba(60, 64, 67, 0.15);\n",
       "    fill: var(--button-hover-fill-color);\n",
       "  }\n",
       "\n",
       "  .colab-df-quickchart-complete:disabled,\n",
       "  .colab-df-quickchart-complete:disabled:hover {\n",
       "    background-color: var(--disabled-bg-color);\n",
       "    fill: var(--disabled-fill-color);\n",
       "    box-shadow: none;\n",
       "  }\n",
       "\n",
       "  .colab-df-spinner {\n",
       "    border: 2px solid var(--fill-color);\n",
       "    border-color: transparent;\n",
       "    border-bottom-color: var(--fill-color);\n",
       "    animation:\n",
       "      spin 1s steps(1) infinite;\n",
       "  }\n",
       "\n",
       "  @keyframes spin {\n",
       "    0% {\n",
       "      border-color: transparent;\n",
       "      border-bottom-color: var(--fill-color);\n",
       "      border-left-color: var(--fill-color);\n",
       "    }\n",
       "    20% {\n",
       "      border-color: transparent;\n",
       "      border-left-color: var(--fill-color);\n",
       "      border-top-color: var(--fill-color);\n",
       "    }\n",
       "    30% {\n",
       "      border-color: transparent;\n",
       "      border-left-color: var(--fill-color);\n",
       "      border-top-color: var(--fill-color);\n",
       "      border-right-color: var(--fill-color);\n",
       "    }\n",
       "    40% {\n",
       "      border-color: transparent;\n",
       "      border-right-color: var(--fill-color);\n",
       "      border-top-color: var(--fill-color);\n",
       "    }\n",
       "    60% {\n",
       "      border-color: transparent;\n",
       "      border-right-color: var(--fill-color);\n",
       "    }\n",
       "    80% {\n",
       "      border-color: transparent;\n",
       "      border-right-color: var(--fill-color);\n",
       "      border-bottom-color: var(--fill-color);\n",
       "    }\n",
       "    90% {\n",
       "      border-color: transparent;\n",
       "      border-bottom-color: var(--fill-color);\n",
       "    }\n",
       "  }\n",
       "</style>\n",
       "\n",
       "  <script>\n",
       "    async function quickchart(key) {\n",
       "      const quickchartButtonEl =\n",
       "        document.querySelector('#' + key + ' button');\n",
       "      quickchartButtonEl.disabled = true;  // To prevent multiple clicks.\n",
       "      quickchartButtonEl.classList.add('colab-df-spinner');\n",
       "      try {\n",
       "        const charts = await google.colab.kernel.invokeFunction(\n",
       "            'suggestCharts', [key], {});\n",
       "      } catch (error) {\n",
       "        console.error('Error during call to suggestCharts:', error);\n",
       "      }\n",
       "      quickchartButtonEl.classList.remove('colab-df-spinner');\n",
       "      quickchartButtonEl.classList.add('colab-df-quickchart-complete');\n",
       "    }\n",
       "    (() => {\n",
       "      let quickchartButtonEl =\n",
       "        document.querySelector('#df-cf5bb322-1819-402c-9568-1566abf435c5 button');\n",
       "      quickchartButtonEl.style.display =\n",
       "        google.colab.kernel.accessAllowed ? 'block' : 'none';\n",
       "    })();\n",
       "  </script>\n",
       "</div>\n",
       "    </div>\n",
       "  </div>\n"
      ],
      "text/plain": [
       "   test_loss  test_acc  total_number_of_parameters  model_size (MB)  \\\n",
       "0   0.319805     90.49                    23520326               90   \n",
       "1   0.327882     89.15                    23520326               90   \n",
       "2   1.707327     88.67                    23520326               90   \n",
       "\n",
       "   time_per_pred_cpu        model  \n",
       "0             0.1402  resnet50_v1  \n",
       "1             0.1370  resnet50_v2  \n",
       "2             0.1381  resnet50_v3  "
      ]
     },
     "execution_count": 73,
     "metadata": {},
     "output_type": "execute_result"
    }
   ],
   "source": [
    "df = pd.DataFrame([resnet50_v1_stats, resnet50_v2_stats, resnet50_v3_stats])\n",
    "df[\"model\"] = [\"resnet50_v1\", \"resnet50_v2\", \"resnet50_v3\"]\n",
    "df[\"test_acc\"] = round(df[\"test_acc\"] * 100, 2)\n",
    "df"
   ]
  },
  {
   "cell_type": "code",
   "execution_count": 74,
   "id": "fb635071-565d-41f1-aa15-d7eaed280c66",
   "metadata": {
    "colab": {
     "base_uri": "https://localhost:8080/",
     "height": 732
    },
    "id": "fb635071-565d-41f1-aa15-d7eaed280c66",
    "outputId": "a73db219-36ce-46f2-9626-1968a6c9fcfa"
   },
   "outputs": [
    {
     "data": {
      "image/png": "[encoded data removed]",
      "text/plain": [
       "<Figure size 1200x800 with 1 Axes>"
      ]
     },
     "metadata": {},
     "output_type": "display_data"
    }
   ],
   "source": [
    "fig, ax = plt.subplots(figsize=(12, 8))\n",
    "scatter = ax.scatter(data=df,\n",
    "                     x=\"time_per_pred_cpu\",\n",
    "                     y=\"test_acc\",\n",
    "                     c=[\"blue\", \"green\", \"orange\"],\n",
    "                     s=\"model_size (MB)\") # size the dots by the model sizes\n",
    "\n",
    "ax.set_title(\"Waste Classifier Models - Inference Speed vs Performance\", fontsize=18)\n",
    "ax.set_xlabel(\"Prediction time per image (seconds)\", fontsize=14)\n",
    "ax.set_ylabel(\"Test accuracy (%)\", fontsize=14)\n",
    "ax.tick_params(axis='both', labelsize=12)\n",
    "ax.grid(True)\n",
    "\n",
    "for index, row in df.iterrows():\n",
    "    ax.annotate(text=row[\"model\"],\n",
    "                xy=(row[\"time_per_pred_cpu\"]+0.0006, row[\"test_acc\"]+0.03),\n",
    "                size=12)\n",
    "\n",
    "handles, labels = scatter.legend_elements(prop=\"sizes\", alpha=0.5)\n",
    "model_size_legend = ax.legend(handles,\n",
    "                              labels,\n",
    "                              loc=\"lower right\",\n",
    "                              title=\"Model size (MB)\",\n",
    "                              fontsize=12)\n",
    "\n",
    "plt.savefig(\"resnet50-versions-inference-speed-vs-performance.jpg\")\n",
    "plt.show()"
   ]
  }
 ],
 "metadata": {
  "accelerator": "GPU",
  "colab": {
   "gpuType": "T4",
   "provenance": []
  },
  "kernelspec": {
   "display_name": "Python 3 (ipykernel)",
   "language": "python",
   "name": "python3"
  },
  "language_info": {
   "codemirror_mode": {
    "name": "ipython",
    "version": 3
   },
   "file_extension": ".py",
   "mimetype": "text/x-python",
   "name": "python",
   "nbconvert_exporter": "python",
   "pygments_lexer": "ipython3",
   "version": "3.11.5"
  },
  "widgets": {
   "application/vnd.jupyter.widget-state+json": {
    "03e5d6e653474ebfa4cf2ce76ab0223a": {
     "model_module": "@jupyter-widgets/base",
     "model_module_version": "1.2.0",
     "model_name": "LayoutModel",
     "state": {
      "_model_module": "@jupyter-widgets/base",
      "_model_module_version": "1.2.0",
      "_model_name": "LayoutModel",
      "_view_count": null,
      "_view_module": "@jupyter-widgets/base",
      "_view_module_version": "1.2.0",
      "_view_name": "LayoutView",
      "align_content": null,
      "align_items": null,
      "align_self": null,
      "border": null,
      "bottom": null,
      "display": null,
      "flex": null,
      "flex_flow": null,
      "grid_area": null,
      "grid_auto_columns": null,
      "grid_auto_flow": null,
      "grid_auto_rows": null,
      "grid_column": null,
      "grid_gap": null,
      "grid_row": null,
      "grid_template_areas": null,
      "grid_template_columns": null,
      "grid_template_rows": null,
      "height": null,
      "justify_content": null,
      "justify_items": null,
      "left": null,
      "margin": null,
      "max_height": null,
      "max_width": null,
      "min_height": null,
      "min_width": null,
      "object_fit": null,
      "object_position": null,
      "order": null,
      "overflow": null,
      "overflow_x": null,
      "overflow_y": null,
      "padding": null,
      "right": null,
      "top": null,
      "visibility": null,
      "width": null
     }
    },
    "0801b7bc77194d03a442b2c4867a3819": {
     "model_module": "@jupyter-widgets/base",
     "model_module_version": "1.2.0",
     "model_name": "LayoutModel",
     "state": {
      "_model_module": "@jupyter-widgets/base",
      "_model_module_version": "1.2.0",
      "_model_name": "LayoutModel",
      "_view_count": null,
      "_view_module": "@jupyter-widgets/base",
      "_view_module_version": "1.2.0",
      "_view_name": "LayoutView",
      "align_content": null,
      "align_items": null,
      "align_self": null,
      "border": null,
      "bottom": null,
      "display": null,
      "flex": null,
      "flex_flow": null,
      "grid_area": null,
      "grid_auto_columns": null,
      "grid_auto_flow": null,
      "grid_auto_rows": null,
      "grid_column": null,
      "grid_gap": null,
      "grid_row": null,
      "grid_template_areas": null,
      "grid_template_columns": null,
      "grid_template_rows": null,
      "height": null,
      "justify_content": null,
      "justify_items": null,
      "left": null,
      "margin": null,
      "max_height": null,
      "max_width": null,
      "min_height": null,
      "min_width": null,
      "object_fit": null,
      "object_position": null,
      "order": null,
      "overflow": null,
      "overflow_x": null,
      "overflow_y": null,
      "padding": null,
      "right": null,
      "top": null,
      "visibility": null,
      "width": null
     }
    },
    "0c2500e6674d45b9b05c29929c141219": {
     "model_module": "@jupyter-widgets/controls",
     "model_module_version": "1.5.0",
     "model_name": "HTMLModel",
     "state": {
      "_dom_classes": [],
      "_model_module": "@jupyter-widgets/controls",
      "_model_module_version": "1.5.0",
      "_model_name": "HTMLModel",
      "_view_count": null,
      "_view_module": "@jupyter-widgets/controls",
      "_view_module_version": "1.5.0",
      "_view_name": "HTMLView",
      "description": "",
      "description_tooltip": null,
      "layout": "IPY_MODEL_f0139e5a1f394562a6cd209a66609af8",
      "placeholder": "​",
      "style": "IPY_MODEL_f66429fb241f4b4bb3e934e377ebf532",
      "value": "100%"
     }
    },
    "0f38656b89a046c386e1534a4a230050": {
     "model_module": "@jupyter-widgets/controls",
     "model_module_version": "1.5.0",
     "model_name": "DescriptionStyleModel",
     "state": {
      "_model_module": "@jupyter-widgets/controls",
      "_model_module_version": "1.5.0",
      "_model_name": "DescriptionStyleModel",
      "_view_count": null,
      "_view_module": "@jupyter-widgets/base",
      "_view_module_version": "1.2.0",
      "_view_name": "StyleView",
      "description_width": ""
     }
    },
    "10c129f851184dfeaef8f54f6f2d7447": {
     "model_module": "@jupyter-widgets/controls",
     "model_module_version": "1.5.0",
     "model_name": "FloatProgressModel",
     "state": {
      "_dom_classes": [],
      "_model_module": "@jupyter-widgets/controls",
      "_model_module_version": "1.5.0",
      "_model_name": "FloatProgressModel",
      "_view_count": null,
      "_view_module": "@jupyter-widgets/controls",
      "_view_module_version": "1.5.0",
      "_view_name": "ProgressView",
      "bar_style": "success",
      "description": "",
      "description_tooltip": null,
      "layout": "IPY_MODEL_c38844597f8043639b83011f807530ac",
      "max": 30,
      "min": 0,
      "orientation": "horizontal",
      "style": "IPY_MODEL_8e0ba18b38564b9c83159019512e8c9b",
      "value": 30
     }
    },
    "134aa5c9159f4c7f97b985eb500712e9": {
     "model_module": "@jupyter-widgets/controls",
     "model_module_version": "1.5.0",
     "model_name": "FloatProgressModel",
     "state": {
      "_dom_classes": [],
      "_model_module": "@jupyter-widgets/controls",
      "_model_module_version": "1.5.0",
      "_model_name": "FloatProgressModel",
      "_view_count": null,
      "_view_module": "@jupyter-widgets/controls",
      "_view_module_version": "1.5.0",
      "_view_name": "ProgressView",
      "bar_style": "success",
      "description": "",
      "description_tooltip": null,
      "layout": "IPY_MODEL_512eca65f67a44a3be4280e86ff37d54",
      "max": 30,
      "min": 0,
      "orientation": "horizontal",
      "style": "IPY_MODEL_1a17700ddb0a4b2fb255f08b38100d1f",
      "value": 30
     }
    },
    "182c9e8855da46538144de6b07bb53d1": {
     "model_module": "@jupyter-widgets/controls",
     "model_module_version": "1.5.0",
     "model_name": "FloatProgressModel",
     "state": {
      "_dom_classes": [],
      "_model_module": "@jupyter-widgets/controls",
      "_model_module_version": "1.5.0",
      "_model_name": "FloatProgressModel",
      "_view_count": null,
      "_view_module": "@jupyter-widgets/controls",
      "_view_module_version": "1.5.0",
      "_view_name": "ProgressView",
      "bar_style": "success",
      "description": "",
      "description_tooltip": null,
      "layout": "IPY_MODEL_1bc8e3b3233f4f179aa14909842355f7",
      "max": 30,
      "min": 0,
      "orientation": "horizontal",
      "style": "IPY_MODEL_902a49d4055f431e95231cf04659d46d",
      "value": 30
     }
    },
    "18995ded6de244f6ac94faae236f89e3": {
     "model_module": "@jupyter-widgets/controls",
     "model_module_version": "1.5.0",
     "model_name": "ProgressStyleModel",
     "state": {
      "_model_module": "@jupyter-widgets/controls",
      "_model_module_version": "1.5.0",
      "_model_name": "ProgressStyleModel",
      "_view_count": null,
      "_view_module": "@jupyter-widgets/base",
      "_view_module_version": "1.2.0",
      "_view_name": "StyleView",
      "bar_color": null,
      "description_width": ""
     }
    },
    "1a095f1980b04f04b285ac59294bbf50": {
     "model_module": "@jupyter-widgets/controls",
     "model_module_version": "1.5.0",
     "model_name": "HTMLModel",
     "state": {
      "_dom_classes": [],
      "_model_module": "@jupyter-widgets/controls",
      "_model_module_version": "1.5.0",
      "_model_name": "HTMLModel",
      "_view_count": null,
      "_view_module": "@jupyter-widgets/controls",
      "_view_module_version": "1.5.0",
      "_view_name": "HTMLView",
      "description": "",
      "description_tooltip": null,
      "layout": "IPY_MODEL_c9667fa8ca984fc795e130a7f84eb52f",
      "placeholder": "​",
      "style": "IPY_MODEL_4525c54d1c1341549887f4502db202d4",
      "value": "100%"
     }
    },
    "1a17700ddb0a4b2fb255f08b38100d1f": {
     "model_module": "@jupyter-widgets/controls",
     "model_module_version": "1.5.0",
     "model_name": "ProgressStyleModel",
     "state": {
      "_model_module": "@jupyter-widgets/controls",
      "_model_module_version": "1.5.0",
      "_model_name": "ProgressStyleModel",
      "_view_count": null,
      "_view_module": "@jupyter-widgets/base",
      "_view_module_version": "1.2.0",
      "_view_name": "StyleView",
      "bar_color": null,
      "description_width": ""
     }
    },
    "1bc8e3b3233f4f179aa14909842355f7": {
     "model_module": "@jupyter-widgets/base",
     "model_module_version": "1.2.0",
     "model_name": "LayoutModel",
     "state": {
      "_model_module": "@jupyter-widgets/base",
      "_model_module_version": "1.2.0",
      "_model_name": "LayoutModel",
      "_view_count": null,
      "_view_module": "@jupyter-widgets/base",
      "_view_module_version": "1.2.0",
      "_view_name": "LayoutView",
      "align_content": null,
      "align_items": null,
      "align_self": null,
      "border": null,
      "bottom": null,
      "display": null,
      "flex": null,
      "flex_flow": null,
      "grid_area": null,
      "grid_auto_columns": null,
      "grid_auto_flow": null,
      "grid_auto_rows": null,
      "grid_column": null,
      "grid_gap": null,
      "grid_row": null,
      "grid_template_areas": null,
      "grid_template_columns": null,
      "grid_template_rows": null,
      "height": null,
      "justify_content": null,
      "justify_items": null,
      "left": null,
      "margin": null,
      "max_height": null,
      "max_width": null,
      "min_height": null,
      "min_width": null,
      "object_fit": null,
      "object_position": null,
      "order": null,
      "overflow": null,
      "overflow_x": null,
      "overflow_y": null,
      "padding": null,
      "right": null,
      "top": null,
      "visibility": null,
      "width": null
     }
    },
    "1e1fcb3fda6c4be48b52480eed265e57": {
     "model_module": "@jupyter-widgets/base",
     "model_module_version": "1.2.0",
     "model_name": "LayoutModel",
     "state": {
      "_model_module": "@jupyter-widgets/base",
      "_model_module_version": "1.2.0",
      "_model_name": "LayoutModel",
      "_view_count": null,
      "_view_module": "@jupyter-widgets/base",
      "_view_module_version": "1.2.0",
      "_view_name": "LayoutView",
      "align_content": null,
      "align_items": null,
      "align_self": null,
      "border": null,
      "bottom": null,
      "display": null,
      "flex": null,
      "flex_flow": null,
      "grid_area": null,
      "grid_auto_columns": null,
      "grid_auto_flow": null,
      "grid_auto_rows": null,
      "grid_column": null,
      "grid_gap": null,
      "grid_row": null,
      "grid_template_areas": null,
      "grid_template_columns": null,
      "grid_template_rows": null,
      "height": null,
      "justify_content": null,
      "justify_items": null,
      "left": null,
      "margin": null,
      "max_height": null,
      "max_width": null,
      "min_height": null,
      "min_width": null,
      "object_fit": null,
      "object_position": null,
      "order": null,
      "overflow": null,
      "overflow_x": null,
      "overflow_y": null,
      "padding": null,
      "right": null,
      "top": null,
      "visibility": null,
      "width": null
     }
    },
    "2036eef9e64a441292827520bca69686": {
     "model_module": "@jupyter-widgets/base",
     "model_module_version": "1.2.0",
     "model_name": "LayoutModel",
     "state": {
      "_model_module": "@jupyter-widgets/base",
      "_model_module_version": "1.2.0",
      "_model_name": "LayoutModel",
      "_view_count": null,
      "_view_module": "@jupyter-widgets/base",
      "_view_module_version": "1.2.0",
      "_view_name": "LayoutView",
      "align_content": null,
      "align_items": null,
      "align_self": null,
      "border": null,
      "bottom": null,
      "display": null,
      "flex": null,
      "flex_flow": null,
      "grid_area": null,
      "grid_auto_columns": null,
      "grid_auto_flow": null,
      "grid_auto_rows": null,
      "grid_column": null,
      "grid_gap": null,
      "grid_row": null,
      "grid_template_areas": null,
      "grid_template_columns": null,
      "grid_template_rows": null,
      "height": null,
      "justify_content": null,
      "justify_items": null,
      "left": null,
      "margin": null,
      "max_height": null,
      "max_width": null,
      "min_height": null,
      "min_width": null,
      "object_fit": null,
      "object_position": null,
      "order": null,
      "overflow": null,
      "overflow_x": null,
      "overflow_y": null,
      "padding": null,
      "right": null,
      "top": null,
      "visibility": null,
      "width": null
     }
    },
    "20ccc68ec9d34b748181e2cd4753cc21": {
     "model_module": "@jupyter-widgets/controls",
     "model_module_version": "1.5.0",
     "model_name": "HBoxModel",
     "state": {
      "_dom_classes": [],
      "_model_module": "@jupyter-widgets/controls",
      "_model_module_version": "1.5.0",
      "_model_name": "HBoxModel",
      "_view_count": null,
      "_view_module": "@jupyter-widgets/controls",
      "_view_module_version": "1.5.0",
      "_view_name": "HBoxView",
      "box_style": "",
      "children": [
       "IPY_MODEL_df6576c9a8a3464cb5f67adc17e09d11",
       "IPY_MODEL_b1a86d75b8e24575ab9d9ec2d1b1ba5a",
       "IPY_MODEL_529738c0a9424684a4166f752ac06539"
      ],
      "layout": "IPY_MODEL_03e5d6e653474ebfa4cf2ce76ab0223a"
     }
    },
    "224766f547a44867bd1e843de7262e4f": {
     "model_module": "@jupyter-widgets/controls",
     "model_module_version": "1.5.0",
     "model_name": "DescriptionStyleModel",
     "state": {
      "_model_module": "@jupyter-widgets/controls",
      "_model_module_version": "1.5.0",
      "_model_name": "DescriptionStyleModel",
      "_view_count": null,
      "_view_module": "@jupyter-widgets/base",
      "_view_module_version": "1.2.0",
      "_view_name": "StyleView",
      "description_width": ""
     }
    },
    "30b3e9f1cf5c4102be43c48ccdd7619d": {
     "model_module": "@jupyter-widgets/controls",
     "model_module_version": "1.5.0",
     "model_name": "FloatProgressModel",
     "state": {
      "_dom_classes": [],
      "_model_module": "@jupyter-widgets/controls",
      "_model_module_version": "1.5.0",
      "_model_name": "FloatProgressModel",
      "_view_count": null,
      "_view_module": "@jupyter-widgets/controls",
      "_view_module_version": "1.5.0",
      "_view_name": "ProgressView",
      "bar_style": "success",
      "description": "",
      "description_tooltip": null,
      "layout": "IPY_MODEL_2036eef9e64a441292827520bca69686",
      "max": 508,
      "min": 0,
      "orientation": "horizontal",
      "style": "IPY_MODEL_5054e488166840978635591a94d8bbd7",
      "value": 508
     }
    },
    "343e81ebb9014dacbeacdcf1895808df": {
     "model_module": "@jupyter-widgets/controls",
     "model_module_version": "1.5.0",
     "model_name": "HTMLModel",
     "state": {
      "_dom_classes": [],
      "_model_module": "@jupyter-widgets/controls",
      "_model_module_version": "1.5.0",
      "_model_name": "HTMLModel",
      "_view_count": null,
      "_view_module": "@jupyter-widgets/controls",
      "_view_module_version": "1.5.0",
      "_view_name": "HTMLView",
      "description": "",
      "description_tooltip": null,
      "layout": "IPY_MODEL_a12b92eaf1e4468e836a7ddf8d19f1a7",
      "placeholder": "​",
      "style": "IPY_MODEL_d6ce9182be35403d8f9d92596ed6c7b5",
      "value": "100%"
     }
    },
    "3d3d3e421be845d3a6ce97c02f5bfa5a": {
     "model_module": "@jupyter-widgets/base",
     "model_module_version": "1.2.0",
     "model_name": "LayoutModel",
     "state": {
      "_model_module": "@jupyter-widgets/base",
      "_model_module_version": "1.2.0",
      "_model_name": "LayoutModel",
      "_view_count": null,
      "_view_module": "@jupyter-widgets/base",
      "_view_module_version": "1.2.0",
      "_view_name": "LayoutView",
      "align_content": null,
      "align_items": null,
      "align_self": null,
      "border": null,
      "bottom": null,
      "display": null,
      "flex": null,
      "flex_flow": null,
      "grid_area": null,
      "grid_auto_columns": null,
      "grid_auto_flow": null,
      "grid_auto_rows": null,
      "grid_column": null,
      "grid_gap": null,
      "grid_row": null,
      "grid_template_areas": null,
      "grid_template_columns": null,
      "grid_template_rows": null,
      "height": null,
      "justify_content": null,
      "justify_items": null,
      "left": null,
      "margin": null,
      "max_height": null,
      "max_width": null,
      "min_height": null,
      "min_width": null,
      "object_fit": null,
      "object_position": null,
      "order": null,
      "overflow": null,
      "overflow_x": null,
      "overflow_y": null,
      "padding": null,
      "right": null,
      "top": null,
      "visibility": null,
      "width": null
     }
    },
    "4525c54d1c1341549887f4502db202d4": {
     "model_module": "@jupyter-widgets/controls",
     "model_module_version": "1.5.0",
     "model_name": "DescriptionStyleModel",
     "state": {
      "_model_module": "@jupyter-widgets/controls",
      "_model_module_version": "1.5.0",
      "_model_name": "DescriptionStyleModel",
      "_view_count": null,
      "_view_module": "@jupyter-widgets/base",
      "_view_module_version": "1.2.0",
      "_view_name": "StyleView",
      "description_width": ""
     }
    },
    "5054e488166840978635591a94d8bbd7": {
     "model_module": "@jupyter-widgets/controls",
     "model_module_version": "1.5.0",
     "model_name": "ProgressStyleModel",
     "state": {
      "_model_module": "@jupyter-widgets/controls",
      "_model_module_version": "1.5.0",
      "_model_name": "ProgressStyleModel",
      "_view_count": null,
      "_view_module": "@jupyter-widgets/base",
      "_view_module_version": "1.2.0",
      "_view_name": "StyleView",
      "bar_color": null,
      "description_width": ""
     }
    },
    "512eca65f67a44a3be4280e86ff37d54": {
     "model_module": "@jupyter-widgets/base",
     "model_module_version": "1.2.0",
     "model_name": "LayoutModel",
     "state": {
      "_model_module": "@jupyter-widgets/base",
      "_model_module_version": "1.2.0",
      "_model_name": "LayoutModel",
      "_view_count": null,
      "_view_module": "@jupyter-widgets/base",
      "_view_module_version": "1.2.0",
      "_view_name": "LayoutView",
      "align_content": null,
      "align_items": null,
      "align_self": null,
      "border": null,
      "bottom": null,
      "display": null,
      "flex": null,
      "flex_flow": null,
      "grid_area": null,
      "grid_auto_columns": null,
      "grid_auto_flow": null,
      "grid_auto_rows": null,
      "grid_column": null,
      "grid_gap": null,
      "grid_row": null,
      "grid_template_areas": null,
      "grid_template_columns": null,
      "grid_template_rows": null,
      "height": null,
      "justify_content": null,
      "justify_items": null,
      "left": null,
      "margin": null,
      "max_height": null,
      "max_width": null,
      "min_height": null,
      "min_width": null,
      "object_fit": null,
      "object_position": null,
      "order": null,
      "overflow": null,
      "overflow_x": null,
      "overflow_y": null,
      "padding": null,
      "right": null,
      "top": null,
      "visibility": null,
      "width": null
     }
    },
    "529738c0a9424684a4166f752ac06539": {
     "model_module": "@jupyter-widgets/controls",
     "model_module_version": "1.5.0",
     "model_name": "HTMLModel",
     "state": {
      "_dom_classes": [],
      "_model_module": "@jupyter-widgets/controls",
      "_model_module_version": "1.5.0",
      "_model_name": "HTMLModel",
      "_view_count": null,
      "_view_module": "@jupyter-widgets/controls",
      "_view_module_version": "1.5.0",
      "_view_name": "HTMLView",
      "description": "",
      "description_tooltip": null,
      "layout": "IPY_MODEL_5f464344d26f4381affafc418e9e113f",
      "placeholder": "​",
      "style": "IPY_MODEL_6bf9771d79d8476f898f036598830f7c",
      "value": " 508/508 [01:11&lt;00:00,  5.29it/s]"
     }
    },
    "52b76526730d4db3852e2c12987abd85": {
     "model_module": "@jupyter-widgets/controls",
     "model_module_version": "1.5.0",
     "model_name": "HTMLModel",
     "state": {
      "_dom_classes": [],
      "_model_module": "@jupyter-widgets/controls",
      "_model_module_version": "1.5.0",
      "_model_name": "HTMLModel",
      "_view_count": null,
      "_view_module": "@jupyter-widgets/controls",
      "_view_module_version": "1.5.0",
      "_view_name": "HTMLView",
      "description": "",
      "description_tooltip": null,
      "layout": "IPY_MODEL_e891ec1f26264d35903e918b03a6ae1b",
      "placeholder": "​",
      "style": "IPY_MODEL_d95f38ae81334353ad28a591c9f86d38",
      "value": "100%"
     }
    },
    "56139cd91287472a97041e6eb4aa5936": {
     "model_module": "@jupyter-widgets/controls",
     "model_module_version": "1.5.0",
     "model_name": "HTMLModel",
     "state": {
      "_dom_classes": [],
      "_model_module": "@jupyter-widgets/controls",
      "_model_module_version": "1.5.0",
      "_model_name": "HTMLModel",
      "_view_count": null,
      "_view_module": "@jupyter-widgets/controls",
      "_view_module_version": "1.5.0",
      "_view_name": "HTMLView",
      "description": "",
      "description_tooltip": null,
      "layout": "IPY_MODEL_5f0ccc4dce2e4e3ba295e4c8cacfcec2",
      "placeholder": "​",
      "style": "IPY_MODEL_0f38656b89a046c386e1534a4a230050",
      "value": " 30/30 [07:12&lt;00:00, 14.32s/it]"
     }
    },
    "5d15fe446cb34fba8fb0271c34b3dc75": {
     "model_module": "@jupyter-widgets/base",
     "model_module_version": "1.2.0",
     "model_name": "LayoutModel",
     "state": {
      "_model_module": "@jupyter-widgets/base",
      "_model_module_version": "1.2.0",
      "_model_name": "LayoutModel",
      "_view_count": null,
      "_view_module": "@jupyter-widgets/base",
      "_view_module_version": "1.2.0",
      "_view_name": "LayoutView",
      "align_content": null,
      "align_items": null,
      "align_self": null,
      "border": null,
      "bottom": null,
      "display": null,
      "flex": null,
      "flex_flow": null,
      "grid_area": null,
      "grid_auto_columns": null,
      "grid_auto_flow": null,
      "grid_auto_rows": null,
      "grid_column": null,
      "grid_gap": null,
      "grid_row": null,
      "grid_template_areas": null,
      "grid_template_columns": null,
      "grid_template_rows": null,
      "height": null,
      "justify_content": null,
      "justify_items": null,
      "left": null,
      "margin": null,
      "max_height": null,
      "max_width": null,
      "min_height": null,
      "min_width": null,
      "object_fit": null,
      "object_position": null,
      "order": null,
      "overflow": null,
      "overflow_x": null,
      "overflow_y": null,
      "padding": null,
      "right": null,
      "top": null,
      "visibility": null,
      "width": null
     }
    },
    "5f0ccc4dce2e4e3ba295e4c8cacfcec2": {
     "model_module": "@jupyter-widgets/base",
     "model_module_version": "1.2.0",
     "model_name": "LayoutModel",
     "state": {
      "_model_module": "@jupyter-widgets/base",
      "_model_module_version": "1.2.0",
      "_model_name": "LayoutModel",
      "_view_count": null,
      "_view_module": "@jupyter-widgets/base",
      "_view_module_version": "1.2.0",
      "_view_name": "LayoutView",
      "align_content": null,
      "align_items": null,
      "align_self": null,
      "border": null,
      "bottom": null,
      "display": null,
      "flex": null,
      "flex_flow": null,
      "grid_area": null,
      "grid_auto_columns": null,
      "grid_auto_flow": null,
      "grid_auto_rows": null,
      "grid_column": null,
      "grid_gap": null,
      "grid_row": null,
      "grid_template_areas": null,
      "grid_template_columns": null,
      "grid_template_rows": null,
      "height": null,
      "justify_content": null,
      "justify_items": null,
      "left": null,
      "margin": null,
      "max_height": null,
      "max_width": null,
      "min_height": null,
      "min_width": null,
      "object_fit": null,
      "object_position": null,
      "order": null,
      "overflow": null,
      "overflow_x": null,
      "overflow_y": null,
      "padding": null,
      "right": null,
      "top": null,
      "visibility": null,
      "width": null
     }
    },
    "5f464344d26f4381affafc418e9e113f": {
     "model_module": "@jupyter-widgets/base",
     "model_module_version": "1.2.0",
     "model_name": "LayoutModel",
     "state": {
      "_model_module": "@jupyter-widgets/base",
      "_model_module_version": "1.2.0",
      "_model_name": "LayoutModel",
      "_view_count": null,
      "_view_module": "@jupyter-widgets/base",
      "_view_module_version": "1.2.0",
      "_view_name": "LayoutView",
      "align_content": null,
      "align_items": null,
      "align_self": null,
      "border": null,
      "bottom": null,
      "display": null,
      "flex": null,
      "flex_flow": null,
      "grid_area": null,
      "grid_auto_columns": null,
      "grid_auto_flow": null,
      "grid_auto_rows": null,
      "grid_column": null,
      "grid_gap": null,
      "grid_row": null,
      "grid_template_areas": null,
      "grid_template_columns": null,
      "grid_template_rows": null,
      "height": null,
      "justify_content": null,
      "justify_items": null,
      "left": null,
      "margin": null,
      "max_height": null,
      "max_width": null,
      "min_height": null,
      "min_width": null,
      "object_fit": null,
      "object_position": null,
      "order": null,
      "overflow": null,
      "overflow_x": null,
      "overflow_y": null,
      "padding": null,
      "right": null,
      "top": null,
      "visibility": null,
      "width": null
     }
    },
    "6536ebd582404182a654b43321913fb8": {
     "model_module": "@jupyter-widgets/controls",
     "model_module_version": "1.5.0",
     "model_name": "HBoxModel",
     "state": {
      "_dom_classes": [],
      "_model_module": "@jupyter-widgets/controls",
      "_model_module_version": "1.5.0",
      "_model_name": "HBoxModel",
      "_view_count": null,
      "_view_module": "@jupyter-widgets/controls",
      "_view_module_version": "1.5.0",
      "_view_name": "HBoxView",
      "box_style": "",
      "children": [
       "IPY_MODEL_52b76526730d4db3852e2c12987abd85",
       "IPY_MODEL_134aa5c9159f4c7f97b985eb500712e9",
       "IPY_MODEL_fcf1ec06788e40de967a0327c31e4fc0"
      ],
      "layout": "IPY_MODEL_756809b1341b46108a83c2615e06b28c"
     }
    },
    "6787838a83bd46d3abdb84deeae056e1": {
     "model_module": "@jupyter-widgets/controls",
     "model_module_version": "1.5.0",
     "model_name": "DescriptionStyleModel",
     "state": {
      "_model_module": "@jupyter-widgets/controls",
      "_model_module_version": "1.5.0",
      "_model_name": "DescriptionStyleModel",
      "_view_count": null,
      "_view_module": "@jupyter-widgets/base",
      "_view_module_version": "1.2.0",
      "_view_name": "StyleView",
      "description_width": ""
     }
    },
    "6a31fed33e7447afb0af95e82155ba29": {
     "model_module": "@jupyter-widgets/base",
     "model_module_version": "1.2.0",
     "model_name": "LayoutModel",
     "state": {
      "_model_module": "@jupyter-widgets/base",
      "_model_module_version": "1.2.0",
      "_model_name": "LayoutModel",
      "_view_count": null,
      "_view_module": "@jupyter-widgets/base",
      "_view_module_version": "1.2.0",
      "_view_name": "LayoutView",
      "align_content": null,
      "align_items": null,
      "align_self": null,
      "border": null,
      "bottom": null,
      "display": null,
      "flex": null,
      "flex_flow": null,
      "grid_area": null,
      "grid_auto_columns": null,
      "grid_auto_flow": null,
      "grid_auto_rows": null,
      "grid_column": null,
      "grid_gap": null,
      "grid_row": null,
      "grid_template_areas": null,
      "grid_template_columns": null,
      "grid_template_rows": null,
      "height": null,
      "justify_content": null,
      "justify_items": null,
      "left": null,
      "margin": null,
      "max_height": null,
      "max_width": null,
      "min_height": null,
      "min_width": null,
      "object_fit": null,
      "object_position": null,
      "order": null,
      "overflow": null,
      "overflow_x": null,
      "overflow_y": null,
      "padding": null,
      "right": null,
      "top": null,
      "visibility": null,
      "width": null
     }
    },
    "6bf9771d79d8476f898f036598830f7c": {
     "model_module": "@jupyter-widgets/controls",
     "model_module_version": "1.5.0",
     "model_name": "DescriptionStyleModel",
     "state": {
      "_model_module": "@jupyter-widgets/controls",
      "_model_module_version": "1.5.0",
      "_model_name": "DescriptionStyleModel",
      "_view_count": null,
      "_view_module": "@jupyter-widgets/base",
      "_view_module_version": "1.2.0",
      "_view_name": "StyleView",
      "description_width": ""
     }
    },
    "700f9df61e7b41b281eae5dd05e62404": {
     "model_module": "@jupyter-widgets/base",
     "model_module_version": "1.2.0",
     "model_name": "LayoutModel",
     "state": {
      "_model_module": "@jupyter-widgets/base",
      "_model_module_version": "1.2.0",
      "_model_name": "LayoutModel",
      "_view_count": null,
      "_view_module": "@jupyter-widgets/base",
      "_view_module_version": "1.2.0",
      "_view_name": "LayoutView",
      "align_content": null,
      "align_items": null,
      "align_self": null,
      "border": null,
      "bottom": null,
      "display": null,
      "flex": null,
      "flex_flow": null,
      "grid_area": null,
      "grid_auto_columns": null,
      "grid_auto_flow": null,
      "grid_auto_rows": null,
      "grid_column": null,
      "grid_gap": null,
      "grid_row": null,
      "grid_template_areas": null,
      "grid_template_columns": null,
      "grid_template_rows": null,
      "height": null,
      "justify_content": null,
      "justify_items": null,
      "left": null,
      "margin": null,
      "max_height": null,
      "max_width": null,
      "min_height": null,
      "min_width": null,
      "object_fit": null,
      "object_position": null,
      "order": null,
      "overflow": null,
      "overflow_x": null,
      "overflow_y": null,
      "padding": null,
      "right": null,
      "top": null,
      "visibility": null,
      "width": null
     }
    },
    "756809b1341b46108a83c2615e06b28c": {
     "model_module": "@jupyter-widgets/base",
     "model_module_version": "1.2.0",
     "model_name": "LayoutModel",
     "state": {
      "_model_module": "@jupyter-widgets/base",
      "_model_module_version": "1.2.0",
      "_model_name": "LayoutModel",
      "_view_count": null,
      "_view_module": "@jupyter-widgets/base",
      "_view_module_version": "1.2.0",
      "_view_name": "LayoutView",
      "align_content": null,
      "align_items": null,
      "align_self": null,
      "border": null,
      "bottom": null,
      "display": null,
      "flex": null,
      "flex_flow": null,
      "grid_area": null,
      "grid_auto_columns": null,
      "grid_auto_flow": null,
      "grid_auto_rows": null,
      "grid_column": null,
      "grid_gap": null,
      "grid_row": null,
      "grid_template_areas": null,
      "grid_template_columns": null,
      "grid_template_rows": null,
      "height": null,
      "justify_content": null,
      "justify_items": null,
      "left": null,
      "margin": null,
      "max_height": null,
      "max_width": null,
      "min_height": null,
      "min_width": null,
      "object_fit": null,
      "object_position": null,
      "order": null,
      "overflow": null,
      "overflow_x": null,
      "overflow_y": null,
      "padding": null,
      "right": null,
      "top": null,
      "visibility": null,
      "width": null
     }
    },
    "77100c7af6fb47aeac665c8feddf2e5f": {
     "model_module": "@jupyter-widgets/base",
     "model_module_version": "1.2.0",
     "model_name": "LayoutModel",
     "state": {
      "_model_module": "@jupyter-widgets/base",
      "_model_module_version": "1.2.0",
      "_model_name": "LayoutModel",
      "_view_count": null,
      "_view_module": "@jupyter-widgets/base",
      "_view_module_version": "1.2.0",
      "_view_name": "LayoutView",
      "align_content": null,
      "align_items": null,
      "align_self": null,
      "border": null,
      "bottom": null,
      "display": null,
      "flex": null,
      "flex_flow": null,
      "grid_area": null,
      "grid_auto_columns": null,
      "grid_auto_flow": null,
      "grid_auto_rows": null,
      "grid_column": null,
      "grid_gap": null,
      "grid_row": null,
      "grid_template_areas": null,
      "grid_template_columns": null,
      "grid_template_rows": null,
      "height": null,
      "justify_content": null,
      "justify_items": null,
      "left": null,
      "margin": null,
      "max_height": null,
      "max_width": null,
      "min_height": null,
      "min_width": null,
      "object_fit": null,
      "object_position": null,
      "order": null,
      "overflow": null,
      "overflow_x": null,
      "overflow_y": null,
      "padding": null,
      "right": null,
      "top": null,
      "visibility": null,
      "width": null
     }
    },
    "7b5e3e3830e84b0eb5f7d13549d7a607": {
     "model_module": "@jupyter-widgets/controls",
     "model_module_version": "1.5.0",
     "model_name": "HBoxModel",
     "state": {
      "_dom_classes": [],
      "_model_module": "@jupyter-widgets/controls",
      "_model_module_version": "1.5.0",
      "_model_name": "HBoxModel",
      "_view_count": null,
      "_view_module": "@jupyter-widgets/controls",
      "_view_module_version": "1.5.0",
      "_view_name": "HBoxView",
      "box_style": "",
      "children": [
       "IPY_MODEL_ee3777156e234a35b0cb933f9b5cd070",
       "IPY_MODEL_888a612ff21549e59e6ad9049755db49",
       "IPY_MODEL_a49aaf43ad3f475aa437a115b5479c79"
      ],
      "layout": "IPY_MODEL_0801b7bc77194d03a442b2c4867a3819"
     }
    },
    "888a612ff21549e59e6ad9049755db49": {
     "model_module": "@jupyter-widgets/controls",
     "model_module_version": "1.5.0",
     "model_name": "FloatProgressModel",
     "state": {
      "_dom_classes": [],
      "_model_module": "@jupyter-widgets/controls",
      "_model_module_version": "1.5.0",
      "_model_name": "FloatProgressModel",
      "_view_count": null,
      "_view_module": "@jupyter-widgets/controls",
      "_view_module_version": "1.5.0",
      "_view_name": "ProgressView",
      "bar_style": "success",
      "description": "",
      "description_tooltip": null,
      "layout": "IPY_MODEL_a4063c6983e0426da098dcca83251be4",
      "max": 508,
      "min": 0,
      "orientation": "horizontal",
      "style": "IPY_MODEL_18995ded6de244f6ac94faae236f89e3",
      "value": 508
     }
    },
    "8b0343fb031948c5b2fc208b555bfaae": {
     "model_module": "@jupyter-widgets/base",
     "model_module_version": "1.2.0",
     "model_name": "LayoutModel",
     "state": {
      "_model_module": "@jupyter-widgets/base",
      "_model_module_version": "1.2.0",
      "_model_name": "LayoutModel",
      "_view_count": null,
      "_view_module": "@jupyter-widgets/base",
      "_view_module_version": "1.2.0",
      "_view_name": "LayoutView",
      "align_content": null,
      "align_items": null,
      "align_self": null,
      "border": null,
      "bottom": null,
      "display": null,
      "flex": null,
      "flex_flow": null,
      "grid_area": null,
      "grid_auto_columns": null,
      "grid_auto_flow": null,
      "grid_auto_rows": null,
      "grid_column": null,
      "grid_gap": null,
      "grid_row": null,
      "grid_template_areas": null,
      "grid_template_columns": null,
      "grid_template_rows": null,
      "height": null,
      "justify_content": null,
      "justify_items": null,
      "left": null,
      "margin": null,
      "max_height": null,
      "max_width": null,
      "min_height": null,
      "min_width": null,
      "object_fit": null,
      "object_position": null,
      "order": null,
      "overflow": null,
      "overflow_x": null,
      "overflow_y": null,
      "padding": null,
      "right": null,
      "top": null,
      "visibility": null,
      "width": null
     }
    },
    "8e0ba18b38564b9c83159019512e8c9b": {
     "model_module": "@jupyter-widgets/controls",
     "model_module_version": "1.5.0",
     "model_name": "ProgressStyleModel",
     "state": {
      "_model_module": "@jupyter-widgets/controls",
      "_model_module_version": "1.5.0",
      "_model_name": "ProgressStyleModel",
      "_view_count": null,
      "_view_module": "@jupyter-widgets/base",
      "_view_module_version": "1.2.0",
      "_view_name": "StyleView",
      "bar_color": null,
      "description_width": ""
     }
    },
    "902a49d4055f431e95231cf04659d46d": {
     "model_module": "@jupyter-widgets/controls",
     "model_module_version": "1.5.0",
     "model_name": "ProgressStyleModel",
     "state": {
      "_model_module": "@jupyter-widgets/controls",
      "_model_module_version": "1.5.0",
      "_model_name": "ProgressStyleModel",
      "_view_count": null,
      "_view_module": "@jupyter-widgets/base",
      "_view_module_version": "1.2.0",
      "_view_name": "StyleView",
      "bar_color": null,
      "description_width": ""
     }
    },
    "96189e1abb9a42d9b7337aa8c5f154e3": {
     "model_module": "@jupyter-widgets/base",
     "model_module_version": "1.2.0",
     "model_name": "LayoutModel",
     "state": {
      "_model_module": "@jupyter-widgets/base",
      "_model_module_version": "1.2.0",
      "_model_name": "LayoutModel",
      "_view_count": null,
      "_view_module": "@jupyter-widgets/base",
      "_view_module_version": "1.2.0",
      "_view_name": "LayoutView",
      "align_content": null,
      "align_items": null,
      "align_self": null,
      "border": null,
      "bottom": null,
      "display": null,
      "flex": null,
      "flex_flow": null,
      "grid_area": null,
      "grid_auto_columns": null,
      "grid_auto_flow": null,
      "grid_auto_rows": null,
      "grid_column": null,
      "grid_gap": null,
      "grid_row": null,
      "grid_template_areas": null,
      "grid_template_columns": null,
      "grid_template_rows": null,
      "height": null,
      "justify_content": null,
      "justify_items": null,
      "left": null,
      "margin": null,
      "max_height": null,
      "max_width": null,
      "min_height": null,
      "min_width": null,
      "object_fit": null,
      "object_position": null,
      "order": null,
      "overflow": null,
      "overflow_x": null,
      "overflow_y": null,
      "padding": null,
      "right": null,
      "top": null,
      "visibility": null,
      "width": null
     }
    },
    "9d1e39a7bf004d54bc1fced446b6348f": {
     "model_module": "@jupyter-widgets/controls",
     "model_module_version": "1.5.0",
     "model_name": "DescriptionStyleModel",
     "state": {
      "_model_module": "@jupyter-widgets/controls",
      "_model_module_version": "1.5.0",
      "_model_name": "DescriptionStyleModel",
      "_view_count": null,
      "_view_module": "@jupyter-widgets/base",
      "_view_module_version": "1.2.0",
      "_view_name": "StyleView",
      "description_width": ""
     }
    },
    "a12b92eaf1e4468e836a7ddf8d19f1a7": {
     "model_module": "@jupyter-widgets/base",
     "model_module_version": "1.2.0",
     "model_name": "LayoutModel",
     "state": {
      "_model_module": "@jupyter-widgets/base",
      "_model_module_version": "1.2.0",
      "_model_name": "LayoutModel",
      "_view_count": null,
      "_view_module": "@jupyter-widgets/base",
      "_view_module_version": "1.2.0",
      "_view_name": "LayoutView",
      "align_content": null,
      "align_items": null,
      "align_self": null,
      "border": null,
      "bottom": null,
      "display": null,
      "flex": null,
      "flex_flow": null,
      "grid_area": null,
      "grid_auto_columns": null,
      "grid_auto_flow": null,
      "grid_auto_rows": null,
      "grid_column": null,
      "grid_gap": null,
      "grid_row": null,
      "grid_template_areas": null,
      "grid_template_columns": null,
      "grid_template_rows": null,
      "height": null,
      "justify_content": null,
      "justify_items": null,
      "left": null,
      "margin": null,
      "max_height": null,
      "max_width": null,
      "min_height": null,
      "min_width": null,
      "object_fit": null,
      "object_position": null,
      "order": null,
      "overflow": null,
      "overflow_x": null,
      "overflow_y": null,
      "padding": null,
      "right": null,
      "top": null,
      "visibility": null,
      "width": null
     }
    },
    "a4063c6983e0426da098dcca83251be4": {
     "model_module": "@jupyter-widgets/base",
     "model_module_version": "1.2.0",
     "model_name": "LayoutModel",
     "state": {
      "_model_module": "@jupyter-widgets/base",
      "_model_module_version": "1.2.0",
      "_model_name": "LayoutModel",
      "_view_count": null,
      "_view_module": "@jupyter-widgets/base",
      "_view_module_version": "1.2.0",
      "_view_name": "LayoutView",
      "align_content": null,
      "align_items": null,
      "align_self": null,
      "border": null,
      "bottom": null,
      "display": null,
      "flex": null,
      "flex_flow": null,
      "grid_area": null,
      "grid_auto_columns": null,
      "grid_auto_flow": null,
      "grid_auto_rows": null,
      "grid_column": null,
      "grid_gap": null,
      "grid_row": null,
      "grid_template_areas": null,
      "grid_template_columns": null,
      "grid_template_rows": null,
      "height": null,
      "justify_content": null,
      "justify_items": null,
      "left": null,
      "margin": null,
      "max_height": null,
      "max_width": null,
      "min_height": null,
      "min_width": null,
      "object_fit": null,
      "object_position": null,
      "order": null,
      "overflow": null,
      "overflow_x": null,
      "overflow_y": null,
      "padding": null,
      "right": null,
      "top": null,
      "visibility": null,
      "width": null
     }
    },
    "a49aaf43ad3f475aa437a115b5479c79": {
     "model_module": "@jupyter-widgets/controls",
     "model_module_version": "1.5.0",
     "model_name": "HTMLModel",
     "state": {
      "_dom_classes": [],
      "_model_module": "@jupyter-widgets/controls",
      "_model_module_version": "1.5.0",
      "_model_name": "HTMLModel",
      "_view_count": null,
      "_view_module": "@jupyter-widgets/controls",
      "_view_module_version": "1.5.0",
      "_view_name": "HTMLView",
      "description": "",
      "description_tooltip": null,
      "layout": "IPY_MODEL_700f9df61e7b41b281eae5dd05e62404",
      "placeholder": "​",
      "style": "IPY_MODEL_6787838a83bd46d3abdb84deeae056e1",
      "value": " 508/508 [01:10&lt;00:00,  6.34it/s]"
     }
    },
    "ac839cf490be4fc09681cbf44a024849": {
     "model_module": "@jupyter-widgets/controls",
     "model_module_version": "1.5.0",
     "model_name": "ProgressStyleModel",
     "state": {
      "_model_module": "@jupyter-widgets/controls",
      "_model_module_version": "1.5.0",
      "_model_name": "ProgressStyleModel",
      "_view_count": null,
      "_view_module": "@jupyter-widgets/base",
      "_view_module_version": "1.2.0",
      "_view_name": "StyleView",
      "bar_color": null,
      "description_width": ""
     }
    },
    "af9570497a7f4275acf759786cdaebf3": {
     "model_module": "@jupyter-widgets/controls",
     "model_module_version": "1.5.0",
     "model_name": "DescriptionStyleModel",
     "state": {
      "_model_module": "@jupyter-widgets/controls",
      "_model_module_version": "1.5.0",
      "_model_name": "DescriptionStyleModel",
      "_view_count": null,
      "_view_module": "@jupyter-widgets/base",
      "_view_module_version": "1.2.0",
      "_view_name": "StyleView",
      "description_width": ""
     }
    },
    "b1a86d75b8e24575ab9d9ec2d1b1ba5a": {
     "model_module": "@jupyter-widgets/controls",
     "model_module_version": "1.5.0",
     "model_name": "FloatProgressModel",
     "state": {
      "_dom_classes": [],
      "_model_module": "@jupyter-widgets/controls",
      "_model_module_version": "1.5.0",
      "_model_name": "FloatProgressModel",
      "_view_count": null,
      "_view_module": "@jupyter-widgets/controls",
      "_view_module_version": "1.5.0",
      "_view_name": "ProgressView",
      "bar_style": "success",
      "description": "",
      "description_tooltip": null,
      "layout": "IPY_MODEL_77100c7af6fb47aeac665c8feddf2e5f",
      "max": 508,
      "min": 0,
      "orientation": "horizontal",
      "style": "IPY_MODEL_ac839cf490be4fc09681cbf44a024849",
      "value": 508
     }
    },
    "b7c92d9bf9de4dc7b4ca1d8cffdecbac": {
     "model_module": "@jupyter-widgets/controls",
     "model_module_version": "1.5.0",
     "model_name": "HBoxModel",
     "state": {
      "_dom_classes": [],
      "_model_module": "@jupyter-widgets/controls",
      "_model_module_version": "1.5.0",
      "_model_name": "HBoxModel",
      "_view_count": null,
      "_view_module": "@jupyter-widgets/controls",
      "_view_module_version": "1.5.0",
      "_view_name": "HBoxView",
      "box_style": "",
      "children": [
       "IPY_MODEL_1a095f1980b04f04b285ac59294bbf50",
       "IPY_MODEL_10c129f851184dfeaef8f54f6f2d7447",
       "IPY_MODEL_56139cd91287472a97041e6eb4aa5936"
      ],
      "layout": "IPY_MODEL_f355bf8df2754e3586fb1a3bca667af8"
     }
    },
    "b7e1f13507bb4014b733babf2e9e0cd7": {
     "model_module": "@jupyter-widgets/controls",
     "model_module_version": "1.5.0",
     "model_name": "HBoxModel",
     "state": {
      "_dom_classes": [],
      "_model_module": "@jupyter-widgets/controls",
      "_model_module_version": "1.5.0",
      "_model_name": "HBoxModel",
      "_view_count": null,
      "_view_module": "@jupyter-widgets/controls",
      "_view_module_version": "1.5.0",
      "_view_name": "HBoxView",
      "box_style": "",
      "children": [
       "IPY_MODEL_343e81ebb9014dacbeacdcf1895808df",
       "IPY_MODEL_30b3e9f1cf5c4102be43c48ccdd7619d",
       "IPY_MODEL_fd2aa92f23ba412e9b02c125311a062b"
      ],
      "layout": "IPY_MODEL_6a31fed33e7447afb0af95e82155ba29"
     }
    },
    "c38844597f8043639b83011f807530ac": {
     "model_module": "@jupyter-widgets/base",
     "model_module_version": "1.2.0",
     "model_name": "LayoutModel",
     "state": {
      "_model_module": "@jupyter-widgets/base",
      "_model_module_version": "1.2.0",
      "_model_name": "LayoutModel",
      "_view_count": null,
      "_view_module": "@jupyter-widgets/base",
      "_view_module_version": "1.2.0",
      "_view_name": "LayoutView",
      "align_content": null,
      "align_items": null,
      "align_self": null,
      "border": null,
      "bottom": null,
      "display": null,
      "flex": null,
      "flex_flow": null,
      "grid_area": null,
      "grid_auto_columns": null,
      "grid_auto_flow": null,
      "grid_auto_rows": null,
      "grid_column": null,
      "grid_gap": null,
      "grid_row": null,
      "grid_template_areas": null,
      "grid_template_columns": null,
      "grid_template_rows": null,
      "height": null,
      "justify_content": null,
      "justify_items": null,
      "left": null,
      "margin": null,
      "max_height": null,
      "max_width": null,
      "min_height": null,
      "min_width": null,
      "object_fit": null,
      "object_position": null,
      "order": null,
      "overflow": null,
      "overflow_x": null,
      "overflow_y": null,
      "padding": null,
      "right": null,
      "top": null,
      "visibility": null,
      "width": null
     }
    },
    "c9667fa8ca984fc795e130a7f84eb52f": {
     "model_module": "@jupyter-widgets/base",
     "model_module_version": "1.2.0",
     "model_name": "LayoutModel",
     "state": {
      "_model_module": "@jupyter-widgets/base",
      "_model_module_version": "1.2.0",
      "_model_name": "LayoutModel",
      "_view_count": null,
      "_view_module": "@jupyter-widgets/base",
      "_view_module_version": "1.2.0",
      "_view_name": "LayoutView",
      "align_content": null,
      "align_items": null,
      "align_self": null,
      "border": null,
      "bottom": null,
      "display": null,
      "flex": null,
      "flex_flow": null,
      "grid_area": null,
      "grid_auto_columns": null,
      "grid_auto_flow": null,
      "grid_auto_rows": null,
      "grid_column": null,
      "grid_gap": null,
      "grid_row": null,
      "grid_template_areas": null,
      "grid_template_columns": null,
      "grid_template_rows": null,
      "height": null,
      "justify_content": null,
      "justify_items": null,
      "left": null,
      "margin": null,
      "max_height": null,
      "max_width": null,
      "min_height": null,
      "min_width": null,
      "object_fit": null,
      "object_position": null,
      "order": null,
      "overflow": null,
      "overflow_x": null,
      "overflow_y": null,
      "padding": null,
      "right": null,
      "top": null,
      "visibility": null,
      "width": null
     }
    },
    "cf175908d1f54576afc29ac909921fe3": {
     "model_module": "@jupyter-widgets/controls",
     "model_module_version": "1.5.0",
     "model_name": "DescriptionStyleModel",
     "state": {
      "_model_module": "@jupyter-widgets/controls",
      "_model_module_version": "1.5.0",
      "_model_name": "DescriptionStyleModel",
      "_view_count": null,
      "_view_module": "@jupyter-widgets/base",
      "_view_module_version": "1.2.0",
      "_view_name": "StyleView",
      "description_width": ""
     }
    },
    "d6ce9182be35403d8f9d92596ed6c7b5": {
     "model_module": "@jupyter-widgets/controls",
     "model_module_version": "1.5.0",
     "model_name": "DescriptionStyleModel",
     "state": {
      "_model_module": "@jupyter-widgets/controls",
      "_model_module_version": "1.5.0",
      "_model_name": "DescriptionStyleModel",
      "_view_count": null,
      "_view_module": "@jupyter-widgets/base",
      "_view_module_version": "1.2.0",
      "_view_name": "StyleView",
      "description_width": ""
     }
    },
    "d95f38ae81334353ad28a591c9f86d38": {
     "model_module": "@jupyter-widgets/controls",
     "model_module_version": "1.5.0",
     "model_name": "DescriptionStyleModel",
     "state": {
      "_model_module": "@jupyter-widgets/controls",
      "_model_module_version": "1.5.0",
      "_model_name": "DescriptionStyleModel",
      "_view_count": null,
      "_view_module": "@jupyter-widgets/base",
      "_view_module_version": "1.2.0",
      "_view_name": "StyleView",
      "description_width": ""
     }
    },
    "df6576c9a8a3464cb5f67adc17e09d11": {
     "model_module": "@jupyter-widgets/controls",
     "model_module_version": "1.5.0",
     "model_name": "HTMLModel",
     "state": {
      "_dom_classes": [],
      "_model_module": "@jupyter-widgets/controls",
      "_model_module_version": "1.5.0",
      "_model_name": "HTMLModel",
      "_view_count": null,
      "_view_module": "@jupyter-widgets/controls",
      "_view_module_version": "1.5.0",
      "_view_name": "HTMLView",
      "description": "",
      "description_tooltip": null,
      "layout": "IPY_MODEL_96189e1abb9a42d9b7337aa8c5f154e3",
      "placeholder": "​",
      "style": "IPY_MODEL_cf175908d1f54576afc29ac909921fe3",
      "value": "100%"
     }
    },
    "e891ec1f26264d35903e918b03a6ae1b": {
     "model_module": "@jupyter-widgets/base",
     "model_module_version": "1.2.0",
     "model_name": "LayoutModel",
     "state": {
      "_model_module": "@jupyter-widgets/base",
      "_model_module_version": "1.2.0",
      "_model_name": "LayoutModel",
      "_view_count": null,
      "_view_module": "@jupyter-widgets/base",
      "_view_module_version": "1.2.0",
      "_view_name": "LayoutView",
      "align_content": null,
      "align_items": null,
      "align_self": null,
      "border": null,
      "bottom": null,
      "display": null,
      "flex": null,
      "flex_flow": null,
      "grid_area": null,
      "grid_auto_columns": null,
      "grid_auto_flow": null,
      "grid_auto_rows": null,
      "grid_column": null,
      "grid_gap": null,
      "grid_row": null,
      "grid_template_areas": null,
      "grid_template_columns": null,
      "grid_template_rows": null,
      "height": null,
      "justify_content": null,
      "justify_items": null,
      "left": null,
      "margin": null,
      "max_height": null,
      "max_width": null,
      "min_height": null,
      "min_width": null,
      "object_fit": null,
      "object_position": null,
      "order": null,
      "overflow": null,
      "overflow_x": null,
      "overflow_y": null,
      "padding": null,
      "right": null,
      "top": null,
      "visibility": null,
      "width": null
     }
    },
    "ea599e1970ce4e6ba9147755a68281f6": {
     "model_module": "@jupyter-widgets/controls",
     "model_module_version": "1.5.0",
     "model_name": "DescriptionStyleModel",
     "state": {
      "_model_module": "@jupyter-widgets/controls",
      "_model_module_version": "1.5.0",
      "_model_name": "DescriptionStyleModel",
      "_view_count": null,
      "_view_module": "@jupyter-widgets/base",
      "_view_module_version": "1.2.0",
      "_view_name": "StyleView",
      "description_width": ""
     }
    },
    "ee3777156e234a35b0cb933f9b5cd070": {
     "model_module": "@jupyter-widgets/controls",
     "model_module_version": "1.5.0",
     "model_name": "HTMLModel",
     "state": {
      "_dom_classes": [],
      "_model_module": "@jupyter-widgets/controls",
      "_model_module_version": "1.5.0",
      "_model_name": "HTMLModel",
      "_view_count": null,
      "_view_module": "@jupyter-widgets/controls",
      "_view_module_version": "1.5.0",
      "_view_name": "HTMLView",
      "description": "",
      "description_tooltip": null,
      "layout": "IPY_MODEL_1e1fcb3fda6c4be48b52480eed265e57",
      "placeholder": "​",
      "style": "IPY_MODEL_af9570497a7f4275acf759786cdaebf3",
      "value": "100%"
     }
    },
    "eec4ae1972b34752806675efca14a9b9": {
     "model_module": "@jupyter-widgets/controls",
     "model_module_version": "1.5.0",
     "model_name": "HTMLModel",
     "state": {
      "_dom_classes": [],
      "_model_module": "@jupyter-widgets/controls",
      "_model_module_version": "1.5.0",
      "_model_name": "HTMLModel",
      "_view_count": null,
      "_view_module": "@jupyter-widgets/controls",
      "_view_module_version": "1.5.0",
      "_view_name": "HTMLView",
      "description": "",
      "description_tooltip": null,
      "layout": "IPY_MODEL_3d3d3e421be845d3a6ce97c02f5bfa5a",
      "placeholder": "​",
      "style": "IPY_MODEL_9d1e39a7bf004d54bc1fced446b6348f",
      "value": " 30/30 [10:58&lt;00:00, 21.47s/it]"
     }
    },
    "f0139e5a1f394562a6cd209a66609af8": {
     "model_module": "@jupyter-widgets/base",
     "model_module_version": "1.2.0",
     "model_name": "LayoutModel",
     "state": {
      "_model_module": "@jupyter-widgets/base",
      "_model_module_version": "1.2.0",
      "_model_name": "LayoutModel",
      "_view_count": null,
      "_view_module": "@jupyter-widgets/base",
      "_view_module_version": "1.2.0",
      "_view_name": "LayoutView",
      "align_content": null,
      "align_items": null,
      "align_self": null,
      "border": null,
      "bottom": null,
      "display": null,
      "flex": null,
      "flex_flow": null,
      "grid_area": null,
      "grid_auto_columns": null,
      "grid_auto_flow": null,
      "grid_auto_rows": null,
      "grid_column": null,
      "grid_gap": null,
      "grid_row": null,
      "grid_template_areas": null,
      "grid_template_columns": null,
      "grid_template_rows": null,
      "height": null,
      "justify_content": null,
      "justify_items": null,
      "left": null,
      "margin": null,
      "max_height": null,
      "max_width": null,
      "min_height": null,
      "min_width": null,
      "object_fit": null,
      "object_position": null,
      "order": null,
      "overflow": null,
      "overflow_x": null,
      "overflow_y": null,
      "padding": null,
      "right": null,
      "top": null,
      "visibility": null,
      "width": null
     }
    },
    "f355bf8df2754e3586fb1a3bca667af8": {
     "model_module": "@jupyter-widgets/base",
     "model_module_version": "1.2.0",
     "model_name": "LayoutModel",
     "state": {
      "_model_module": "@jupyter-widgets/base",
      "_model_module_version": "1.2.0",
      "_model_name": "LayoutModel",
      "_view_count": null,
      "_view_module": "@jupyter-widgets/base",
      "_view_module_version": "1.2.0",
      "_view_name": "LayoutView",
      "align_content": null,
      "align_items": null,
      "align_self": null,
      "border": null,
      "bottom": null,
      "display": null,
      "flex": null,
      "flex_flow": null,
      "grid_area": null,
      "grid_auto_columns": null,
      "grid_auto_flow": null,
      "grid_auto_rows": null,
      "grid_column": null,
      "grid_gap": null,
      "grid_row": null,
      "grid_template_areas": null,
      "grid_template_columns": null,
      "grid_template_rows": null,
      "height": null,
      "justify_content": null,
      "justify_items": null,
      "left": null,
      "margin": null,
      "max_height": null,
      "max_width": null,
      "min_height": null,
      "min_width": null,
      "object_fit": null,
      "object_position": null,
      "order": null,
      "overflow": null,
      "overflow_x": null,
      "overflow_y": null,
      "padding": null,
      "right": null,
      "top": null,
      "visibility": null,
      "width": null
     }
    },
    "f66429fb241f4b4bb3e934e377ebf532": {
     "model_module": "@jupyter-widgets/controls",
     "model_module_version": "1.5.0",
     "model_name": "DescriptionStyleModel",
     "state": {
      "_model_module": "@jupyter-widgets/controls",
      "_model_module_version": "1.5.0",
      "_model_name": "DescriptionStyleModel",
      "_view_count": null,
      "_view_module": "@jupyter-widgets/base",
      "_view_module_version": "1.2.0",
      "_view_name": "StyleView",
      "description_width": ""
     }
    },
    "fa637a452b2b46f481b67575ef452c27": {
     "model_module": "@jupyter-widgets/controls",
     "model_module_version": "1.5.0",
     "model_name": "HBoxModel",
     "state": {
      "_dom_classes": [],
      "_model_module": "@jupyter-widgets/controls",
      "_model_module_version": "1.5.0",
      "_model_name": "HBoxModel",
      "_view_count": null,
      "_view_module": "@jupyter-widgets/controls",
      "_view_module_version": "1.5.0",
      "_view_name": "HBoxView",
      "box_style": "",
      "children": [
       "IPY_MODEL_0c2500e6674d45b9b05c29929c141219",
       "IPY_MODEL_182c9e8855da46538144de6b07bb53d1",
       "IPY_MODEL_eec4ae1972b34752806675efca14a9b9"
      ],
      "layout": "IPY_MODEL_8b0343fb031948c5b2fc208b555bfaae"
     }
    },
    "fcf1ec06788e40de967a0327c31e4fc0": {
     "model_module": "@jupyter-widgets/controls",
     "model_module_version": "1.5.0",
     "model_name": "HTMLModel",
     "state": {
      "_dom_classes": [],
      "_model_module": "@jupyter-widgets/controls",
      "_model_module_version": "1.5.0",
      "_model_name": "HTMLModel",
      "_view_count": null,
      "_view_module": "@jupyter-widgets/controls",
      "_view_module_version": "1.5.0",
      "_view_name": "HTMLView",
      "description": "",
      "description_tooltip": null,
      "layout": "IPY_MODEL_ffd8c134e49e4aa3ac51fbbd597a89fa",
      "placeholder": "​",
      "style": "IPY_MODEL_ea599e1970ce4e6ba9147755a68281f6",
      "value": " 30/30 [10:59&lt;00:00, 21.80s/it]"
     }
    },
    "fd2aa92f23ba412e9b02c125311a062b": {
     "model_module": "@jupyter-widgets/controls",
     "model_module_version": "1.5.0",
     "model_name": "HTMLModel",
     "state": {
      "_dom_classes": [],
      "_model_module": "@jupyter-widgets/controls",
      "_model_module_version": "1.5.0",
      "_model_name": "HTMLModel",
      "_view_count": null,
      "_view_module": "@jupyter-widgets/controls",
      "_view_module_version": "1.5.0",
      "_view_name": "HTMLView",
      "description": "",
      "description_tooltip": null,
      "layout": "IPY_MODEL_5d15fe446cb34fba8fb0271c34b3dc75",
      "placeholder": "​",
      "style": "IPY_MODEL_224766f547a44867bd1e843de7262e4f",
      "value": " 508/508 [01:10&lt;00:00,  7.65it/s]"
     }
    },
    "ffd8c134e49e4aa3ac51fbbd597a89fa": {
     "model_module": "@jupyter-widgets/base",
     "model_module_version": "1.2.0",
     "model_name": "LayoutModel",
     "state": {
      "_model_module": "@jupyter-widgets/base",
      "_model_module_version": "1.2.0",
      "_model_name": "LayoutModel",
      "_view_count": null,
      "_view_module": "@jupyter-widgets/base",
      "_view_module_version": "1.2.0",
      "_view_name": "LayoutView",
      "align_content": null,
      "align_items": null,
      "align_self": null,
      "border": null,
      "bottom": null,
      "display": null,
      "flex": null,
      "flex_flow": null,
      "grid_area": null,
      "grid_auto_columns": null,
      "grid_auto_flow": null,
      "grid_auto_rows": null,
      "grid_column": null,
      "grid_gap": null,
      "grid_row": null,
      "grid_template_areas": null,
      "grid_template_columns": null,
      "grid_template_rows": null,
      "height": null,
      "justify_content": null,
      "justify_items": null,
      "left": null,
      "margin": null,
      "max_height": null,
      "max_width": null,
      "min_height": null,
      "min_width": null,
      "object_fit": null,
      "object_position": null,
      "order": null,
      "overflow": null,
      "overflow_x": null,
      "overflow_y": null,
      "padding": null,
      "right": null,
      "top": null,
      "visibility": null,
      "width": null
     }
    }
   }
  }
 },
 "nbformat": 4,
 "nbformat_minor": 5
}
