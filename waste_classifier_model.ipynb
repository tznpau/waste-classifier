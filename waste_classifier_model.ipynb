{
 "cells": [
  {
   "cell_type": "markdown",
   "id": "0063c6ae-bd38-4ba8-852e-3b069aadcc51",
   "metadata": {},
   "source": [
    "# Waste Classifier PyTorch Model"
   ]
  },
  {
   "cell_type": "markdown",
   "id": "3702c478-1523-4c5a-b11b-763cf43c4a31",
   "metadata": {},
   "source": [
    "## Goal\n",
    "Create a PyTorch model that can distinguish between 6 classes:\n",
    "- cardboard\n",
    "- glass\n",
    "- metal\n",
    "- paper\n",
    "- plastic\n",
    "- trash"
   ]
  },
  {
   "cell_type": "markdown",
   "id": "f6471932-9f02-47aa-9011-0888c78663b4",
   "metadata": {},
   "source": [
    "## 0 - Setup"
   ]
  },
  {
   "cell_type": "code",
   "execution_count": 1,
   "id": "ce9d073d-54de-4be3-aea0-9ad4b08c61ed",
   "metadata": {},
   "outputs": [
    {
     "name": "stdout",
     "output_type": "stream",
     "text": [
      "2.1.1\n",
      "0.16.1\n",
      "Base imports done.\n"
     ]
    }
   ],
   "source": [
    "import torch\n",
    "import torchvision\n",
    "\n",
    "print(torch.__version__) # 1.12+\n",
    "print(torchvision.__version__) # 0.13+\n",
    "\n",
    "import matplotlib.pyplot as plt\n",
    "\n",
    "from torch import nn\n",
    "from torchvision import transforms\n",
    "\n",
    "try:\n",
    "    from scripts import data_setup, engine, utils\n",
    "    from helper_functions import download_data, set_seeds, plot_loss_curves\n",
    "    print(\"Base imports done.\")\n",
    "except:\n",
    "    print(\"Couldn't find helper scripts, downloading from Github...\")\n",
    "    !git clone https://github.com/tznpau/waste-classifier\n",
    "    !mv waste-classifier/scripts .\n",
    "    !mv waste-classifier/helper_functions.py .\n",
    "    !rm -rf waste-classifier\n",
    "    from scripts import data_setup, engine, utils\n",
    "    from helper_functions import download_data, set_seeds, loss_curves"
   ]
  },
  {
   "cell_type": "code",
   "execution_count": 2,
   "id": "01da26d4-ab7f-4898-b6cd-fd5ca15d4181",
   "metadata": {},
   "outputs": [
    {
     "data": {
      "text/plain": [
       "'cuda'"
      ]
     },
     "execution_count": 2,
     "metadata": {},
     "output_type": "execute_result"
    }
   ],
   "source": [
    "device = \"cuda\" if torch.cuda.is_available() else \"cpu\"\n",
    "device"
   ]
  },
  {
   "cell_type": "code",
   "execution_count": 3,
   "id": "a593538e-16a3-4317-b6ff-0900b2688dc1",
   "metadata": {},
   "outputs": [
    {
     "data": {
      "text/plain": [
       "True"
      ]
     },
     "execution_count": 3,
     "metadata": {},
     "output_type": "execute_result"
    }
   ],
   "source": [
    "torch.cuda.is_available()"
   ]
  },
  {
   "cell_type": "markdown",
   "id": "2a330bd7-64a9-45a3-8c99-fb73db35e2d9",
   "metadata": {},
   "source": [
    "## 1. Getting data"
   ]
  }
 ],
 "metadata": {
  "kernelspec": {
   "display_name": "baseEnv",
   "language": "python",
   "name": "baseenv"
  },
  "language_info": {
   "codemirror_mode": {
    "name": "ipython",
    "version": 3
   },
   "file_extension": ".py",
   "mimetype": "text/x-python",
   "name": "python",
   "nbconvert_exporter": "python",
   "pygments_lexer": "ipython3",
   "version": "3.11.5"
  }
 },
 "nbformat": 4,
 "nbformat_minor": 5
}
