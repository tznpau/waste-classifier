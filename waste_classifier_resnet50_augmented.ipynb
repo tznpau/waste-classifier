{
 "cells": [
  {
   "cell_type": "markdown",
   "id": "5c1b82b0-534f-4757-9740-a6023808fbe1",
   "metadata": {},
   "source": [
    "# Waste Classifier Improved PyTorch Model"
   ]
  },
  {
   "cell_type": "markdown",
   "id": "f4f8d2a4-3933-41f6-a8c0-bda8c4c1ad0a",
   "metadata": {
    "jp-MarkdownHeadingCollapsed": true
   },
   "source": [
    "## Goal\n",
    "\n",
    "Improve previously attempted waste classifier `resnet50` feature extractor model by applying the following techniques:\n",
    "- Increase dataset size (get more data, or better data) -> a great way to do this would be ***data augmentation*** - https://pytorch.org/vision/main/transforms.html\n",
    "- Add a ***`Dropout`* layer** before the output layer - https://pytorch.org/docs/stable/generated/torch.nn.Dropout.html\n",
    "- Use ***learning rate decay*** - PyTorch learning rate scheduler - https://pytorch.org/docs/stable/optim.html"
   ]
  },
  {
   "cell_type": "markdown",
   "id": "789e9401-824b-4a04-bbef-683d6768ef2a",
   "metadata": {},
   "source": [
    "## 0 - Setup"
   ]
  },
  {
   "cell_type": "code",
   "execution_count": 1,
   "id": "aa1e993b-e6db-48a8-a6a8-fee76c99c7b2",
   "metadata": {},
   "outputs": [
    {
     "name": "stdout",
     "output_type": "stream",
     "text": [
      "2.1.1\n",
      "0.16.1\n",
      "Base imports done.\n"
     ]
    }
   ],
   "source": [
    "import torch\n",
    "import torchvision\n",
    "\n",
    "print(torch.__version__) # 1.12+\n",
    "print(torchvision.__version__) # 0.13+\n",
    "\n",
    "import matplotlib.pyplot as plt\n",
    "\n",
    "from torch import nn\n",
    "from torchvision import transforms\n",
    "from torchvision.transforms.functional import InterpolationMode\n",
    "\n",
    "from torchinfo import summary\n",
    "\n",
    "try:\n",
    "    from scripts import data_setup_augmented, engine, engine_lr_decay, utils, predictions\n",
    "    from helper_functions import download_data, set_seeds, plot_loss_curves\n",
    "    print(\"Base imports done.\")\n",
    "except:\n",
    "    print(\"Couldn't find helper scripts, downloading from Github...\")\n",
    "    !git clone https://github.com/tznpau/waste-classifier\n",
    "    !mv waste-classifier/scripts .\n",
    "    !mv waste-classifier/helper_functions.py .\n",
    "    !rm -rf waste-classifier\n",
    "    from scripts import data_setup_augmented, engine, engine_lr_decay, utils, predictions\n",
    "    from helper_functions import download_data, set_seeds, plot_loss_curves"
   ]
  },
  {
   "cell_type": "code",
   "execution_count": 2,
   "id": "7a8c0be3-feec-4e76-979e-4b0c636283be",
   "metadata": {},
   "outputs": [
    {
     "data": {
      "text/plain": [
       "'cuda'"
      ]
     },
     "execution_count": 2,
     "metadata": {},
     "output_type": "execute_result"
    }
   ],
   "source": [
    "device = \"cuda\" if torch.cuda.is_available() else \"cpu\"\n",
    "device"
   ]
  },
  {
   "cell_type": "markdown",
   "id": "8f4715f9-1ba3-4b09-93e3-894038407908",
   "metadata": {},
   "source": [
    "## 1 - Getting data"
   ]
  },
  {
   "cell_type": "code",
   "execution_count": 3,
   "id": "a55fc483-2c40-48fb-a0f5-72f614caa229",
   "metadata": {},
   "outputs": [
    {
     "name": "stdout",
     "output_type": "stream",
     "text": [
      "[INFO] data\\trash_dataset directory exists, skipping download.\n"
     ]
    },
    {
     "data": {
      "text/plain": [
       "WindowsPath('data/trash_dataset')"
      ]
     },
     "execution_count": 3,
     "metadata": {},
     "output_type": "execute_result"
    }
   ],
   "source": [
    "trash_dataset_path = download_data(source=\"https://github.com/tznpau/waste-classifier/raw/main/data/trash_dataset.zip\",\n",
    "                                   destination=\"trash_dataset\")\n",
    "trash_dataset_path"
   ]
  },
  {
   "cell_type": "code",
   "execution_count": 4,
   "id": "9a37fdf6-b011-4646-988b-1fe493fe975a",
   "metadata": {},
   "outputs": [
    {
     "data": {
      "text/plain": [
       "(WindowsPath('data/trash_dataset/train'),\n",
       " WindowsPath('data/trash_dataset/test'))"
      ]
     },
     "execution_count": 4,
     "metadata": {},
     "output_type": "execute_result"
    }
   ],
   "source": [
    "# Setup training and test data directories\n",
    "train_dir = trash_dataset_path / \"train\"\n",
    "test_dir = trash_dataset_path / \"test\"\n",
    "\n",
    "train_dir, test_dir"
   ]
  },
  {
   "cell_type": "markdown",
   "id": "6f7d28e1-ad64-435a-bf15-4bf1bf695896",
   "metadata": {},
   "source": [
    "## 2 - ResNet50 feature extractors\n",
    "\n",
    "https://pytorch.org/vision/main/models/generated/torchvision.models.resnet50.html"
   ]
  },
  {
   "cell_type": "code",
   "execution_count": 5,
   "id": "fe148279-588c-4911-9792-0bf37aa23efa",
   "metadata": {},
   "outputs": [],
   "source": [
    "resnet50 = torchvision.models.resnet50()\n",
    "# resnet50"
   ]
  },
  {
   "cell_type": "code",
   "execution_count": null,
   "id": "99f8a347-bc70-463d-b55b-f7a5eedf9ee7",
   "metadata": {},
   "outputs": [],
   "source": [
    "try:\n",
    "    from torchinfo import summary\n",
    "except:\n",
    "    print(\"[INFO] Couldn't find torchinfo... installing it.\")\n",
    "    !pip install -q torchinfo\n",
    "    from torchinfo import summary"
   ]
  },
  {
   "cell_type": "code",
   "execution_count": 6,
   "id": "5a929d96-3888-45b8-b225-a9599abbff83",
   "metadata": {},
   "outputs": [],
   "source": [
    "# summary(resnet50,\n",
    "#         input_size=(1, 3, 224, 224),\n",
    "#         col_names=[\"input_size\", \"output_size\", \"num_params\", \"trainable\"],\n",
    "#         col_width=20,\n",
    "#         row_settings=[\"var_names\"])"
   ]
  },
  {
   "cell_type": "code",
   "execution_count": 7,
   "id": "84f2895b-0487-4e52-862d-2fbcc8dbc93b",
   "metadata": {},
   "outputs": [
    {
     "data": {
      "text/plain": [
       "Linear(in_features=2048, out_features=1000, bias=True)"
      ]
     },
     "execution_count": 7,
     "metadata": {},
     "output_type": "execute_result"
    }
   ],
   "source": [
    "resnet50.fc"
   ]
  },
  {
   "cell_type": "markdown",
   "id": "09cb989f-db8e-43d5-abae-8c0e003a1b49",
   "metadata": {},
   "source": [
    "The last layer of resnet50 is called **`fc`**."
   ]
  },
  {
   "cell_type": "markdown",
   "id": "c74110f8-373b-40ff-8678-5be21f553a1f",
   "metadata": {},
   "source": [
    "### 2.1 ResNet50 feature extractor - `v1`"
   ]
  },
  {
   "cell_type": "code",
   "execution_count": null,
   "id": "f46914e9-370b-4777-bbaa-918605020077",
   "metadata": {},
   "outputs": [],
   "source": [
    "def create_resnet50_model_v1(num_classes:int=6,\n",
    "                          seed:int=42):\n",
    "    weights = torchvision.models.ResNet50_Weights.DEFAULT\n",
    "    transforms = weights.transforms()\n",
    "    model = torchvision.models.resnet50(weights=weights).to(device)\n",
    "\n",
    "    for param in model.parameters():\n",
    "        param.requires_grad = False\n",
    "\n",
    "    torch.manual_seed(seed)\n",
    "    model.fc = nn.Linear(in_features=2048, out_features=num_classes).to(device)\n",
    "\n",
    "    return model, transforms"
   ]
  },
  {
   "cell_type": "code",
   "execution_count": null,
   "id": "a6c84b12-2394-4c34-94c4-35f2299058fe",
   "metadata": {},
   "outputs": [],
   "source": [
    "resnet50_v1, resnet50_transforms_auto = create_resnet50_model(num_classes=6, seed=42)"
   ]
  },
  {
   "cell_type": "code",
   "execution_count": null,
   "id": "0e20e7c4-4842-49a5-8a17-21c2ad287a64",
   "metadata": {},
   "outputs": [],
   "source": [
    "resnet50_v1.fc"
   ]
  },
  {
   "cell_type": "markdown",
   "id": "be28ba88-ce41-4165-bf69-84b1284aec91",
   "metadata": {},
   "source": [
    "#### Auto created transforms"
   ]
  },
  {
   "cell_type": "code",
   "execution_count": null,
   "id": "0405ba6a-f767-462a-bbc8-bdcea0c4a2fa",
   "metadata": {},
   "outputs": [],
   "source": [
    "resnet50_transforms_auto"
   ]
  },
  {
   "cell_type": "markdown",
   "id": "189e6454-7996-4ae3-85ae-4ffe5ec08784",
   "metadata": {},
   "source": [
    "#### Dataloaders for Resnet50 `v1`"
   ]
  },
  {
   "cell_type": "code",
   "execution_count": null,
   "id": "be3d2ed9-1d2f-4540-8c39-5e0606887054",
   "metadata": {},
   "outputs": [],
   "source": [
    "from scripts import data_setup\n",
    "\n",
    "train_dataloader_resnet50, test_dataloader_resnet50, class_names = data_setup.create_dataloaders(train_dir=train_dir,\n",
    "                                                                                                 test_dir=test_dir,\n",
    "                                                                                                 transform=resnet50_transforms_auto,\n",
    "                                                                                                 batch_size=32)"
   ]
  },
  {
   "cell_type": "code",
   "execution_count": null,
   "id": "9744f720-bee9-4bb4-b6f9-1c2ff53a0aa8",
   "metadata": {},
   "outputs": [],
   "source": [
    "len(train_dataloader_resnet50), len(test_dataloader_resnet50), class_names"
   ]
  },
  {
   "cell_type": "markdown",
   "id": "a20a3652-63b2-4220-b5ff-2fc19ed9834a",
   "metadata": {},
   "source": [
    "### 2.2 ResNet50 augmented feature extractors - `v2` & `v3` (learning rate decay)"
   ]
  },
  {
   "cell_type": "markdown",
   "id": "7c913797-a7dd-459c-9d17-ec53a204e59b",
   "metadata": {},
   "source": [
    "#### Dropout layer"
   ]
  },
  {
   "cell_type": "markdown",
   "id": "a814bb4f-035e-41f2-9311-e4b6665cab6a",
   "metadata": {},
   "source": [
    "Adding a `Dropout` layer after the last pooling layer `avgpool` and before the `Linear` ouput layer `fc` should introduce **regularization** and prevent overfitting."
   ]
  },
  {
   "cell_type": "code",
   "execution_count": 11,
   "id": "ab960f52-0d1e-403f-9a31-0b453a2fa7da",
   "metadata": {},
   "outputs": [],
   "source": [
    "def create_resnet50_model_v2(num_classes:int=6,\n",
    "                          seed:int=42,\n",
    "                          dropout_prob:float=0.5):\n",
    "    weights = torchvision.models.ResNet50_Weights.DEFAULT\n",
    "    model = torchvision.models.resnet50(weights=weights).to(device)\n",
    "\n",
    "    for param in model.parameters():\n",
    "        param.requires_grad = False\n",
    "\n",
    "    torch.manual_seed(seed)\n",
    "    model.fc = nn.Sequential(\n",
    "        nn.Dropout(p=dropout_prob),\n",
    "        nn.Linear(in_features=2048, out_features=num_classes)\n",
    "    ).to(device)\n",
    "\n",
    "    return model"
   ]
  },
  {
   "cell_type": "code",
   "execution_count": 12,
   "id": "9d44eb3c-efe2-4d4c-ac0e-bd762165e2ae",
   "metadata": {},
   "outputs": [],
   "source": [
    "resnet50_v2= create_resnet50_model_v2(num_classes=6, seed=42, dropout_prob=0.2)\n",
    "resnet50_v3= create_resnet50_model_v2(num_classes=6, seed=42, dropout_prob=0.2)"
   ]
  },
  {
   "cell_type": "code",
   "execution_count": null,
   "id": "aef03e6f-ef07-4ccc-b9a1-165da2c951be",
   "metadata": {},
   "outputs": [],
   "source": [
    "resnet50_v2.fc"
   ]
  },
  {
   "cell_type": "markdown",
   "id": "de9c2210-ef64-4df7-aa5d-4a6da34f388b",
   "metadata": {},
   "source": [
    "#### Custom transforms ~ Data augmentation"
   ]
  },
  {
   "cell_type": "code",
   "execution_count": 8,
   "id": "03d60ce9-52f8-4ee6-8a7b-33aa7efabf78",
   "metadata": {},
   "outputs": [],
   "source": [
    "resnet50_train_transform_custom = transforms.Compose([\n",
    "    transforms.ToTensor(),\n",
    "    transforms.Resize(232, interpolation=InterpolationMode.BILINEAR),\n",
    "    transforms.GaussianBlur(kernel_size=3),\n",
    "    transforms.RandomGrayscale(),\n",
    "    transforms.RandomHorizontalFlip(),\n",
    "    transforms.Normalize(\n",
    "        mean=[0.485, 0.456, 0.406],\n",
    "        std=[0.229, 0.224, 0.225]\n",
    "    )\n",
    "])\n",
    "\n",
    "resnet50_test_transform_custom = transforms.Compose([\n",
    "    transforms.ToTensor(),\n",
    "    transforms.Resize(232, interpolation=InterpolationMode.BILINEAR, antialias=True),\n",
    "    transforms.CenterCrop(224),\n",
    "    transforms.Normalize(\n",
    "        mean=[0.485, 0.456, 0.406],\n",
    "        std=[0.229, 0.224, 0.225]\n",
    "    )\n",
    "])"
   ]
  },
  {
   "cell_type": "code",
   "execution_count": null,
   "id": "3c223393-ef9a-4b90-a012-b81b0feb5233",
   "metadata": {},
   "outputs": [],
   "source": [
    "resnet50_train_transform_custom"
   ]
  },
  {
   "cell_type": "code",
   "execution_count": null,
   "id": "9ec1e821-e6e0-4ef8-bb7a-2c30df37ef63",
   "metadata": {},
   "outputs": [],
   "source": [
    "resnet50_test_transform_custom"
   ]
  },
  {
   "cell_type": "markdown",
   "id": "cb1a9a6c-9545-4bc7-985f-398f87b1d92c",
   "metadata": {},
   "source": [
    "#### Dataloaders for ResNet50 `v2` & `v3`"
   ]
  },
  {
   "cell_type": "code",
   "execution_count": 9,
   "id": "9a4090b1-c0e7-472d-b9ec-54c05fae11b6",
   "metadata": {},
   "outputs": [],
   "source": [
    "from scripts import data_setup_augmented\n",
    "\n",
    "train_dataloader_resnet50_custom, test_dataloader_resnet50_custom, class_names = data_setup_augmented.create_dataloaders(train_dir=train_dir,\n",
    "                                                                                                           test_dir=test_dir,\n",
    "                                                                                                           train_transform=resnet50_train_transform_custom,\n",
    "                                                                                                           test_transform=resnet50_test_transform_custom,\n",
    "                                                                                                           batch_size=32)"
   ]
  },
  {
   "cell_type": "code",
   "execution_count": 10,
   "id": "0cb51b6a-03fb-4b4a-979c-36d25ca0392d",
   "metadata": {},
   "outputs": [
    {
     "data": {
      "text/plain": [
       "(64, 16, ['cardboard', 'glass', 'metal', 'paper', 'plastic', 'trash'])"
      ]
     },
     "execution_count": 10,
     "metadata": {},
     "output_type": "execute_result"
    }
   ],
   "source": [
    "len(train_dataloader_resnet50_custom), len(test_dataloader_resnet50_custom), class_names"
   ]
  },
  {
   "cell_type": "markdown",
   "id": "e3050f95-85ab-4d4a-b649-5eba69008155",
   "metadata": {},
   "source": [
    "#### ResNet50 `v2` summary"
   ]
  },
  {
   "cell_type": "code",
   "execution_count": 14,
   "id": "ccccfef7-6c3d-41d5-bc2b-dfe0fb30147a",
   "metadata": {},
   "outputs": [
    {
     "data": {
      "text/plain": [
       "========================================================================================================================\n",
       "Layer (type (var_name))                  Input Shape          Output Shape         Param #              Trainable\n",
       "========================================================================================================================\n",
       "ResNet (ResNet)                          [1, 3, 224, 224]     [1, 6]               --                   Partial\n",
       "├─Conv2d (conv1)                         [1, 3, 224, 224]     [1, 64, 112, 112]    (9,408)              False\n",
       "├─BatchNorm2d (bn1)                      [1, 64, 112, 112]    [1, 64, 112, 112]    (128)                False\n",
       "├─ReLU (relu)                            [1, 64, 112, 112]    [1, 64, 112, 112]    --                   --\n",
       "├─MaxPool2d (maxpool)                    [1, 64, 112, 112]    [1, 64, 56, 56]      --                   --\n",
       "├─Sequential (layer1)                    [1, 64, 56, 56]      [1, 256, 56, 56]     --                   False\n",
       "│    └─Bottleneck (0)                    [1, 64, 56, 56]      [1, 256, 56, 56]     --                   False\n",
       "│    │    └─Conv2d (conv1)               [1, 64, 56, 56]      [1, 64, 56, 56]      (4,096)              False\n",
       "│    │    └─BatchNorm2d (bn1)            [1, 64, 56, 56]      [1, 64, 56, 56]      (128)                False\n",
       "│    │    └─ReLU (relu)                  [1, 64, 56, 56]      [1, 64, 56, 56]      --                   --\n",
       "│    │    └─Conv2d (conv2)               [1, 64, 56, 56]      [1, 64, 56, 56]      (36,864)             False\n",
       "│    │    └─BatchNorm2d (bn2)            [1, 64, 56, 56]      [1, 64, 56, 56]      (128)                False\n",
       "│    │    └─ReLU (relu)                  [1, 64, 56, 56]      [1, 64, 56, 56]      --                   --\n",
       "│    │    └─Conv2d (conv3)               [1, 64, 56, 56]      [1, 256, 56, 56]     (16,384)             False\n",
       "│    │    └─BatchNorm2d (bn3)            [1, 256, 56, 56]     [1, 256, 56, 56]     (512)                False\n",
       "│    │    └─Sequential (downsample)      [1, 64, 56, 56]      [1, 256, 56, 56]     (16,896)             False\n",
       "│    │    └─ReLU (relu)                  [1, 256, 56, 56]     [1, 256, 56, 56]     --                   --\n",
       "│    └─Bottleneck (1)                    [1, 256, 56, 56]     [1, 256, 56, 56]     --                   False\n",
       "│    │    └─Conv2d (conv1)               [1, 256, 56, 56]     [1, 64, 56, 56]      (16,384)             False\n",
       "│    │    └─BatchNorm2d (bn1)            [1, 64, 56, 56]      [1, 64, 56, 56]      (128)                False\n",
       "│    │    └─ReLU (relu)                  [1, 64, 56, 56]      [1, 64, 56, 56]      --                   --\n",
       "│    │    └─Conv2d (conv2)               [1, 64, 56, 56]      [1, 64, 56, 56]      (36,864)             False\n",
       "│    │    └─BatchNorm2d (bn2)            [1, 64, 56, 56]      [1, 64, 56, 56]      (128)                False\n",
       "│    │    └─ReLU (relu)                  [1, 64, 56, 56]      [1, 64, 56, 56]      --                   --\n",
       "│    │    └─Conv2d (conv3)               [1, 64, 56, 56]      [1, 256, 56, 56]     (16,384)             False\n",
       "│    │    └─BatchNorm2d (bn3)            [1, 256, 56, 56]     [1, 256, 56, 56]     (512)                False\n",
       "│    │    └─ReLU (relu)                  [1, 256, 56, 56]     [1, 256, 56, 56]     --                   --\n",
       "│    └─Bottleneck (2)                    [1, 256, 56, 56]     [1, 256, 56, 56]     --                   False\n",
       "│    │    └─Conv2d (conv1)               [1, 256, 56, 56]     [1, 64, 56, 56]      (16,384)             False\n",
       "│    │    └─BatchNorm2d (bn1)            [1, 64, 56, 56]      [1, 64, 56, 56]      (128)                False\n",
       "│    │    └─ReLU (relu)                  [1, 64, 56, 56]      [1, 64, 56, 56]      --                   --\n",
       "│    │    └─Conv2d (conv2)               [1, 64, 56, 56]      [1, 64, 56, 56]      (36,864)             False\n",
       "│    │    └─BatchNorm2d (bn2)            [1, 64, 56, 56]      [1, 64, 56, 56]      (128)                False\n",
       "│    │    └─ReLU (relu)                  [1, 64, 56, 56]      [1, 64, 56, 56]      --                   --\n",
       "│    │    └─Conv2d (conv3)               [1, 64, 56, 56]      [1, 256, 56, 56]     (16,384)             False\n",
       "│    │    └─BatchNorm2d (bn3)            [1, 256, 56, 56]     [1, 256, 56, 56]     (512)                False\n",
       "│    │    └─ReLU (relu)                  [1, 256, 56, 56]     [1, 256, 56, 56]     --                   --\n",
       "├─Sequential (layer2)                    [1, 256, 56, 56]     [1, 512, 28, 28]     --                   False\n",
       "│    └─Bottleneck (0)                    [1, 256, 56, 56]     [1, 512, 28, 28]     --                   False\n",
       "│    │    └─Conv2d (conv1)               [1, 256, 56, 56]     [1, 128, 56, 56]     (32,768)             False\n",
       "│    │    └─BatchNorm2d (bn1)            [1, 128, 56, 56]     [1, 128, 56, 56]     (256)                False\n",
       "│    │    └─ReLU (relu)                  [1, 128, 56, 56]     [1, 128, 56, 56]     --                   --\n",
       "│    │    └─Conv2d (conv2)               [1, 128, 56, 56]     [1, 128, 28, 28]     (147,456)            False\n",
       "│    │    └─BatchNorm2d (bn2)            [1, 128, 28, 28]     [1, 128, 28, 28]     (256)                False\n",
       "│    │    └─ReLU (relu)                  [1, 128, 28, 28]     [1, 128, 28, 28]     --                   --\n",
       "│    │    └─Conv2d (conv3)               [1, 128, 28, 28]     [1, 512, 28, 28]     (65,536)             False\n",
       "│    │    └─BatchNorm2d (bn3)            [1, 512, 28, 28]     [1, 512, 28, 28]     (1,024)              False\n",
       "│    │    └─Sequential (downsample)      [1, 256, 56, 56]     [1, 512, 28, 28]     (132,096)            False\n",
       "│    │    └─ReLU (relu)                  [1, 512, 28, 28]     [1, 512, 28, 28]     --                   --\n",
       "│    └─Bottleneck (1)                    [1, 512, 28, 28]     [1, 512, 28, 28]     --                   False\n",
       "│    │    └─Conv2d (conv1)               [1, 512, 28, 28]     [1, 128, 28, 28]     (65,536)             False\n",
       "│    │    └─BatchNorm2d (bn1)            [1, 128, 28, 28]     [1, 128, 28, 28]     (256)                False\n",
       "│    │    └─ReLU (relu)                  [1, 128, 28, 28]     [1, 128, 28, 28]     --                   --\n",
       "│    │    └─Conv2d (conv2)               [1, 128, 28, 28]     [1, 128, 28, 28]     (147,456)            False\n",
       "│    │    └─BatchNorm2d (bn2)            [1, 128, 28, 28]     [1, 128, 28, 28]     (256)                False\n",
       "│    │    └─ReLU (relu)                  [1, 128, 28, 28]     [1, 128, 28, 28]     --                   --\n",
       "│    │    └─Conv2d (conv3)               [1, 128, 28, 28]     [1, 512, 28, 28]     (65,536)             False\n",
       "│    │    └─BatchNorm2d (bn3)            [1, 512, 28, 28]     [1, 512, 28, 28]     (1,024)              False\n",
       "│    │    └─ReLU (relu)                  [1, 512, 28, 28]     [1, 512, 28, 28]     --                   --\n",
       "│    └─Bottleneck (2)                    [1, 512, 28, 28]     [1, 512, 28, 28]     --                   False\n",
       "│    │    └─Conv2d (conv1)               [1, 512, 28, 28]     [1, 128, 28, 28]     (65,536)             False\n",
       "│    │    └─BatchNorm2d (bn1)            [1, 128, 28, 28]     [1, 128, 28, 28]     (256)                False\n",
       "│    │    └─ReLU (relu)                  [1, 128, 28, 28]     [1, 128, 28, 28]     --                   --\n",
       "│    │    └─Conv2d (conv2)               [1, 128, 28, 28]     [1, 128, 28, 28]     (147,456)            False\n",
       "│    │    └─BatchNorm2d (bn2)            [1, 128, 28, 28]     [1, 128, 28, 28]     (256)                False\n",
       "│    │    └─ReLU (relu)                  [1, 128, 28, 28]     [1, 128, 28, 28]     --                   --\n",
       "│    │    └─Conv2d (conv3)               [1, 128, 28, 28]     [1, 512, 28, 28]     (65,536)             False\n",
       "│    │    └─BatchNorm2d (bn3)            [1, 512, 28, 28]     [1, 512, 28, 28]     (1,024)              False\n",
       "│    │    └─ReLU (relu)                  [1, 512, 28, 28]     [1, 512, 28, 28]     --                   --\n",
       "│    └─Bottleneck (3)                    [1, 512, 28, 28]     [1, 512, 28, 28]     --                   False\n",
       "│    │    └─Conv2d (conv1)               [1, 512, 28, 28]     [1, 128, 28, 28]     (65,536)             False\n",
       "│    │    └─BatchNorm2d (bn1)            [1, 128, 28, 28]     [1, 128, 28, 28]     (256)                False\n",
       "│    │    └─ReLU (relu)                  [1, 128, 28, 28]     [1, 128, 28, 28]     --                   --\n",
       "│    │    └─Conv2d (conv2)               [1, 128, 28, 28]     [1, 128, 28, 28]     (147,456)            False\n",
       "│    │    └─BatchNorm2d (bn2)            [1, 128, 28, 28]     [1, 128, 28, 28]     (256)                False\n",
       "│    │    └─ReLU (relu)                  [1, 128, 28, 28]     [1, 128, 28, 28]     --                   --\n",
       "│    │    └─Conv2d (conv3)               [1, 128, 28, 28]     [1, 512, 28, 28]     (65,536)             False\n",
       "│    │    └─BatchNorm2d (bn3)            [1, 512, 28, 28]     [1, 512, 28, 28]     (1,024)              False\n",
       "│    │    └─ReLU (relu)                  [1, 512, 28, 28]     [1, 512, 28, 28]     --                   --\n",
       "├─Sequential (layer3)                    [1, 512, 28, 28]     [1, 1024, 14, 14]    --                   False\n",
       "│    └─Bottleneck (0)                    [1, 512, 28, 28]     [1, 1024, 14, 14]    --                   False\n",
       "│    │    └─Conv2d (conv1)               [1, 512, 28, 28]     [1, 256, 28, 28]     (131,072)            False\n",
       "│    │    └─BatchNorm2d (bn1)            [1, 256, 28, 28]     [1, 256, 28, 28]     (512)                False\n",
       "│    │    └─ReLU (relu)                  [1, 256, 28, 28]     [1, 256, 28, 28]     --                   --\n",
       "│    │    └─Conv2d (conv2)               [1, 256, 28, 28]     [1, 256, 14, 14]     (589,824)            False\n",
       "│    │    └─BatchNorm2d (bn2)            [1, 256, 14, 14]     [1, 256, 14, 14]     (512)                False\n",
       "│    │    └─ReLU (relu)                  [1, 256, 14, 14]     [1, 256, 14, 14]     --                   --\n",
       "│    │    └─Conv2d (conv3)               [1, 256, 14, 14]     [1, 1024, 14, 14]    (262,144)            False\n",
       "│    │    └─BatchNorm2d (bn3)            [1, 1024, 14, 14]    [1, 1024, 14, 14]    (2,048)              False\n",
       "│    │    └─Sequential (downsample)      [1, 512, 28, 28]     [1, 1024, 14, 14]    (526,336)            False\n",
       "│    │    └─ReLU (relu)                  [1, 1024, 14, 14]    [1, 1024, 14, 14]    --                   --\n",
       "│    └─Bottleneck (1)                    [1, 1024, 14, 14]    [1, 1024, 14, 14]    --                   False\n",
       "│    │    └─Conv2d (conv1)               [1, 1024, 14, 14]    [1, 256, 14, 14]     (262,144)            False\n",
       "│    │    └─BatchNorm2d (bn1)            [1, 256, 14, 14]     [1, 256, 14, 14]     (512)                False\n",
       "│    │    └─ReLU (relu)                  [1, 256, 14, 14]     [1, 256, 14, 14]     --                   --\n",
       "│    │    └─Conv2d (conv2)               [1, 256, 14, 14]     [1, 256, 14, 14]     (589,824)            False\n",
       "│    │    └─BatchNorm2d (bn2)            [1, 256, 14, 14]     [1, 256, 14, 14]     (512)                False\n",
       "│    │    └─ReLU (relu)                  [1, 256, 14, 14]     [1, 256, 14, 14]     --                   --\n",
       "│    │    └─Conv2d (conv3)               [1, 256, 14, 14]     [1, 1024, 14, 14]    (262,144)            False\n",
       "│    │    └─BatchNorm2d (bn3)            [1, 1024, 14, 14]    [1, 1024, 14, 14]    (2,048)              False\n",
       "│    │    └─ReLU (relu)                  [1, 1024, 14, 14]    [1, 1024, 14, 14]    --                   --\n",
       "│    └─Bottleneck (2)                    [1, 1024, 14, 14]    [1, 1024, 14, 14]    --                   False\n",
       "│    │    └─Conv2d (conv1)               [1, 1024, 14, 14]    [1, 256, 14, 14]     (262,144)            False\n",
       "│    │    └─BatchNorm2d (bn1)            [1, 256, 14, 14]     [1, 256, 14, 14]     (512)                False\n",
       "│    │    └─ReLU (relu)                  [1, 256, 14, 14]     [1, 256, 14, 14]     --                   --\n",
       "│    │    └─Conv2d (conv2)               [1, 256, 14, 14]     [1, 256, 14, 14]     (589,824)            False\n",
       "│    │    └─BatchNorm2d (bn2)            [1, 256, 14, 14]     [1, 256, 14, 14]     (512)                False\n",
       "│    │    └─ReLU (relu)                  [1, 256, 14, 14]     [1, 256, 14, 14]     --                   --\n",
       "│    │    └─Conv2d (conv3)               [1, 256, 14, 14]     [1, 1024, 14, 14]    (262,144)            False\n",
       "│    │    └─BatchNorm2d (bn3)            [1, 1024, 14, 14]    [1, 1024, 14, 14]    (2,048)              False\n",
       "│    │    └─ReLU (relu)                  [1, 1024, 14, 14]    [1, 1024, 14, 14]    --                   --\n",
       "│    └─Bottleneck (3)                    [1, 1024, 14, 14]    [1, 1024, 14, 14]    --                   False\n",
       "│    │    └─Conv2d (conv1)               [1, 1024, 14, 14]    [1, 256, 14, 14]     (262,144)            False\n",
       "│    │    └─BatchNorm2d (bn1)            [1, 256, 14, 14]     [1, 256, 14, 14]     (512)                False\n",
       "│    │    └─ReLU (relu)                  [1, 256, 14, 14]     [1, 256, 14, 14]     --                   --\n",
       "│    │    └─Conv2d (conv2)               [1, 256, 14, 14]     [1, 256, 14, 14]     (589,824)            False\n",
       "│    │    └─BatchNorm2d (bn2)            [1, 256, 14, 14]     [1, 256, 14, 14]     (512)                False\n",
       "│    │    └─ReLU (relu)                  [1, 256, 14, 14]     [1, 256, 14, 14]     --                   --\n",
       "│    │    └─Conv2d (conv3)               [1, 256, 14, 14]     [1, 1024, 14, 14]    (262,144)            False\n",
       "│    │    └─BatchNorm2d (bn3)            [1, 1024, 14, 14]    [1, 1024, 14, 14]    (2,048)              False\n",
       "│    │    └─ReLU (relu)                  [1, 1024, 14, 14]    [1, 1024, 14, 14]    --                   --\n",
       "│    └─Bottleneck (4)                    [1, 1024, 14, 14]    [1, 1024, 14, 14]    --                   False\n",
       "│    │    └─Conv2d (conv1)               [1, 1024, 14, 14]    [1, 256, 14, 14]     (262,144)            False\n",
       "│    │    └─BatchNorm2d (bn1)            [1, 256, 14, 14]     [1, 256, 14, 14]     (512)                False\n",
       "│    │    └─ReLU (relu)                  [1, 256, 14, 14]     [1, 256, 14, 14]     --                   --\n",
       "│    │    └─Conv2d (conv2)               [1, 256, 14, 14]     [1, 256, 14, 14]     (589,824)            False\n",
       "│    │    └─BatchNorm2d (bn2)            [1, 256, 14, 14]     [1, 256, 14, 14]     (512)                False\n",
       "│    │    └─ReLU (relu)                  [1, 256, 14, 14]     [1, 256, 14, 14]     --                   --\n",
       "│    │    └─Conv2d (conv3)               [1, 256, 14, 14]     [1, 1024, 14, 14]    (262,144)            False\n",
       "│    │    └─BatchNorm2d (bn3)            [1, 1024, 14, 14]    [1, 1024, 14, 14]    (2,048)              False\n",
       "│    │    └─ReLU (relu)                  [1, 1024, 14, 14]    [1, 1024, 14, 14]    --                   --\n",
       "│    └─Bottleneck (5)                    [1, 1024, 14, 14]    [1, 1024, 14, 14]    --                   False\n",
       "│    │    └─Conv2d (conv1)               [1, 1024, 14, 14]    [1, 256, 14, 14]     (262,144)            False\n",
       "│    │    └─BatchNorm2d (bn1)            [1, 256, 14, 14]     [1, 256, 14, 14]     (512)                False\n",
       "│    │    └─ReLU (relu)                  [1, 256, 14, 14]     [1, 256, 14, 14]     --                   --\n",
       "│    │    └─Conv2d (conv2)               [1, 256, 14, 14]     [1, 256, 14, 14]     (589,824)            False\n",
       "│    │    └─BatchNorm2d (bn2)            [1, 256, 14, 14]     [1, 256, 14, 14]     (512)                False\n",
       "│    │    └─ReLU (relu)                  [1, 256, 14, 14]     [1, 256, 14, 14]     --                   --\n",
       "│    │    └─Conv2d (conv3)               [1, 256, 14, 14]     [1, 1024, 14, 14]    (262,144)            False\n",
       "│    │    └─BatchNorm2d (bn3)            [1, 1024, 14, 14]    [1, 1024, 14, 14]    (2,048)              False\n",
       "│    │    └─ReLU (relu)                  [1, 1024, 14, 14]    [1, 1024, 14, 14]    --                   --\n",
       "├─Sequential (layer4)                    [1, 1024, 14, 14]    [1, 2048, 7, 7]      --                   False\n",
       "│    └─Bottleneck (0)                    [1, 1024, 14, 14]    [1, 2048, 7, 7]      --                   False\n",
       "│    │    └─Conv2d (conv1)               [1, 1024, 14, 14]    [1, 512, 14, 14]     (524,288)            False\n",
       "│    │    └─BatchNorm2d (bn1)            [1, 512, 14, 14]     [1, 512, 14, 14]     (1,024)              False\n",
       "│    │    └─ReLU (relu)                  [1, 512, 14, 14]     [1, 512, 14, 14]     --                   --\n",
       "│    │    └─Conv2d (conv2)               [1, 512, 14, 14]     [1, 512, 7, 7]       (2,359,296)          False\n",
       "│    │    └─BatchNorm2d (bn2)            [1, 512, 7, 7]       [1, 512, 7, 7]       (1,024)              False\n",
       "│    │    └─ReLU (relu)                  [1, 512, 7, 7]       [1, 512, 7, 7]       --                   --\n",
       "│    │    └─Conv2d (conv3)               [1, 512, 7, 7]       [1, 2048, 7, 7]      (1,048,576)          False\n",
       "│    │    └─BatchNorm2d (bn3)            [1, 2048, 7, 7]      [1, 2048, 7, 7]      (4,096)              False\n",
       "│    │    └─Sequential (downsample)      [1, 1024, 14, 14]    [1, 2048, 7, 7]      (2,101,248)          False\n",
       "│    │    └─ReLU (relu)                  [1, 2048, 7, 7]      [1, 2048, 7, 7]      --                   --\n",
       "│    └─Bottleneck (1)                    [1, 2048, 7, 7]      [1, 2048, 7, 7]      --                   False\n",
       "│    │    └─Conv2d (conv1)               [1, 2048, 7, 7]      [1, 512, 7, 7]       (1,048,576)          False\n",
       "│    │    └─BatchNorm2d (bn1)            [1, 512, 7, 7]       [1, 512, 7, 7]       (1,024)              False\n",
       "│    │    └─ReLU (relu)                  [1, 512, 7, 7]       [1, 512, 7, 7]       --                   --\n",
       "│    │    └─Conv2d (conv2)               [1, 512, 7, 7]       [1, 512, 7, 7]       (2,359,296)          False\n",
       "│    │    └─BatchNorm2d (bn2)            [1, 512, 7, 7]       [1, 512, 7, 7]       (1,024)              False\n",
       "│    │    └─ReLU (relu)                  [1, 512, 7, 7]       [1, 512, 7, 7]       --                   --\n",
       "│    │    └─Conv2d (conv3)               [1, 512, 7, 7]       [1, 2048, 7, 7]      (1,048,576)          False\n",
       "│    │    └─BatchNorm2d (bn3)            [1, 2048, 7, 7]      [1, 2048, 7, 7]      (4,096)              False\n",
       "│    │    └─ReLU (relu)                  [1, 2048, 7, 7]      [1, 2048, 7, 7]      --                   --\n",
       "│    └─Bottleneck (2)                    [1, 2048, 7, 7]      [1, 2048, 7, 7]      --                   False\n",
       "│    │    └─Conv2d (conv1)               [1, 2048, 7, 7]      [1, 512, 7, 7]       (1,048,576)          False\n",
       "│    │    └─BatchNorm2d (bn1)            [1, 512, 7, 7]       [1, 512, 7, 7]       (1,024)              False\n",
       "│    │    └─ReLU (relu)                  [1, 512, 7, 7]       [1, 512, 7, 7]       --                   --\n",
       "│    │    └─Conv2d (conv2)               [1, 512, 7, 7]       [1, 512, 7, 7]       (2,359,296)          False\n",
       "│    │    └─BatchNorm2d (bn2)            [1, 512, 7, 7]       [1, 512, 7, 7]       (1,024)              False\n",
       "│    │    └─ReLU (relu)                  [1, 512, 7, 7]       [1, 512, 7, 7]       --                   --\n",
       "│    │    └─Conv2d (conv3)               [1, 512, 7, 7]       [1, 2048, 7, 7]      (1,048,576)          False\n",
       "│    │    └─BatchNorm2d (bn3)            [1, 2048, 7, 7]      [1, 2048, 7, 7]      (4,096)              False\n",
       "│    │    └─ReLU (relu)                  [1, 2048, 7, 7]      [1, 2048, 7, 7]      --                   --\n",
       "├─AdaptiveAvgPool2d (avgpool)            [1, 2048, 7, 7]      [1, 2048, 1, 1]      --                   --\n",
       "├─Sequential (fc)                        [1, 2048]            [1, 6]               --                   True\n",
       "│    └─Dropout (0)                       [1, 2048]            [1, 2048]            --                   --\n",
       "│    └─Linear (1)                        [1, 2048]            [1, 6]               12,294               True\n",
       "========================================================================================================================\n",
       "Total params: 23,520,326\n",
       "Trainable params: 12,294\n",
       "Non-trainable params: 23,508,032\n",
       "Total mult-adds (Units.GIGABYTES): 4.09\n",
       "========================================================================================================================\n",
       "Input size (MB): 0.60\n",
       "Forward/backward pass size (MB): 177.82\n",
       "Params size (MB): 94.08\n",
       "Estimated Total Size (MB): 272.51\n",
       "========================================================================================================================"
      ]
     },
     "execution_count": 14,
     "metadata": {},
     "output_type": "execute_result"
    }
   ],
   "source": [
    "summary(resnet50_v2,\n",
    "        input_size=(1, 3, 224, 224),\n",
    "        col_names=[\"input_size\", \"output_size\", \"num_params\", \"trainable\"],\n",
    "        col_width=20,\n",
    "        row_settings=[\"var_names\"])"
   ]
  },
  {
   "cell_type": "markdown",
   "id": "d4000020-1c4c-4886-8ec2-1fa1912313a4",
   "metadata": {},
   "source": [
    "All the original layers of the ResNet50 architecture have been frozen, **except** for the **output layer `fc`**."
   ]
  },
  {
   "cell_type": "markdown",
   "id": "dcb457bc-fef1-4f84-87e6-48a8336a3fd9",
   "metadata": {},
   "source": [
    "## 3 - Training"
   ]
  },
  {
   "cell_type": "markdown",
   "id": "200f3989-11a4-4f4a-b3d9-d1c2b7312bd6",
   "metadata": {},
   "source": [
    "### 3.1 ResNet `v1` training"
   ]
  },
  {
   "cell_type": "code",
   "execution_count": null,
   "id": "f0c48374-5d0f-4053-b5ec-83490deeb692",
   "metadata": {},
   "outputs": [],
   "source": [
    "from scripts import engine\n",
    "\n",
    "loss_fn = torch.nn.CrossEntropyLoss()\n",
    "optimizer = torch.optim.Adam(params=resnet50_v1.parameters(),\n",
    "                             lr=1e-3)\n",
    "\n",
    "set_seeds(42)\n",
    "\n",
    "resnet50_results_v1 = engine.train(model=resnet50_v1,\n",
    "                                train_dataloader=train_dataloader_resnet50,\n",
    "                                test_dataloader=test_dataloader_resnet50,\n",
    "                                epochs=30,\n",
    "                                optimizer=optimizer,\n",
    "                                loss_fn=loss_fn,\n",
    "                                device=device)"
   ]
  },
  {
   "cell_type": "markdown",
   "id": "a205d73a-ae88-40db-ae80-c527a3487419",
   "metadata": {},
   "source": [
    "#### Loss & Accuracy curves ~ `v1`"
   ]
  },
  {
   "cell_type": "code",
   "execution_count": null,
   "id": "c037dd6a-dc0b-41de-be60-1c949c030155",
   "metadata": {},
   "outputs": [],
   "source": [
    "from helper_functions import plot_loss_curves\n",
    "\n",
    "plot_loss_curves(resnet50_results_v1)"
   ]
  },
  {
   "cell_type": "markdown",
   "id": "b64dfe0a-3aaf-4412-bfae-8bf57d4752a8",
   "metadata": {},
   "source": [
    "### 3.2 ResNet `v2` training ~ without learning rate decay"
   ]
  },
  {
   "cell_type": "code",
   "execution_count": null,
   "id": "8644c2d0-2210-4c5e-ab91-e13955a188c0",
   "metadata": {},
   "outputs": [],
   "source": [
    "from scripts import engine\n",
    "\n",
    "loss_fn = torch.nn.CrossEntropyLoss()\n",
    "optimizer = torch.optim.Adam(params=resnet50_v2.parameters(),\n",
    "                             lr=1e-3)\n",
    "\n",
    "set_seeds(42)\n",
    "\n",
    "resnet50_results_v2 = engine.train(model=resnet50_v2,\n",
    "                                train_dataloader=train_dataloader_resnet50_custom,\n",
    "                                test_dataloader=test_dataloader_resnet50_custom,\n",
    "                                epochs=30,\n",
    "                                optimizer=optimizer,\n",
    "                                loss_fn=loss_fn,\n",
    "                                device=device)"
   ]
  },
  {
   "cell_type": "markdown",
   "id": "f885f877-99cd-4443-8e9c-87171601dbf5",
   "metadata": {},
   "source": [
    "### 3.3 ResNet `v3` training ~ with learning rate decay"
   ]
  },
  {
   "cell_type": "code",
   "execution_count": null,
   "id": "d52c0a54-a66d-463b-945b-c7ada210715c",
   "metadata": {},
   "outputs": [],
   "source": [
    "from scripts import engine_lr_decay\n",
    "from torch.optim.lr_scheduler import StepLR\n",
    "\n",
    "loss_fn = torch.nn.CrossEntropyLoss()\n",
    "optimizer = torch.optim.Adam(params=resnet50_v3.parameters(),\n",
    "                             lr=0.1)\n",
    "scheduler = StepLR(optimizer, step_size=10, gamma=0.1)\n",
    "\n",
    "set_seeds(42)\n",
    "\n",
    "resnet50_results_v3 = engine_lr_decay.train(model=resnet50_v3,\n",
    "                                train_dataloader=train_dataloader_resnet50_custom,\n",
    "                                test_dataloader=test_dataloader_resnet50_custom,\n",
    "                                optimizer=optimizer,\n",
    "                                loss_fn=loss_fn,\n",
    "                                scheduler=scheduler,\n",
    "                                epochs=30,\n",
    "                                device=device)"
   ]
  },
  {
   "cell_type": "markdown",
   "id": "d502d103-e19b-436f-97ae-fed999963320",
   "metadata": {},
   "source": [
    "#### Loss & Accuracy curves ~ `v2` & `v3`"
   ]
  },
  {
   "cell_type": "code",
   "execution_count": null,
   "id": "918287b6-a90a-45f1-b91f-9554eda20982",
   "metadata": {},
   "outputs": [],
   "source": [
    "plot_loss_curves(resnet50_results_v2)"
   ]
  },
  {
   "cell_type": "code",
   "execution_count": null,
   "id": "bf0bb67f-4643-4bee-a194-8bd36c4b2ffd",
   "metadata": {},
   "outputs": [],
   "source": [
    "plot_loss_curves(resnet50_results_v3)"
   ]
  },
  {
   "cell_type": "markdown",
   "id": "99ad0e1c-d04a-4854-afd9-77c71966a506",
   "metadata": {},
   "source": [
    "## 4 - Saving models & Collecting stats"
   ]
  },
  {
   "cell_type": "code",
   "execution_count": null,
   "id": "f714b8b5-b0b8-420c-8e52-65f4cedef76f",
   "metadata": {},
   "outputs": [],
   "source": [
    "from scripts import utils\n",
    "\n",
    "utils.save_model(model=resnet50_v1,\n",
    "                 target_dir=\"models\",\n",
    "                 model_name=\"resnet50_v1_model.pth\")\n",
    "\n",
    "utils.save_model(model=resnet50_v2,\n",
    "                 target_dir=\"models\",\n",
    "                 model_name=\"resnet50_v2_model.pth\")\n",
    "\n",
    "utils.save_model(model=resnet50_v3,\n",
    "                 target_dir=\"models\",\n",
    "                 model_name=\"resnet50_v3_model.pth\")"
   ]
  },
  {
   "cell_type": "code",
   "execution_count": null,
   "id": "6c230495-6bc3-41e9-94ba-f0fd93b9d497",
   "metadata": {},
   "outputs": [],
   "source": [
    "from pathlib import Path\n",
    "\n",
    "size_resnet50_v1 = Path(\"models/resnet50_v1_model.pth\").stat().st_size // (1024*1024)\n",
    "size_resnet50_v2 = Path(\"models/resnet50_v2_model.pth\").stat().st_size // (1024*1024)\n",
    "size_resnet50_v3 = Path(\"models/resnet50_v3_model.pth\").stat().st_size // (1024*1024)"
   ]
  },
  {
   "cell_type": "code",
   "execution_count": null,
   "id": "c9f8227b-cf14-40c6-86cf-add6b727d9c0",
   "metadata": {},
   "outputs": [],
   "source": [
    "resnet50_v1_total_params = sum(torch.numel(param) for param in resnet50_v1.parameters())\n",
    "resnet50_v2_total_params = sum(torch.numel(param) for param in resnet50_v2.parameters())\n",
    "resnet50_v3_total_params = sum(torch.numel(param) for param in resnet50_v3.parameters())"
   ]
  },
  {
   "cell_type": "code",
   "execution_count": null,
   "id": "6885184d-a19f-4389-ac15-0488e96a1eb0",
   "metadata": {},
   "outputs": [],
   "source": [
    "resnet50_v1_stats = {\n",
    "    \"test_loss\" : resnet50_results_v1[\"test_loss\"][-1],\n",
    "    \"test_acc\" : resnet50_results_v1[\"test_acc\"][-1],\n",
    "    \"total_number_of_parameters\" : resnet50_v1_total_params,\n",
    "    \"model_size (MB)\" : size_resnet50_v1\n",
    "}\n",
    "\n",
    "resnet50_v2_stats = {\n",
    "    \"test_loss\" : resnet50_results_v2[\"test_loss\"][-1],\n",
    "    \"test_acc\" : resnet50_results_v2[\"test_acc\"][-1],\n",
    "    \"total_number_of_parameters\" : resnet50_v2_total_params,\n",
    "    \"model_size (MB)\" : size_resnet50_v2\n",
    "}\n",
    "\n",
    "resnet50_v3_stats = {\n",
    "    \"test_loss\" : resnet50_results_v3[\"test_loss\"][-1],\n",
    "    \"test_acc\" : resnet50_results_v3[\"test_acc\"][-1],\n",
    "    \"total_number_of_parameters\" : resnet50_v3_total_params,\n",
    "    \"model_size (MB)\" : size_resnet50_v3\n",
    "}"
   ]
  },
  {
   "cell_type": "markdown",
   "id": "ac562784-4707-4390-a921-63398468fe48",
   "metadata": {},
   "source": [
    "## 5 - Making predictions"
   ]
  },
  {
   "cell_type": "code",
   "execution_count": null,
   "id": "522b2cf5-06b1-4167-9f53-704db1274d38",
   "metadata": {},
   "outputs": [],
   "source": [
    "from pathlib import Path\n",
    "\n",
    "print(f\"Finding all files ending with '.jpg' in directory: {test_dir}\")\n",
    "test_data_paths = list(Path(test_dir).glob(\"*/*.jpg\"))\n",
    "test_data_paths[:5]"
   ]
  },
  {
   "cell_type": "code",
   "execution_count": null,
   "id": "53a861c3-32eb-4afc-b175-88b626dfe3e8",
   "metadata": {},
   "outputs": [],
   "source": [
    "from scripts import predictions\n",
    "\n",
    "resnet50_v1_predictions = predictions.pred_and_store(paths=test_data_paths,\n",
    "                                                     model=resnet50_v1,\n",
    "                                                     transform=resnet50_transforms_auto,\n",
    "                                                     class_names=class_names,\n",
    "                                                     device=\"cpu\")\n",
    "\n",
    "resnet50_v2_predictions = predictions.pred_and_store(paths=test_data_paths,\n",
    "                                                     model=resnet50_v2,\n",
    "                                                     transform=resnet50_test_transform_custom,\n",
    "                                                     class_names=class_names,\n",
    "                                                     device=\"cpu\")\n",
    "\n",
    "resnet50_v3_predictions = predictions.pred_and_store(paths=test_data_paths,\n",
    "                                                     model=resnet50_v3,\n",
    "                                                     transform=resnet50_test_transform_custom,\n",
    "                                                     class_names=class_names,\n",
    "                                                     device=\"cpu\")"
   ]
  },
  {
   "cell_type": "code",
   "execution_count": null,
   "id": "0924c851-19d0-4f9b-bdd0-209711febdbf",
   "metadata": {},
   "outputs": [],
   "source": [
    "resnet50_v1_predictions[:2]"
   ]
  },
  {
   "cell_type": "code",
   "execution_count": null,
   "id": "3e191fc1-77e6-401c-aac9-238c8be9285e",
   "metadata": {},
   "outputs": [],
   "source": [
    "resnet50_v2_predictions[:2]"
   ]
  },
  {
   "cell_type": "code",
   "execution_count": null,
   "id": "bf31a97a-eb6a-4d92-803e-449603d2bbb6",
   "metadata": {},
   "outputs": [],
   "source": [
    "resnet50_v3_predictions[:2]"
   ]
  },
  {
   "cell_type": "code",
   "execution_count": null,
   "id": "b1250248-ec06-493d-823c-426dab4b30ad",
   "metadata": {},
   "outputs": [],
   "source": [
    "import pandas as pd\n",
    "resnet50_v1_predictions_df = pd.DataFrame(resnet50_v1_predictions)\n",
    "resnet50_v2_predictions_df = pd.DataFrame(resnet50_v2_predictions)\n",
    "resnet50_v3_predictions_df = pd.DataFrame(resnet50_v3_predictions)"
   ]
  },
  {
   "cell_type": "markdown",
   "id": "7276b090-ca01-4530-b471-0b2076397364",
   "metadata": {},
   "source": [
    "#### resnet `v1`"
   ]
  },
  {
   "cell_type": "code",
   "execution_count": null,
   "id": "3062c1c7-e42d-4cea-a7bd-1822e5b9f689",
   "metadata": {},
   "outputs": [],
   "source": [
    "resnet50_v1_predictions_df.head()"
   ]
  },
  {
   "cell_type": "code",
   "execution_count": null,
   "id": "ca89342d-fbba-4ce6-b3d9-b23030f5b959",
   "metadata": {},
   "outputs": [],
   "source": [
    "resnet50_v1_predictions_df.correct.value_counts()"
   ]
  },
  {
   "cell_type": "code",
   "execution_count": null,
   "id": "eb373119-876c-4a43-86c4-ec828b7ffaeb",
   "metadata": {},
   "outputs": [],
   "source": [
    "resnet50_v1_average_time_per_pred = round(resnet50_v1_predictions_df.time_for_pred.mean(), 4)\n",
    "print(f\"Average time per prediction: {resnet50_v1_average_time_per_pred} seconds\")"
   ]
  },
  {
   "cell_type": "code",
   "execution_count": null,
   "id": "a632f97c-a7b9-4cbb-8013-079631fa0f90",
   "metadata": {},
   "outputs": [],
   "source": [
    "resnet50_v1_stats[\"time_per_pred_cpu\"] = resnet50_v1_average_time_per_pred"
   ]
  },
  {
   "cell_type": "markdown",
   "id": "1ae53bdc-0ffc-447f-be43-9bee3a4f1a53",
   "metadata": {},
   "source": [
    "#### resnet `v2`"
   ]
  },
  {
   "cell_type": "code",
   "execution_count": null,
   "id": "396b5c72-fbbf-45ba-9b30-b8684a338dde",
   "metadata": {},
   "outputs": [],
   "source": [
    "resnet50_v2_predictions_df.head()"
   ]
  },
  {
   "cell_type": "code",
   "execution_count": null,
   "id": "47909587-3ea1-4dcf-a2e3-258004db8f80",
   "metadata": {},
   "outputs": [],
   "source": [
    "resnet50_v2_predictions_df.correct.value_counts()"
   ]
  },
  {
   "cell_type": "code",
   "execution_count": null,
   "id": "fbd9b213-d063-4b0e-9b61-e2f6eb5a1044",
   "metadata": {},
   "outputs": [],
   "source": [
    "resnet50_v2_average_time_per_pred = round(resnet50_v2_predictions_df.time_for_pred.mean(), 4)\n",
    "print(f\"Average time per prediction: {resnet50_v2_average_time_per_pred} seconds\")"
   ]
  },
  {
   "cell_type": "code",
   "execution_count": null,
   "id": "9327fabd-e96d-477f-84a3-dcfcd84d4518",
   "metadata": {},
   "outputs": [],
   "source": [
    "resnet50_v2_stats[\"time_per_pred_cpu\"] = resnet50_v2_average_time_per_pred"
   ]
  },
  {
   "cell_type": "markdown",
   "id": "6f1db58e-4cb5-4783-9bb6-227f643f49bb",
   "metadata": {},
   "source": [
    "#### resnet `v3`"
   ]
  },
  {
   "cell_type": "code",
   "execution_count": null,
   "id": "61e927b2-f682-449f-80aa-2b90a6b1c9d5",
   "metadata": {},
   "outputs": [],
   "source": [
    "resnet50_v3_predictions_df.head()"
   ]
  },
  {
   "cell_type": "code",
   "execution_count": null,
   "id": "4dd7d46c-3f6d-42ea-9027-05cc7174bbb6",
   "metadata": {},
   "outputs": [],
   "source": [
    "resnet50_v3_predictions_df.correct.value_counts()"
   ]
  },
  {
   "cell_type": "code",
   "execution_count": null,
   "id": "e486e47c-0c5a-4bbd-a609-38b74c0d465d",
   "metadata": {},
   "outputs": [],
   "source": [
    "resnet50_v3_average_time_per_pred = round(resnet50_v3_predictions_df.time_for_pred.mean(), 4)\n",
    "print(f\"Average time per prediction: {resnet50_v3_average_time_per_pred} seconds\")"
   ]
  },
  {
   "cell_type": "code",
   "execution_count": null,
   "id": "44df5bed-1d21-4b97-a141-0522fa1bfb00",
   "metadata": {},
   "outputs": [],
   "source": [
    "resnet50_v3_stats[\"time_per_pred_cpu\"] = resnet50_v3_average_time_per_pred"
   ]
  },
  {
   "cell_type": "markdown",
   "id": "be0ea31d-9474-4e00-93b7-a5328e2d1eba",
   "metadata": {},
   "source": [
    "## 6 - Comparing results"
   ]
  },
  {
   "cell_type": "code",
   "execution_count": null,
   "id": "03e4b508-2915-446f-8c91-f380fce2f24a",
   "metadata": {},
   "outputs": [],
   "source": [
    "df = pd.DataFrame([resnet50_v1_stats, resnet50_v2_stats, resnet50_v3_stats])\n",
    "df[\"model\"] = [\"resnet50_v1\", \"resnet50_v2\", \"resnet50_v3\"]\n",
    "df[\"test_acc\"] = round(df[\"test_acc\"] * 100, 2)\n",
    "df"
   ]
  },
  {
   "cell_type": "code",
   "execution_count": null,
   "id": "fb635071-565d-41f1-aa15-d7eaed280c66",
   "metadata": {},
   "outputs": [],
   "source": [
    "fig, ax = plt.subplots(figsize=(12, 8))\n",
    "scatter = ax.scatter(data=df, \n",
    "                     x=\"time_per_pred_cpu\", \n",
    "                     y=\"test_acc\", \n",
    "                     c=[\"blue\", \"green\", \"orange\"],\n",
    "                     s=\"model_size (MB)\") # size the dots by the model sizes\n",
    "\n",
    "ax.set_title(\"Waste Classifier Models - Inference Speed vs Performance\", fontsize=18)\n",
    "ax.set_xlabel(\"Prediction time per image (seconds)\", fontsize=14)\n",
    "ax.set_ylabel(\"Test accuracy (%)\", fontsize=14)\n",
    "ax.tick_params(axis='both', labelsize=12)\n",
    "ax.grid(True)\n",
    "\n",
    "for index, row in df.iterrows():\n",
    "    ax.annotate(text=row[\"model\"], \n",
    "                xy=(row[\"time_per_pred_cpu\"]+0.0006, row[\"test_acc\"]+0.03),\n",
    "                size=12)\n",
    "\n",
    "handles, labels = scatter.legend_elements(prop=\"sizes\", alpha=0.5)\n",
    "model_size_legend = ax.legend(handles, \n",
    "                              labels, \n",
    "                              loc=\"lower right\", \n",
    "                              title=\"Model size (MB)\",\n",
    "                              fontsize=12)\n",
    "\n",
    "plt.savefig(\"resnet50-versions-inference-speed-vs-performance.jpg\")\n",
    "plt.show()"
   ]
  }
 ],
 "metadata": {
  "kernelspec": {
   "display_name": "baseEnv",
   "language": "python",
   "name": "baseenv"
  },
  "language_info": {
   "codemirror_mode": {
    "name": "ipython",
    "version": 3
   },
   "file_extension": ".py",
   "mimetype": "text/x-python",
   "name": "python",
   "nbconvert_exporter": "python",
   "pygments_lexer": "ipython3",
   "version": "3.11.5"
  }
 },
 "nbformat": 4,
 "nbformat_minor": 5
}
