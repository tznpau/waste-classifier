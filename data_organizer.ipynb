{
 "cells": [
  {
   "cell_type": "code",
   "execution_count": 1,
   "id": "584cbcd8-1561-4c0b-89a0-05c4cce87e18",
   "metadata": {},
   "outputs": [],
   "source": [
    "import os\n",
    "import random\n",
    "import shutil"
   ]
  },
  {
   "cell_type": "code",
   "execution_count": 2,
   "id": "fb667dfb-99e0-4340-8081-822e405a9a44",
   "metadata": {},
   "outputs": [
    {
     "data": {
      "text/plain": [
       "'C:/Users/paula/Downloads/archive'"
      ]
     },
     "execution_count": 2,
     "metadata": {},
     "output_type": "execute_result"
    }
   ],
   "source": [
    "archive_path = \"C:/Users/paula/Downloads/archive\"\n",
    "archive_path"
   ]
  },
  {
   "cell_type": "code",
   "execution_count": 3,
   "id": "50508248-bff3-482e-bc86-9f24f54c61d6",
   "metadata": {},
   "outputs": [
    {
     "data": {
      "text/plain": [
       "'C:/Users/paula/source/repos/waste-classifier/data'"
      ]
     },
     "execution_count": 3,
     "metadata": {},
     "output_type": "execute_result"
    }
   ],
   "source": [
    "new_data_path = \"C:/Users/paula/source/repos/waste-classifier/data\"\n",
    "new_data_path"
   ]
  },
  {
   "cell_type": "code",
   "execution_count": 4,
   "id": "7e9e96ac-b2b4-4668-95e3-7185bac629e4",
   "metadata": {},
   "outputs": [],
   "source": [
    "train_path = os.path.join(new_data_path, \"train\")\n",
    "test_path = os.path.join(new_data_path, \"test\")"
   ]
  },
  {
   "cell_type": "code",
   "execution_count": 5,
   "id": "a7ca0bde-82bc-4d77-9746-b1846f874c97",
   "metadata": {},
   "outputs": [],
   "source": [
    "os.makedirs(train_path, exist_ok=True)\n",
    "os.makedirs(test_path, exist_ok=True)"
   ]
  },
  {
   "cell_type": "code",
   "execution_count": 6,
   "id": "af780d9e-c3a4-4e9e-bbce-031bcf23bcc7",
   "metadata": {},
   "outputs": [
    {
     "data": {
      "text/plain": [
       "['trash', 'plastic', 'paper', 'metal', 'glass', 'cardboard']"
      ]
     },
     "execution_count": 6,
     "metadata": {},
     "output_type": "execute_result"
    }
   ],
   "source": [
    "class_names = [\"trash\", \"plastic\", \"paper\", \"metal\", \"glass\", \"cardboard\"]\n",
    "class_names"
   ]
  },
  {
   "cell_type": "code",
   "execution_count": 7,
   "id": "e84ac561-e7f6-4801-9fa4-1ff8058c24bf",
   "metadata": {},
   "outputs": [],
   "source": [
    "train_percentage = 0.8"
   ]
  },
  {
   "cell_type": "code",
   "execution_count": 8,
   "id": "659f3381-8018-4196-9371-6c6b286aabe1",
   "metadata": {},
   "outputs": [
    {
     "name": "stdout",
     "output_type": "stream",
     "text": [
      "Dataset organized successfully according to computer vision standards.\n"
     ]
    }
   ],
   "source": [
    "for class_name in class_names:\n",
    "    class_path = os.path.join(archive_path, class_name)\n",
    "    images = os.listdir(class_path)\n",
    "    random.shuffle(images)\n",
    "\n",
    "    num_train_images = int(len(images) * train_percentage)\n",
    "\n",
    "    train_class_path = os.path.join(train_path, class_name)\n",
    "    test_class_path = os.path.join(test_path, class_name)\n",
    "    os.makedirs(train_class_path, exist_ok=True)\n",
    "    os.makedirs(test_class_path, exist_ok=True)\n",
    "\n",
    "    for i, image in enumerate(images):\n",
    "        source_path = os.path.join(class_path, image)\n",
    "        if i < num_train_images:\n",
    "            destination_path = os.path.join(train_class_path, image)\n",
    "        else:\n",
    "            destination_path = os.path.join(test_class_path, image)\n",
    "\n",
    "        shutil.move(source_path, destination_path)\n",
    "\n",
    "print(\"Dataset organized successfully according to computer vision standards.\")"
   ]
  },
  {
   "cell_type": "code",
   "execution_count": null,
   "id": "722ee714-2a94-40b9-85e2-205c5f0b4cfd",
   "metadata": {},
   "outputs": [],
   "source": []
  }
 ],
 "metadata": {
  "kernelspec": {
   "display_name": "Python 3 (ipykernel)",
   "language": "python",
   "name": "python3"
  },
  "language_info": {
   "codemirror_mode": {
    "name": "ipython",
    "version": 3
   },
   "file_extension": ".py",
   "mimetype": "text/x-python",
   "name": "python",
   "nbconvert_exporter": "python",
   "pygments_lexer": "ipython3",
   "version": "3.11.5"
  }
 },
 "nbformat": 4,
 "nbformat_minor": 5
}
