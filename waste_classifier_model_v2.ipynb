{
 "cells": [
  {
   "cell_type": "markdown",
   "id": "0063c6ae-bd38-4ba8-852e-3b069aadcc51",
   "metadata": {
    "id": "0063c6ae-bd38-4ba8-852e-3b069aadcc51"
   },
   "source": [
    "# Waste Classifier PyTorch Model"
   ]
  },
  {
   "cell_type": "markdown",
   "id": "3702c478-1523-4c5a-b11b-763cf43c4a31",
   "metadata": {
    "id": "3702c478-1523-4c5a-b11b-763cf43c4a31"
   },
   "source": [
    "## Goal\n",
    "Create a PyTorch model that can distinguish between 6 classes:\n",
    "- cardboard\n",
    "- glass\n",
    "- metal\n",
    "- paper\n",
    "- plastic\n",
    "- trash"
   ]
  },
  {
   "cell_type": "markdown",
   "id": "f6471932-9f02-47aa-9011-0888c78663b4",
   "metadata": {
    "id": "f6471932-9f02-47aa-9011-0888c78663b4"
   },
   "source": [
    "## 0 - Setup"
   ]
  },
  {
   "cell_type": "code",
   "execution_count": 1,
   "id": "ce9d073d-54de-4be3-aea0-9ad4b08c61ed",
   "metadata": {
    "colab": {
     "base_uri": "https://localhost:8080/"
    },
    "id": "ce9d073d-54de-4be3-aea0-9ad4b08c61ed",
    "outputId": "0371e8d5-529d-43ee-84c2-fcc78dd968f3"
   },
   "outputs": [
    {
     "name": "stdout",
     "output_type": "stream",
     "text": [
      "2.2.1+cu121\n",
      "0.17.1+cu121\n",
      "Base imports done.\n"
     ]
    }
   ],
   "source": [
    "import torch\n",
    "import torchvision\n",
    "\n",
    "print(torch.__version__) # 1.12+\n",
    "print(torchvision.__version__) # 0.13+\n",
    "\n",
    "import matplotlib.pyplot as plt\n",
    "\n",
    "from torch import nn\n",
    "from torchvision import transforms\n",
    "\n",
    "try:\n",
    "    from scripts import data_setup, engine, utils\n",
    "    from helper_functions import download_data, set_seeds, plot_loss_curves\n",
    "    print(\"Base imports done.\")\n",
    "except:\n",
    "    print(\"Couldn't find helper scripts, downloading from Github...\")\n",
    "    !git clone https://github.com/tznpau/waste-classifier\n",
    "    !mv waste-classifier/scripts .\n",
    "    !mv waste-classifier/helper_functions.py .\n",
    "    !rm -rf waste-classifier\n",
    "    from scripts import data_setup, engine, utils\n",
    "    from helper_functions import download_data, set_seeds, plot_loss_curves"
   ]
  },
  {
   "cell_type": "code",
   "execution_count": 2,
   "id": "01da26d4-ab7f-4898-b6cd-fd5ca15d4181",
   "metadata": {
    "colab": {
     "base_uri": "https://localhost:8080/",
     "height": 36
    },
    "id": "01da26d4-ab7f-4898-b6cd-fd5ca15d4181",
    "outputId": "c8a08955-c2d8-4e18-d6c1-83d420f47904"
   },
   "outputs": [
    {
     "data": {
      "application/vnd.google.colaboratory.intrinsic+json": {
       "type": "string"
      },
      "text/plain": [
       "'cuda'"
      ]
     },
     "execution_count": 2,
     "metadata": {},
     "output_type": "execute_result"
    }
   ],
   "source": [
    "device = \"cuda\" if torch.cuda.is_available() else \"cpu\"\n",
    "device"
   ]
  },
  {
   "cell_type": "code",
   "execution_count": 3,
   "id": "a593538e-16a3-4317-b6ff-0900b2688dc1",
   "metadata": {
    "colab": {
     "base_uri": "https://localhost:8080/"
    },
    "id": "a593538e-16a3-4317-b6ff-0900b2688dc1",
    "outputId": "24eedcff-ea46-400a-c948-c71b2c3ae955"
   },
   "outputs": [
    {
     "data": {
      "text/plain": [
       "True"
      ]
     },
     "execution_count": 3,
     "metadata": {},
     "output_type": "execute_result"
    }
   ],
   "source": [
    "torch.cuda.is_available()"
   ]
  },
  {
   "cell_type": "markdown",
   "id": "2a330bd7-64a9-45a3-8c99-fb73db35e2d9",
   "metadata": {
    "id": "2a330bd7-64a9-45a3-8c99-fb73db35e2d9"
   },
   "source": [
    "## 1. Getting data"
   ]
  },
  {
   "cell_type": "code",
   "execution_count": 4,
   "id": "a622d8f2-0291-48b0-a272-26093b8e277a",
   "metadata": {
    "colab": {
     "base_uri": "https://localhost:8080/"
    },
    "id": "a622d8f2-0291-48b0-a272-26093b8e277a",
    "outputId": "69c796c4-bb78-4196-adda-facaaad12269"
   },
   "outputs": [
    {
     "name": "stdout",
     "output_type": "stream",
     "text": [
      "[INFO] data/trash_dataset directory exists, skipping download.\n"
     ]
    },
    {
     "data": {
      "text/plain": [
       "PosixPath('data/trash_dataset')"
      ]
     },
     "execution_count": 4,
     "metadata": {},
     "output_type": "execute_result"
    }
   ],
   "source": [
    "trash_dataset_path = download_data(source=\"https://github.com/tznpau/waste-classifier/raw/main/data/trash_dataset.zip\",\n",
    "                                   destination=\"trash_dataset\")\n",
    "trash_dataset_path"
   ]
  },
  {
   "cell_type": "code",
   "execution_count": 5,
   "id": "bee2ccfd-fb89-418e-946c-821aea43760e",
   "metadata": {
    "colab": {
     "base_uri": "https://localhost:8080/"
    },
    "id": "bee2ccfd-fb89-418e-946c-821aea43760e",
    "outputId": "ff90df5e-140c-4990-a1d6-21eaee08661d"
   },
   "outputs": [
    {
     "data": {
      "text/plain": [
       "(PosixPath('data/trash_dataset/train'), PosixPath('data/trash_dataset/test'))"
      ]
     },
     "execution_count": 5,
     "metadata": {},
     "output_type": "execute_result"
    }
   ],
   "source": [
    "# Setup training and test data directories\n",
    "train_dir = trash_dataset_path / \"train\"\n",
    "test_dir = trash_dataset_path / \"test\"\n",
    "\n",
    "train_dir, test_dir"
   ]
  },
  {
   "cell_type": "markdown",
   "id": "66780a37-782d-4caf-9a08-93e0996d5829",
   "metadata": {
    "id": "66780a37-782d-4caf-9a08-93e0996d5829"
   },
   "source": [
    "## 2. Deployment questions\n",
    "1. ideal model scenario ?\n",
    "2. where is the model going to go ?\n",
    "3. how is the model going to function ?\n",
    "\n",
    "**ideal use case**\n",
    "- performs at 90%+ accuracy\n",
    "- performs fast: 30fps"
   ]
  },
  {
   "cell_type": "markdown",
   "id": "35245ef2-38af-4fa7-8876-e9cec0fcd395",
   "metadata": {
    "id": "35245ef2-38af-4fa7-8876-e9cec0fcd395"
   },
   "source": [
    "## 3. EffNetB2 feature extractor\n",
    "\n",
    "https://pytorch.org/vision/stable/models/generated/torchvision.models.efficientnet_b2.html#torchvision.models.EfficientNet_B2_Weights"
   ]
  },
  {
   "cell_type": "code",
   "execution_count": 6,
   "id": "rphoSgWLDOFo",
   "metadata": {
    "id": "rphoSgWLDOFo"
   },
   "outputs": [],
   "source": [
    "!rm -rf /root/.cache/torch/hub/checkpoints/*"
   ]
  },
  {
   "cell_type": "code",
   "execution_count": 7,
   "id": "61ea56e3-ae25-4000-a69d-dc66f06a3379",
   "metadata": {
    "colab": {
     "base_uri": "https://localhost:8080/"
    },
    "id": "61ea56e3-ae25-4000-a69d-dc66f06a3379",
    "outputId": "82a29e48-7390-40ca-a05e-e2b597193e6d"
   },
   "outputs": [
    {
     "name": "stderr",
     "output_type": "stream",
     "text": [
      "Downloading: \"https://download.pytorch.org/models/efficientnet_b2_rwightman-c35c1473.pth\" to /root/.cache/torch/hub/checkpoints/efficientnet_b2_rwightman-c35c1473.pth\n",
      "100%|██████████| 35.2M/35.2M [00:00<00:00, 70.1MB/s]\n"
     ]
    }
   ],
   "source": [
    "effnetb2_weights = torchvision.models.EfficientNet_B2_Weights.DEFAULT\n",
    "\n",
    "effnetb2_transforms = effnetb2_weights.transforms()\n",
    "\n",
    "effnetb2 = torchvision.models.efficientnet_b2(weights=effnetb2_weights)\n",
    "\n",
    "# freeze base layers\n",
    "for param in effnetb2.parameters():\n",
    "    param.requires_grad = False"
   ]
  },
  {
   "cell_type": "code",
   "execution_count": 9,
   "id": "vXmCWWmaEwMB",
   "metadata": {
    "colab": {
     "base_uri": "https://localhost:8080/"
    },
    "id": "vXmCWWmaEwMB",
    "outputId": "160120f1-fa52-4566-8b91-434cbee928b4"
   },
   "outputs": [
    {
     "name": "stdout",
     "output_type": "stream",
     "text": [
      "[INFO] Couldn't find torchinfo... installing it.\n"
     ]
    }
   ],
   "source": [
    "try:\n",
    "    from torchinfo import summary\n",
    "except:\n",
    "    print(\"[INFO] Couldn't find torchinfo... installing it.\")\n",
    "    !pip install -q torchinfo\n",
    "    from torchinfo import summary"
   ]
  },
  {
   "cell_type": "code",
   "execution_count": 10,
   "id": "0b905e5f-2986-400c-abac-e7b2e4ae4809",
   "metadata": {
    "id": "0b905e5f-2986-400c-abac-e7b2e4ae4809"
   },
   "outputs": [],
   "source": [
    "\n",
    "\n",
    "# summary(effnetb2,\n",
    "#         input_size=(32, 3, 224, 224), # make sure this is \"input_size\", not \"input_shape\" (batch_size, color_channels, height, width)\n",
    "#         verbose=0,\n",
    "#         col_names=[\"input_size\", \"output_size\", \"num_params\", \"trainable\"],\n",
    "#         col_width=20,\n",
    "#         row_settings=[\"var_names\"]\n",
    "# )"
   ]
  },
  {
   "cell_type": "code",
   "execution_count": 11,
   "id": "6c52b99f-f9fd-4bdf-9fec-e87e86ef5b9b",
   "metadata": {
    "colab": {
     "base_uri": "https://localhost:8080/"
    },
    "id": "6c52b99f-f9fd-4bdf-9fec-e87e86ef5b9b",
    "outputId": "e216e1e3-a6db-498a-f12b-580e684576cf"
   },
   "outputs": [
    {
     "data": {
      "text/plain": [
       "Sequential(\n",
       "  (0): Dropout(p=0.3, inplace=True)\n",
       "  (1): Linear(in_features=1408, out_features=1000, bias=True)\n",
       ")"
      ]
     },
     "execution_count": 11,
     "metadata": {},
     "output_type": "execute_result"
    }
   ],
   "source": [
    "effnetb2.classifier"
   ]
  },
  {
   "cell_type": "code",
   "execution_count": 12,
   "id": "a83bc729-f2fb-493e-926c-1346ba9ba47f",
   "metadata": {
    "id": "a83bc729-f2fb-493e-926c-1346ba9ba47f"
   },
   "outputs": [],
   "source": [
    "set_seeds()\n",
    "\n",
    "effnetb2.classifier = nn.Sequential(\n",
    "    nn.Dropout(p=0.3, inplace=True),\n",
    "    nn.Linear(in_features=1408, out_features=6, bias=True)\n",
    ")"
   ]
  },
  {
   "cell_type": "code",
   "execution_count": 13,
   "id": "8b9d5100-4abc-4d7d-b3b1-be685f2b7662",
   "metadata": {
    "colab": {
     "base_uri": "https://localhost:8080/"
    },
    "id": "8b9d5100-4abc-4d7d-b3b1-be685f2b7662",
    "outputId": "e712b477-5bf0-4a77-c4b3-2e466d4d0c20"
   },
   "outputs": [
    {
     "data": {
      "text/plain": [
       "Sequential(\n",
       "  (0): Dropout(p=0.3, inplace=True)\n",
       "  (1): Linear(in_features=1408, out_features=6, bias=True)\n",
       ")"
      ]
     },
     "execution_count": 13,
     "metadata": {},
     "output_type": "execute_result"
    }
   ],
   "source": [
    "effnetb2.classifier"
   ]
  },
  {
   "cell_type": "markdown",
   "id": "02fd3a67-6b70-4a37-bd06-c3e8003f9a27",
   "metadata": {
    "id": "02fd3a67-6b70-4a37-bd06-c3e8003f9a27"
   },
   "source": [
    "So after freezing the base layer I adapted the EffNetB2 architecture to suit my use case."
   ]
  },
  {
   "cell_type": "markdown",
   "id": "86d252f6-b1a8-4d9e-bab4-8438c26ca2c9",
   "metadata": {
    "id": "86d252f6-b1a8-4d9e-bab4-8438c26ca2c9"
   },
   "source": [
    "### 3.1 Creating an EffNetB2 feature extractor"
   ]
  },
  {
   "cell_type": "code",
   "execution_count": 14,
   "id": "4f3e4eeb-191b-43cc-8ecf-a42f300a823f",
   "metadata": {
    "id": "4f3e4eeb-191b-43cc-8ecf-a42f300a823f"
   },
   "outputs": [],
   "source": [
    "def create_effnetb2_model(num_classes:int=6,\n",
    "                          seed:int=42):\n",
    "    weights = torchvision.models.EfficientNet_B2_Weights.DEFAULT\n",
    "    transforms = weights.transforms()\n",
    "    model = torchvision.models.efficientnet_b2(weights=weights).to(device)\n",
    "\n",
    "    for param in model.parameters():\n",
    "        param.requires_grad = False\n",
    "\n",
    "    torch.manual_seed(seed)\n",
    "    model.classifier = nn.Sequential(\n",
    "        nn.Dropout(p=0.3, inplace=True),\n",
    "        nn.Linear(in_features=1408, out_features=num_classes)\n",
    "    ).to(device)\n",
    "\n",
    "    return model, transforms"
   ]
  },
  {
   "cell_type": "code",
   "execution_count": 15,
   "id": "ec200a9a-7207-485f-b93f-61b8131e0a92",
   "metadata": {
    "id": "ec200a9a-7207-485f-b93f-61b8131e0a92"
   },
   "outputs": [],
   "source": [
    "effnetb2, effnetb2_transforms = create_effnetb2_model(num_classes=6, seed=42)"
   ]
  },
  {
   "cell_type": "code",
   "execution_count": 16,
   "id": "79d1bbf7-b200-4dd1-b934-2169d28e1d2b",
   "metadata": {
    "colab": {
     "base_uri": "https://localhost:8080/"
    },
    "id": "79d1bbf7-b200-4dd1-b934-2169d28e1d2b",
    "outputId": "e29e1a17-f591-4180-e3ad-4421eea523c8"
   },
   "outputs": [
    {
     "data": {
      "text/plain": [
       "ImageClassification(\n",
       "    crop_size=[288]\n",
       "    resize_size=[288]\n",
       "    mean=[0.485, 0.456, 0.406]\n",
       "    std=[0.229, 0.224, 0.225]\n",
       "    interpolation=InterpolationMode.BICUBIC\n",
       ")"
      ]
     },
     "execution_count": 16,
     "metadata": {},
     "output_type": "execute_result"
    }
   ],
   "source": [
    "effnetb2_transforms"
   ]
  },
  {
   "cell_type": "markdown",
   "id": "d10015aa-1c6d-4fb9-8d73-90d7af141f9b",
   "metadata": {
    "id": "d10015aa-1c6d-4fb9-8d73-90d7af141f9b"
   },
   "source": [
    "### 3.2 DataLoaders for EffNetB2"
   ]
  },
  {
   "cell_type": "code",
   "execution_count": 17,
   "id": "bb20bf6e-68c3-4ff8-8ef5-00ac607827f7",
   "metadata": {
    "id": "bb20bf6e-68c3-4ff8-8ef5-00ac607827f7"
   },
   "outputs": [],
   "source": [
    "from scripts import data_setup\n",
    "\n",
    "train_dataloader_effnetb2, test_dataloader_effnetb2, class_names = data_setup.create_dataloaders(train_dir=train_dir,\n",
    "                                                                                                  test_dir=test_dir,\n",
    "                                                                                                  transform=effnetb2_transforms,\n",
    "                                                                                                  batch_size=32)"
   ]
  },
  {
   "cell_type": "markdown",
   "id": "21eb7e23-26af-4fad-8639-970daa7874de",
   "metadata": {
    "id": "21eb7e23-26af-4fad-8639-970daa7874de"
   },
   "source": [
    "Let's check that the split was done correctly during `data_setup.create_dataloaders`."
   ]
  },
  {
   "cell_type": "code",
   "execution_count": 18,
   "id": "90c10187-18e7-4cd4-a8d5-a12156c8b084",
   "metadata": {
    "colab": {
     "base_uri": "https://localhost:8080/"
    },
    "id": "90c10187-18e7-4cd4-a8d5-a12156c8b084",
    "outputId": "bee88466-4310-46c7-84a7-a11661816123"
   },
   "outputs": [
    {
     "data": {
      "text/plain": [
       "(64, 16, ['cardboard', 'glass', 'metal', 'paper', 'plastic', 'trash'])"
      ]
     },
     "execution_count": 18,
     "metadata": {},
     "output_type": "execute_result"
    }
   ],
   "source": [
    "len(train_dataloader_effnetb2), len(test_dataloader_effnetb2), class_names"
   ]
  },
  {
   "cell_type": "markdown",
   "id": "62b65caf-fa1c-44d1-b909-0e7d937d01eb",
   "metadata": {
    "id": "62b65caf-fa1c-44d1-b909-0e7d937d01eb"
   },
   "source": [
    "We have 64 batches for the train dataloader and 16 batches for the test dataloader."
   ]
  },
  {
   "cell_type": "markdown",
   "id": "42b07960-2a0c-4cc3-b6e6-c8022c7508da",
   "metadata": {
    "id": "42b07960-2a0c-4cc3-b6e6-c8022c7508da"
   },
   "source": [
    "### 3.3 Training EffNetB2 feature extractor"
   ]
  },
  {
   "cell_type": "code",
   "execution_count": 19,
   "id": "8342b69e-18bd-454c-a152-1d96a3127fe2",
   "metadata": {
    "id": "8342b69e-18bd-454c-a152-1d96a3127fe2"
   },
   "outputs": [],
   "source": [
    "from scripts import engine\n",
    "\n",
    "LEARNING_RATE = 1e-3\n",
    "EPOCHS = 10\n",
    "\n",
    "loss_fn = torch.nn.CrossEntropyLoss()\n",
    "optimizer = torch.optim.Adam(params=effnetb2.parameters(),\n",
    "                             lr=LEARNING_RATE)\n",
    "\n",
    "set_seeds(42)\n",
    "\n",
    "# effnetb2_results = engine.train(model=effnetb2,\n",
    "#                                 train_dataloader=train_dataloader_effnetb2,\n",
    "#                                 test_dataloader=test_dataloader_effnetb2,\n",
    "#                                 epochs=EPOCHS,\n",
    "#                                 optimizer=optimizer,\n",
    "#                                 loss_fn=loss_fn,\n",
    "#                                 device=device)"
   ]
  },
  {
   "cell_type": "code",
   "execution_count": 20,
   "id": "eee9ac16-b0ca-423e-9e49-42a2231c832e",
   "metadata": {
    "id": "eee9ac16-b0ca-423e-9e49-42a2231c832e"
   },
   "outputs": [],
   "source": [
    "from helper_functions import plot_loss_curves\n",
    "\n",
    "# plot_loss_curves(effnetb2_results)"
   ]
  },
  {
   "cell_type": "markdown",
   "id": "bfd066c8-989e-4d93-8b75-d0bef092f40d",
   "metadata": {
    "id": "bfd066c8-989e-4d93-8b75-d0bef092f40d"
   },
   "source": [
    "## 4. ViT feature extractor\n",
    "\n",
    "https://pytorch.org/vision/main/models/generated/torchvision.models.vit_b_16.html#torchvision.models.ViT_B_16_Weights"
   ]
  },
  {
   "cell_type": "code",
   "execution_count": 21,
   "id": "0f552d55-559c-4e4f-bfda-f3ee42de68eb",
   "metadata": {
    "colab": {
     "base_uri": "https://localhost:8080/"
    },
    "id": "0f552d55-559c-4e4f-bfda-f3ee42de68eb",
    "outputId": "fe5e511c-ac08-4b7f-dd8b-b6f0682c047e"
   },
   "outputs": [
    {
     "data": {
      "text/plain": [
       "Sequential(\n",
       "  (head): Linear(in_features=768, out_features=1000, bias=True)\n",
       ")"
      ]
     },
     "execution_count": 21,
     "metadata": {},
     "output_type": "execute_result"
    }
   ],
   "source": [
    "vit = torchvision.models.vit_b_16()\n",
    "vit.heads"
   ]
  },
  {
   "cell_type": "markdown",
   "id": "43151990-f3c2-4d4d-919f-872813b24227",
   "metadata": {
    "id": "43151990-f3c2-4d4d-919f-872813b24227"
   },
   "source": [
    "### 4.1 Creating a ViT feature extractor"
   ]
  },
  {
   "cell_type": "code",
   "execution_count": 34,
   "id": "4278c7b1-44ee-420d-ae6e-e6bfc0a1e8dc",
   "metadata": {
    "id": "4278c7b1-44ee-420d-ae6e-e6bfc0a1e8dc"
   },
   "outputs": [],
   "source": [
    "def create_vit_model(num_classes:int=6,\n",
    "                     seed:int=42):\n",
    "    weights = torchvision.models.ViT_B_16_Weights.DEFAULT\n",
    "    transforms = weights.transforms()\n",
    "    model = torchvision.models.vit_b_16(weights=weights).to(device)\n",
    "\n",
    "    for param in model.parameters():\n",
    "        param.requires_grad = False\n",
    "\n",
    "    torch.manual_seed(seed)\n",
    "    model.heads = nn.Sequential(\n",
    "        nn.Linear(in_features=768, out_features=num_classes)\n",
    "    )\n",
    "\n",
    "    return model, transforms"
   ]
  },
  {
   "cell_type": "code",
   "execution_count": 35,
   "id": "f830805a-c986-481d-9319-93f6e4847330",
   "metadata": {
    "id": "f830805a-c986-481d-9319-93f6e4847330"
   },
   "outputs": [],
   "source": [
    "vit, vit_transforms = create_vit_model()"
   ]
  },
  {
   "cell_type": "code",
   "execution_count": 36,
   "id": "78370156-d799-453a-8678-7276ef67a188",
   "metadata": {
    "colab": {
     "base_uri": "https://localhost:8080/"
    },
    "id": "78370156-d799-453a-8678-7276ef67a188",
    "outputId": "0a681d3b-590c-414e-82a1-dbee8f6269a6"
   },
   "outputs": [
    {
     "data": {
      "text/plain": [
       "============================================================================================================================================\n",
       "Layer (type (var_name))                                      Input Shape          Output Shape         Param #              Trainable\n",
       "============================================================================================================================================\n",
       "VisionTransformer (VisionTransformer)                        [1, 3, 224, 224]     [1, 6]               768                  Partial\n",
       "├─Conv2d (conv_proj)                                         [1, 3, 224, 224]     [1, 768, 14, 14]     (590,592)            False\n",
       "├─Encoder (encoder)                                          [1, 197, 768]        [1, 197, 768]        151,296              False\n",
       "│    └─Dropout (dropout)                                     [1, 197, 768]        [1, 197, 768]        --                   --\n",
       "│    └─Sequential (layers)                                   [1, 197, 768]        [1, 197, 768]        --                   False\n",
       "│    │    └─EncoderBlock (encoder_layer_0)                   [1, 197, 768]        [1, 197, 768]        (7,087,872)          False\n",
       "│    │    └─EncoderBlock (encoder_layer_1)                   [1, 197, 768]        [1, 197, 768]        (7,087,872)          False\n",
       "│    │    └─EncoderBlock (encoder_layer_2)                   [1, 197, 768]        [1, 197, 768]        (7,087,872)          False\n",
       "│    │    └─EncoderBlock (encoder_layer_3)                   [1, 197, 768]        [1, 197, 768]        (7,087,872)          False\n",
       "│    │    └─EncoderBlock (encoder_layer_4)                   [1, 197, 768]        [1, 197, 768]        (7,087,872)          False\n",
       "│    │    └─EncoderBlock (encoder_layer_5)                   [1, 197, 768]        [1, 197, 768]        (7,087,872)          False\n",
       "│    │    └─EncoderBlock (encoder_layer_6)                   [1, 197, 768]        [1, 197, 768]        (7,087,872)          False\n",
       "│    │    └─EncoderBlock (encoder_layer_7)                   [1, 197, 768]        [1, 197, 768]        (7,087,872)          False\n",
       "│    │    └─EncoderBlock (encoder_layer_8)                   [1, 197, 768]        [1, 197, 768]        (7,087,872)          False\n",
       "│    │    └─EncoderBlock (encoder_layer_9)                   [1, 197, 768]        [1, 197, 768]        (7,087,872)          False\n",
       "│    │    └─EncoderBlock (encoder_layer_10)                  [1, 197, 768]        [1, 197, 768]        (7,087,872)          False\n",
       "│    │    └─EncoderBlock (encoder_layer_11)                  [1, 197, 768]        [1, 197, 768]        (7,087,872)          False\n",
       "│    └─LayerNorm (ln)                                        [1, 197, 768]        [1, 197, 768]        (1,536)              False\n",
       "├─Sequential (heads)                                         [1, 768]             [1, 6]               --                   True\n",
       "│    └─Linear (0)                                            [1, 768]             [1, 6]               4,614                True\n",
       "============================================================================================================================================\n",
       "Total params: 85,803,270\n",
       "Trainable params: 4,614\n",
       "Non-trainable params: 85,798,656\n",
       "Total mult-adds (M): 172.47\n",
       "============================================================================================================================================\n",
       "Input size (MB): 0.60\n",
       "Forward/backward pass size (MB): 104.09\n",
       "Params size (MB): 229.21\n",
       "Estimated Total Size (MB): 333.90\n",
       "============================================================================================================================================"
      ]
     },
     "execution_count": 36,
     "metadata": {},
     "output_type": "execute_result"
    }
   ],
   "source": [
    "from torchinfo import summary\n",
    "\n",
    "# Print ViT feature extractor model summary (uncomment for full output)\n",
    "summary(vit,\n",
    "        input_size=(1, 3, 224, 224),\n",
    "        col_names=[\"input_size\", \"output_size\", \"num_params\", \"trainable\"],\n",
    "        col_width=20,\n",
    "        row_settings=[\"var_names\"])"
   ]
  },
  {
   "cell_type": "markdown",
   "id": "f64a692a-5daa-43b4-86f1-f7f631536a60",
   "metadata": {
    "id": "f64a692a-5daa-43b4-86f1-f7f631536a60"
   },
   "source": [
    "### 4.2 Creating DataLoaders for ViT"
   ]
  },
  {
   "cell_type": "code",
   "execution_count": 37,
   "id": "83b256fe-3458-41ca-9f26-5aedaf769211",
   "metadata": {
    "id": "83b256fe-3458-41ca-9f26-5aedaf769211"
   },
   "outputs": [],
   "source": [
    "from scripts import data_setup\n",
    "\n",
    "train_dataloader_vit, test_dataloader_vit, class_names = data_setup.create_dataloaders(train_dir=train_dir,\n",
    "                                                                                                  test_dir=test_dir,\n",
    "                                                                                                  transform=vit_transforms,\n",
    "                                                                                                  batch_size=32)"
   ]
  },
  {
   "cell_type": "code",
   "execution_count": 38,
   "id": "c9fdf029-67a9-4abf-999c-18bc4fe9142e",
   "metadata": {
    "colab": {
     "base_uri": "https://localhost:8080/"
    },
    "id": "c9fdf029-67a9-4abf-999c-18bc4fe9142e",
    "outputId": "68882ca9-e987-4458-963c-f1787af0e284"
   },
   "outputs": [
    {
     "data": {
      "text/plain": [
       "(64, 16, ['cardboard', 'glass', 'metal', 'paper', 'plastic', 'trash'])"
      ]
     },
     "execution_count": 38,
     "metadata": {},
     "output_type": "execute_result"
    }
   ],
   "source": [
    "len(train_dataloader_vit), len(test_dataloader_vit), class_names"
   ]
  },
  {
   "cell_type": "markdown",
   "id": "9c0280a3-fa1f-4f71-84ea-81f886fa8d59",
   "metadata": {
    "id": "9c0280a3-fa1f-4f71-84ea-81f886fa8d59"
   },
   "source": [
    "### 4.3 Training ViT feature extractor"
   ]
  },
  {
   "cell_type": "code",
   "execution_count": 39,
   "id": "19d46a8d-f5e8-48e7-939f-aa3b518123c0",
   "metadata": {
    "colab": {
     "base_uri": "https://localhost:8080/",
     "height": 223,
     "referenced_widgets": [
      "1b36ada44a094a6786291fb301b3e74c",
      "95cc0f0004504d449a2139a2a36c49f2",
      "d7a684ad14d847fe96a27a9c5453b1fc",
      "abe7128859264a7581d1e656294faaa1",
      "ef706867fa94422d8f195caec5942c24",
      "91006e0baead4c0a878a3fafa1ced601",
      "b043dbfeadd640c6ab6025f704ec46ba",
      "1c19f81b681042579ecee06b3f364b40",
      "f5978e2f01e143128d4faa4691741592",
      "cd5b2d74ca5345e391263004db95e91f",
      "0d479e17d79d4d37aec8e574f9653a08"
     ]
    },
    "id": "19d46a8d-f5e8-48e7-939f-aa3b518123c0",
    "outputId": "16d5df3e-925c-4a8e-8c19-ca493d285664"
   },
   "outputs": [
    {
     "data": {
      "application/vnd.jupyter.widget-view+json": {
       "model_id": "1b36ada44a094a6786291fb301b3e74c",
       "version_major": 2,
       "version_minor": 0
      },
      "text/plain": [
       "  0%|          | 0/10 [00:00<?, ?it/s]"
      ]
     },
     "metadata": {},
     "output_type": "display_data"
    },
    {
     "name": "stdout",
     "output_type": "stream",
     "text": [
      "Epoch: 1 | train_loss: 0.8425 | train_acc: 0.7214 | test_loss: 0.5532 | test_acc: 0.8460\n",
      "Epoch: 2 | train_loss: 0.4359 | train_acc: 0.8625 | test_loss: 0.4552 | test_acc: 0.8541\n",
      "Epoch: 3 | train_loss: 0.3405 | train_acc: 0.8979 | test_loss: 0.4146 | test_acc: 0.8717\n",
      "Epoch: 4 | train_loss: 0.2846 | train_acc: 0.9165 | test_loss: 0.3918 | test_acc: 0.8733\n",
      "Epoch: 5 | train_loss: 0.2435 | train_acc: 0.9277 | test_loss: 0.3728 | test_acc: 0.8756\n",
      "Epoch: 6 | train_loss: 0.2152 | train_acc: 0.9409 | test_loss: 0.3671 | test_acc: 0.8714\n",
      "Epoch: 7 | train_loss: 0.1888 | train_acc: 0.9512 | test_loss: 0.3539 | test_acc: 0.8761\n",
      "Epoch: 8 | train_loss: 0.1747 | train_acc: 0.9577 | test_loss: 0.3535 | test_acc: 0.8775\n",
      "Epoch: 9 | train_loss: 0.1563 | train_acc: 0.9624 | test_loss: 0.3498 | test_acc: 0.8778\n",
      "Epoch: 10 | train_loss: 0.1388 | train_acc: 0.9707 | test_loss: 0.3428 | test_acc: 0.8820\n"
     ]
    }
   ],
   "source": [
    "from scripts import engine\n",
    "\n",
    "loss_fn = torch.nn.CrossEntropyLoss()\n",
    "optimizer = torch.optim.Adam(params=vit.parameters(),\n",
    "                             lr=1e-3)\n",
    "\n",
    "set_seeds()\n",
    "\n",
    "vit_results = engine.train(\n",
    "    model=vit,\n",
    "    train_dataloader=train_dataloader_vit,\n",
    "    test_dataloader=test_dataloader_vit,\n",
    "    epochs=10,\n",
    "    optimizer=optimizer,\n",
    "    loss_fn=loss_fn,\n",
    "    device=device\n",
    ")"
   ]
  },
  {
   "cell_type": "code",
   "execution_count": 39,
   "id": "a657cd02-1405-4f5c-a41c-6068b3259ecd",
   "metadata": {
    "id": "a657cd02-1405-4f5c-a41c-6068b3259ecd"
   },
   "outputs": [],
   "source": []
  }
 ],
 "metadata": {
  "accelerator": "GPU",
  "colab": {
   "gpuType": "T4",
   "provenance": []
  },
  "kernelspec": {
   "display_name": "Python (GPU)",
   "language": "python",
   "name": "gpuenv"
  },
  "language_info": {
   "codemirror_mode": {
    "name": "ipython",
    "version": 3
   },
   "file_extension": ".py",
   "mimetype": "text/x-python",
   "name": "python",
   "nbconvert_exporter": "python",
   "pygments_lexer": "ipython3",
   "version": "3.11.5"
  },
  "widgets": {
   "application/vnd.jupyter.widget-state+json": {
    "0d479e17d79d4d37aec8e574f9653a08": {
     "model_module": "@jupyter-widgets/controls",
     "model_module_version": "1.5.0",
     "model_name": "DescriptionStyleModel",
     "state": {
      "_model_module": "@jupyter-widgets/controls",
      "_model_module_version": "1.5.0",
      "_model_name": "DescriptionStyleModel",
      "_view_count": null,
      "_view_module": "@jupyter-widgets/base",
      "_view_module_version": "1.2.0",
      "_view_name": "StyleView",
      "description_width": ""
     }
    },
    "1b36ada44a094a6786291fb301b3e74c": {
     "model_module": "@jupyter-widgets/controls",
     "model_module_version": "1.5.0",
     "model_name": "HBoxModel",
     "state": {
      "_dom_classes": [],
      "_model_module": "@jupyter-widgets/controls",
      "_model_module_version": "1.5.0",
      "_model_name": "HBoxModel",
      "_view_count": null,
      "_view_module": "@jupyter-widgets/controls",
      "_view_module_version": "1.5.0",
      "_view_name": "HBoxView",
      "box_style": "",
      "children": [
       "IPY_MODEL_95cc0f0004504d449a2139a2a36c49f2",
       "IPY_MODEL_d7a684ad14d847fe96a27a9c5453b1fc",
       "IPY_MODEL_abe7128859264a7581d1e656294faaa1"
      ],
      "layout": "IPY_MODEL_ef706867fa94422d8f195caec5942c24"
     }
    },
    "1c19f81b681042579ecee06b3f364b40": {
     "model_module": "@jupyter-widgets/base",
     "model_module_version": "1.2.0",
     "model_name": "LayoutModel",
     "state": {
      "_model_module": "@jupyter-widgets/base",
      "_model_module_version": "1.2.0",
      "_model_name": "LayoutModel",
      "_view_count": null,
      "_view_module": "@jupyter-widgets/base",
      "_view_module_version": "1.2.0",
      "_view_name": "LayoutView",
      "align_content": null,
      "align_items": null,
      "align_self": null,
      "border": null,
      "bottom": null,
      "display": null,
      "flex": null,
      "flex_flow": null,
      "grid_area": null,
      "grid_auto_columns": null,
      "grid_auto_flow": null,
      "grid_auto_rows": null,
      "grid_column": null,
      "grid_gap": null,
      "grid_row": null,
      "grid_template_areas": null,
      "grid_template_columns": null,
      "grid_template_rows": null,
      "height": null,
      "justify_content": null,
      "justify_items": null,
      "left": null,
      "margin": null,
      "max_height": null,
      "max_width": null,
      "min_height": null,
      "min_width": null,
      "object_fit": null,
      "object_position": null,
      "order": null,
      "overflow": null,
      "overflow_x": null,
      "overflow_y": null,
      "padding": null,
      "right": null,
      "top": null,
      "visibility": null,
      "width": null
     }
    },
    "91006e0baead4c0a878a3fafa1ced601": {
     "model_module": "@jupyter-widgets/base",
     "model_module_version": "1.2.0",
     "model_name": "LayoutModel",
     "state": {
      "_model_module": "@jupyter-widgets/base",
      "_model_module_version": "1.2.0",
      "_model_name": "LayoutModel",
      "_view_count": null,
      "_view_module": "@jupyter-widgets/base",
      "_view_module_version": "1.2.0",
      "_view_name": "LayoutView",
      "align_content": null,
      "align_items": null,
      "align_self": null,
      "border": null,
      "bottom": null,
      "display": null,
      "flex": null,
      "flex_flow": null,
      "grid_area": null,
      "grid_auto_columns": null,
      "grid_auto_flow": null,
      "grid_auto_rows": null,
      "grid_column": null,
      "grid_gap": null,
      "grid_row": null,
      "grid_template_areas": null,
      "grid_template_columns": null,
      "grid_template_rows": null,
      "height": null,
      "justify_content": null,
      "justify_items": null,
      "left": null,
      "margin": null,
      "max_height": null,
      "max_width": null,
      "min_height": null,
      "min_width": null,
      "object_fit": null,
      "object_position": null,
      "order": null,
      "overflow": null,
      "overflow_x": null,
      "overflow_y": null,
      "padding": null,
      "right": null,
      "top": null,
      "visibility": null,
      "width": null
     }
    },
    "95cc0f0004504d449a2139a2a36c49f2": {
     "model_module": "@jupyter-widgets/controls",
     "model_module_version": "1.5.0",
     "model_name": "HTMLModel",
     "state": {
      "_dom_classes": [],
      "_model_module": "@jupyter-widgets/controls",
      "_model_module_version": "1.5.0",
      "_model_name": "HTMLModel",
      "_view_count": null,
      "_view_module": "@jupyter-widgets/controls",
      "_view_module_version": "1.5.0",
      "_view_name": "HTMLView",
      "description": "",
      "description_tooltip": null,
      "layout": "IPY_MODEL_91006e0baead4c0a878a3fafa1ced601",
      "placeholder": "​",
      "style": "IPY_MODEL_b043dbfeadd640c6ab6025f704ec46ba",
      "value": "100%"
     }
    },
    "abe7128859264a7581d1e656294faaa1": {
     "model_module": "@jupyter-widgets/controls",
     "model_module_version": "1.5.0",
     "model_name": "HTMLModel",
     "state": {
      "_dom_classes": [],
      "_model_module": "@jupyter-widgets/controls",
      "_model_module_version": "1.5.0",
      "_model_name": "HTMLModel",
      "_view_count": null,
      "_view_module": "@jupyter-widgets/controls",
      "_view_module_version": "1.5.0",
      "_view_name": "HTMLView",
      "description": "",
      "description_tooltip": null,
      "layout": "IPY_MODEL_cd5b2d74ca5345e391263004db95e91f",
      "placeholder": "​",
      "style": "IPY_MODEL_0d479e17d79d4d37aec8e574f9653a08",
      "value": " 10/10 [05:24&lt;00:00, 32.83s/it]"
     }
    },
    "b043dbfeadd640c6ab6025f704ec46ba": {
     "model_module": "@jupyter-widgets/controls",
     "model_module_version": "1.5.0",
     "model_name": "DescriptionStyleModel",
     "state": {
      "_model_module": "@jupyter-widgets/controls",
      "_model_module_version": "1.5.0",
      "_model_name": "DescriptionStyleModel",
      "_view_count": null,
      "_view_module": "@jupyter-widgets/base",
      "_view_module_version": "1.2.0",
      "_view_name": "StyleView",
      "description_width": ""
     }
    },
    "cd5b2d74ca5345e391263004db95e91f": {
     "model_module": "@jupyter-widgets/base",
     "model_module_version": "1.2.0",
     "model_name": "LayoutModel",
     "state": {
      "_model_module": "@jupyter-widgets/base",
      "_model_module_version": "1.2.0",
      "_model_name": "LayoutModel",
      "_view_count": null,
      "_view_module": "@jupyter-widgets/base",
      "_view_module_version": "1.2.0",
      "_view_name": "LayoutView",
      "align_content": null,
      "align_items": null,
      "align_self": null,
      "border": null,
      "bottom": null,
      "display": null,
      "flex": null,
      "flex_flow": null,
      "grid_area": null,
      "grid_auto_columns": null,
      "grid_auto_flow": null,
      "grid_auto_rows": null,
      "grid_column": null,
      "grid_gap": null,
      "grid_row": null,
      "grid_template_areas": null,
      "grid_template_columns": null,
      "grid_template_rows": null,
      "height": null,
      "justify_content": null,
      "justify_items": null,
      "left": null,
      "margin": null,
      "max_height": null,
      "max_width": null,
      "min_height": null,
      "min_width": null,
      "object_fit": null,
      "object_position": null,
      "order": null,
      "overflow": null,
      "overflow_x": null,
      "overflow_y": null,
      "padding": null,
      "right": null,
      "top": null,
      "visibility": null,
      "width": null
     }
    },
    "d7a684ad14d847fe96a27a9c5453b1fc": {
     "model_module": "@jupyter-widgets/controls",
     "model_module_version": "1.5.0",
     "model_name": "FloatProgressModel",
     "state": {
      "_dom_classes": [],
      "_model_module": "@jupyter-widgets/controls",
      "_model_module_version": "1.5.0",
      "_model_name": "FloatProgressModel",
      "_view_count": null,
      "_view_module": "@jupyter-widgets/controls",
      "_view_module_version": "1.5.0",
      "_view_name": "ProgressView",
      "bar_style": "success",
      "description": "",
      "description_tooltip": null,
      "layout": "IPY_MODEL_1c19f81b681042579ecee06b3f364b40",
      "max": 10,
      "min": 0,
      "orientation": "horizontal",
      "style": "IPY_MODEL_f5978e2f01e143128d4faa4691741592",
      "value": 10
     }
    },
    "ef706867fa94422d8f195caec5942c24": {
     "model_module": "@jupyter-widgets/base",
     "model_module_version": "1.2.0",
     "model_name": "LayoutModel",
     "state": {
      "_model_module": "@jupyter-widgets/base",
      "_model_module_version": "1.2.0",
      "_model_name": "LayoutModel",
      "_view_count": null,
      "_view_module": "@jupyter-widgets/base",
      "_view_module_version": "1.2.0",
      "_view_name": "LayoutView",
      "align_content": null,
      "align_items": null,
      "align_self": null,
      "border": null,
      "bottom": null,
      "display": null,
      "flex": null,
      "flex_flow": null,
      "grid_area": null,
      "grid_auto_columns": null,
      "grid_auto_flow": null,
      "grid_auto_rows": null,
      "grid_column": null,
      "grid_gap": null,
      "grid_row": null,
      "grid_template_areas": null,
      "grid_template_columns": null,
      "grid_template_rows": null,
      "height": null,
      "justify_content": null,
      "justify_items": null,
      "left": null,
      "margin": null,
      "max_height": null,
      "max_width": null,
      "min_height": null,
      "min_width": null,
      "object_fit": null,
      "object_position": null,
      "order": null,
      "overflow": null,
      "overflow_x": null,
      "overflow_y": null,
      "padding": null,
      "right": null,
      "top": null,
      "visibility": null,
      "width": null
     }
    },
    "f5978e2f01e143128d4faa4691741592": {
     "model_module": "@jupyter-widgets/controls",
     "model_module_version": "1.5.0",
     "model_name": "ProgressStyleModel",
     "state": {
      "_model_module": "@jupyter-widgets/controls",
      "_model_module_version": "1.5.0",
      "_model_name": "ProgressStyleModel",
      "_view_count": null,
      "_view_module": "@jupyter-widgets/base",
      "_view_module_version": "1.2.0",
      "_view_name": "StyleView",
      "bar_color": null,
      "description_width": ""
     }
    }
   }
  }
 },
 "nbformat": 4,
 "nbformat_minor": 5
}
