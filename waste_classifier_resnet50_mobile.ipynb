{
 "cells": [
  {
   "cell_type": "markdown",
   "id": "fa1bbd9a-8954-4bd8-bdb4-6f3dff9337e2",
   "metadata": {
    "id": "fa1bbd9a-8954-4bd8-bdb4-6f3dff9337e2"
   },
   "source": [
    "# Waste Classifier PyTorch Mobile Model Preparation"
   ]
  },
  {
   "cell_type": "markdown",
   "id": "16762d99-dcf1-49f1-9e0c-e2bb7979c3be",
   "metadata": {
    "id": "16762d99-dcf1-49f1-9e0c-e2bb7979c3be"
   },
   "source": [
    "## 0 - Setup"
   ]
  },
  {
   "cell_type": "code",
   "execution_count": 1,
   "id": "d05f286e-941c-487d-ab35-e9adc6da0082",
   "metadata": {
    "colab": {
     "base_uri": "https://localhost:8080/"
    },
    "id": "d05f286e-941c-487d-ab35-e9adc6da0082",
    "outputId": "76e8633c-f6b0-4df2-8066-16ae9ab97233"
   },
   "outputs": [
    {
     "name": "stdout",
     "output_type": "stream",
     "text": [
      "2.1.1\n",
      "0.16.1\n",
      "Base imports done.\n"
     ]
    }
   ],
   "source": [
    "import torch\n",
    "import torchvision\n",
    "\n",
    "print(torch.__version__) # 1.12+\n",
    "print(torchvision.__version__) # 0.13+\n",
    "\n",
    "import matplotlib.pyplot as plt\n",
    "\n",
    "from torch import nn\n",
    "from torchvision import transforms\n",
    "from torchvision.transforms.functional import InterpolationMode\n",
    "\n",
    "from torchinfo import summary\n",
    "\n",
    "import time\n",
    "import os\n",
    "from PIL import Image\n",
    "import pandas as pd\n",
    "import matplotlib.pyplot as plt\n",
    "\n",
    "from scripts import data_setup, data_setup_augmented, engine, engine_lr_decay, utils, predictions\n",
    "from helper_functions import download_data, set_seeds, plot_loss_curves\n",
    "\n",
    "try:\n",
    "    from scripts import data_setup, data_setup_augmented, engine, engine_lr_decay, utils, predictions\n",
    "    from helper_functions import download_data, set_seeds, plot_loss_curves\n",
    "    print(\"Base imports done.\")\n",
    "except:\n",
    "    print(\"Couldn't find helper scripts, downloading from Github...\")\n",
    "    !git clone https://github.com/tznpau/waste-classifier\n",
    "    !mv waste-classifier/scripts .\n",
    "    !mv waste-classifier/helper_functions.py .\n",
    "    !rm -rf waste-classifier\n",
    "    from scripts import data_setup, data_setup_augmented, engine, engine_lr_decay, utils, predictions\n",
    "    from helper_functions import download_data, set_seeds, plot_loss_curves"
   ]
  },
  {
   "cell_type": "code",
   "execution_count": 2,
   "id": "24de8e9c-b13f-46c9-81da-c291edf9d28b",
   "metadata": {
    "colab": {
     "base_uri": "https://localhost:8080/",
     "height": 36
    },
    "id": "24de8e9c-b13f-46c9-81da-c291edf9d28b",
    "outputId": "ceb11189-9d82-451f-e539-143739089627"
   },
   "outputs": [
    {
     "data": {
      "text/plain": [
       "'cuda'"
      ]
     },
     "execution_count": 2,
     "metadata": {},
     "output_type": "execute_result"
    }
   ],
   "source": [
    "device = \"cuda\" if torch.cuda.is_available() else \"cpu\"\n",
    "device"
   ]
  },
  {
   "cell_type": "markdown",
   "id": "2b0b127e-c4cd-4367-b2a7-a32a6cb4a028",
   "metadata": {
    "id": "2b0b127e-c4cd-4367-b2a7-a32a6cb4a028"
   },
   "source": [
    "## 1 - Getting data"
   ]
  },
  {
   "cell_type": "code",
   "execution_count": 3,
   "id": "aed57f9b-4069-4b1f-8d15-b9a388ee9bef",
   "metadata": {
    "colab": {
     "base_uri": "https://localhost:8080/"
    },
    "id": "aed57f9b-4069-4b1f-8d15-b9a388ee9bef",
    "outputId": "d5398f37-b94a-4ba1-a461-3ddecd96f922"
   },
   "outputs": [
    {
     "name": "stdout",
     "output_type": "stream",
     "text": [
      "[INFO] data\\trash_dataset directory exists, skipping download.\n"
     ]
    },
    {
     "data": {
      "text/plain": [
       "WindowsPath('data/trash_dataset')"
      ]
     },
     "execution_count": 3,
     "metadata": {},
     "output_type": "execute_result"
    }
   ],
   "source": [
    "trash_dataset_path = download_data(source=\"https://github.com/tznpau/waste-classifier/raw/main/data/trash_dataset.zip\",\n",
    "                                   destination=\"trash_dataset\")\n",
    "trash_dataset_path"
   ]
  },
  {
   "cell_type": "code",
   "execution_count": 4,
   "id": "fb44061a-5b50-49aa-9702-7b4acde133af",
   "metadata": {
    "colab": {
     "base_uri": "https://localhost:8080/"
    },
    "id": "fb44061a-5b50-49aa-9702-7b4acde133af",
    "outputId": "8e3fddc4-bdf5-4785-9254-58d8fa37b018"
   },
   "outputs": [
    {
     "data": {
      "text/plain": [
       "(WindowsPath('data/trash_dataset/train'),\n",
       " WindowsPath('data/trash_dataset/test'))"
      ]
     },
     "execution_count": 4,
     "metadata": {},
     "output_type": "execute_result"
    }
   ],
   "source": [
    "# Setup training and test data directories\n",
    "train_dir = trash_dataset_path / \"train\"\n",
    "test_dir = trash_dataset_path / \"test\"\n",
    "\n",
    "train_dir, test_dir"
   ]
  },
  {
   "cell_type": "markdown",
   "id": "9b178194-a4c7-4b80-8211-425cf9c45ab7",
   "metadata": {
    "id": "9b178194-a4c7-4b80-8211-425cf9c45ab7"
   },
   "source": [
    "## 2 - ResNet50 feature extractor"
   ]
  },
  {
   "cell_type": "code",
   "execution_count": 5,
   "id": "8a702e65-f619-4563-9454-292c6d3d7018",
   "metadata": {
    "colab": {
     "base_uri": "https://localhost:8080/"
    },
    "id": "8a702e65-f619-4563-9454-292c6d3d7018",
    "outputId": "39412033-8e13-4837-c692-df9449dd910a"
   },
   "outputs": [
    {
     "data": {
      "text/plain": [
       "Linear(in_features=2048, out_features=1000, bias=True)"
      ]
     },
     "execution_count": 5,
     "metadata": {},
     "output_type": "execute_result"
    }
   ],
   "source": [
    "resnet50 = torchvision.models.resnet50()\n",
    "resnet50.fc"
   ]
  },
  {
   "cell_type": "markdown",
   "id": "c85adb9e-e2da-4f7f-9dfe-ae041ea51a4a",
   "metadata": {
    "id": "c85adb9e-e2da-4f7f-9dfe-ae041ea51a4a"
   },
   "source": [
    "#### Model class"
   ]
  },
  {
   "cell_type": "code",
   "execution_count": 6,
   "id": "3d2cb2b3-a8b1-4f0b-bf5f-f7ba347e602b",
   "metadata": {
    "id": "3d2cb2b3-a8b1-4f0b-bf5f-f7ba347e602b"
   },
   "outputs": [],
   "source": [
    "def create_resnet50_model(num_classes:int=6,\n",
    "                          dropout_prob:float=0.2):\n",
    "    weights = torchvision.models.ResNet50_Weights.DEFAULT\n",
    "    model = torchvision.models.resnet50(weights=weights).to(device)\n",
    "\n",
    "    for param in model.parameters():\n",
    "        param.requires_grad = False\n",
    "\n",
    "    model.fc = nn.Sequential(\n",
    "        nn.Dropout(p=dropout_prob),\n",
    "        nn.Linear(in_features=2048, out_features=num_classes)\n",
    "    ).to(device)\n",
    "\n",
    "    return model"
   ]
  },
  {
   "cell_type": "code",
   "execution_count": 7,
   "id": "f25d0c2b-c475-4256-8b94-51fcff6cf695",
   "metadata": {
    "id": "f25d0c2b-c475-4256-8b94-51fcff6cf695"
   },
   "outputs": [],
   "source": [
    "resnet50 = create_resnet50_model(num_classes=6, dropout_prob=0.3)"
   ]
  },
  {
   "cell_type": "code",
   "execution_count": 8,
   "id": "f7efce5b-e76d-4a51-9198-807be02cf39a",
   "metadata": {
    "colab": {
     "base_uri": "https://localhost:8080/"
    },
    "id": "f7efce5b-e76d-4a51-9198-807be02cf39a",
    "outputId": "352eb3f4-dea7-4f03-f5d1-c9734ed73fc3"
   },
   "outputs": [
    {
     "data": {
      "text/plain": [
       "Sequential(\n",
       "  (0): Dropout(p=0.3, inplace=False)\n",
       "  (1): Linear(in_features=2048, out_features=6, bias=True)\n",
       ")"
      ]
     },
     "execution_count": 8,
     "metadata": {},
     "output_type": "execute_result"
    }
   ],
   "source": [
    "resnet50.fc"
   ]
  },
  {
   "cell_type": "markdown",
   "id": "47ab70a0-6de5-48c9-8757-cfdf3f65929b",
   "metadata": {
    "id": "47ab70a0-6de5-48c9-8757-cfdf3f65929b"
   },
   "source": [
    "#### Custom transforms"
   ]
  },
  {
   "cell_type": "code",
   "execution_count": 9,
   "id": "30222ba1-866f-48df-9341-4fdf2348bcbe",
   "metadata": {
    "id": "30222ba1-866f-48df-9341-4fdf2348bcbe"
   },
   "outputs": [],
   "source": [
    "resnet50_train_transform = transforms.Compose([\n",
    "    transforms.ToTensor(),\n",
    "    transforms.Resize(232, interpolation=InterpolationMode.BILINEAR),\n",
    "    transforms.GaussianBlur(kernel_size=3),\n",
    "    transforms.RandomGrayscale(),\n",
    "    transforms.RandomHorizontalFlip(),\n",
    "    transforms.Normalize(\n",
    "        mean=[0.485, 0.456, 0.406],\n",
    "        std=[0.229, 0.224, 0.225]\n",
    "    )\n",
    "])\n",
    "\n",
    "resnet50_test_transform = transforms.Compose([\n",
    "    transforms.ToTensor(),\n",
    "    transforms.Resize(232, interpolation=InterpolationMode.BILINEAR, antialias=True),\n",
    "    transforms.CenterCrop(224),\n",
    "    transforms.Normalize(\n",
    "        mean=[0.485, 0.456, 0.406],\n",
    "        std=[0.229, 0.224, 0.225]\n",
    "    )\n",
    "])"
   ]
  },
  {
   "cell_type": "code",
   "execution_count": 10,
   "id": "d35fe374-d194-4710-bbe1-d486a29341a6",
   "metadata": {
    "colab": {
     "base_uri": "https://localhost:8080/"
    },
    "id": "d35fe374-d194-4710-bbe1-d486a29341a6",
    "outputId": "576ffbe8-3068-49bd-cab3-27812d5d774c"
   },
   "outputs": [
    {
     "data": {
      "text/plain": [
       "Compose(\n",
       "    ToTensor()\n",
       "    Resize(size=232, interpolation=bilinear, max_size=None, antialias=warn)\n",
       "    GaussianBlur(kernel_size=(3, 3), sigma=(0.1, 2.0))\n",
       "    RandomGrayscale(p=0.1)\n",
       "    RandomHorizontalFlip(p=0.5)\n",
       "    Normalize(mean=[0.485, 0.456, 0.406], std=[0.229, 0.224, 0.225])\n",
       ")"
      ]
     },
     "execution_count": 10,
     "metadata": {},
     "output_type": "execute_result"
    }
   ],
   "source": [
    "resnet50_train_transform"
   ]
  },
  {
   "cell_type": "code",
   "execution_count": 11,
   "id": "989e2e89-98fc-4b43-9028-0cce0d0fe4e0",
   "metadata": {
    "colab": {
     "base_uri": "https://localhost:8080/"
    },
    "id": "989e2e89-98fc-4b43-9028-0cce0d0fe4e0",
    "outputId": "094623f9-9abe-429e-d8e5-56411f090a58"
   },
   "outputs": [
    {
     "data": {
      "text/plain": [
       "Compose(\n",
       "    ToTensor()\n",
       "    Resize(size=232, interpolation=bilinear, max_size=None, antialias=True)\n",
       "    CenterCrop(size=(224, 224))\n",
       "    Normalize(mean=[0.485, 0.456, 0.406], std=[0.229, 0.224, 0.225])\n",
       ")"
      ]
     },
     "execution_count": 11,
     "metadata": {},
     "output_type": "execute_result"
    }
   ],
   "source": [
    "resnet50_test_transform"
   ]
  },
  {
   "cell_type": "markdown",
   "id": "a06c81bc-895e-40b2-ab52-855f0042cc9a",
   "metadata": {
    "id": "a06c81bc-895e-40b2-ab52-855f0042cc9a"
   },
   "source": [
    "#### Dataloaders"
   ]
  },
  {
   "cell_type": "code",
   "execution_count": 12,
   "id": "92472996-8de7-4c2b-a605-68a6be12b636",
   "metadata": {
    "id": "92472996-8de7-4c2b-a605-68a6be12b636"
   },
   "outputs": [],
   "source": [
    "from scripts import data_setup_augmented\n",
    "\n",
    "train_dataloader_resnet50, test_dataloader_resnet50, class_names = data_setup_augmented.create_dataloaders(train_dir=train_dir,\n",
    "                                                                                                           test_dir=test_dir,\n",
    "                                                                                                           train_transform=resnet50_train_transform,\n",
    "                                                                                                           test_transform=resnet50_test_transform,\n",
    "                                                                                                           batch_size=32)"
   ]
  },
  {
   "cell_type": "code",
   "execution_count": 13,
   "id": "58d6cae1-1b78-46da-b4fb-0bdb7358326f",
   "metadata": {
    "colab": {
     "base_uri": "https://localhost:8080/"
    },
    "id": "58d6cae1-1b78-46da-b4fb-0bdb7358326f",
    "outputId": "0e52a580-b62c-40cd-a273-662b869de7a7"
   },
   "outputs": [
    {
     "data": {
      "text/plain": [
       "(64, 16, ['cardboard', 'glass', 'metal', 'paper', 'plastic', 'trash'])"
      ]
     },
     "execution_count": 13,
     "metadata": {},
     "output_type": "execute_result"
    }
   ],
   "source": [
    "len(train_dataloader_resnet50), len(test_dataloader_resnet50), class_names"
   ]
  },
  {
   "cell_type": "markdown",
   "id": "3a878043-f363-4f1d-8d12-6908de5fb9b5",
   "metadata": {
    "id": "3a878043-f363-4f1d-8d12-6908de5fb9b5"
   },
   "source": [
    "#### ResNet50 feature extractor summary"
   ]
  },
  {
   "cell_type": "code",
   "execution_count": 14,
   "id": "8b98e1e3-3193-4f1f-9120-bca377aeaed7",
   "metadata": {
    "id": "8b98e1e3-3193-4f1f-9120-bca377aeaed7"
   },
   "outputs": [
    {
     "data": {
      "text/plain": [
       "========================================================================================================================\n",
       "Layer (type (var_name))                  Input Shape          Output Shape         Param #              Trainable\n",
       "========================================================================================================================\n",
       "ResNet (ResNet)                          [1, 3, 224, 224]     [1, 6]               --                   Partial\n",
       "├─Conv2d (conv1)                         [1, 3, 224, 224]     [1, 64, 112, 112]    (9,408)              False\n",
       "├─BatchNorm2d (bn1)                      [1, 64, 112, 112]    [1, 64, 112, 112]    (128)                False\n",
       "├─ReLU (relu)                            [1, 64, 112, 112]    [1, 64, 112, 112]    --                   --\n",
       "├─MaxPool2d (maxpool)                    [1, 64, 112, 112]    [1, 64, 56, 56]      --                   --\n",
       "├─Sequential (layer1)                    [1, 64, 56, 56]      [1, 256, 56, 56]     --                   False\n",
       "│    └─Bottleneck (0)                    [1, 64, 56, 56]      [1, 256, 56, 56]     --                   False\n",
       "│    │    └─Conv2d (conv1)               [1, 64, 56, 56]      [1, 64, 56, 56]      (4,096)              False\n",
       "│    │    └─BatchNorm2d (bn1)            [1, 64, 56, 56]      [1, 64, 56, 56]      (128)                False\n",
       "│    │    └─ReLU (relu)                  [1, 64, 56, 56]      [1, 64, 56, 56]      --                   --\n",
       "│    │    └─Conv2d (conv2)               [1, 64, 56, 56]      [1, 64, 56, 56]      (36,864)             False\n",
       "│    │    └─BatchNorm2d (bn2)            [1, 64, 56, 56]      [1, 64, 56, 56]      (128)                False\n",
       "│    │    └─ReLU (relu)                  [1, 64, 56, 56]      [1, 64, 56, 56]      --                   --\n",
       "│    │    └─Conv2d (conv3)               [1, 64, 56, 56]      [1, 256, 56, 56]     (16,384)             False\n",
       "│    │    └─BatchNorm2d (bn3)            [1, 256, 56, 56]     [1, 256, 56, 56]     (512)                False\n",
       "│    │    └─Sequential (downsample)      [1, 64, 56, 56]      [1, 256, 56, 56]     (16,896)             False\n",
       "│    │    └─ReLU (relu)                  [1, 256, 56, 56]     [1, 256, 56, 56]     --                   --\n",
       "│    └─Bottleneck (1)                    [1, 256, 56, 56]     [1, 256, 56, 56]     --                   False\n",
       "│    │    └─Conv2d (conv1)               [1, 256, 56, 56]     [1, 64, 56, 56]      (16,384)             False\n",
       "│    │    └─BatchNorm2d (bn1)            [1, 64, 56, 56]      [1, 64, 56, 56]      (128)                False\n",
       "│    │    └─ReLU (relu)                  [1, 64, 56, 56]      [1, 64, 56, 56]      --                   --\n",
       "│    │    └─Conv2d (conv2)               [1, 64, 56, 56]      [1, 64, 56, 56]      (36,864)             False\n",
       "│    │    └─BatchNorm2d (bn2)            [1, 64, 56, 56]      [1, 64, 56, 56]      (128)                False\n",
       "│    │    └─ReLU (relu)                  [1, 64, 56, 56]      [1, 64, 56, 56]      --                   --\n",
       "│    │    └─Conv2d (conv3)               [1, 64, 56, 56]      [1, 256, 56, 56]     (16,384)             False\n",
       "│    │    └─BatchNorm2d (bn3)            [1, 256, 56, 56]     [1, 256, 56, 56]     (512)                False\n",
       "│    │    └─ReLU (relu)                  [1, 256, 56, 56]     [1, 256, 56, 56]     --                   --\n",
       "│    └─Bottleneck (2)                    [1, 256, 56, 56]     [1, 256, 56, 56]     --                   False\n",
       "│    │    └─Conv2d (conv1)               [1, 256, 56, 56]     [1, 64, 56, 56]      (16,384)             False\n",
       "│    │    └─BatchNorm2d (bn1)            [1, 64, 56, 56]      [1, 64, 56, 56]      (128)                False\n",
       "│    │    └─ReLU (relu)                  [1, 64, 56, 56]      [1, 64, 56, 56]      --                   --\n",
       "│    │    └─Conv2d (conv2)               [1, 64, 56, 56]      [1, 64, 56, 56]      (36,864)             False\n",
       "│    │    └─BatchNorm2d (bn2)            [1, 64, 56, 56]      [1, 64, 56, 56]      (128)                False\n",
       "│    │    └─ReLU (relu)                  [1, 64, 56, 56]      [1, 64, 56, 56]      --                   --\n",
       "│    │    └─Conv2d (conv3)               [1, 64, 56, 56]      [1, 256, 56, 56]     (16,384)             False\n",
       "│    │    └─BatchNorm2d (bn3)            [1, 256, 56, 56]     [1, 256, 56, 56]     (512)                False\n",
       "│    │    └─ReLU (relu)                  [1, 256, 56, 56]     [1, 256, 56, 56]     --                   --\n",
       "├─Sequential (layer2)                    [1, 256, 56, 56]     [1, 512, 28, 28]     --                   False\n",
       "│    └─Bottleneck (0)                    [1, 256, 56, 56]     [1, 512, 28, 28]     --                   False\n",
       "│    │    └─Conv2d (conv1)               [1, 256, 56, 56]     [1, 128, 56, 56]     (32,768)             False\n",
       "│    │    └─BatchNorm2d (bn1)            [1, 128, 56, 56]     [1, 128, 56, 56]     (256)                False\n",
       "│    │    └─ReLU (relu)                  [1, 128, 56, 56]     [1, 128, 56, 56]     --                   --\n",
       "│    │    └─Conv2d (conv2)               [1, 128, 56, 56]     [1, 128, 28, 28]     (147,456)            False\n",
       "│    │    └─BatchNorm2d (bn2)            [1, 128, 28, 28]     [1, 128, 28, 28]     (256)                False\n",
       "│    │    └─ReLU (relu)                  [1, 128, 28, 28]     [1, 128, 28, 28]     --                   --\n",
       "│    │    └─Conv2d (conv3)               [1, 128, 28, 28]     [1, 512, 28, 28]     (65,536)             False\n",
       "│    │    └─BatchNorm2d (bn3)            [1, 512, 28, 28]     [1, 512, 28, 28]     (1,024)              False\n",
       "│    │    └─Sequential (downsample)      [1, 256, 56, 56]     [1, 512, 28, 28]     (132,096)            False\n",
       "│    │    └─ReLU (relu)                  [1, 512, 28, 28]     [1, 512, 28, 28]     --                   --\n",
       "│    └─Bottleneck (1)                    [1, 512, 28, 28]     [1, 512, 28, 28]     --                   False\n",
       "│    │    └─Conv2d (conv1)               [1, 512, 28, 28]     [1, 128, 28, 28]     (65,536)             False\n",
       "│    │    └─BatchNorm2d (bn1)            [1, 128, 28, 28]     [1, 128, 28, 28]     (256)                False\n",
       "│    │    └─ReLU (relu)                  [1, 128, 28, 28]     [1, 128, 28, 28]     --                   --\n",
       "│    │    └─Conv2d (conv2)               [1, 128, 28, 28]     [1, 128, 28, 28]     (147,456)            False\n",
       "│    │    └─BatchNorm2d (bn2)            [1, 128, 28, 28]     [1, 128, 28, 28]     (256)                False\n",
       "│    │    └─ReLU (relu)                  [1, 128, 28, 28]     [1, 128, 28, 28]     --                   --\n",
       "│    │    └─Conv2d (conv3)               [1, 128, 28, 28]     [1, 512, 28, 28]     (65,536)             False\n",
       "│    │    └─BatchNorm2d (bn3)            [1, 512, 28, 28]     [1, 512, 28, 28]     (1,024)              False\n",
       "│    │    └─ReLU (relu)                  [1, 512, 28, 28]     [1, 512, 28, 28]     --                   --\n",
       "│    └─Bottleneck (2)                    [1, 512, 28, 28]     [1, 512, 28, 28]     --                   False\n",
       "│    │    └─Conv2d (conv1)               [1, 512, 28, 28]     [1, 128, 28, 28]     (65,536)             False\n",
       "│    │    └─BatchNorm2d (bn1)            [1, 128, 28, 28]     [1, 128, 28, 28]     (256)                False\n",
       "│    │    └─ReLU (relu)                  [1, 128, 28, 28]     [1, 128, 28, 28]     --                   --\n",
       "│    │    └─Conv2d (conv2)               [1, 128, 28, 28]     [1, 128, 28, 28]     (147,456)            False\n",
       "│    │    └─BatchNorm2d (bn2)            [1, 128, 28, 28]     [1, 128, 28, 28]     (256)                False\n",
       "│    │    └─ReLU (relu)                  [1, 128, 28, 28]     [1, 128, 28, 28]     --                   --\n",
       "│    │    └─Conv2d (conv3)               [1, 128, 28, 28]     [1, 512, 28, 28]     (65,536)             False\n",
       "│    │    └─BatchNorm2d (bn3)            [1, 512, 28, 28]     [1, 512, 28, 28]     (1,024)              False\n",
       "│    │    └─ReLU (relu)                  [1, 512, 28, 28]     [1, 512, 28, 28]     --                   --\n",
       "│    └─Bottleneck (3)                    [1, 512, 28, 28]     [1, 512, 28, 28]     --                   False\n",
       "│    │    └─Conv2d (conv1)               [1, 512, 28, 28]     [1, 128, 28, 28]     (65,536)             False\n",
       "│    │    └─BatchNorm2d (bn1)            [1, 128, 28, 28]     [1, 128, 28, 28]     (256)                False\n",
       "│    │    └─ReLU (relu)                  [1, 128, 28, 28]     [1, 128, 28, 28]     --                   --\n",
       "│    │    └─Conv2d (conv2)               [1, 128, 28, 28]     [1, 128, 28, 28]     (147,456)            False\n",
       "│    │    └─BatchNorm2d (bn2)            [1, 128, 28, 28]     [1, 128, 28, 28]     (256)                False\n",
       "│    │    └─ReLU (relu)                  [1, 128, 28, 28]     [1, 128, 28, 28]     --                   --\n",
       "│    │    └─Conv2d (conv3)               [1, 128, 28, 28]     [1, 512, 28, 28]     (65,536)             False\n",
       "│    │    └─BatchNorm2d (bn3)            [1, 512, 28, 28]     [1, 512, 28, 28]     (1,024)              False\n",
       "│    │    └─ReLU (relu)                  [1, 512, 28, 28]     [1, 512, 28, 28]     --                   --\n",
       "├─Sequential (layer3)                    [1, 512, 28, 28]     [1, 1024, 14, 14]    --                   False\n",
       "│    └─Bottleneck (0)                    [1, 512, 28, 28]     [1, 1024, 14, 14]    --                   False\n",
       "│    │    └─Conv2d (conv1)               [1, 512, 28, 28]     [1, 256, 28, 28]     (131,072)            False\n",
       "│    │    └─BatchNorm2d (bn1)            [1, 256, 28, 28]     [1, 256, 28, 28]     (512)                False\n",
       "│    │    └─ReLU (relu)                  [1, 256, 28, 28]     [1, 256, 28, 28]     --                   --\n",
       "│    │    └─Conv2d (conv2)               [1, 256, 28, 28]     [1, 256, 14, 14]     (589,824)            False\n",
       "│    │    └─BatchNorm2d (bn2)            [1, 256, 14, 14]     [1, 256, 14, 14]     (512)                False\n",
       "│    │    └─ReLU (relu)                  [1, 256, 14, 14]     [1, 256, 14, 14]     --                   --\n",
       "│    │    └─Conv2d (conv3)               [1, 256, 14, 14]     [1, 1024, 14, 14]    (262,144)            False\n",
       "│    │    └─BatchNorm2d (bn3)            [1, 1024, 14, 14]    [1, 1024, 14, 14]    (2,048)              False\n",
       "│    │    └─Sequential (downsample)      [1, 512, 28, 28]     [1, 1024, 14, 14]    (526,336)            False\n",
       "│    │    └─ReLU (relu)                  [1, 1024, 14, 14]    [1, 1024, 14, 14]    --                   --\n",
       "│    └─Bottleneck (1)                    [1, 1024, 14, 14]    [1, 1024, 14, 14]    --                   False\n",
       "│    │    └─Conv2d (conv1)               [1, 1024, 14, 14]    [1, 256, 14, 14]     (262,144)            False\n",
       "│    │    └─BatchNorm2d (bn1)            [1, 256, 14, 14]     [1, 256, 14, 14]     (512)                False\n",
       "│    │    └─ReLU (relu)                  [1, 256, 14, 14]     [1, 256, 14, 14]     --                   --\n",
       "│    │    └─Conv2d (conv2)               [1, 256, 14, 14]     [1, 256, 14, 14]     (589,824)            False\n",
       "│    │    └─BatchNorm2d (bn2)            [1, 256, 14, 14]     [1, 256, 14, 14]     (512)                False\n",
       "│    │    └─ReLU (relu)                  [1, 256, 14, 14]     [1, 256, 14, 14]     --                   --\n",
       "│    │    └─Conv2d (conv3)               [1, 256, 14, 14]     [1, 1024, 14, 14]    (262,144)            False\n",
       "│    │    └─BatchNorm2d (bn3)            [1, 1024, 14, 14]    [1, 1024, 14, 14]    (2,048)              False\n",
       "│    │    └─ReLU (relu)                  [1, 1024, 14, 14]    [1, 1024, 14, 14]    --                   --\n",
       "│    └─Bottleneck (2)                    [1, 1024, 14, 14]    [1, 1024, 14, 14]    --                   False\n",
       "│    │    └─Conv2d (conv1)               [1, 1024, 14, 14]    [1, 256, 14, 14]     (262,144)            False\n",
       "│    │    └─BatchNorm2d (bn1)            [1, 256, 14, 14]     [1, 256, 14, 14]     (512)                False\n",
       "│    │    └─ReLU (relu)                  [1, 256, 14, 14]     [1, 256, 14, 14]     --                   --\n",
       "│    │    └─Conv2d (conv2)               [1, 256, 14, 14]     [1, 256, 14, 14]     (589,824)            False\n",
       "│    │    └─BatchNorm2d (bn2)            [1, 256, 14, 14]     [1, 256, 14, 14]     (512)                False\n",
       "│    │    └─ReLU (relu)                  [1, 256, 14, 14]     [1, 256, 14, 14]     --                   --\n",
       "│    │    └─Conv2d (conv3)               [1, 256, 14, 14]     [1, 1024, 14, 14]    (262,144)            False\n",
       "│    │    └─BatchNorm2d (bn3)            [1, 1024, 14, 14]    [1, 1024, 14, 14]    (2,048)              False\n",
       "│    │    └─ReLU (relu)                  [1, 1024, 14, 14]    [1, 1024, 14, 14]    --                   --\n",
       "│    └─Bottleneck (3)                    [1, 1024, 14, 14]    [1, 1024, 14, 14]    --                   False\n",
       "│    │    └─Conv2d (conv1)               [1, 1024, 14, 14]    [1, 256, 14, 14]     (262,144)            False\n",
       "│    │    └─BatchNorm2d (bn1)            [1, 256, 14, 14]     [1, 256, 14, 14]     (512)                False\n",
       "│    │    └─ReLU (relu)                  [1, 256, 14, 14]     [1, 256, 14, 14]     --                   --\n",
       "│    │    └─Conv2d (conv2)               [1, 256, 14, 14]     [1, 256, 14, 14]     (589,824)            False\n",
       "│    │    └─BatchNorm2d (bn2)            [1, 256, 14, 14]     [1, 256, 14, 14]     (512)                False\n",
       "│    │    └─ReLU (relu)                  [1, 256, 14, 14]     [1, 256, 14, 14]     --                   --\n",
       "│    │    └─Conv2d (conv3)               [1, 256, 14, 14]     [1, 1024, 14, 14]    (262,144)            False\n",
       "│    │    └─BatchNorm2d (bn3)            [1, 1024, 14, 14]    [1, 1024, 14, 14]    (2,048)              False\n",
       "│    │    └─ReLU (relu)                  [1, 1024, 14, 14]    [1, 1024, 14, 14]    --                   --\n",
       "│    └─Bottleneck (4)                    [1, 1024, 14, 14]    [1, 1024, 14, 14]    --                   False\n",
       "│    │    └─Conv2d (conv1)               [1, 1024, 14, 14]    [1, 256, 14, 14]     (262,144)            False\n",
       "│    │    └─BatchNorm2d (bn1)            [1, 256, 14, 14]     [1, 256, 14, 14]     (512)                False\n",
       "│    │    └─ReLU (relu)                  [1, 256, 14, 14]     [1, 256, 14, 14]     --                   --\n",
       "│    │    └─Conv2d (conv2)               [1, 256, 14, 14]     [1, 256, 14, 14]     (589,824)            False\n",
       "│    │    └─BatchNorm2d (bn2)            [1, 256, 14, 14]     [1, 256, 14, 14]     (512)                False\n",
       "│    │    └─ReLU (relu)                  [1, 256, 14, 14]     [1, 256, 14, 14]     --                   --\n",
       "│    │    └─Conv2d (conv3)               [1, 256, 14, 14]     [1, 1024, 14, 14]    (262,144)            False\n",
       "│    │    └─BatchNorm2d (bn3)            [1, 1024, 14, 14]    [1, 1024, 14, 14]    (2,048)              False\n",
       "│    │    └─ReLU (relu)                  [1, 1024, 14, 14]    [1, 1024, 14, 14]    --                   --\n",
       "│    └─Bottleneck (5)                    [1, 1024, 14, 14]    [1, 1024, 14, 14]    --                   False\n",
       "│    │    └─Conv2d (conv1)               [1, 1024, 14, 14]    [1, 256, 14, 14]     (262,144)            False\n",
       "│    │    └─BatchNorm2d (bn1)            [1, 256, 14, 14]     [1, 256, 14, 14]     (512)                False\n",
       "│    │    └─ReLU (relu)                  [1, 256, 14, 14]     [1, 256, 14, 14]     --                   --\n",
       "│    │    └─Conv2d (conv2)               [1, 256, 14, 14]     [1, 256, 14, 14]     (589,824)            False\n",
       "│    │    └─BatchNorm2d (bn2)            [1, 256, 14, 14]     [1, 256, 14, 14]     (512)                False\n",
       "│    │    └─ReLU (relu)                  [1, 256, 14, 14]     [1, 256, 14, 14]     --                   --\n",
       "│    │    └─Conv2d (conv3)               [1, 256, 14, 14]     [1, 1024, 14, 14]    (262,144)            False\n",
       "│    │    └─BatchNorm2d (bn3)            [1, 1024, 14, 14]    [1, 1024, 14, 14]    (2,048)              False\n",
       "│    │    └─ReLU (relu)                  [1, 1024, 14, 14]    [1, 1024, 14, 14]    --                   --\n",
       "├─Sequential (layer4)                    [1, 1024, 14, 14]    [1, 2048, 7, 7]      --                   False\n",
       "│    └─Bottleneck (0)                    [1, 1024, 14, 14]    [1, 2048, 7, 7]      --                   False\n",
       "│    │    └─Conv2d (conv1)               [1, 1024, 14, 14]    [1, 512, 14, 14]     (524,288)            False\n",
       "│    │    └─BatchNorm2d (bn1)            [1, 512, 14, 14]     [1, 512, 14, 14]     (1,024)              False\n",
       "│    │    └─ReLU (relu)                  [1, 512, 14, 14]     [1, 512, 14, 14]     --                   --\n",
       "│    │    └─Conv2d (conv2)               [1, 512, 14, 14]     [1, 512, 7, 7]       (2,359,296)          False\n",
       "│    │    └─BatchNorm2d (bn2)            [1, 512, 7, 7]       [1, 512, 7, 7]       (1,024)              False\n",
       "│    │    └─ReLU (relu)                  [1, 512, 7, 7]       [1, 512, 7, 7]       --                   --\n",
       "│    │    └─Conv2d (conv3)               [1, 512, 7, 7]       [1, 2048, 7, 7]      (1,048,576)          False\n",
       "│    │    └─BatchNorm2d (bn3)            [1, 2048, 7, 7]      [1, 2048, 7, 7]      (4,096)              False\n",
       "│    │    └─Sequential (downsample)      [1, 1024, 14, 14]    [1, 2048, 7, 7]      (2,101,248)          False\n",
       "│    │    └─ReLU (relu)                  [1, 2048, 7, 7]      [1, 2048, 7, 7]      --                   --\n",
       "│    └─Bottleneck (1)                    [1, 2048, 7, 7]      [1, 2048, 7, 7]      --                   False\n",
       "│    │    └─Conv2d (conv1)               [1, 2048, 7, 7]      [1, 512, 7, 7]       (1,048,576)          False\n",
       "│    │    └─BatchNorm2d (bn1)            [1, 512, 7, 7]       [1, 512, 7, 7]       (1,024)              False\n",
       "│    │    └─ReLU (relu)                  [1, 512, 7, 7]       [1, 512, 7, 7]       --                   --\n",
       "│    │    └─Conv2d (conv2)               [1, 512, 7, 7]       [1, 512, 7, 7]       (2,359,296)          False\n",
       "│    │    └─BatchNorm2d (bn2)            [1, 512, 7, 7]       [1, 512, 7, 7]       (1,024)              False\n",
       "│    │    └─ReLU (relu)                  [1, 512, 7, 7]       [1, 512, 7, 7]       --                   --\n",
       "│    │    └─Conv2d (conv3)               [1, 512, 7, 7]       [1, 2048, 7, 7]      (1,048,576)          False\n",
       "│    │    └─BatchNorm2d (bn3)            [1, 2048, 7, 7]      [1, 2048, 7, 7]      (4,096)              False\n",
       "│    │    └─ReLU (relu)                  [1, 2048, 7, 7]      [1, 2048, 7, 7]      --                   --\n",
       "│    └─Bottleneck (2)                    [1, 2048, 7, 7]      [1, 2048, 7, 7]      --                   False\n",
       "│    │    └─Conv2d (conv1)               [1, 2048, 7, 7]      [1, 512, 7, 7]       (1,048,576)          False\n",
       "│    │    └─BatchNorm2d (bn1)            [1, 512, 7, 7]       [1, 512, 7, 7]       (1,024)              False\n",
       "│    │    └─ReLU (relu)                  [1, 512, 7, 7]       [1, 512, 7, 7]       --                   --\n",
       "│    │    └─Conv2d (conv2)               [1, 512, 7, 7]       [1, 512, 7, 7]       (2,359,296)          False\n",
       "│    │    └─BatchNorm2d (bn2)            [1, 512, 7, 7]       [1, 512, 7, 7]       (1,024)              False\n",
       "│    │    └─ReLU (relu)                  [1, 512, 7, 7]       [1, 512, 7, 7]       --                   --\n",
       "│    │    └─Conv2d (conv3)               [1, 512, 7, 7]       [1, 2048, 7, 7]      (1,048,576)          False\n",
       "│    │    └─BatchNorm2d (bn3)            [1, 2048, 7, 7]      [1, 2048, 7, 7]      (4,096)              False\n",
       "│    │    └─ReLU (relu)                  [1, 2048, 7, 7]      [1, 2048, 7, 7]      --                   --\n",
       "├─AdaptiveAvgPool2d (avgpool)            [1, 2048, 7, 7]      [1, 2048, 1, 1]      --                   --\n",
       "├─Sequential (fc)                        [1, 2048]            [1, 6]               --                   True\n",
       "│    └─Dropout (0)                       [1, 2048]            [1, 2048]            --                   --\n",
       "│    └─Linear (1)                        [1, 2048]            [1, 6]               12,294               True\n",
       "========================================================================================================================\n",
       "Total params: 23,520,326\n",
       "Trainable params: 12,294\n",
       "Non-trainable params: 23,508,032\n",
       "Total mult-adds (Units.GIGABYTES): 4.09\n",
       "========================================================================================================================\n",
       "Input size (MB): 0.60\n",
       "Forward/backward pass size (MB): 177.82\n",
       "Params size (MB): 94.08\n",
       "Estimated Total Size (MB): 272.51\n",
       "========================================================================================================================"
      ]
     },
     "execution_count": 14,
     "metadata": {},
     "output_type": "execute_result"
    }
   ],
   "source": [
    "summary(resnet50,\n",
    "        input_size=(1, 3, 224, 224),\n",
    "        col_names=[\"input_size\", \"output_size\", \"num_params\", \"trainable\"],\n",
    "        col_width=20,\n",
    "        row_settings=[\"var_names\"])"
   ]
  },
  {
   "cell_type": "markdown",
   "id": "a9dbd05d-ac4f-499c-b0a5-08aabb108a7d",
   "metadata": {
    "id": "a9dbd05d-ac4f-499c-b0a5-08aabb108a7d"
   },
   "source": [
    "## 3 - Training"
   ]
  },
  {
   "cell_type": "code",
   "execution_count": 15,
   "id": "a899425e-3d13-4680-b9a6-60fb105d5fee",
   "metadata": {
    "colab": {
     "base_uri": "https://localhost:8080/",
     "height": 507,
     "referenced_widgets": [
      "f88b954e1b514dca9fe662bb7d31744c",
      "f45f63b13221452eaac2dd0e3e9b9a0a",
      "87372100e1b648b3804a3c5cf37ac943",
      "e6011cb9b25b46f6b776661d9c91e8b5",
      "f69edd5ed318480c989f5b80c2533a7d",
      "98e2dc1bc9134c86b6b777dcc9887226",
      "fb961137e82f47aea09b71afaf9497ec",
      "9e16b5f912cc4eaeb73298039b0e33c1",
      "fbd745a4a99d4867a378ebe56f570682",
      "1a17fe3b4d6d456c9eeb209cd42484b3",
      "66a312e382f647bd9e25f4889b3c46af"
     ]
    },
    "id": "a899425e-3d13-4680-b9a6-60fb105d5fee",
    "outputId": "62f7472a-bd5c-4dbb-cdd1-6cd2b1109c91"
   },
   "outputs": [
    {
     "data": {
      "application/vnd.jupyter.widget-view+json": {
       "model_id": "05a51e8f041446978918dfac3c457b41",
       "version_major": 2,
       "version_minor": 0
      },
      "text/plain": [
       "  0%|          | 0/20 [00:00<?, ?it/s]"
      ]
     },
     "metadata": {},
     "output_type": "display_data"
    },
    {
     "name": "stdout",
     "output_type": "stream",
     "text": [
      "Epoch: 1 | train_loss: 1.2538 | train_acc: 0.6152 | test_loss: 0.8743 | test_acc: 0.7665\n",
      "Epoch: 2 | train_loss: 0.8352 | train_acc: 0.7661 | test_loss: 0.7163 | test_acc: 0.7997\n",
      "Epoch: 3 | train_loss: 0.6759 | train_acc: 0.8086 | test_loss: 0.5763 | test_acc: 0.8259\n",
      "Epoch: 4 | train_loss: 0.5999 | train_acc: 0.8239 | test_loss: 0.5331 | test_acc: 0.8426\n",
      "Epoch: 5 | train_loss: 0.5293 | train_acc: 0.8472 | test_loss: 0.4975 | test_acc: 0.8329\n",
      "Epoch: 6 | train_loss: 0.5005 | train_acc: 0.8555 | test_loss: 0.4783 | test_acc: 0.8426\n",
      "Epoch: 7 | train_loss: 0.4751 | train_acc: 0.8569 | test_loss: 0.4515 | test_acc: 0.8546\n",
      "Epoch: 8 | train_loss: 0.4556 | train_acc: 0.8537 | test_loss: 0.4371 | test_acc: 0.8588\n",
      "Epoch: 9 | train_loss: 0.4241 | train_acc: 0.8716 | test_loss: 0.4178 | test_acc: 0.8697\n",
      "Epoch: 10 | train_loss: 0.4073 | train_acc: 0.8748 | test_loss: 0.4029 | test_acc: 0.8742\n",
      "Epoch: 11 | train_loss: 0.3760 | train_acc: 0.8940 | test_loss: 0.3842 | test_acc: 0.8694\n",
      "Epoch: 12 | train_loss: 0.3673 | train_acc: 0.8825 | test_loss: 0.3773 | test_acc: 0.8733\n",
      "Epoch: 13 | train_loss: 0.3542 | train_acc: 0.8869 | test_loss: 0.3807 | test_acc: 0.8675\n",
      "Epoch: 14 | train_loss: 0.3341 | train_acc: 0.8957 | test_loss: 0.3719 | test_acc: 0.8862\n",
      "Epoch: 15 | train_loss: 0.3486 | train_acc: 0.8880 | test_loss: 0.3695 | test_acc: 0.8820\n",
      "Epoch: 16 | train_loss: 0.3223 | train_acc: 0.9009 | test_loss: 0.3487 | test_acc: 0.8954\n",
      "Epoch: 17 | train_loss: 0.3234 | train_acc: 0.8993 | test_loss: 0.3448 | test_acc: 0.8909\n",
      "Epoch: 18 | train_loss: 0.3072 | train_acc: 0.9106 | test_loss: 0.3524 | test_acc: 0.8836\n",
      "Epoch: 19 | train_loss: 0.3152 | train_acc: 0.9059 | test_loss: 0.3656 | test_acc: 0.8792\n",
      "Epoch: 20 | train_loss: 0.3071 | train_acc: 0.8986 | test_loss: 0.3372 | test_acc: 0.8820\n"
     ]
    }
   ],
   "source": [
    "from scripts import engine\n",
    "\n",
    "loss_fn = torch.nn.CrossEntropyLoss()\n",
    "optimizer = torch.optim.Adam(params=resnet50.parameters(),\n",
    "                             lr=1e-3)\n",
    "\n",
    "resnet50_results = engine.train(model=resnet50,\n",
    "                                train_dataloader=train_dataloader_resnet50,\n",
    "                                test_dataloader=test_dataloader_resnet50,\n",
    "                                epochs=20,\n",
    "                                optimizer=optimizer,\n",
    "                                loss_fn=loss_fn,\n",
    "                                device=device)"
   ]
  },
  {
   "cell_type": "code",
   "execution_count": 16,
   "id": "da0ce93c-725a-434a-9c70-077086fc8136",
   "metadata": {
    "colab": {
     "base_uri": "https://localhost:8080/",
     "height": 641
    },
    "id": "da0ce93c-725a-434a-9c70-077086fc8136",
    "outputId": "0ad3fc79-4992-46c2-86c9-20d868dd1c6a"
   },
   "outputs": [
    {
     "data": {
      "image/png": "[encoded data removed]",
      "text/plain": [
       "<Figure size 1500x700 with 2 Axes>"
      ]
     },
     "metadata": {},
     "output_type": "display_data"
    }
   ],
   "source": [
    "from helper_functions import plot_loss_curves\n",
    "\n",
    "plot_loss_curves(resnet50_results)"
   ]
  },
  {
   "cell_type": "markdown",
   "id": "969858be-b116-43d4-9802-2693672bcdcb",
   "metadata": {},
   "source": [
    "## 4 - Saving model & stats"
   ]
  },
  {
   "cell_type": "code",
   "execution_count": 17,
   "id": "9876f849-ff51-43eb-992e-1cfcf4c1110d",
   "metadata": {},
   "outputs": [
    {
     "name": "stdout",
     "output_type": "stream",
     "text": [
      "Saving model to: models\\resnet50_model.pth\n"
     ]
    }
   ],
   "source": [
    "from scripts import utils\n",
    "\n",
    "utils.save_model(model=resnet50,\n",
    "                 target_dir=\"models\",\n",
    "                 model_name=\"resnet50_model.pth\")"
   ]
  },
  {
   "cell_type": "code",
   "execution_count": 18,
   "id": "1d62527e-dd49-4c54-b4b2-9f44046d6591",
   "metadata": {},
   "outputs": [],
   "source": [
    "from pathlib import Path\n",
    "\n",
    "resnet50_total_params = sum(torch.numel(param) for param in resnet50.parameters())\n",
    "size_resnet50 = Path(\"models/resnet50_model.pth\").stat().st_size // (1024*1024)"
   ]
  },
  {
   "cell_type": "code",
   "execution_count": 19,
   "id": "80f63237-7103-4bdc-bc53-1f4a10159238",
   "metadata": {},
   "outputs": [
    {
     "name": "stdout",
     "output_type": "stream",
     "text": [
      "Finding all files ending with '.jpg' in directory: data\\trash_dataset\\test\n"
     ]
    },
    {
     "data": {
      "text/plain": [
       "[WindowsPath('data/trash_dataset/test/cardboard/cardboard103.jpg'),\n",
       " WindowsPath('data/trash_dataset/test/cardboard/cardboard104.jpg'),\n",
       " WindowsPath('data/trash_dataset/test/cardboard/cardboard11.jpg'),\n",
       " WindowsPath('data/trash_dataset/test/cardboard/cardboard110.jpg'),\n",
       " WindowsPath('data/trash_dataset/test/cardboard/cardboard117.jpg')]"
      ]
     },
     "execution_count": 19,
     "metadata": {},
     "output_type": "execute_result"
    }
   ],
   "source": [
    "from pathlib import Path\n",
    "\n",
    "print(f\"Finding all files ending with '.jpg' in directory: {test_dir}\")\n",
    "test_data_paths = list(Path(test_dir).glob(\"*/*.jpg\"))\n",
    "test_data_paths[:5]"
   ]
  },
  {
   "cell_type": "code",
   "execution_count": 20,
   "id": "14ea96ca-6973-482a-a813-4d4ad34efbaf",
   "metadata": {},
   "outputs": [
    {
     "data": {
      "application/vnd.jupyter.widget-view+json": {
       "model_id": "253ebe8b00d847b8b103df9db575208f",
       "version_major": 2,
       "version_minor": 0
      },
      "text/plain": [
       "  0%|          | 0/508 [00:00<?, ?it/s]"
      ]
     },
     "metadata": {},
     "output_type": "display_data"
    }
   ],
   "source": [
    "from scripts import predictions\n",
    "\n",
    "resnet50_test_predictions = predictions.pred_and_store(paths=test_data_paths,\n",
    "                                                     model=resnet50,\n",
    "                                                     transform=resnet50_test_transform,\n",
    "                                                     class_names=class_names,\n",
    "                                                     device=\"cpu\")"
   ]
  },
  {
   "cell_type": "code",
   "execution_count": 21,
   "id": "ebff10f3-a867-4e4f-bf96-1e197ae645d7",
   "metadata": {},
   "outputs": [
    {
     "data": {
      "text/plain": [
       "[{'image_path': WindowsPath('data/trash_dataset/test/cardboard/cardboard103.jpg'),\n",
       "  'class_name': 'cardboard',\n",
       "  'pred_prob': 0.9995,\n",
       "  'pred_class': 'cardboard',\n",
       "  'time_for_pred': 0.226,\n",
       "  'correct': True},\n",
       " {'image_path': WindowsPath('data/trash_dataset/test/cardboard/cardboard104.jpg'),\n",
       "  'class_name': 'cardboard',\n",
       "  'pred_prob': 0.9971,\n",
       "  'pred_class': 'cardboard',\n",
       "  'time_for_pred': 0.0681,\n",
       "  'correct': True}]"
      ]
     },
     "execution_count": 21,
     "metadata": {},
     "output_type": "execute_result"
    }
   ],
   "source": [
    "resnet50_test_predictions[:2]"
   ]
  },
  {
   "cell_type": "code",
   "execution_count": 22,
   "id": "c9ce7114-d06b-47d5-9350-f621cd0b2daf",
   "metadata": {},
   "outputs": [
    {
     "data": {
      "text/html": [
       "<div>\n",
       "<style scoped>\n",
       "    .dataframe tbody tr th:only-of-type {\n",
       "        vertical-align: middle;\n",
       "    }\n",
       "\n",
       "    .dataframe tbody tr th {\n",
       "        vertical-align: top;\n",
       "    }\n",
       "\n",
       "    .dataframe thead th {\n",
       "        text-align: right;\n",
       "    }\n",
       "</style>\n",
       "<table border=\"1\" class=\"dataframe\">\n",
       "  <thead>\n",
       "    <tr style=\"text-align: right;\">\n",
       "      <th></th>\n",
       "      <th>image_path</th>\n",
       "      <th>class_name</th>\n",
       "      <th>pred_prob</th>\n",
       "      <th>pred_class</th>\n",
       "      <th>time_for_pred</th>\n",
       "      <th>correct</th>\n",
       "    </tr>\n",
       "  </thead>\n",
       "  <tbody>\n",
       "    <tr>\n",
       "      <th>0</th>\n",
       "      <td>data\\trash_dataset\\test\\cardboard\\cardboard103...</td>\n",
       "      <td>cardboard</td>\n",
       "      <td>0.9995</td>\n",
       "      <td>cardboard</td>\n",
       "      <td>0.2260</td>\n",
       "      <td>True</td>\n",
       "    </tr>\n",
       "    <tr>\n",
       "      <th>1</th>\n",
       "      <td>data\\trash_dataset\\test\\cardboard\\cardboard104...</td>\n",
       "      <td>cardboard</td>\n",
       "      <td>0.9971</td>\n",
       "      <td>cardboard</td>\n",
       "      <td>0.0681</td>\n",
       "      <td>True</td>\n",
       "    </tr>\n",
       "    <tr>\n",
       "      <th>2</th>\n",
       "      <td>data\\trash_dataset\\test\\cardboard\\cardboard11.jpg</td>\n",
       "      <td>cardboard</td>\n",
       "      <td>0.9947</td>\n",
       "      <td>cardboard</td>\n",
       "      <td>0.0699</td>\n",
       "      <td>True</td>\n",
       "    </tr>\n",
       "    <tr>\n",
       "      <th>3</th>\n",
       "      <td>data\\trash_dataset\\test\\cardboard\\cardboard110...</td>\n",
       "      <td>cardboard</td>\n",
       "      <td>0.9804</td>\n",
       "      <td>cardboard</td>\n",
       "      <td>0.0735</td>\n",
       "      <td>True</td>\n",
       "    </tr>\n",
       "    <tr>\n",
       "      <th>4</th>\n",
       "      <td>data\\trash_dataset\\test\\cardboard\\cardboard117...</td>\n",
       "      <td>cardboard</td>\n",
       "      <td>0.9884</td>\n",
       "      <td>cardboard</td>\n",
       "      <td>0.0737</td>\n",
       "      <td>True</td>\n",
       "    </tr>\n",
       "  </tbody>\n",
       "</table>\n",
       "</div>"
      ],
      "text/plain": [
       "                                          image_path class_name  pred_prob  \\\n",
       "0  data\\trash_dataset\\test\\cardboard\\cardboard103...  cardboard     0.9995   \n",
       "1  data\\trash_dataset\\test\\cardboard\\cardboard104...  cardboard     0.9971   \n",
       "2  data\\trash_dataset\\test\\cardboard\\cardboard11.jpg  cardboard     0.9947   \n",
       "3  data\\trash_dataset\\test\\cardboard\\cardboard110...  cardboard     0.9804   \n",
       "4  data\\trash_dataset\\test\\cardboard\\cardboard117...  cardboard     0.9884   \n",
       "\n",
       "  pred_class  time_for_pred  correct  \n",
       "0  cardboard         0.2260     True  \n",
       "1  cardboard         0.0681     True  \n",
       "2  cardboard         0.0699     True  \n",
       "3  cardboard         0.0735     True  \n",
       "4  cardboard         0.0737     True  "
      ]
     },
     "execution_count": 22,
     "metadata": {},
     "output_type": "execute_result"
    }
   ],
   "source": [
    "resnet50_test_predictions_df = pd.DataFrame(resnet50_test_predictions)\n",
    "\n",
    "resnet50_test_predictions_df.head()"
   ]
  },
  {
   "cell_type": "code",
   "execution_count": 23,
   "id": "760a5471-07ec-4e08-88bc-e7973bc535ca",
   "metadata": {},
   "outputs": [
    {
     "data": {
      "text/plain": [
       "correct\n",
       "True     449\n",
       "False     59\n",
       "Name: count, dtype: int64"
      ]
     },
     "execution_count": 23,
     "metadata": {},
     "output_type": "execute_result"
    }
   ],
   "source": [
    "resnet50_test_predictions_df.correct.value_counts()"
   ]
  },
  {
   "cell_type": "code",
   "execution_count": 24,
   "id": "b7ec5815-f64a-41c2-8284-426d434a7862",
   "metadata": {},
   "outputs": [
    {
     "name": "stdout",
     "output_type": "stream",
     "text": [
      "Average time per prediction: 0.0728 seconds\n"
     ]
    }
   ],
   "source": [
    "resnet50_average_time_per_pred = round(resnet50_test_predictions_df.time_for_pred.mean(), 4)\n",
    "print(f\"Average time per prediction: {resnet50_average_time_per_pred} seconds\")"
   ]
  },
  {
   "cell_type": "code",
   "execution_count": 25,
   "id": "3b292d8d-3711-4bef-8282-6e16259f5094",
   "metadata": {},
   "outputs": [
    {
     "data": {
      "text/plain": [
       "{'test_loss': 0.337243583984673,\n",
       " 'test_acc': 0.8819754464285714,\n",
       " 'total_number_of_parameters': 23520326,\n",
       " 'model_size (MB)': 90,\n",
       " 'time_per_pred_cpu (s)': 0.0728}"
      ]
     },
     "execution_count": 25,
     "metadata": {},
     "output_type": "execute_result"
    }
   ],
   "source": [
    "resnet50_stats = {\n",
    "    \"test_loss\" : resnet50_results[\"test_loss\"][-1],\n",
    "    \"test_acc\" : resnet50_results[\"test_acc\"][-1],\n",
    "    \"total_number_of_parameters\" : resnet50_total_params,\n",
    "    \"model_size (MB)\" : size_resnet50,\n",
    "    \"time_per_pred_cpu (s)\" : resnet50_average_time_per_pred\n",
    "}\n",
    "\n",
    "resnet50_stats"
   ]
  },
  {
   "cell_type": "markdown",
   "id": "47053a55-ee21-4e8f-b391-d80bc8eeded2",
   "metadata": {},
   "source": [
    "## 5 - Prediction on custom image"
   ]
  },
  {
   "cell_type": "code",
   "execution_count": 26,
   "id": "03e4dfe3-1067-4f1e-baa7-f530185333c4",
   "metadata": {},
   "outputs": [],
   "source": [
    "def visualize_model_predictions(model, img_path):\n",
    "    was_training = model.training\n",
    "    model = model.cpu()\n",
    "    model.eval()\n",
    "\n",
    "    img = Image.open(img_path)\n",
    "    img = resnet50_test_transform(img)\n",
    "    img = img.unsqueeze(0)\n",
    "    img = img.to('cpu')\n",
    "\n",
    "    with torch.no_grad():\n",
    "        outputs = model(img)\n",
    "        _, preds = torch.max(outputs, 1)\n",
    "\n",
    "        ax = plt.subplot(2,2,1)\n",
    "        ax.axis('off')\n",
    "        ax.set_title(f'Predicted: {class_names[preds[0]]}')\n",
    "        imshow(img.cpu().data[0])\n",
    "        \n",
    "        model.train(mode=was_training)\n",
    "        print(f'Preds: {outputs}')"
   ]
  },
  {
   "cell_type": "code",
   "execution_count": 27,
   "id": "3725bd76-cc8b-4f57-ab25-c8b62bf08892",
   "metadata": {},
   "outputs": [],
   "source": [
    "custom_image_path = Path(\"data/aluminum-cans-1.jpg\")"
   ]
  },
  {
   "cell_type": "code",
   "execution_count": 28,
   "id": "6be1852b-c898-442c-a4b2-f47709c616fd",
   "metadata": {},
   "outputs": [
    {
     "ename": "NameError",
     "evalue": "name 'imshow' is not defined",
     "output_type": "error",
     "traceback": [
      "\u001b[1;31m---------------------------------------------------------------------------\u001b[0m",
      "\u001b[1;31mNameError\u001b[0m                                 Traceback (most recent call last)",
      "Cell \u001b[1;32mIn[28], line 1\u001b[0m\n\u001b[1;32m----> 1\u001b[0m visualize_model_predictions(\n\u001b[0;32m      2\u001b[0m     resnet50,\n\u001b[0;32m      3\u001b[0m     img_path\u001b[38;5;241m=\u001b[39mcustom_image_path\n\u001b[0;32m      4\u001b[0m )\n\u001b[0;32m      6\u001b[0m plt\u001b[38;5;241m.\u001b[39mioff()\n\u001b[0;32m      7\u001b[0m plt\u001b[38;5;241m.\u001b[39mshow()\n",
      "Cell \u001b[1;32mIn[26], line 18\u001b[0m, in \u001b[0;36mvisualize_model_predictions\u001b[1;34m(model, img_path)\u001b[0m\n\u001b[0;32m     16\u001b[0m ax\u001b[38;5;241m.\u001b[39maxis(\u001b[38;5;124m'\u001b[39m\u001b[38;5;124moff\u001b[39m\u001b[38;5;124m'\u001b[39m)\n\u001b[0;32m     17\u001b[0m ax\u001b[38;5;241m.\u001b[39mset_title(\u001b[38;5;124mf\u001b[39m\u001b[38;5;124m'\u001b[39m\u001b[38;5;124mPredicted: \u001b[39m\u001b[38;5;132;01m{\u001b[39;00mclass_names[preds[\u001b[38;5;241m0\u001b[39m]]\u001b[38;5;132;01m}\u001b[39;00m\u001b[38;5;124m'\u001b[39m)\n\u001b[1;32m---> 18\u001b[0m imshow(img\u001b[38;5;241m.\u001b[39mcpu()\u001b[38;5;241m.\u001b[39mdata[\u001b[38;5;241m0\u001b[39m])\n\u001b[0;32m     20\u001b[0m model\u001b[38;5;241m.\u001b[39mtrain(mode\u001b[38;5;241m=\u001b[39mwas_training)\n\u001b[0;32m     21\u001b[0m \u001b[38;5;28mprint\u001b[39m(\u001b[38;5;124mf\u001b[39m\u001b[38;5;124m'\u001b[39m\u001b[38;5;124mPreds: \u001b[39m\u001b[38;5;132;01m{\u001b[39;00moutputs\u001b[38;5;132;01m}\u001b[39;00m\u001b[38;5;124m'\u001b[39m)\n",
      "\u001b[1;31mNameError\u001b[0m: name 'imshow' is not defined"
     ]
    },
    {
     "data": {
      "image/png": "[encoded data removed]",
      "text/plain": [
       "<Figure size 640x480 with 1 Axes>"
      ]
     },
     "metadata": {},
     "output_type": "display_data"
    }
   ],
   "source": [
    "visualize_model_predictions(\n",
    "    resnet50,\n",
    "    img_path=custom_image_path\n",
    ")\n",
    "\n",
    "plt.ioff()\n",
    "plt.show()"
   ]
  }
 ],
 "metadata": {
  "accelerator": "GPU",
  "colab": {
   "gpuType": "T4",
   "provenance": []
  },
  "kernelspec": {
   "display_name": "baseEnv",
   "language": "python",
   "name": "baseenv"
  },
  "language_info": {
   "codemirror_mode": {
    "name": "ipython",
    "version": 3
   },
   "file_extension": ".py",
   "mimetype": "text/x-python",
   "name": "python",
   "nbconvert_exporter": "python",
   "pygments_lexer": "ipython3",
   "version": "3.11.5"
  },
  "widgets": {
   "application/vnd.jupyter.widget-state+json": {
    "1a17fe3b4d6d456c9eeb209cd42484b3": {
     "model_module": "@jupyter-widgets/base",
     "model_module_version": "1.2.0",
     "model_name": "LayoutModel",
     "state": {
      "_model_module": "@jupyter-widgets/base",
      "_model_module_version": "1.2.0",
      "_model_name": "LayoutModel",
      "_view_count": null,
      "_view_module": "@jupyter-widgets/base",
      "_view_module_version": "1.2.0",
      "_view_name": "LayoutView",
      "align_content": null,
      "align_items": null,
      "align_self": null,
      "border": null,
      "bottom": null,
      "display": null,
      "flex": null,
      "flex_flow": null,
      "grid_area": null,
      "grid_auto_columns": null,
      "grid_auto_flow": null,
      "grid_auto_rows": null,
      "grid_column": null,
      "grid_gap": null,
      "grid_row": null,
      "grid_template_areas": null,
      "grid_template_columns": null,
      "grid_template_rows": null,
      "height": null,
      "justify_content": null,
      "justify_items": null,
      "left": null,
      "margin": null,
      "max_height": null,
      "max_width": null,
      "min_height": null,
      "min_width": null,
      "object_fit": null,
      "object_position": null,
      "order": null,
      "overflow": null,
      "overflow_x": null,
      "overflow_y": null,
      "padding": null,
      "right": null,
      "top": null,
      "visibility": null,
      "width": null
     }
    },
    "66a312e382f647bd9e25f4889b3c46af": {
     "model_module": "@jupyter-widgets/controls",
     "model_module_version": "1.5.0",
     "model_name": "DescriptionStyleModel",
     "state": {
      "_model_module": "@jupyter-widgets/controls",
      "_model_module_version": "1.5.0",
      "_model_name": "DescriptionStyleModel",
      "_view_count": null,
      "_view_module": "@jupyter-widgets/base",
      "_view_module_version": "1.2.0",
      "_view_name": "StyleView",
      "description_width": ""
     }
    },
    "87372100e1b648b3804a3c5cf37ac943": {
     "model_module": "@jupyter-widgets/controls",
     "model_module_version": "1.5.0",
     "model_name": "FloatProgressModel",
     "state": {
      "_dom_classes": [],
      "_model_module": "@jupyter-widgets/controls",
      "_model_module_version": "1.5.0",
      "_model_name": "FloatProgressModel",
      "_view_count": null,
      "_view_module": "@jupyter-widgets/controls",
      "_view_module_version": "1.5.0",
      "_view_name": "ProgressView",
      "bar_style": "success",
      "description": "",
      "description_tooltip": null,
      "layout": "IPY_MODEL_9e16b5f912cc4eaeb73298039b0e33c1",
      "max": 20,
      "min": 0,
      "orientation": "horizontal",
      "style": "IPY_MODEL_fbd745a4a99d4867a378ebe56f570682",
      "value": 20
     }
    },
    "98e2dc1bc9134c86b6b777dcc9887226": {
     "model_module": "@jupyter-widgets/base",
     "model_module_version": "1.2.0",
     "model_name": "LayoutModel",
     "state": {
      "_model_module": "@jupyter-widgets/base",
      "_model_module_version": "1.2.0",
      "_model_name": "LayoutModel",
      "_view_count": null,
      "_view_module": "@jupyter-widgets/base",
      "_view_module_version": "1.2.0",
      "_view_name": "LayoutView",
      "align_content": null,
      "align_items": null,
      "align_self": null,
      "border": null,
      "bottom": null,
      "display": null,
      "flex": null,
      "flex_flow": null,
      "grid_area": null,
      "grid_auto_columns": null,
      "grid_auto_flow": null,
      "grid_auto_rows": null,
      "grid_column": null,
      "grid_gap": null,
      "grid_row": null,
      "grid_template_areas": null,
      "grid_template_columns": null,
      "grid_template_rows": null,
      "height": null,
      "justify_content": null,
      "justify_items": null,
      "left": null,
      "margin": null,
      "max_height": null,
      "max_width": null,
      "min_height": null,
      "min_width": null,
      "object_fit": null,
      "object_position": null,
      "order": null,
      "overflow": null,
      "overflow_x": null,
      "overflow_y": null,
      "padding": null,
      "right": null,
      "top": null,
      "visibility": null,
      "width": null
     }
    },
    "9e16b5f912cc4eaeb73298039b0e33c1": {
     "model_module": "@jupyter-widgets/base",
     "model_module_version": "1.2.0",
     "model_name": "LayoutModel",
     "state": {
      "_model_module": "@jupyter-widgets/base",
      "_model_module_version": "1.2.0",
      "_model_name": "LayoutModel",
      "_view_count": null,
      "_view_module": "@jupyter-widgets/base",
      "_view_module_version": "1.2.0",
      "_view_name": "LayoutView",
      "align_content": null,
      "align_items": null,
      "align_self": null,
      "border": null,
      "bottom": null,
      "display": null,
      "flex": null,
      "flex_flow": null,
      "grid_area": null,
      "grid_auto_columns": null,
      "grid_auto_flow": null,
      "grid_auto_rows": null,
      "grid_column": null,
      "grid_gap": null,
      "grid_row": null,
      "grid_template_areas": null,
      "grid_template_columns": null,
      "grid_template_rows": null,
      "height": null,
      "justify_content": null,
      "justify_items": null,
      "left": null,
      "margin": null,
      "max_height": null,
      "max_width": null,
      "min_height": null,
      "min_width": null,
      "object_fit": null,
      "object_position": null,
      "order": null,
      "overflow": null,
      "overflow_x": null,
      "overflow_y": null,
      "padding": null,
      "right": null,
      "top": null,
      "visibility": null,
      "width": null
     }
    },
    "e6011cb9b25b46f6b776661d9c91e8b5": {
     "model_module": "@jupyter-widgets/controls",
     "model_module_version": "1.5.0",
     "model_name": "HTMLModel",
     "state": {
      "_dom_classes": [],
      "_model_module": "@jupyter-widgets/controls",
      "_model_module_version": "1.5.0",
      "_model_name": "HTMLModel",
      "_view_count": null,
      "_view_module": "@jupyter-widgets/controls",
      "_view_module_version": "1.5.0",
      "_view_name": "HTMLView",
      "description": "",
      "description_tooltip": null,
      "layout": "IPY_MODEL_1a17fe3b4d6d456c9eeb209cd42484b3",
      "placeholder": "​",
      "style": "IPY_MODEL_66a312e382f647bd9e25f4889b3c46af",
      "value": " 20/20 [06:33&lt;00:00, 19.42s/it]"
     }
    },
    "f45f63b13221452eaac2dd0e3e9b9a0a": {
     "model_module": "@jupyter-widgets/controls",
     "model_module_version": "1.5.0",
     "model_name": "HTMLModel",
     "state": {
      "_dom_classes": [],
      "_model_module": "@jupyter-widgets/controls",
      "_model_module_version": "1.5.0",
      "_model_name": "HTMLModel",
      "_view_count": null,
      "_view_module": "@jupyter-widgets/controls",
      "_view_module_version": "1.5.0",
      "_view_name": "HTMLView",
      "description": "",
      "description_tooltip": null,
      "layout": "IPY_MODEL_98e2dc1bc9134c86b6b777dcc9887226",
      "placeholder": "​",
      "style": "IPY_MODEL_fb961137e82f47aea09b71afaf9497ec",
      "value": "100%"
     }
    },
    "f69edd5ed318480c989f5b80c2533a7d": {
     "model_module": "@jupyter-widgets/base",
     "model_module_version": "1.2.0",
     "model_name": "LayoutModel",
     "state": {
      "_model_module": "@jupyter-widgets/base",
      "_model_module_version": "1.2.0",
      "_model_name": "LayoutModel",
      "_view_count": null,
      "_view_module": "@jupyter-widgets/base",
      "_view_module_version": "1.2.0",
      "_view_name": "LayoutView",
      "align_content": null,
      "align_items": null,
      "align_self": null,
      "border": null,
      "bottom": null,
      "display": null,
      "flex": null,
      "flex_flow": null,
      "grid_area": null,
      "grid_auto_columns": null,
      "grid_auto_flow": null,
      "grid_auto_rows": null,
      "grid_column": null,
      "grid_gap": null,
      "grid_row": null,
      "grid_template_areas": null,
      "grid_template_columns": null,
      "grid_template_rows": null,
      "height": null,
      "justify_content": null,
      "justify_items": null,
      "left": null,
      "margin": null,
      "max_height": null,
      "max_width": null,
      "min_height": null,
      "min_width": null,
      "object_fit": null,
      "object_position": null,
      "order": null,
      "overflow": null,
      "overflow_x": null,
      "overflow_y": null,
      "padding": null,
      "right": null,
      "top": null,
      "visibility": null,
      "width": null
     }
    },
    "f88b954e1b514dca9fe662bb7d31744c": {
     "model_module": "@jupyter-widgets/controls",
     "model_module_version": "1.5.0",
     "model_name": "HBoxModel",
     "state": {
      "_dom_classes": [],
      "_model_module": "@jupyter-widgets/controls",
      "_model_module_version": "1.5.0",
      "_model_name": "HBoxModel",
      "_view_count": null,
      "_view_module": "@jupyter-widgets/controls",
      "_view_module_version": "1.5.0",
      "_view_name": "HBoxView",
      "box_style": "",
      "children": [
       "IPY_MODEL_f45f63b13221452eaac2dd0e3e9b9a0a",
       "IPY_MODEL_87372100e1b648b3804a3c5cf37ac943",
       "IPY_MODEL_e6011cb9b25b46f6b776661d9c91e8b5"
      ],
      "layout": "IPY_MODEL_f69edd5ed318480c989f5b80c2533a7d"
     }
    },
    "fb961137e82f47aea09b71afaf9497ec": {
     "model_module": "@jupyter-widgets/controls",
     "model_module_version": "1.5.0",
     "model_name": "DescriptionStyleModel",
     "state": {
      "_model_module": "@jupyter-widgets/controls",
      "_model_module_version": "1.5.0",
      "_model_name": "DescriptionStyleModel",
      "_view_count": null,
      "_view_module": "@jupyter-widgets/base",
      "_view_module_version": "1.2.0",
      "_view_name": "StyleView",
      "description_width": ""
     }
    },
    "fbd745a4a99d4867a378ebe56f570682": {
     "model_module": "@jupyter-widgets/controls",
     "model_module_version": "1.5.0",
     "model_name": "ProgressStyleModel",
     "state": {
      "_model_module": "@jupyter-widgets/controls",
      "_model_module_version": "1.5.0",
      "_model_name": "ProgressStyleModel",
      "_view_count": null,
      "_view_module": "@jupyter-widgets/base",
      "_view_module_version": "1.2.0",
      "_view_name": "StyleView",
      "bar_color": null,
      "description_width": ""
     }
    }
   }
  }
 },
 "nbformat": 4,
 "nbformat_minor": 5
}
